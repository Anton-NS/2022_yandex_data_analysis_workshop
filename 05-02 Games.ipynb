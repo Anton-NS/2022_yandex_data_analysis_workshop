{
 "cells": [
  {
   "cell_type": "markdown",
   "id": "da25eed1",
   "metadata": {},
   "source": [
    "# Спринт 5: Проект \"Закономерности успеха компьютерных игр\""
   ]
  },
  {
   "cell_type": "markdown",
   "id": "374dd06b",
   "metadata": {
    "toc": true
   },
   "source": [
    "<h1>Оглавление<span class=\"tocSkip\"></span></h1>\n",
    "<div class=\"toc\"><ul class=\"toc-item\"><li><span><a href=\"#Описание-проекта\" data-toc-modified-id=\"Описание-проекта-1\"><span class=\"toc-item-num\">1&nbsp;&nbsp;</span>Описание проекта</a></span></li><li><span><a href=\"#Общие-комментарии-к-подходу-и-логике-проекта\" data-toc-modified-id=\"Общие-комментарии-к-подходу-и-логике-проекта-2\"><span class=\"toc-item-num\">2&nbsp;&nbsp;</span>Общие комментарии к подходу и логике проекта</a></span></li><li><span><a href=\"#Шаг-0.-Подготовка-к-работе\" data-toc-modified-id=\"Шаг-0.-Подготовка-к-работе-3\"><span class=\"toc-item-num\">3&nbsp;&nbsp;</span>Шаг 0. Подготовка к работе</a></span><ul class=\"toc-item\"><li><span><a href=\"#Импорт-библиотек\" data-toc-modified-id=\"Импорт-библиотек-3.1\"><span class=\"toc-item-num\">3.1&nbsp;&nbsp;</span>Импорт библиотек</a></span></li><li><span><a href=\"#Установка-параметров-проекта\" data-toc-modified-id=\"Установка-параметров-проекта-3.2\"><span class=\"toc-item-num\">3.2&nbsp;&nbsp;</span>Установка параметров проекта</a></span></li><li><span><a href=\"#Функции-проекта\" data-toc-modified-id=\"Функции-проекта-3.3\"><span class=\"toc-item-num\">3.3&nbsp;&nbsp;</span>Функции проекта</a></span></li><li><span><a href=\"#Загрузка-данных\" data-toc-modified-id=\"Загрузка-данных-3.4\"><span class=\"toc-item-num\">3.4&nbsp;&nbsp;</span>Загрузка данных</a></span></li></ul></li><li><span><a href=\"#Шаг-1.-Общий-взгляд-на-данные\" data-toc-modified-id=\"Шаг-1.-Общий-взгляд-на-данные-4\"><span class=\"toc-item-num\">4&nbsp;&nbsp;</span>Шаг 1. Общий взгляд на данные</a></span><ul class=\"toc-item\"><li><span><a href=\"#Изучение-общей-информации\" data-toc-modified-id=\"Изучение-общей-информации-4.1\"><span class=\"toc-item-num\">4.1&nbsp;&nbsp;</span>Изучение общей информации</a></span><ul class=\"toc-item\"><li><span><a href=\"#Знакомство-с-данными-games\" data-toc-modified-id=\"Знакомство-с-данными-games-4.1.1\"><span class=\"toc-item-num\">4.1.1&nbsp;&nbsp;</span>Знакомство с данными <code>games</code></a></span></li><li><span><a href=\"#Ожидания-по-типам-данных-games\" data-toc-modified-id=\"Ожидания-по-типам-данных-games-4.1.2\"><span class=\"toc-item-num\">4.1.2&nbsp;&nbsp;</span>Ожидания по типам данных <code>games</code></a></span></li></ul></li></ul></li><li><span><a href=\"#Шаг-2.-Подготовка-данных\" data-toc-modified-id=\"Шаг-2.-Подготовка-данных-5\"><span class=\"toc-item-num\">5&nbsp;&nbsp;</span>Шаг 2. Подготовка данных</a></span><ul class=\"toc-item\"><li><span><a href=\"#Переименование-столбцов\" data-toc-modified-id=\"Переименование-столбцов-5.1\"><span class=\"toc-item-num\">5.1&nbsp;&nbsp;</span>Переименование столбцов</a></span></li><li><span><a href=\"#Явные-дубликаты\" data-toc-modified-id=\"Явные-дубликаты-5.2\"><span class=\"toc-item-num\">5.2&nbsp;&nbsp;</span>Явные дубликаты</a></span></li><li><span><a href=\"#Неявные-дубликаты\" data-toc-modified-id=\"Неявные-дубликаты-5.3\"><span class=\"toc-item-num\">5.3&nbsp;&nbsp;</span>Неявные дубликаты</a></span><ul class=\"toc-item\"><li><span><a href=\"#platform\" data-toc-modified-id=\"platform-5.3.1\"><span class=\"toc-item-num\">5.3.1&nbsp;&nbsp;</span><code>platform</code></a></span></li><li><span><a href=\"#name\" data-toc-modified-id=\"name-5.3.2\"><span class=\"toc-item-num\">5.3.2&nbsp;&nbsp;</span><code>name</code></a></span></li><li><span><a href=\"#genre\" data-toc-modified-id=\"genre-5.3.3\"><span class=\"toc-item-num\">5.3.3&nbsp;&nbsp;</span><code>genre</code></a></span></li><li><span><a href=\"#rating\" data-toc-modified-id=\"rating-5.3.4\"><span class=\"toc-item-num\">5.3.4&nbsp;&nbsp;</span><code>rating</code></a></span></li></ul></li><li><span><a href=\"#Пропуски\" data-toc-modified-id=\"Пропуски-5.4\"><span class=\"toc-item-num\">5.4&nbsp;&nbsp;</span>Пропуски</a></span><ul class=\"toc-item\"><li><span><a href=\"#Таблица-games\" data-toc-modified-id=\"Таблица-games-5.4.1\"><span class=\"toc-item-num\">5.4.1&nbsp;&nbsp;</span>Таблица <code>games</code></a></span><ul class=\"toc-item\"><li><span><a href=\"#name\" data-toc-modified-id=\"name-5.4.1.1\"><span class=\"toc-item-num\">5.4.1.1&nbsp;&nbsp;</span><code>name</code></a></span></li><li><span><a href=\"#year_of_release\" data-toc-modified-id=\"year_of_release-5.4.1.2\"><span class=\"toc-item-num\">5.4.1.2&nbsp;&nbsp;</span><code>year_of_release</code></a></span></li><li><span><a href=\"#user_score\" data-toc-modified-id=\"user_score-5.4.1.3\"><span class=\"toc-item-num\">5.4.1.3&nbsp;&nbsp;</span><code>user_score</code></a></span></li><li><span><a href=\"#rating\" data-toc-modified-id=\"rating-5.4.1.4\"><span class=\"toc-item-num\">5.4.1.4&nbsp;&nbsp;</span><code>rating</code></a></span></li></ul></li></ul></li><li><span><a href=\"#Приведем-данные-к-нужным-типам:\" data-toc-modified-id=\"Приведем-данные-к-нужным-типам:-5.5\"><span class=\"toc-item-num\">5.5&nbsp;&nbsp;</span>Приведем данные к нужным типам:</a></span></li></ul></li><li><span><a href=\"#Шаг-3.-Подготовка-структуры-данных\" data-toc-modified-id=\"Шаг-3.-Подготовка-структуры-данных-6\"><span class=\"toc-item-num\">6&nbsp;&nbsp;</span>Шаг 3. Подготовка структуры данных</a></span><ul class=\"toc-item\"><li><span><a href=\"#Подготовка-games\" data-toc-modified-id=\"Подготовка-games-6.1\"><span class=\"toc-item-num\">6.1&nbsp;&nbsp;</span>Подготовка <code>games</code></a></span></li><li><span><a href=\"#Выбросы\" data-toc-modified-id=\"Выбросы-6.2\"><span class=\"toc-item-num\">6.2&nbsp;&nbsp;</span>Выбросы</a></span><ul class=\"toc-item\"><li><span><a href=\"#Выбросы-DS.\" data-toc-modified-id=\"Выбросы-DS.-6.2.1\"><span class=\"toc-item-num\">6.2.1&nbsp;&nbsp;</span>Выбросы DS.</a></span></li><li><span><a href=\"#Выбросы-DC\" data-toc-modified-id=\"Выбросы-DC-6.2.2\"><span class=\"toc-item-num\">6.2.2&nbsp;&nbsp;</span>Выбросы DC</a></span></li></ul></li></ul></li><li><span><a href=\"#Шаг-4.-Исследовательский-анализ-данных\" data-toc-modified-id=\"Шаг-4.-Исследовательский-анализ-данных-7\"><span class=\"toc-item-num\">7&nbsp;&nbsp;</span>Шаг 4. Исследовательский анализ данных</a></span><ul class=\"toc-item\"><li><span><a href=\"#Игры-в-разные-годы.\" data-toc-modified-id=\"Игры-в-разные-годы.-7.1\"><span class=\"toc-item-num\">7.1&nbsp;&nbsp;</span>Игры в разные годы.</a></span></li><li><span><a href=\"#Продажи-по-платформам\" data-toc-modified-id=\"Продажи-по-платформам-7.2\"><span class=\"toc-item-num\">7.2&nbsp;&nbsp;</span>Продажи по платформам</a></span><ul class=\"toc-item\"><li><span><a href=\"#Платформы-с-наибольшими-суммарными-продажами\" data-toc-modified-id=\"Платформы-с-наибольшими-суммарными-продажами-7.2.1\"><span class=\"toc-item-num\">7.2.1&nbsp;&nbsp;</span>Платформы с наибольшими суммарными продажами</a></span></li><li><span><a href=\"#Распределение-по-годам\" data-toc-modified-id=\"Распределение-по-годам-7.2.2\"><span class=\"toc-item-num\">7.2.2&nbsp;&nbsp;</span>Распределение по годам</a></span></li><li><span><a href=\"#За-какой-срок-появляются-новые-платформы\" data-toc-modified-id=\"За-какой-срок-появляются-новые-платформы-7.2.3\"><span class=\"toc-item-num\">7.2.3&nbsp;&nbsp;</span>За какой срок появляются новые платформы</a></span></li><li><span><a href=\"#За-какой-срок-исчезают-старые-платформы\" data-toc-modified-id=\"За-какой-срок-исчезают-старые-платформы-7.2.4\"><span class=\"toc-item-num\">7.2.4&nbsp;&nbsp;</span>За какой срок исчезают старые платформы</a></span></li><li><span><a href=\"#Данные-за-актуальный-период\" data-toc-modified-id=\"Данные-за-актуальный-период-7.2.5\"><span class=\"toc-item-num\">7.2.5&nbsp;&nbsp;</span>Данные за актуальный период</a></span></li><li><span><a href=\"#Потенциально-прибыльные-платформы\" data-toc-modified-id=\"Потенциально-прибыльные-платформы-7.2.6\"><span class=\"toc-item-num\">7.2.6&nbsp;&nbsp;</span>Потенциально прибыльные платформы</a></span><ul class=\"toc-item\"><li><span><a href=\"#Лидеры-продаж-2013---2016\" data-toc-modified-id=\"Лидеры-продаж-2013---2016-7.2.6.1\"><span class=\"toc-item-num\">7.2.6.1&nbsp;&nbsp;</span>Лидеры продаж 2013 - 2016</a></span></li><li><span><a href=\"#Лидеры-роста-и-падения-продаж-2013---2016\" data-toc-modified-id=\"Лидеры-роста-и-падения-продаж-2013---2016-7.2.6.2\"><span class=\"toc-item-num\">7.2.6.2&nbsp;&nbsp;</span>Лидеры роста и падения продаж 2013 - 2016</a></span></li></ul></li><li><span><a href=\"#Глобальные-продажи-по-платформам\" data-toc-modified-id=\"Глобальные-продажи-по-платформам-7.2.7\"><span class=\"toc-item-num\">7.2.7&nbsp;&nbsp;</span>Глобальные продажи по платформам</a></span></li><li><span><a href=\"#Зависимость-продаж-от-оценок-для-PS4\" data-toc-modified-id=\"Зависимость-продаж-от-оценок-для-PS4-7.2.8\"><span class=\"toc-item-num\">7.2.8&nbsp;&nbsp;</span>Зависимость продаж от оценок для PS4</a></span></li><li><span><a href=\"#Зависисомость-продаж-от-оценок-сравнение-платформ\" data-toc-modified-id=\"Зависисомость-продаж-от-оценок-сравнение-платформ-7.2.9\"><span class=\"toc-item-num\">7.2.9&nbsp;&nbsp;</span>Зависисомость продаж от оценок сравнение платформ</a></span></li><li><span><a href=\"#Игровые-жанры\" data-toc-modified-id=\"Игровые-жанры-7.2.10\"><span class=\"toc-item-num\">7.2.10&nbsp;&nbsp;</span>Игровые жанры</a></span><ul class=\"toc-item\"><li><span><a href=\"#Распределение-игр-по-жанрам\" data-toc-modified-id=\"Распределение-игр-по-жанрам-7.2.10.1\"><span class=\"toc-item-num\">7.2.10.1&nbsp;&nbsp;</span>Распределение игр по жанрам</a></span></li><li><span><a href=\"#Самые-прибыльные-жанры\" data-toc-modified-id=\"Самые-прибыльные-жанры-7.2.10.2\"><span class=\"toc-item-num\">7.2.10.2&nbsp;&nbsp;</span>Самые прибыльные жанры</a></span></li></ul></li></ul></li></ul></li><li><span><a href=\"#Шаг-5.-Портреты-пользователей\" data-toc-modified-id=\"Шаг-5.-Портреты-пользователей-8\"><span class=\"toc-item-num\">8&nbsp;&nbsp;</span>Шаг 5. Портреты пользователей</a></span><ul class=\"toc-item\"><li><span><a href=\"#Популярные-платформы\" data-toc-modified-id=\"Популярные-платформы-8.1\"><span class=\"toc-item-num\">8.1&nbsp;&nbsp;</span>Популярные платформы</a></span></li><li><span><a href=\"#Популярные-жанры\" data-toc-modified-id=\"Популярные-жанры-8.2\"><span class=\"toc-item-num\">8.2&nbsp;&nbsp;</span>Популярные жанры</a></span></li><li><span><a href=\"#Влияние-рейтинга-ERSB-на-продажи\" data-toc-modified-id=\"Влияние-рейтинга-ERSB-на-продажи-8.3\"><span class=\"toc-item-num\">8.3&nbsp;&nbsp;</span>Влияние рейтинга ERSB на продажи</a></span></li></ul></li><li><span><a href=\"#Шаг-6.-Проверка-гипотез\" data-toc-modified-id=\"Шаг-6.-Проверка-гипотез-9\"><span class=\"toc-item-num\">9&nbsp;&nbsp;</span>Шаг 6. Проверка гипотез</a></span><ul class=\"toc-item\"><li><span><a href=\"#Рейтинги-XboxOne-и-PC\" data-toc-modified-id=\"Рейтинги-XboxOne-и-PC-9.1\"><span class=\"toc-item-num\">9.1&nbsp;&nbsp;</span>Рейтинги XboxOne и PC</a></span></li><li><span><a href=\"#Рейтинги-жанров\" data-toc-modified-id=\"Рейтинги-жанров-9.2\"><span class=\"toc-item-num\">9.2&nbsp;&nbsp;</span>Рейтинги жанров</a></span></li></ul></li><li><span><a href=\"#Шаг-7-Общие-выводы\" data-toc-modified-id=\"Шаг-7-Общие-выводы-10\"><span class=\"toc-item-num\">10&nbsp;&nbsp;</span>Шаг 7 Общие выводы</a></span></li><li><span><a href=\"#Приложение-1:-Оригинальное-задание-проектной-работы\" data-toc-modified-id=\"Приложение-1:-Оригинальное-задание-проектной-работы-11\"><span class=\"toc-item-num\">11&nbsp;&nbsp;</span>Приложение 1: Оригинальное задание проектной работы</a></span><ul class=\"toc-item\"><li><span><a href=\"#Шаг-1.-Откройте-файл-с-данными-и-изучите-общую-информацию\" data-toc-modified-id=\"Шаг-1.-Откройте-файл-с-данными-и-изучите-общую-информацию-11.1\"><span class=\"toc-item-num\">11.1&nbsp;&nbsp;</span>Шаг 1. Откройте файл с данными и изучите общую информацию</a></span></li><li><span><a href=\"#Шаг-2.-Подготовьте-данные\" data-toc-modified-id=\"Шаг-2.-Подготовьте-данные-11.2\"><span class=\"toc-item-num\">11.2&nbsp;&nbsp;</span>Шаг 2. Подготовьте данные</a></span></li><li><span><a href=\"#Шаг-3.-Проведите-исследовательский-анализ-данных\" data-toc-modified-id=\"Шаг-3.-Проведите-исследовательский-анализ-данных-11.3\"><span class=\"toc-item-num\">11.3&nbsp;&nbsp;</span>Шаг 3. Проведите исследовательский анализ данных</a></span></li><li><span><a href=\"#Шаг-4.-Составьте-портрет-пользователя-каждого-региона\" data-toc-modified-id=\"Шаг-4.-Составьте-портрет-пользователя-каждого-региона-11.4\"><span class=\"toc-item-num\">11.4&nbsp;&nbsp;</span>Шаг 4. Составьте портрет пользователя каждого региона</a></span></li><li><span><a href=\"#Шаг-5.-Проверьте-гипотезы\" data-toc-modified-id=\"Шаг-5.-Проверьте-гипотезы-11.5\"><span class=\"toc-item-num\">11.5&nbsp;&nbsp;</span>Шаг 5. Проверьте гипотезы</a></span></li><li><span><a href=\"#Шаг-6.-Напишите-общий-вывод\" data-toc-modified-id=\"Шаг-6.-Напишите-общий-вывод-11.6\"><span class=\"toc-item-num\">11.6&nbsp;&nbsp;</span>Шаг 6. Напишите общий вывод</a></span></li></ul></li><li><span><a href=\"#Приложение-2:-Описание-данных\" data-toc-modified-id=\"Приложение-2:-Описание-данных-12\"><span class=\"toc-item-num\">12&nbsp;&nbsp;</span>Приложение 2: Описание данных</a></span></li></ul></div>"
   ]
  },
  {
   "cell_type": "markdown",
   "id": "88d49279",
   "metadata": {},
   "source": []
  },
  {
   "cell_type": "markdown",
   "id": "00c28ad2",
   "metadata": {},
   "source": [
    "## Описание проекта\n",
    "\n",
    "**Задача**  \n",
    "\n",
    "\n",
    "**Данные**  \n",
    "Интернет-магазине «Стримчик» продаёт по всему миру компьютерные игры.   \n",
    "Из открытых источников доступны исторические данные о продажах игр, оценки пользователей и экспертов, жанры и платформы (например, Xbox или PlayStation).   \n",
    "\n",
    "Требуется выявить определяющие успешность игры закономерности. Это позволит сделать ставку на потенциально популярный продукт и спланировать рекламные кампании.  \n",
    "\n",
    "В нашем распоряжении данные до 2016 года. Сейчас декабрь 2016 г., и мы планируем кампанию на 2017-й.  \n",
    "Нужно отработать принцип работы с данными. Неважно, прогнозируете ли вы продажи на 2017 год по данным 2016-го или же 2027-й — по данным 2026 года.  \n",
    "\n",
    "\n",
    "**Дополнительная информация**   \n",
    "В наборе данных попадается аббревиатура ESRB (Entertainment Software Rating Board) — это ассоциация, определяющая возрастной рейтинг компьютерных игр. ESRB оценивает игровой контент и присваивает ему подходящую возрастную категорию, например, «Для взрослых», «Для детей младшего возраста» или «Для подростков».\n",
    "\n",
    "Оригинальный текст задания см. Приложение 1.\n",
    " \n",
    "**Описание таблиц и полей данных**  \n",
    "См. Приложение 2."
   ]
  },
  {
   "cell_type": "markdown",
   "id": "2cdfb837",
   "metadata": {},
   "source": [
    "## Общие комментарии к подходу и логике проекта\n",
    "Прежде всего посмотрим на данные, решаем можно ли с ними работать и требуется ли предварительная подготовка. \n",
    "Если что-то потребуется поправить в данных (дубли, пустоты, форматы) поправляем, если возможно.\n",
    "\n",
    "Как будем уверены в полученных данных соберем структуру данных удобную для анализа.\n",
    "\n",
    "Затем, на основании собранной структуры проводим анализ, выполняем расчеты, проверяем гипотезы.\n",
    "По окончании работы и каждого раздела пишем выводы.\n"
   ]
  },
  {
   "cell_type": "markdown",
   "id": "c8437aaa",
   "metadata": {},
   "source": [
    "## Шаг 0. Подготовка к работе\n",
    "Подгрузим библиотеки, зададим параметры форматирования чисел, импортируем файл данных.\n",
    "### Импорт библиотек"
   ]
  },
  {
   "cell_type": "code",
   "execution_count": 93,
   "id": "5eacc1c0",
   "metadata": {},
   "outputs": [],
   "source": [
    "import pandas as pd\n",
    "import numpy as np\n",
    "import matplotlib.pyplot as plt # импортируем библиотеку для графиков, стандартно используется имя plt\n",
    "import seaborn as sns\n",
    "import pathlib # для проверки существования файла данных\n",
    "from scipy import stats as st # Для проверки гипотез\n",
    "from IPython.display import Markdown as md, HTML, display #Для более наглядного вывода \n",
    "from IPython.display import display_html  # для вывода таблиц бок о бок\n",
    "\n",
    "#Использую знак подчеркивания, поскольку как сделать пробел не нашел вариант.\n",
    "pd.options.display.float_format = '{:_.2f}'.format "
   ]
  },
  {
   "cell_type": "markdown",
   "id": "6c8a41a4",
   "metadata": {},
   "source": [
    "### Установка параметров проекта"
   ]
  },
  {
   "cell_type": "code",
   "execution_count": 94,
   "id": "e023de2e",
   "metadata": {},
   "outputs": [],
   "source": [
    "# Файлы данных\n",
    "# Имена файлов данных локально и на сервере\n",
    "file_names = ['games.csv']\n",
    "file_folders = [f'datasets\\\\', '/datasets/']\n",
    "\n",
    "# Уровень значимости\n",
    "alpha = 0.05"
   ]
  },
  {
   "cell_type": "markdown",
   "id": "6cdb9cd1",
   "metadata": {},
   "source": [
    "### Функции проекта\n",
    "Общие функции, которые используются более одного раза в проекте вынес в отдельный раздел."
   ]
  },
  {
   "cell_type": "code",
   "execution_count": 95,
   "id": "dc362452",
   "metadata": {},
   "outputs": [],
   "source": [
    "# Открытие файлов. Если не открывается локально, открываем на сервере.\n",
    "def load_data(file_name):\n",
    "    \n",
    "    # Какие файлы существуют, те и загружаем.\n",
    "    success_file_load = False\n",
    "\n",
    "    for file_folder in file_folders:\n",
    "        file = file_folder+file_name\n",
    "        if pathlib.Path(file).exists():\n",
    "             try:\n",
    "                df = pd.read_csv(file, sep=',')\n",
    "                success_file_load = True\n",
    "                display(HTML(f\"✅ <b>Загружен файл:</b> {file}. Прочитано <b>строк</b>: {len(df)}; <b>столбцов: </b>{df.shape[1]}\"))\n",
    "                return df\n",
    "                break\n",
    "             except :\n",
    "                print(f'⚠️ Не удалось открыть файл данных: {file}')\n",
    "\n",
    "    if not success_file_load:\n",
    "        print(f'⚠️ Не удалось найти файл данных `{file_name}` для загрузки.')"
   ]
  },
  {
   "cell_type": "code",
   "execution_count": 96,
   "id": "92bb55ce",
   "metadata": {},
   "outputs": [],
   "source": [
    "# Вспомогательные функции для поиска и наглядного отображение нулевых и NaN значений\n",
    "\n",
    "# Считает количество нулевых значений в поле\n",
    "def zeros_search(data):\n",
    "    \n",
    "    return len(data[data == 0])\n",
    "\n",
    "# Считает количество NaN значений в поле\n",
    "def nan_search(data):\n",
    "    \n",
    "    return len(data[data.isna() == True])\n",
    "\n",
    "'''\n",
    "Функция подбирает изображения значимости, опираясь на общее правило: \n",
    "если нет значений: value=0, то все ОК\n",
    "Если value меньше 1%, то приемлемо. \n",
    ">1% точно требуется внимание\n",
    "''' \n",
    "def value_mark(value, values_count):\n",
    "    if value == 0: return '✅'\n",
    "    elif value/values_count < 0.01 :  return '⚠️'\n",
    "    elif value/values_count >= 0.01 : return '⛔'\n",
    "    else : return '❓'\n"
   ]
  },
  {
   "cell_type": "code",
   "execution_count": 97,
   "id": "da11c450",
   "metadata": {},
   "outputs": [],
   "source": [
    "# Ищет в столбце дата фрейма пропуски данных\n",
    "def display_column_loses (df, col_name):\n",
    "    output = \"\"\n",
    "\n",
    "    value = zeros_search(df[col_name])\n",
    "    mark = value_mark(value, df.shape[0])\n",
    "    output += f\"{mark} В столбце `{col_name}` присутствуют нули в количестве {value}, что составляет { value/df.shape[0]:.2%}  \\n\"\n",
    "\n",
    "    value = nan_search(df[col_name])\n",
    "    mark = value_mark(value, df.shape[0])\n",
    "    output +=f\"{mark} В столбце `{col_name}` присутствуют `Nan` в количестве {value}, что составляет { value/df.shape[0]:.2%}  \\n\"\n",
    "    output +=f'  \\n'\n",
    "    \n",
    "    return output\n",
    "\n",
    "# Ищет в столбцах датафрейма пропуски в данных\n",
    "def display_data_loses (df):\n",
    "    output = \"\"\n",
    "    for col_name in df.columns:\n",
    "        output += display_column_loses(df, col_name)\n",
    "    return output"
   ]
  },
  {
   "cell_type": "code",
   "execution_count": 98,
   "id": "c41c1659",
   "metadata": {},
   "outputs": [],
   "source": [
    "#Функция для отображения данных дата сета.\n",
    "def display_data_exploration(data):\n",
    "    display(data.info())\n",
    "    display(data)\n",
    "    display(data.describe())\n",
    "    hist_height = int((len(data.describe().columns)+1)/2)*4\n",
    "    data.hist(figsize=(14, hist_height))\n",
    "    plt.show()\n",
    "    \n",
    "    return"
   ]
  },
  {
   "cell_type": "code",
   "execution_count": 99,
   "id": "4dd52e38",
   "metadata": {},
   "outputs": [],
   "source": [
    "# Преобразование типов\n",
    "#Наши колонки конвертируем в новый формат оптом.\n",
    "# Конвертируем только те, которые были в словаре.\n",
    "def data_type_conversion(df, dic_data_types_expect):\n",
    "    for col_name in dic_data_types_expect:\n",
    "        if df[col_name].dtypes != dic_data_types_expect[col_name]:\n",
    "            col_type_old = df[col_name].dtypes     \n",
    "            try:\n",
    "                df[col_name] = df[col_name].astype(dic_data_types_expect[col_name]) \n",
    "                print(f'✅ Тип данных для поля: `{col_name}` изменен успешно. {col_type_old} ➡ {df[col_name].dtypes}')\n",
    "            except :\n",
    "                print(f'❌ Не удалось изменить тип данных для поля: `{col_name}` c {df[col_name].dtypes} на {dic_data_types_expect[col_name]}')\n",
    "        else:\n",
    "            print(f'❇ Тип данных для поля: `{col_name}` не требует замены c {df[col_name].dtypes} на {dic_data_types_expect[col_name]}')"
   ]
  },
  {
   "cell_type": "markdown",
   "id": "560d3f2b",
   "metadata": {},
   "source": [
    "### Загрузка данных\n",
    "Загрузим файлы с данными.\n",
    "Выведем отчет о загрузке."
   ]
  },
  {
   "cell_type": "code",
   "execution_count": 100,
   "id": "016749df",
   "metadata": {},
   "outputs": [
    {
     "data": {
      "text/html": [
       "✅ <b>Загружен файл:</b> datasets\\games.csv. Прочитано <b>строк</b>: 16715; <b>столбцов: </b>11"
      ],
      "text/plain": [
       "<IPython.core.display.HTML object>"
      ]
     },
     "metadata": {},
     "output_type": "display_data"
    }
   ],
   "source": [
    "#Загружаем файлы\n",
    "ds_games = load_data(file_names[0])"
   ]
  },
  {
   "cell_type": "markdown",
   "id": "4adeab93",
   "metadata": {},
   "source": [
    "<div style=\"border:solid green 2px; padding: 20px; border-radius: 15px;\">  \n",
    "\n",
    "**Резюмируем информацию** по подготовке к работе:   </br></br>\n",
    "Библиотеки импортированы, данные загружены, можем приступать к знакомству с данными.\n",
    "</div>"
   ]
  },
  {
   "cell_type": "markdown",
   "id": "9c0040dd",
   "metadata": {},
   "source": [
    "## Шаг 1. Общий взгляд на данные\n",
    "### Изучение общей информации\n",
    "#### Знакомство с данными `games`\n",
    "Посмотрим:  \n",
    "- Количество данных и количестве полей.\n",
    "- Получены ли ожидаемые данные.\n",
    "- Степень правдоподобия данных.\n",
    "- В порядке ли названия столбцов.\n",
    "- Адекватны ли форматы данных.\n",
    "- Полные ли данные."
   ]
  },
  {
   "cell_type": "code",
   "execution_count": 101,
   "id": "13d761b5",
   "metadata": {},
   "outputs": [
    {
     "name": "stdout",
     "output_type": "stream",
     "text": [
      "<class 'pandas.core.frame.DataFrame'>\n",
      "RangeIndex: 16715 entries, 0 to 16714\n",
      "Data columns (total 11 columns):\n",
      " #   Column           Non-Null Count  Dtype  \n",
      "---  ------           --------------  -----  \n",
      " 0   Name             16713 non-null  object \n",
      " 1   Platform         16715 non-null  object \n",
      " 2   Year_of_Release  16446 non-null  float64\n",
      " 3   Genre            16713 non-null  object \n",
      " 4   NA_sales         16715 non-null  float64\n",
      " 5   EU_sales         16715 non-null  float64\n",
      " 6   JP_sales         16715 non-null  float64\n",
      " 7   Other_sales      16715 non-null  float64\n",
      " 8   Critic_Score     8137 non-null   float64\n",
      " 9   User_Score       10014 non-null  object \n",
      " 10  Rating           9949 non-null   object \n",
      "dtypes: float64(6), object(5)\n",
      "memory usage: 1.4+ MB\n"
     ]
    },
    {
     "data": {
      "text/plain": [
       "None"
      ]
     },
     "metadata": {},
     "output_type": "display_data"
    },
    {
     "data": {
      "text/html": [
       "<div>\n",
       "<style scoped>\n",
       "    .dataframe tbody tr th:only-of-type {\n",
       "        vertical-align: middle;\n",
       "    }\n",
       "\n",
       "    .dataframe tbody tr th {\n",
       "        vertical-align: top;\n",
       "    }\n",
       "\n",
       "    .dataframe thead th {\n",
       "        text-align: right;\n",
       "    }\n",
       "</style>\n",
       "<table border=\"1\" class=\"dataframe\">\n",
       "  <thead>\n",
       "    <tr style=\"text-align: right;\">\n",
       "      <th></th>\n",
       "      <th>Name</th>\n",
       "      <th>Platform</th>\n",
       "      <th>Year_of_Release</th>\n",
       "      <th>Genre</th>\n",
       "      <th>NA_sales</th>\n",
       "      <th>EU_sales</th>\n",
       "      <th>JP_sales</th>\n",
       "      <th>Other_sales</th>\n",
       "      <th>Critic_Score</th>\n",
       "      <th>User_Score</th>\n",
       "      <th>Rating</th>\n",
       "    </tr>\n",
       "  </thead>\n",
       "  <tbody>\n",
       "    <tr>\n",
       "      <th>0</th>\n",
       "      <td>Wii Sports</td>\n",
       "      <td>Wii</td>\n",
       "      <td>2_006.00</td>\n",
       "      <td>Sports</td>\n",
       "      <td>41.36</td>\n",
       "      <td>28.96</td>\n",
       "      <td>3.77</td>\n",
       "      <td>8.45</td>\n",
       "      <td>76.00</td>\n",
       "      <td>8</td>\n",
       "      <td>E</td>\n",
       "    </tr>\n",
       "    <tr>\n",
       "      <th>1</th>\n",
       "      <td>Super Mario Bros.</td>\n",
       "      <td>NES</td>\n",
       "      <td>1_985.00</td>\n",
       "      <td>Platform</td>\n",
       "      <td>29.08</td>\n",
       "      <td>3.58</td>\n",
       "      <td>6.81</td>\n",
       "      <td>0.77</td>\n",
       "      <td>NaN</td>\n",
       "      <td>NaN</td>\n",
       "      <td>NaN</td>\n",
       "    </tr>\n",
       "    <tr>\n",
       "      <th>2</th>\n",
       "      <td>Mario Kart Wii</td>\n",
       "      <td>Wii</td>\n",
       "      <td>2_008.00</td>\n",
       "      <td>Racing</td>\n",
       "      <td>15.68</td>\n",
       "      <td>12.76</td>\n",
       "      <td>3.79</td>\n",
       "      <td>3.29</td>\n",
       "      <td>82.00</td>\n",
       "      <td>8.3</td>\n",
       "      <td>E</td>\n",
       "    </tr>\n",
       "    <tr>\n",
       "      <th>3</th>\n",
       "      <td>Wii Sports Resort</td>\n",
       "      <td>Wii</td>\n",
       "      <td>2_009.00</td>\n",
       "      <td>Sports</td>\n",
       "      <td>15.61</td>\n",
       "      <td>10.93</td>\n",
       "      <td>3.28</td>\n",
       "      <td>2.95</td>\n",
       "      <td>80.00</td>\n",
       "      <td>8</td>\n",
       "      <td>E</td>\n",
       "    </tr>\n",
       "    <tr>\n",
       "      <th>4</th>\n",
       "      <td>Pokemon Red/Pokemon Blue</td>\n",
       "      <td>GB</td>\n",
       "      <td>1_996.00</td>\n",
       "      <td>Role-Playing</td>\n",
       "      <td>11.27</td>\n",
       "      <td>8.89</td>\n",
       "      <td>10.22</td>\n",
       "      <td>1.00</td>\n",
       "      <td>NaN</td>\n",
       "      <td>NaN</td>\n",
       "      <td>NaN</td>\n",
       "    </tr>\n",
       "    <tr>\n",
       "      <th>...</th>\n",
       "      <td>...</td>\n",
       "      <td>...</td>\n",
       "      <td>...</td>\n",
       "      <td>...</td>\n",
       "      <td>...</td>\n",
       "      <td>...</td>\n",
       "      <td>...</td>\n",
       "      <td>...</td>\n",
       "      <td>...</td>\n",
       "      <td>...</td>\n",
       "      <td>...</td>\n",
       "    </tr>\n",
       "    <tr>\n",
       "      <th>16710</th>\n",
       "      <td>Samurai Warriors: Sanada Maru</td>\n",
       "      <td>PS3</td>\n",
       "      <td>2_016.00</td>\n",
       "      <td>Action</td>\n",
       "      <td>0.00</td>\n",
       "      <td>0.00</td>\n",
       "      <td>0.01</td>\n",
       "      <td>0.00</td>\n",
       "      <td>NaN</td>\n",
       "      <td>NaN</td>\n",
       "      <td>NaN</td>\n",
       "    </tr>\n",
       "    <tr>\n",
       "      <th>16711</th>\n",
       "      <td>LMA Manager 2007</td>\n",
       "      <td>X360</td>\n",
       "      <td>2_006.00</td>\n",
       "      <td>Sports</td>\n",
       "      <td>0.00</td>\n",
       "      <td>0.01</td>\n",
       "      <td>0.00</td>\n",
       "      <td>0.00</td>\n",
       "      <td>NaN</td>\n",
       "      <td>NaN</td>\n",
       "      <td>NaN</td>\n",
       "    </tr>\n",
       "    <tr>\n",
       "      <th>16712</th>\n",
       "      <td>Haitaka no Psychedelica</td>\n",
       "      <td>PSV</td>\n",
       "      <td>2_016.00</td>\n",
       "      <td>Adventure</td>\n",
       "      <td>0.00</td>\n",
       "      <td>0.00</td>\n",
       "      <td>0.01</td>\n",
       "      <td>0.00</td>\n",
       "      <td>NaN</td>\n",
       "      <td>NaN</td>\n",
       "      <td>NaN</td>\n",
       "    </tr>\n",
       "    <tr>\n",
       "      <th>16713</th>\n",
       "      <td>Spirits &amp; Spells</td>\n",
       "      <td>GBA</td>\n",
       "      <td>2_003.00</td>\n",
       "      <td>Platform</td>\n",
       "      <td>0.01</td>\n",
       "      <td>0.00</td>\n",
       "      <td>0.00</td>\n",
       "      <td>0.00</td>\n",
       "      <td>NaN</td>\n",
       "      <td>NaN</td>\n",
       "      <td>NaN</td>\n",
       "    </tr>\n",
       "    <tr>\n",
       "      <th>16714</th>\n",
       "      <td>Winning Post 8 2016</td>\n",
       "      <td>PSV</td>\n",
       "      <td>2_016.00</td>\n",
       "      <td>Simulation</td>\n",
       "      <td>0.00</td>\n",
       "      <td>0.00</td>\n",
       "      <td>0.01</td>\n",
       "      <td>0.00</td>\n",
       "      <td>NaN</td>\n",
       "      <td>NaN</td>\n",
       "      <td>NaN</td>\n",
       "    </tr>\n",
       "  </tbody>\n",
       "</table>\n",
       "<p>16715 rows × 11 columns</p>\n",
       "</div>"
      ],
      "text/plain": [
       "                                Name Platform  Year_of_Release         Genre  \\\n",
       "0                         Wii Sports      Wii         2_006.00        Sports   \n",
       "1                  Super Mario Bros.      NES         1_985.00      Platform   \n",
       "2                     Mario Kart Wii      Wii         2_008.00        Racing   \n",
       "3                  Wii Sports Resort      Wii         2_009.00        Sports   \n",
       "4           Pokemon Red/Pokemon Blue       GB         1_996.00  Role-Playing   \n",
       "...                              ...      ...              ...           ...   \n",
       "16710  Samurai Warriors: Sanada Maru      PS3         2_016.00        Action   \n",
       "16711               LMA Manager 2007     X360         2_006.00        Sports   \n",
       "16712        Haitaka no Psychedelica      PSV         2_016.00     Adventure   \n",
       "16713               Spirits & Spells      GBA         2_003.00      Platform   \n",
       "16714            Winning Post 8 2016      PSV         2_016.00    Simulation   \n",
       "\n",
       "       NA_sales  EU_sales  JP_sales  Other_sales  Critic_Score User_Score  \\\n",
       "0         41.36     28.96      3.77         8.45         76.00          8   \n",
       "1         29.08      3.58      6.81         0.77           NaN        NaN   \n",
       "2         15.68     12.76      3.79         3.29         82.00        8.3   \n",
       "3         15.61     10.93      3.28         2.95         80.00          8   \n",
       "4         11.27      8.89     10.22         1.00           NaN        NaN   \n",
       "...         ...       ...       ...          ...           ...        ...   \n",
       "16710      0.00      0.00      0.01         0.00           NaN        NaN   \n",
       "16711      0.00      0.01      0.00         0.00           NaN        NaN   \n",
       "16712      0.00      0.00      0.01         0.00           NaN        NaN   \n",
       "16713      0.01      0.00      0.00         0.00           NaN        NaN   \n",
       "16714      0.00      0.00      0.01         0.00           NaN        NaN   \n",
       "\n",
       "      Rating  \n",
       "0          E  \n",
       "1        NaN  \n",
       "2          E  \n",
       "3          E  \n",
       "4        NaN  \n",
       "...      ...  \n",
       "16710    NaN  \n",
       "16711    NaN  \n",
       "16712    NaN  \n",
       "16713    NaN  \n",
       "16714    NaN  \n",
       "\n",
       "[16715 rows x 11 columns]"
      ]
     },
     "metadata": {},
     "output_type": "display_data"
    },
    {
     "data": {
      "text/html": [
       "<div>\n",
       "<style scoped>\n",
       "    .dataframe tbody tr th:only-of-type {\n",
       "        vertical-align: middle;\n",
       "    }\n",
       "\n",
       "    .dataframe tbody tr th {\n",
       "        vertical-align: top;\n",
       "    }\n",
       "\n",
       "    .dataframe thead th {\n",
       "        text-align: right;\n",
       "    }\n",
       "</style>\n",
       "<table border=\"1\" class=\"dataframe\">\n",
       "  <thead>\n",
       "    <tr style=\"text-align: right;\">\n",
       "      <th></th>\n",
       "      <th>Year_of_Release</th>\n",
       "      <th>NA_sales</th>\n",
       "      <th>EU_sales</th>\n",
       "      <th>JP_sales</th>\n",
       "      <th>Other_sales</th>\n",
       "      <th>Critic_Score</th>\n",
       "    </tr>\n",
       "  </thead>\n",
       "  <tbody>\n",
       "    <tr>\n",
       "      <th>count</th>\n",
       "      <td>16_446.00</td>\n",
       "      <td>16_715.00</td>\n",
       "      <td>16_715.00</td>\n",
       "      <td>16_715.00</td>\n",
       "      <td>16_715.00</td>\n",
       "      <td>8_137.00</td>\n",
       "    </tr>\n",
       "    <tr>\n",
       "      <th>mean</th>\n",
       "      <td>2_006.48</td>\n",
       "      <td>0.26</td>\n",
       "      <td>0.15</td>\n",
       "      <td>0.08</td>\n",
       "      <td>0.05</td>\n",
       "      <td>68.97</td>\n",
       "    </tr>\n",
       "    <tr>\n",
       "      <th>std</th>\n",
       "      <td>5.88</td>\n",
       "      <td>0.81</td>\n",
       "      <td>0.50</td>\n",
       "      <td>0.31</td>\n",
       "      <td>0.19</td>\n",
       "      <td>13.94</td>\n",
       "    </tr>\n",
       "    <tr>\n",
       "      <th>min</th>\n",
       "      <td>1_980.00</td>\n",
       "      <td>0.00</td>\n",
       "      <td>0.00</td>\n",
       "      <td>0.00</td>\n",
       "      <td>0.00</td>\n",
       "      <td>13.00</td>\n",
       "    </tr>\n",
       "    <tr>\n",
       "      <th>25%</th>\n",
       "      <td>2_003.00</td>\n",
       "      <td>0.00</td>\n",
       "      <td>0.00</td>\n",
       "      <td>0.00</td>\n",
       "      <td>0.00</td>\n",
       "      <td>60.00</td>\n",
       "    </tr>\n",
       "    <tr>\n",
       "      <th>50%</th>\n",
       "      <td>2_007.00</td>\n",
       "      <td>0.08</td>\n",
       "      <td>0.02</td>\n",
       "      <td>0.00</td>\n",
       "      <td>0.01</td>\n",
       "      <td>71.00</td>\n",
       "    </tr>\n",
       "    <tr>\n",
       "      <th>75%</th>\n",
       "      <td>2_010.00</td>\n",
       "      <td>0.24</td>\n",
       "      <td>0.11</td>\n",
       "      <td>0.04</td>\n",
       "      <td>0.03</td>\n",
       "      <td>79.00</td>\n",
       "    </tr>\n",
       "    <tr>\n",
       "      <th>max</th>\n",
       "      <td>2_016.00</td>\n",
       "      <td>41.36</td>\n",
       "      <td>28.96</td>\n",
       "      <td>10.22</td>\n",
       "      <td>10.57</td>\n",
       "      <td>98.00</td>\n",
       "    </tr>\n",
       "  </tbody>\n",
       "</table>\n",
       "</div>"
      ],
      "text/plain": [
       "       Year_of_Release  NA_sales  EU_sales  JP_sales  Other_sales  \\\n",
       "count        16_446.00 16_715.00 16_715.00 16_715.00    16_715.00   \n",
       "mean          2_006.48      0.26      0.15      0.08         0.05   \n",
       "std               5.88      0.81      0.50      0.31         0.19   \n",
       "min           1_980.00      0.00      0.00      0.00         0.00   \n",
       "25%           2_003.00      0.00      0.00      0.00         0.00   \n",
       "50%           2_007.00      0.08      0.02      0.00         0.01   \n",
       "75%           2_010.00      0.24      0.11      0.04         0.03   \n",
       "max           2_016.00     41.36     28.96     10.22        10.57   \n",
       "\n",
       "       Critic_Score  \n",
       "count      8_137.00  \n",
       "mean          68.97  \n",
       "std           13.94  \n",
       "min           13.00  \n",
       "25%           60.00  \n",
       "50%           71.00  \n",
       "75%           79.00  \n",
       "max           98.00  "
      ]
     },
     "metadata": {},
     "output_type": "display_data"
    },
    {
     "data": {
      "image/png": "[encoded data removed]",
      "text/plain": [
       "<Figure size 1008x864 with 6 Axes>"
      ]
     },
     "metadata": {
      "needs_background": "light"
     },
     "output_type": "display_data"
    }
   ],
   "source": [
    "display_data_exploration(ds_games)"
   ]
  },
  {
   "cell_type": "markdown",
   "id": "0c78ba99",
   "metadata": {},
   "source": [
    "**Количество данных и количестве полей**  \n",
    "✅ **Сколько данных?** 16715 записей и 10 столбцов данных  \n",
    "✅ **Получены ожидаемые столбцы?** Да, обещанные 8 столбцов присутствуют, лишних нет.  \n",
    "\n",
    "**Получены ли ожидаемые данные**   \n",
    "✅ **Похоже на ожидаемое?** Да. Данные похожи на те, что нам обещали.  \n",
    "\n",
    "**Полные ли данные**  \n",
    "⚠️ **Данные полные?** Нет. Видно, например, по полю `Year_of_release`, присутствуют NaN значения. Подробнее разберемся ниже.  \n",
    "\n",
    "**Степень правдоподобия данных**  \n",
    "⚠️ **Выбросы есть?** В столбцах продаж есть пиковые значения, далекие от среднего.  \n",
    "✅ **Адекватны ли максимумы?** Да.  \n",
    "✅ **Адекватны ли минимумы?**  Да.  \n",
    "✅ **Текстовые поля правдоподобны?** Данные текстовых полей выглядят правоподобно.  \n",
    "\n",
    "**В порядке ли названия столбцов**  \n",
    "⚠️ **Названия столбцов ОК?** Нет, потребуется переименование\n",
    "\n",
    "**Адекватны ли форматы данных**  \n",
    "⚠️ **Форматы данных ОК?** В целом ОК. Столбец `year_of_release` приведем к int16. Столбец `user_score` по своей сути float. \n"
   ]
  },
  {
   "cell_type": "markdown",
   "id": "54ba9ab9",
   "metadata": {},
   "source": [
    "#### Ожидания по типам данных `games`"
   ]
  },
  {
   "cell_type": "code",
   "execution_count": 102,
   "id": "9d7d94e0",
   "metadata": {},
   "outputs": [],
   "source": [
    "dic_data_types_games = {'year_of_release':'int16',\n",
    "                         'user_score': 'float64'\n",
    "                         }"
   ]
  },
  {
   "cell_type": "markdown",
   "id": "fa2757bb",
   "metadata": {},
   "source": [
    "Поле `year_of_release` так просто в `Int` не правратить препятствуют пропуски. Потребуется заполнить годы."
   ]
  },
  {
   "cell_type": "markdown",
   "id": "05ac29c6",
   "metadata": {},
   "source": [
    "<div class=\"alert alert-info\" style=\"border-radius: 15px; box-shadow: 4px 4px 4px; border: 1px solid \">\n",
    "<h3> Комментарий студента: Типы данных <a class=\"tocSkip\"></h3></br>\n",
    "При выборе типа данных для целых чисел опирался на следующие уровни:\n",
    "    \n",
    "    > int8: Целые числа в диапазоне от -128 по 127 (числа размером 1 байт).\n",
    "    > int16: Целые числа в диапазоне от -32'768 по 32'767, (числа размером 2 байта).\n",
    "    > int32: Целые числа в диапазоне от -2'147'483'648 по 2'147'483'647, (числа размером 4 байта).\n",
    "    > int64: Целые числа в диапазоне от -9223372036854775808 по 9223372036854775807, (числа размером 8 байт).\n",
    "\n",
    "С типом данных float разобраться оказалось сложнее. Как я понял, там вопрос в необходимой точности вычислений. Предполагаю, что для текущих задач точность знаков после запятой некритична, но копать глубоко не стал, оставил float64, хотя просится float16 c нашими 2 знаками после запятой.\n",
    " \n",
    "</div> "
   ]
  },
  {
   "cell_type": "markdown",
   "id": "227cede3",
   "metadata": {},
   "source": [
    "## Шаг 2. Подготовка данных"
   ]
  },
  {
   "cell_type": "markdown",
   "id": "8ae0ade9",
   "metadata": {},
   "source": [
    "Исходные данные не меняем. Работаем с копией датасета. Создадим датафрейм `df_games_prep` (prepared). В нем будем хранить данные прошедшие общую подготовку, необходимую для дальнейших исследований."
   ]
  },
  {
   "cell_type": "code",
   "execution_count": 103,
   "id": "2af8d1fc",
   "metadata": {},
   "outputs": [],
   "source": [
    "# Создаем копию исходного датасета.\n",
    "df_games_prep = ds_games.copy()"
   ]
  },
  {
   "cell_type": "markdown",
   "id": "a9c58043",
   "metadata": {},
   "source": [
    "### Переименование столбцов\n",
    "Нас учили переименовывать столбцы, объясняя, что snake_case важен. Переименуем столбцы."
   ]
  },
  {
   "cell_type": "code",
   "execution_count": 104,
   "id": "c946ea66",
   "metadata": {},
   "outputs": [
    {
     "name": "stdout",
     "output_type": "stream",
     "text": [
      "<class 'pandas.core.frame.DataFrame'>\n",
      "RangeIndex: 16715 entries, 0 to 16714\n",
      "Data columns (total 11 columns):\n",
      " #   Column           Non-Null Count  Dtype  \n",
      "---  ------           --------------  -----  \n",
      " 0   name             16713 non-null  object \n",
      " 1   platform         16715 non-null  object \n",
      " 2   year_of_release  16446 non-null  float64\n",
      " 3   genre            16713 non-null  object \n",
      " 4   na_sales         16715 non-null  float64\n",
      " 5   eu_sales         16715 non-null  float64\n",
      " 6   jp_sales         16715 non-null  float64\n",
      " 7   other_sales      16715 non-null  float64\n",
      " 8   critic_score     8137 non-null   float64\n",
      " 9   user_score       10014 non-null  object \n",
      " 10  rating           9949 non-null   object \n",
      "dtypes: float64(6), object(5)\n",
      "memory usage: 1.4+ MB\n"
     ]
    }
   ],
   "source": [
    "# Переименования столбцов\n",
    "columns_old = ['Name', 'Platform', 'Year_of_Release', 'Genre', 'NA_sales', 'EU_sales',\n",
    "        'JP_sales', 'Other_sales', 'Critic_Score', 'User_Score', 'Rating'] #Имена столбцов в датасете\n",
    "columns_new = ['name', 'platform', 'year_of_release', 'genre', 'na_sales', 'eu_sales',\n",
    "        'jp_sales', 'other_sales', 'critic_score', 'user_score', 'rating'] #Новые названия столбцов\n",
    "dict_columns = dict(zip(columns_old, columns_new)) # Собираем списки в словарь для передачи методу .rename()\n",
    "df_games_prep = df_games_prep.rename(columns=dict_columns) #Переименовываем столбцы набора даных, результат сохраняем в той же переменной.\n",
    "\n",
    "# Посмотрим результат\n",
    "df_games_prep.info()"
   ]
  },
  {
   "cell_type": "markdown",
   "id": "5eb924ca",
   "metadata": {},
   "source": [
    "<div style=\"border:solid green 2px; padding: 20px; border-radius: 15px;\">  \n",
    "\n",
    "**Резюмируем информацию** переименование столбцов:   </br></br>\n",
    "Теперь нашли заголовки столбцов выглядят прекрасно.\n",
    "</div>"
   ]
  },
  {
   "cell_type": "markdown",
   "id": "a21e705f",
   "metadata": {},
   "source": [
    "### Явные дубликаты\n",
    "Проверим наличие явных дубликатов."
   ]
  },
  {
   "cell_type": "code",
   "execution_count": 105,
   "id": "4679703d",
   "metadata": {},
   "outputs": [
    {
     "name": "stdout",
     "output_type": "stream",
     "text": [
      "✅ Число строк явных дубликатов в df_games: 0\n"
     ]
    }
   ],
   "source": [
    "print(f'✅ Число строк явных дубликатов в df_games: {df_games_prep.duplicated().sum()}')"
   ]
  },
  {
   "cell_type": "markdown",
   "id": "136af78f",
   "metadata": {},
   "source": [
    "Проверим нет ли дубликатов вида игра-платформа"
   ]
  },
  {
   "cell_type": "code",
   "execution_count": 106,
   "id": "c121278e",
   "metadata": {},
   "outputs": [
    {
     "name": "stdout",
     "output_type": "stream",
     "text": [
      "Количество дубликатов вида name-platform:\n"
     ]
    },
    {
     "data": {
      "text/plain": [
       "5"
      ]
     },
     "execution_count": 106,
     "metadata": {},
     "output_type": "execute_result"
    }
   ],
   "source": [
    "print(\"Количество дубликатов вида name-platform:\")\n",
    "df_games_prep[['name', 'platform']].duplicated().sum()\n"
   ]
  },
  {
   "cell_type": "code",
   "execution_count": 107,
   "id": "226ba5a9",
   "metadata": {
    "scrolled": true
   },
   "outputs": [
    {
     "data": {
      "text/html": [
       "<div>\n",
       "<style scoped>\n",
       "    .dataframe tbody tr th:only-of-type {\n",
       "        vertical-align: middle;\n",
       "    }\n",
       "\n",
       "    .dataframe tbody tr th {\n",
       "        vertical-align: top;\n",
       "    }\n",
       "\n",
       "    .dataframe thead th {\n",
       "        text-align: right;\n",
       "    }\n",
       "</style>\n",
       "<table border=\"1\" class=\"dataframe\">\n",
       "  <thead>\n",
       "    <tr style=\"text-align: right;\">\n",
       "      <th></th>\n",
       "      <th>name</th>\n",
       "      <th>platform</th>\n",
       "      <th>year_of_release</th>\n",
       "      <th>genre</th>\n",
       "      <th>na_sales</th>\n",
       "      <th>eu_sales</th>\n",
       "      <th>jp_sales</th>\n",
       "      <th>other_sales</th>\n",
       "      <th>critic_score</th>\n",
       "      <th>user_score</th>\n",
       "      <th>rating</th>\n",
       "    </tr>\n",
       "  </thead>\n",
       "  <tbody>\n",
       "    <tr>\n",
       "      <th>604</th>\n",
       "      <td>Madden NFL 13</td>\n",
       "      <td>PS3</td>\n",
       "      <td>2_012.00</td>\n",
       "      <td>Sports</td>\n",
       "      <td>2.11</td>\n",
       "      <td>0.22</td>\n",
       "      <td>0.00</td>\n",
       "      <td>0.23</td>\n",
       "      <td>83.00</td>\n",
       "      <td>5.5</td>\n",
       "      <td>E</td>\n",
       "    </tr>\n",
       "    <tr>\n",
       "      <th>16230</th>\n",
       "      <td>Madden NFL 13</td>\n",
       "      <td>PS3</td>\n",
       "      <td>2_012.00</td>\n",
       "      <td>Sports</td>\n",
       "      <td>0.00</td>\n",
       "      <td>0.01</td>\n",
       "      <td>0.00</td>\n",
       "      <td>0.00</td>\n",
       "      <td>83.00</td>\n",
       "      <td>5.5</td>\n",
       "      <td>E</td>\n",
       "    </tr>\n",
       "    <tr>\n",
       "      <th>1190</th>\n",
       "      <td>Need for Speed: Most Wanted</td>\n",
       "      <td>X360</td>\n",
       "      <td>2_012.00</td>\n",
       "      <td>Racing</td>\n",
       "      <td>0.62</td>\n",
       "      <td>0.78</td>\n",
       "      <td>0.01</td>\n",
       "      <td>0.15</td>\n",
       "      <td>83.00</td>\n",
       "      <td>8.5</td>\n",
       "      <td>T</td>\n",
       "    </tr>\n",
       "    <tr>\n",
       "      <th>1591</th>\n",
       "      <td>Need for Speed: Most Wanted</td>\n",
       "      <td>X360</td>\n",
       "      <td>2_005.00</td>\n",
       "      <td>Racing</td>\n",
       "      <td>1.00</td>\n",
       "      <td>0.13</td>\n",
       "      <td>0.02</td>\n",
       "      <td>0.10</td>\n",
       "      <td>83.00</td>\n",
       "      <td>8.5</td>\n",
       "      <td>T</td>\n",
       "    </tr>\n",
       "    <tr>\n",
       "      <th>5972</th>\n",
       "      <td>Need for Speed: Most Wanted</td>\n",
       "      <td>PC</td>\n",
       "      <td>2_005.00</td>\n",
       "      <td>Racing</td>\n",
       "      <td>0.02</td>\n",
       "      <td>0.23</td>\n",
       "      <td>0.00</td>\n",
       "      <td>0.04</td>\n",
       "      <td>82.00</td>\n",
       "      <td>8.5</td>\n",
       "      <td>T</td>\n",
       "    </tr>\n",
       "    <tr>\n",
       "      <th>11715</th>\n",
       "      <td>Need for Speed: Most Wanted</td>\n",
       "      <td>PC</td>\n",
       "      <td>2_012.00</td>\n",
       "      <td>Racing</td>\n",
       "      <td>0.00</td>\n",
       "      <td>0.06</td>\n",
       "      <td>0.00</td>\n",
       "      <td>0.02</td>\n",
       "      <td>82.00</td>\n",
       "      <td>8.5</td>\n",
       "      <td>T</td>\n",
       "    </tr>\n",
       "    <tr>\n",
       "      <th>1745</th>\n",
       "      <td>Sonic the Hedgehog</td>\n",
       "      <td>PS3</td>\n",
       "      <td>2_006.00</td>\n",
       "      <td>Platform</td>\n",
       "      <td>0.41</td>\n",
       "      <td>0.06</td>\n",
       "      <td>0.04</td>\n",
       "      <td>0.66</td>\n",
       "      <td>43.00</td>\n",
       "      <td>4.1</td>\n",
       "      <td>E10+</td>\n",
       "    </tr>\n",
       "    <tr>\n",
       "      <th>4127</th>\n",
       "      <td>Sonic the Hedgehog</td>\n",
       "      <td>PS3</td>\n",
       "      <td>NaN</td>\n",
       "      <td>Platform</td>\n",
       "      <td>0.00</td>\n",
       "      <td>0.48</td>\n",
       "      <td>0.00</td>\n",
       "      <td>0.00</td>\n",
       "      <td>43.00</td>\n",
       "      <td>4.1</td>\n",
       "      <td>E10+</td>\n",
       "    </tr>\n",
       "  </tbody>\n",
       "</table>\n",
       "</div>"
      ],
      "text/plain": [
       "                              name platform  year_of_release     genre  \\\n",
       "604                  Madden NFL 13      PS3         2_012.00    Sports   \n",
       "16230                Madden NFL 13      PS3         2_012.00    Sports   \n",
       "1190   Need for Speed: Most Wanted     X360         2_012.00    Racing   \n",
       "1591   Need for Speed: Most Wanted     X360         2_005.00    Racing   \n",
       "5972   Need for Speed: Most Wanted       PC         2_005.00    Racing   \n",
       "11715  Need for Speed: Most Wanted       PC         2_012.00    Racing   \n",
       "1745            Sonic the Hedgehog      PS3         2_006.00  Platform   \n",
       "4127            Sonic the Hedgehog      PS3              NaN  Platform   \n",
       "\n",
       "       na_sales  eu_sales  jp_sales  other_sales  critic_score user_score  \\\n",
       "604        2.11      0.22      0.00         0.23         83.00        5.5   \n",
       "16230      0.00      0.01      0.00         0.00         83.00        5.5   \n",
       "1190       0.62      0.78      0.01         0.15         83.00        8.5   \n",
       "1591       1.00      0.13      0.02         0.10         83.00        8.5   \n",
       "5972       0.02      0.23      0.00         0.04         82.00        8.5   \n",
       "11715      0.00      0.06      0.00         0.02         82.00        8.5   \n",
       "1745       0.41      0.06      0.04         0.66         43.00        4.1   \n",
       "4127       0.00      0.48      0.00         0.00         43.00        4.1   \n",
       "\n",
       "      rating  \n",
       "604        E  \n",
       "16230      E  \n",
       "1190       T  \n",
       "1591       T  \n",
       "5972       T  \n",
       "11715      T  \n",
       "1745    E10+  \n",
       "4127    E10+  "
      ]
     },
     "execution_count": 107,
     "metadata": {},
     "output_type": "execute_result"
    }
   ],
   "source": [
    "# посмотрим на дубликаты\n",
    "df = df_games_prep.copy()\n",
    "df[df.groupby(df.name + df.platform)['name'].transform('count') > 1].sort_values(by='name')"
   ]
  },
  {
   "cell_type": "markdown",
   "id": "199072b2",
   "metadata": {},
   "source": [
    "\"Need for Speed: Most Wanted\" оставим как есть, игра действительно выходила два раза.  \n",
    "Продажи  \"Madden NFL 13\" и \"Sonic the Hedgehog\" проссумируем для каждой игры, дубликат удалим.\n"
   ]
  },
  {
   "cell_type": "code",
   "execution_count": 108,
   "id": "d95d29c0",
   "metadata": {},
   "outputs": [],
   "source": [
    "df_games_prep.loc[604, 'eu_sales'] = df_games_prep.loc[604]['eu_sales'] + df_games_prep.loc[16230]['eu_sales']\n",
    "df_games_prep.loc[1745, 'eu_sales'] = df_games_prep.loc[1745]['eu_sales'] + df_games_prep.loc[4127]['eu_sales']\n",
    "df_games_prep.drop([4127, 16230], inplace=True)"
   ]
  },
  {
   "cell_type": "code",
   "execution_count": 109,
   "id": "3c032c83",
   "metadata": {},
   "outputs": [
    {
     "data": {
      "text/html": [
       "<div>\n",
       "<style scoped>\n",
       "    .dataframe tbody tr th:only-of-type {\n",
       "        vertical-align: middle;\n",
       "    }\n",
       "\n",
       "    .dataframe tbody tr th {\n",
       "        vertical-align: top;\n",
       "    }\n",
       "\n",
       "    .dataframe thead th {\n",
       "        text-align: right;\n",
       "    }\n",
       "</style>\n",
       "<table border=\"1\" class=\"dataframe\">\n",
       "  <thead>\n",
       "    <tr style=\"text-align: right;\">\n",
       "      <th></th>\n",
       "      <th>name</th>\n",
       "      <th>platform</th>\n",
       "      <th>year_of_release</th>\n",
       "      <th>genre</th>\n",
       "      <th>na_sales</th>\n",
       "      <th>eu_sales</th>\n",
       "      <th>jp_sales</th>\n",
       "      <th>other_sales</th>\n",
       "      <th>critic_score</th>\n",
       "      <th>user_score</th>\n",
       "      <th>rating</th>\n",
       "    </tr>\n",
       "  </thead>\n",
       "  <tbody>\n",
       "    <tr>\n",
       "      <th>1190</th>\n",
       "      <td>Need for Speed: Most Wanted</td>\n",
       "      <td>X360</td>\n",
       "      <td>2_012.00</td>\n",
       "      <td>Racing</td>\n",
       "      <td>0.62</td>\n",
       "      <td>0.78</td>\n",
       "      <td>0.01</td>\n",
       "      <td>0.15</td>\n",
       "      <td>83.00</td>\n",
       "      <td>8.5</td>\n",
       "      <td>T</td>\n",
       "    </tr>\n",
       "    <tr>\n",
       "      <th>1591</th>\n",
       "      <td>Need for Speed: Most Wanted</td>\n",
       "      <td>X360</td>\n",
       "      <td>2_005.00</td>\n",
       "      <td>Racing</td>\n",
       "      <td>1.00</td>\n",
       "      <td>0.13</td>\n",
       "      <td>0.02</td>\n",
       "      <td>0.10</td>\n",
       "      <td>83.00</td>\n",
       "      <td>8.5</td>\n",
       "      <td>T</td>\n",
       "    </tr>\n",
       "    <tr>\n",
       "      <th>5972</th>\n",
       "      <td>Need for Speed: Most Wanted</td>\n",
       "      <td>PC</td>\n",
       "      <td>2_005.00</td>\n",
       "      <td>Racing</td>\n",
       "      <td>0.02</td>\n",
       "      <td>0.23</td>\n",
       "      <td>0.00</td>\n",
       "      <td>0.04</td>\n",
       "      <td>82.00</td>\n",
       "      <td>8.5</td>\n",
       "      <td>T</td>\n",
       "    </tr>\n",
       "    <tr>\n",
       "      <th>11715</th>\n",
       "      <td>Need for Speed: Most Wanted</td>\n",
       "      <td>PC</td>\n",
       "      <td>2_012.00</td>\n",
       "      <td>Racing</td>\n",
       "      <td>0.00</td>\n",
       "      <td>0.06</td>\n",
       "      <td>0.00</td>\n",
       "      <td>0.02</td>\n",
       "      <td>82.00</td>\n",
       "      <td>8.5</td>\n",
       "      <td>T</td>\n",
       "    </tr>\n",
       "  </tbody>\n",
       "</table>\n",
       "</div>"
      ],
      "text/plain": [
       "                              name platform  year_of_release   genre  \\\n",
       "1190   Need for Speed: Most Wanted     X360         2_012.00  Racing   \n",
       "1591   Need for Speed: Most Wanted     X360         2_005.00  Racing   \n",
       "5972   Need for Speed: Most Wanted       PC         2_005.00  Racing   \n",
       "11715  Need for Speed: Most Wanted       PC         2_012.00  Racing   \n",
       "\n",
       "       na_sales  eu_sales  jp_sales  other_sales  critic_score user_score  \\\n",
       "1190       0.62      0.78      0.01         0.15         83.00        8.5   \n",
       "1591       1.00      0.13      0.02         0.10         83.00        8.5   \n",
       "5972       0.02      0.23      0.00         0.04         82.00        8.5   \n",
       "11715      0.00      0.06      0.00         0.02         82.00        8.5   \n",
       "\n",
       "      rating  \n",
       "1190       T  \n",
       "1591       T  \n",
       "5972       T  \n",
       "11715      T  "
      ]
     },
     "execution_count": 109,
     "metadata": {},
     "output_type": "execute_result"
    }
   ],
   "source": [
    "df=df_games_prep.copy()\n",
    "df[df.groupby(df.name + df.platform)['name'].transform('count') > 1].sort_values(by='name')\n"
   ]
  },
  {
   "cell_type": "markdown",
   "id": "4ee46b40",
   "metadata": {},
   "source": [
    "<div style=\"border:solid green 2px; padding: 20px; border-radius: 15px;\">  \n",
    "\n",
    "**Резюмируем информацию** по явным дубликатам:   </br></br>\n",
    "Явные дубликаты не обнаружены.  \n",
    "Дубликаты вида название игры - платформа обработаны.\n",
    "</div>"
   ]
  },
  {
   "cell_type": "markdown",
   "id": "ea6b99d0",
   "metadata": {},
   "source": [
    "### Неявные дубликаты\n",
    "Полей кандидатов на неявные дубликаты не так много:\n",
    "- `platform`\n",
    "- `name`\n",
    "- `genre`\n",
    "- `rating`  \n",
    "Остальные поля числовые\n",
    "\n",
    "#### `platform`"
   ]
  },
  {
   "cell_type": "code",
   "execution_count": 110,
   "id": "6c10e1b3",
   "metadata": {},
   "outputs": [
    {
     "data": {
      "text/plain": [
       "2600     133\n",
       "3DO        3\n",
       "3DS      520\n",
       "DC        52\n",
       "DS      2151\n",
       "GB        98\n",
       "GBA      822\n",
       "GC       556\n",
       "GEN       29\n",
       "GG         1\n",
       "N64      319\n",
       "NES       98\n",
       "NG        12\n",
       "PC       974\n",
       "PCFX       1\n",
       "PS      1197\n",
       "PS2     2161\n",
       "PS3     1329\n",
       "PS4      392\n",
       "PSP     1209\n",
       "PSV      430\n",
       "SAT      173\n",
       "SCD        6\n",
       "SNES     239\n",
       "TG16       2\n",
       "WS         6\n",
       "Wii     1320\n",
       "WiiU     147\n",
       "X360    1262\n",
       "XB       824\n",
       "XOne     247\n",
       "Name: platform, dtype: int64"
      ]
     },
     "execution_count": 110,
     "metadata": {},
     "output_type": "execute_result"
    }
   ],
   "source": [
    "df_games_prep['platform'].value_counts().sort_index()"
   ]
  },
  {
   "cell_type": "markdown",
   "id": "1f6b8e64",
   "metadata": {},
   "source": [
    "Видим, что значения в порядке, неявных дубликатов нет.\n",
    "\n",
    "#### `name`\n",
    "Названий игр много, выполним проверку на дубликаты по регистру."
   ]
  },
  {
   "cell_type": "code",
   "execution_count": 111,
   "id": "40d0d0a3",
   "metadata": {},
   "outputs": [
    {
     "name": "stdout",
     "output_type": "stream",
     "text": [
      "Количество уникальных названий с учетом регистра:\n",
      " 11559\n",
      "Количество уникальных названий без учета регистра:\n"
     ]
    },
    {
     "data": {
      "text/plain": [
       "11559"
      ]
     },
     "execution_count": 111,
     "metadata": {},
     "output_type": "execute_result"
    }
   ],
   "source": [
    "print(\"Количество уникальных названий с учетом регистра:\\n\", df_games_prep.name.nunique())\n",
    "\n",
    "print(\"Количество уникальных названий без учета регистра:\")\n",
    "df_games_prep.name.str.lower().nunique()"
   ]
  },
  {
   "cell_type": "markdown",
   "id": "731b4ce9",
   "metadata": {},
   "source": [
    "Количество названий с учётом регистра и без совпадает. Это означает дубликатов по регистру нет.    \n",
    "\n",
    "#### `genre`\n"
   ]
  },
  {
   "cell_type": "code",
   "execution_count": 112,
   "id": "28b6e5b2",
   "metadata": {},
   "outputs": [
    {
     "data": {
      "text/plain": [
       "Action          3369\n",
       "Adventure       1303\n",
       "Fighting         849\n",
       "Misc            1750\n",
       "Platform         887\n",
       "Puzzle           580\n",
       "Racing          1249\n",
       "Role-Playing    1498\n",
       "Shooter         1323\n",
       "Simulation       873\n",
       "Sports          2347\n",
       "Strategy         683\n",
       "Name: genre, dtype: int64"
      ]
     },
     "execution_count": 112,
     "metadata": {},
     "output_type": "execute_result"
    }
   ],
   "source": [
    "df_games_prep['genre'].value_counts().sort_index()"
   ]
  },
  {
   "cell_type": "markdown",
   "id": "aba94c54",
   "metadata": {},
   "source": [
    "Видим, что значения в порядке, неявных дубликатов нет.\n",
    "\n",
    "#### `rating`\n"
   ]
  },
  {
   "cell_type": "code",
   "execution_count": 113,
   "id": "c627c4f1",
   "metadata": {
    "scrolled": true
   },
   "outputs": [
    {
     "data": {
      "text/plain": [
       "AO         1\n",
       "K-A        3\n",
       "RP         3\n",
       "EC         8\n",
       "E10+    1419\n",
       "M       1563\n",
       "T       2961\n",
       "E       3989\n",
       "Name: rating, dtype: int64"
      ]
     },
     "execution_count": 113,
     "metadata": {},
     "output_type": "execute_result"
    }
   ],
   "source": [
    "df_games_prep['rating'].value_counts().sort_values()"
   ]
  },
  {
   "cell_type": "markdown",
   "id": "e5972cb6",
   "metadata": {},
   "source": [
    "Рассмотрим рейтинги, которых мало.  \n",
    "EC - Early Childhood. Устаревшая градация контента для детей дошкольного возраста. Запишем его в Е.  \n",
    "RP - Rating Pending. Значение присваивается до определения рейтинга. Заменим на Nan.  \n",
    "K-A - Kids to Adults. Устаревшая градация контента для всех возрастов. То же, что  Е.  \n",
    "AO - Adults Only. Для игр со слишком большим количеством секса, насилия, c азартными играми на реальные деньги.\n",
    "\n",
    "Рассмотрим, что за игра в AO"
   ]
  },
  {
   "cell_type": "code",
   "execution_count": 114,
   "id": "8fc62bcd",
   "metadata": {},
   "outputs": [
    {
     "data": {
      "text/html": [
       "<div>\n",
       "<style scoped>\n",
       "    .dataframe tbody tr th:only-of-type {\n",
       "        vertical-align: middle;\n",
       "    }\n",
       "\n",
       "    .dataframe tbody tr th {\n",
       "        vertical-align: top;\n",
       "    }\n",
       "\n",
       "    .dataframe thead th {\n",
       "        text-align: right;\n",
       "    }\n",
       "</style>\n",
       "<table border=\"1\" class=\"dataframe\">\n",
       "  <thead>\n",
       "    <tr style=\"text-align: right;\">\n",
       "      <th></th>\n",
       "      <th>name</th>\n",
       "      <th>platform</th>\n",
       "      <th>year_of_release</th>\n",
       "      <th>genre</th>\n",
       "      <th>na_sales</th>\n",
       "      <th>eu_sales</th>\n",
       "      <th>jp_sales</th>\n",
       "      <th>other_sales</th>\n",
       "      <th>critic_score</th>\n",
       "      <th>user_score</th>\n",
       "      <th>rating</th>\n",
       "    </tr>\n",
       "  </thead>\n",
       "  <tbody>\n",
       "    <tr>\n",
       "      <th>875</th>\n",
       "      <td>Grand Theft Auto: San Andreas</td>\n",
       "      <td>XB</td>\n",
       "      <td>2_005.00</td>\n",
       "      <td>Action</td>\n",
       "      <td>1.26</td>\n",
       "      <td>0.61</td>\n",
       "      <td>0.00</td>\n",
       "      <td>0.09</td>\n",
       "      <td>93.00</td>\n",
       "      <td>8.6</td>\n",
       "      <td>AO</td>\n",
       "    </tr>\n",
       "  </tbody>\n",
       "</table>\n",
       "</div>"
      ],
      "text/plain": [
       "                              name platform  year_of_release   genre  \\\n",
       "875  Grand Theft Auto: San Andreas       XB         2_005.00  Action   \n",
       "\n",
       "     na_sales  eu_sales  jp_sales  other_sales  critic_score user_score rating  \n",
       "875      1.26      0.61      0.00         0.09         93.00        8.6     AO  "
      ]
     },
     "execution_count": 114,
     "metadata": {},
     "output_type": "execute_result"
    }
   ],
   "source": [
    "df_games_prep.loc[df_games_prep['rating']=='AO',:]"
   ]
  },
  {
   "cell_type": "markdown",
   "id": "862ee9db",
   "metadata": {},
   "source": [
    "Для \"Grand Theft Auto: San Andreas\" Рейтинг в последствии был заменен на M. Заменим и мы."
   ]
  },
  {
   "cell_type": "code",
   "execution_count": 115,
   "id": "8fab6b27",
   "metadata": {},
   "outputs": [],
   "source": [
    "# Обобщи рейтинги\n",
    "rating_rename = {\n",
    "    'AO': 'M',\n",
    "    'EC': 'E',\n",
    "    'RP': np.nan,\n",
    "    'K-A': 'E'\n",
    "}\n",
    "df_games_prep.rating = df_games_prep.rating.replace(rating_rename)"
   ]
  },
  {
   "cell_type": "code",
   "execution_count": 116,
   "id": "96da7ab9",
   "metadata": {},
   "outputs": [
    {
     "data": {
      "text/plain": [
       "E10+    1419\n",
       "M       1564\n",
       "T       2961\n",
       "E       4000\n",
       "Name: rating, dtype: int64"
      ]
     },
     "execution_count": 116,
     "metadata": {},
     "output_type": "execute_result"
    }
   ],
   "source": [
    "#Проверим\n",
    "df_games_prep['rating'].value_counts().sort_values()"
   ]
  },
  {
   "cell_type": "markdown",
   "id": "f62c54b0",
   "metadata": {},
   "source": [
    "<div style=\"border:solid green 2px; padding: 20px; border-radius: 15px;\">  \n",
    "\n",
    "**Резюмируем информацию** по неявным дублям:   </br></br>\n",
    "Выявленные неявные дубли устранены.\n",
    "</div>"
   ]
  },
  {
   "cell_type": "markdown",
   "id": "6327f4ed",
   "metadata": {},
   "source": [
    "### Пропуски\n",
    "Проверим есть ли в полях пропуски данных. Проверяем на предмет содержания нулей и NaN значений.\n",
    "В случае наличия пропусков посмотрим, нет ли закономерностей и какого типа пропуски.\n",
    "\n",
    "**Типы пропусков**  \n",
    "- полностью случайные\n",
    "- случайные (зависят от значений столбца, но не других столбцов: город не укзан, т.к. не известен)\n",
    "- неслучайные (умешленно не сообщили, зависит от значений других столбцов)"
   ]
  },
  {
   "cell_type": "markdown",
   "id": "40fa1391",
   "metadata": {},
   "source": [
    "**Найдем пропущенные значения**\n",
    "Уделим внимание количеству нулевых и NaN значений в полях.\n",
    "\n",
    "#### Таблица `games`"
   ]
  },
  {
   "cell_type": "code",
   "execution_count": 117,
   "id": "781df6a2",
   "metadata": {},
   "outputs": [
    {
     "data": {
      "text/markdown": [
       "✅ В столбце `name` присутствуют нули в количестве 0, что составляет 0.00%  \n",
       "⚠️ В столбце `name` присутствуют `Nan` в количестве 2, что составляет 0.01%  \n",
       "  \n",
       "✅ В столбце `platform` присутствуют нули в количестве 0, что составляет 0.00%  \n",
       "✅ В столбце `platform` присутствуют `Nan` в количестве 0, что составляет 0.00%  \n",
       "  \n",
       "✅ В столбце `year_of_release` присутствуют нули в количестве 0, что составляет 0.00%  \n",
       "⛔ В столбце `year_of_release` присутствуют `Nan` в количестве 268, что составляет 1.60%  \n",
       "  \n",
       "✅ В столбце `genre` присутствуют нули в количестве 0, что составляет 0.00%  \n",
       "⚠️ В столбце `genre` присутствуют `Nan` в количестве 2, что составляет 0.01%  \n",
       "  \n",
       "⛔ В столбце `na_sales` присутствуют нули в количестве 4506, что составляет 26.96%  \n",
       "✅ В столбце `na_sales` присутствуют `Nan` в количестве 0, что составляет 0.00%  \n",
       "  \n",
       "⛔ В столбце `eu_sales` присутствуют нули в количестве 5870, что составляет 35.12%  \n",
       "✅ В столбце `eu_sales` присутствуют `Nan` в количестве 0, что составляет 0.00%  \n",
       "  \n",
       "⛔ В столбце `jp_sales` присутствуют нули в количестве 10512, что составляет 62.90%  \n",
       "✅ В столбце `jp_sales` присутствуют `Nan` в количестве 0, что составляет 0.00%  \n",
       "  \n",
       "⛔ В столбце `other_sales` присутствуют нули в количестве 6599, что составляет 39.48%  \n",
       "✅ В столбце `other_sales` присутствуют `Nan` в количестве 0, что составляет 0.00%  \n",
       "  \n",
       "✅ В столбце `critic_score` присутствуют нули в количестве 0, что составляет 0.00%  \n",
       "⛔ В столбце `critic_score` присутствуют `Nan` в количестве 8578, что составляет 51.33%  \n",
       "  \n",
       "✅ В столбце `user_score` присутствуют нули в количестве 0, что составляет 0.00%  \n",
       "⛔ В столбце `user_score` присутствуют `Nan` в количестве 6701, что составляет 40.09%  \n",
       "  \n",
       "✅ В столбце `rating` присутствуют нули в количестве 0, что составляет 0.00%  \n",
       "⛔ В столбце `rating` присутствуют `Nan` в количестве 6769, что составляет 40.50%  \n",
       "  \n"
      ],
      "text/plain": [
       "<IPython.core.display.Markdown object>"
      ]
     },
     "execution_count": 117,
     "metadata": {},
     "output_type": "execute_result"
    }
   ],
   "source": [
    "md(display_data_loses(df_games_prep))"
   ]
  },
  {
   "cell_type": "markdown",
   "id": "e05abeb7",
   "metadata": {},
   "source": [
    "В поле `genre` всего два пропуска. Число записей незначительно. Оставляем без внимания.  \n",
    "Нули в столбцах `na_sales`, `eu_sales`, `jp_sales`, `other_sales` к пропускам не относим. Скорее всего в регионе игра не продавалась.  \n",
    "NaN  в полях `critic_score`, `rating` превышает 40%. Действий не предпринимаем. Считаем, что оценки выставлялись не всем играм, а рейтинг для игр не везде является обязательным. Более того, рейтинговых систем несколько в нашей таблице приведены лишь данные о ESRB рейтинге. Если у игры нет ESRB рейтинга, возможно у нее есть другой рейтинг.  \n",
    "\n",
    "Таким образом, посмотрим внимательнее поля `name`, `year_of_release`\n",
    "Также посмотрим поле `user_score`, поскольку решили это сделать при знакомстве с данными.\n",
    "\n",
    "#####  `name`\n",
    "Посмотрим на пропуски"
   ]
  },
  {
   "cell_type": "code",
   "execution_count": 118,
   "id": "f7b98829",
   "metadata": {},
   "outputs": [
    {
     "data": {
      "text/html": [
       "<div>\n",
       "<style scoped>\n",
       "    .dataframe tbody tr th:only-of-type {\n",
       "        vertical-align: middle;\n",
       "    }\n",
       "\n",
       "    .dataframe tbody tr th {\n",
       "        vertical-align: top;\n",
       "    }\n",
       "\n",
       "    .dataframe thead th {\n",
       "        text-align: right;\n",
       "    }\n",
       "</style>\n",
       "<table border=\"1\" class=\"dataframe\">\n",
       "  <thead>\n",
       "    <tr style=\"text-align: right;\">\n",
       "      <th></th>\n",
       "      <th>name</th>\n",
       "      <th>platform</th>\n",
       "      <th>year_of_release</th>\n",
       "      <th>genre</th>\n",
       "      <th>na_sales</th>\n",
       "      <th>eu_sales</th>\n",
       "      <th>jp_sales</th>\n",
       "      <th>other_sales</th>\n",
       "      <th>critic_score</th>\n",
       "      <th>user_score</th>\n",
       "      <th>rating</th>\n",
       "    </tr>\n",
       "  </thead>\n",
       "  <tbody>\n",
       "    <tr>\n",
       "      <th>659</th>\n",
       "      <td>NaN</td>\n",
       "      <td>GEN</td>\n",
       "      <td>1_993.00</td>\n",
       "      <td>NaN</td>\n",
       "      <td>1.78</td>\n",
       "      <td>0.53</td>\n",
       "      <td>0.00</td>\n",
       "      <td>0.08</td>\n",
       "      <td>NaN</td>\n",
       "      <td>NaN</td>\n",
       "      <td>NaN</td>\n",
       "    </tr>\n",
       "    <tr>\n",
       "      <th>14244</th>\n",
       "      <td>NaN</td>\n",
       "      <td>GEN</td>\n",
       "      <td>1_993.00</td>\n",
       "      <td>NaN</td>\n",
       "      <td>0.00</td>\n",
       "      <td>0.00</td>\n",
       "      <td>0.03</td>\n",
       "      <td>0.00</td>\n",
       "      <td>NaN</td>\n",
       "      <td>NaN</td>\n",
       "      <td>NaN</td>\n",
       "    </tr>\n",
       "  </tbody>\n",
       "</table>\n",
       "</div>"
      ],
      "text/plain": [
       "      name platform  year_of_release genre  na_sales  eu_sales  jp_sales  \\\n",
       "659    NaN      GEN         1_993.00   NaN      1.78      0.53      0.00   \n",
       "14244  NaN      GEN         1_993.00   NaN      0.00      0.00      0.03   \n",
       "\n",
       "       other_sales  critic_score user_score rating  \n",
       "659           0.08           NaN        NaN    NaN  \n",
       "14244         0.00           NaN        NaN    NaN  "
      ]
     },
     "execution_count": 118,
     "metadata": {},
     "output_type": "execute_result"
    }
   ],
   "source": [
    "df_games_prep.loc[df_games_prep['name'].isna()]"
   ]
  },
  {
   "cell_type": "markdown",
   "id": "bb2ad70a",
   "metadata": {},
   "source": [
    "Несодержательные записи. Объемы продаж небольшие. Удалим."
   ]
  },
  {
   "cell_type": "code",
   "execution_count": 119,
   "id": "5284b9f5",
   "metadata": {},
   "outputs": [
    {
     "data": {
      "text/html": [
       "<div>\n",
       "<style scoped>\n",
       "    .dataframe tbody tr th:only-of-type {\n",
       "        vertical-align: middle;\n",
       "    }\n",
       "\n",
       "    .dataframe tbody tr th {\n",
       "        vertical-align: top;\n",
       "    }\n",
       "\n",
       "    .dataframe thead th {\n",
       "        text-align: right;\n",
       "    }\n",
       "</style>\n",
       "<table border=\"1\" class=\"dataframe\">\n",
       "  <thead>\n",
       "    <tr style=\"text-align: right;\">\n",
       "      <th></th>\n",
       "      <th>name</th>\n",
       "      <th>platform</th>\n",
       "      <th>year_of_release</th>\n",
       "      <th>genre</th>\n",
       "      <th>na_sales</th>\n",
       "      <th>eu_sales</th>\n",
       "      <th>jp_sales</th>\n",
       "      <th>other_sales</th>\n",
       "      <th>critic_score</th>\n",
       "      <th>user_score</th>\n",
       "      <th>rating</th>\n",
       "    </tr>\n",
       "  </thead>\n",
       "  <tbody>\n",
       "  </tbody>\n",
       "</table>\n",
       "</div>"
      ],
      "text/plain": [
       "Empty DataFrame\n",
       "Columns: [name, platform, year_of_release, genre, na_sales, eu_sales, jp_sales, other_sales, critic_score, user_score, rating]\n",
       "Index: []"
      ]
     },
     "execution_count": 119,
     "metadata": {},
     "output_type": "execute_result"
    }
   ],
   "source": [
    "# Уберем дубликаты\n",
    "df_games_prep = df_games_prep[(~df_games_prep['name'].isna())]\n",
    "# Проверим\n",
    "df_games_prep.loc[df_games_prep['name'].isna()]"
   ]
  },
  {
   "cell_type": "markdown",
   "id": "03e3c765",
   "metadata": {},
   "source": [
    "Строки с пропусками в `name` удалены.   \n",
    "\n",
    "##### `year_of_release` \n",
    "Для некоторых игр год выпуска указан не для всех платформ. Мы можем подставить год для тех игр, для которых он у нас есть.\n",
    "Но делать этого не станем, поскольку одна и та же игра могла выходить на разных платформах в разные годы.\n",
    "Для демонстрации навыка приведу код, я бы решил бы задачу при необходимости:"
   ]
  },
  {
   "cell_type": "code",
   "execution_count": 120,
   "id": "5ada8d57",
   "metadata": {},
   "outputs": [
    {
     "name": "stdout",
     "output_type": "stream",
     "text": [
      "Объемы продаж для 3DS по годам до назначения пропущенных годов играм.\n"
     ]
    },
    {
     "data": {
      "text/html": [
       "<div>\n",
       "<style scoped>\n",
       "    .dataframe tbody tr th:only-of-type {\n",
       "        vertical-align: middle;\n",
       "    }\n",
       "\n",
       "    .dataframe tbody tr th {\n",
       "        vertical-align: top;\n",
       "    }\n",
       "\n",
       "    .dataframe thead th {\n",
       "        text-align: right;\n",
       "    }\n",
       "</style>\n",
       "<table border=\"1\" class=\"dataframe\">\n",
       "  <thead>\n",
       "    <tr style=\"text-align: right;\">\n",
       "      <th></th>\n",
       "      <th>jp_sales</th>\n",
       "      <th>eu_sales</th>\n",
       "      <th>na_sales</th>\n",
       "    </tr>\n",
       "    <tr>\n",
       "      <th>year_of_release</th>\n",
       "      <th></th>\n",
       "      <th></th>\n",
       "      <th></th>\n",
       "    </tr>\n",
       "  </thead>\n",
       "  <tbody>\n",
       "    <tr>\n",
       "      <th>2_011.00</th>\n",
       "      <td>12.83</td>\n",
       "      <td>18.63</td>\n",
       "      <td>27.34</td>\n",
       "    </tr>\n",
       "    <tr>\n",
       "      <th>2_012.00</th>\n",
       "      <td>19.98</td>\n",
       "      <td>11.68</td>\n",
       "      <td>17.11</td>\n",
       "    </tr>\n",
       "    <tr>\n",
       "      <th>2_013.00</th>\n",
       "      <td>23.57</td>\n",
       "      <td>14.84</td>\n",
       "      <td>15.56</td>\n",
       "    </tr>\n",
       "    <tr>\n",
       "      <th>2_014.00</th>\n",
       "      <td>20.69</td>\n",
       "      <td>8.73</td>\n",
       "      <td>12.33</td>\n",
       "    </tr>\n",
       "    <tr>\n",
       "      <th>2_015.00</th>\n",
       "      <td>15.52</td>\n",
       "      <td>5.06</td>\n",
       "      <td>6.17</td>\n",
       "    </tr>\n",
       "    <tr>\n",
       "      <th>2_016.00</th>\n",
       "      <td>8.03</td>\n",
       "      <td>2.33</td>\n",
       "      <td>4.14</td>\n",
       "    </tr>\n",
       "  </tbody>\n",
       "</table>\n",
       "</div>"
      ],
      "text/plain": [
       "                 jp_sales  eu_sales  na_sales\n",
       "year_of_release                              \n",
       "2_011.00            12.83     18.63     27.34\n",
       "2_012.00            19.98     11.68     17.11\n",
       "2_013.00            23.57     14.84     15.56\n",
       "2_014.00            20.69      8.73     12.33\n",
       "2_015.00            15.52      5.06      6.17\n",
       "2_016.00             8.03      2.33      4.14"
      ]
     },
     "execution_count": 120,
     "metadata": {},
     "output_type": "execute_result"
    }
   ],
   "source": [
    "print(\"Объемы продаж для 3DS по годам до назначения пропущенных годов играм.\")\n",
    "df_games_prep.loc[df_games_prep['platform']=='3DS', ['platform','year_of_release','jp_sales','eu_sales','na_sales']].groupby('year_of_release').sum()"
   ]
  },
  {
   "cell_type": "markdown",
   "id": "7910c243",
   "metadata": {},
   "source": [
    "Обращаю внимание, что на 3DS игры выходили в 2011-2016 годах.  \n",
    "Теперь приступим к заполнению пропущенных годов:"
   ]
  },
  {
   "cell_type": "code",
   "execution_count": 121,
   "id": "e1077bee",
   "metadata": {},
   "outputs": [
    {
     "name": "stdout",
     "output_type": "stream",
     "text": [
      "Число пропусков в 'df1.year_of_release' до замены: 268\n",
      "Число пропусков в 'df1.year_of_release' после замены: 46\n"
     ]
    }
   ],
   "source": [
    "#Создадим копию для работы\n",
    "df1 = df_games_prep.copy()\n",
    "print(\"Число пропусков в 'df1.year_of_release' до замены:\", df1[df1['year_of_release'].isna()]['name'].count())\n",
    "#Соберем вместе игры для которых год указан.\n",
    "df1_b = df1.loc[df1['year_of_release'].isna()==False, ['name', 'year_of_release']] \n",
    "\n",
    "#Пристегнем известные значения к неизвестным. how=left, чтобы не потерять строки для которых год не знаем ни в каких строках\n",
    "df2 = df1.merge(df1_b, on=['name'], how='left')\n",
    "#df_2.loc[df2['year_of_release_y'].isna(), 'year_of_release_y'] = ''\n",
    "\n",
    "#Обновляем пропущенные значения на известные\n",
    "df2.loc[df2['year_of_release_x'].isna(), 'year_of_release_x'] = df2.loc[df2['year_of_release_x'].isna(), 'year_of_release_y']\n",
    "\n",
    "df1['year_of_release'] = df2['year_of_release_x']\n",
    "df1\n",
    "print(\"Число пропусков в 'df1.year_of_release' после замены:\", df1[df1['year_of_release'].isna()]['name'].count())"
   ]
  },
  {
   "cell_type": "markdown",
   "id": "2691c934",
   "metadata": {},
   "source": [
    "Посмотрим оставшихся записи"
   ]
  },
  {
   "cell_type": "code",
   "execution_count": 122,
   "id": "54c071ee",
   "metadata": {
    "scrolled": true
   },
   "outputs": [
    {
     "data": {
      "text/html": [
       "<div>\n",
       "<style scoped>\n",
       "    .dataframe tbody tr th:only-of-type {\n",
       "        vertical-align: middle;\n",
       "    }\n",
       "\n",
       "    .dataframe tbody tr th {\n",
       "        vertical-align: top;\n",
       "    }\n",
       "\n",
       "    .dataframe thead th {\n",
       "        text-align: right;\n",
       "    }\n",
       "</style>\n",
       "<table border=\"1\" class=\"dataframe\">\n",
       "  <thead>\n",
       "    <tr style=\"text-align: right;\">\n",
       "      <th></th>\n",
       "      <th>name</th>\n",
       "      <th>platform</th>\n",
       "      <th>year_of_release</th>\n",
       "      <th>genre</th>\n",
       "      <th>na_sales</th>\n",
       "      <th>eu_sales</th>\n",
       "      <th>jp_sales</th>\n",
       "      <th>other_sales</th>\n",
       "      <th>critic_score</th>\n",
       "      <th>user_score</th>\n",
       "      <th>rating</th>\n",
       "    </tr>\n",
       "  </thead>\n",
       "  <tbody>\n",
       "    <tr>\n",
       "      <th>2021</th>\n",
       "      <td>Tiger Woods PGA Tour 08</td>\n",
       "      <td>Wii</td>\n",
       "      <td>NaN</td>\n",
       "      <td>Sports</td>\n",
       "      <td>0.93</td>\n",
       "      <td>0.01</td>\n",
       "      <td>0.00</td>\n",
       "      <td>0.08</td>\n",
       "      <td>72.00</td>\n",
       "      <td>7</td>\n",
       "      <td>E</td>\n",
       "    </tr>\n",
       "    <tr>\n",
       "      <th>2849</th>\n",
       "      <td>Madden NFL 11</td>\n",
       "      <td>Wii</td>\n",
       "      <td>NaN</td>\n",
       "      <td>Sports</td>\n",
       "      <td>0.68</td>\n",
       "      <td>0.00</td>\n",
       "      <td>0.00</td>\n",
       "      <td>0.04</td>\n",
       "      <td>75.00</td>\n",
       "      <td>5.4</td>\n",
       "      <td>E</td>\n",
       "    </tr>\n",
       "    <tr>\n",
       "      <th>1558</th>\n",
       "      <td>Hogan's Alley</td>\n",
       "      <td>NES</td>\n",
       "      <td>NaN</td>\n",
       "      <td>Shooter</td>\n",
       "      <td>0.68</td>\n",
       "      <td>0.16</td>\n",
       "      <td>0.41</td>\n",
       "      <td>0.02</td>\n",
       "      <td>NaN</td>\n",
       "      <td>NaN</td>\n",
       "      <td>NaN</td>\n",
       "    </tr>\n",
       "    <tr>\n",
       "      <th>3932</th>\n",
       "      <td>My Word Coach</td>\n",
       "      <td>Wii</td>\n",
       "      <td>NaN</td>\n",
       "      <td>Misc</td>\n",
       "      <td>0.46</td>\n",
       "      <td>0.01</td>\n",
       "      <td>0.00</td>\n",
       "      <td>0.04</td>\n",
       "      <td>68.00</td>\n",
       "      <td>tbd</td>\n",
       "      <td>E</td>\n",
       "    </tr>\n",
       "    <tr>\n",
       "      <th>3216</th>\n",
       "      <td>Transformers: Revenge of the Fallen (XBox 360,...</td>\n",
       "      <td>X360</td>\n",
       "      <td>NaN</td>\n",
       "      <td>Shooter</td>\n",
       "      <td>0.34</td>\n",
       "      <td>0.23</td>\n",
       "      <td>0.00</td>\n",
       "      <td>0.06</td>\n",
       "      <td>NaN</td>\n",
       "      <td>NaN</td>\n",
       "      <td>NaN</td>\n",
       "    </tr>\n",
       "    <tr>\n",
       "      <th>1635</th>\n",
       "      <td>Tales of Xillia</td>\n",
       "      <td>PS3</td>\n",
       "      <td>NaN</td>\n",
       "      <td>Role-Playing</td>\n",
       "      <td>0.29</td>\n",
       "      <td>0.18</td>\n",
       "      <td>0.67</td>\n",
       "      <td>0.09</td>\n",
       "      <td>78.00</td>\n",
       "      <td>8.2</td>\n",
       "      <td>T</td>\n",
       "    </tr>\n",
       "    <tr>\n",
       "      <th>4975</th>\n",
       "      <td>Shin Megami Tensei: Devil Survivor Overclocked</td>\n",
       "      <td>3DS</td>\n",
       "      <td>NaN</td>\n",
       "      <td>Role-Playing</td>\n",
       "      <td>0.28</td>\n",
       "      <td>0.01</td>\n",
       "      <td>0.06</td>\n",
       "      <td>0.03</td>\n",
       "      <td>78.00</td>\n",
       "      <td>8.2</td>\n",
       "      <td>T</td>\n",
       "    </tr>\n",
       "    <tr>\n",
       "      <th>4899</th>\n",
       "      <td>Transformers: Fall of Cybertron</td>\n",
       "      <td>PS3</td>\n",
       "      <td>NaN</td>\n",
       "      <td>Action</td>\n",
       "      <td>0.19</td>\n",
       "      <td>0.14</td>\n",
       "      <td>0.00</td>\n",
       "      <td>0.06</td>\n",
       "      <td>77.00</td>\n",
       "      <td>8.2</td>\n",
       "      <td>T</td>\n",
       "    </tr>\n",
       "    <tr>\n",
       "      <th>6997</th>\n",
       "      <td>Rocket Power: Beach Bandits</td>\n",
       "      <td>GC</td>\n",
       "      <td>NaN</td>\n",
       "      <td>Platform</td>\n",
       "      <td>0.18</td>\n",
       "      <td>0.05</td>\n",
       "      <td>0.00</td>\n",
       "      <td>0.01</td>\n",
       "      <td>53.00</td>\n",
       "      <td>tbd</td>\n",
       "      <td>E</td>\n",
       "    </tr>\n",
       "    <tr>\n",
       "      <th>3741</th>\n",
       "      <td>Time Crisis: Razing Storm</td>\n",
       "      <td>PS3</td>\n",
       "      <td>NaN</td>\n",
       "      <td>Shooter</td>\n",
       "      <td>0.18</td>\n",
       "      <td>0.20</td>\n",
       "      <td>0.07</td>\n",
       "      <td>0.08</td>\n",
       "      <td>58.00</td>\n",
       "      <td>5.9</td>\n",
       "      <td>T</td>\n",
       "    </tr>\n",
       "    <tr>\n",
       "      <th>4554</th>\n",
       "      <td>Juiced: Eliminator</td>\n",
       "      <td>PSP</td>\n",
       "      <td>NaN</td>\n",
       "      <td>Racing</td>\n",
       "      <td>0.11</td>\n",
       "      <td>0.20</td>\n",
       "      <td>0.00</td>\n",
       "      <td>0.12</td>\n",
       "      <td>65.00</td>\n",
       "      <td>8.2</td>\n",
       "      <td>T</td>\n",
       "    </tr>\n",
       "    <tr>\n",
       "      <th>9882</th>\n",
       "      <td>Disney's Extreme Skate Adventure</td>\n",
       "      <td>GC</td>\n",
       "      <td>NaN</td>\n",
       "      <td>Sports</td>\n",
       "      <td>0.09</td>\n",
       "      <td>0.02</td>\n",
       "      <td>0.00</td>\n",
       "      <td>0.00</td>\n",
       "      <td>76.00</td>\n",
       "      <td>7.6</td>\n",
       "      <td>E</td>\n",
       "    </tr>\n",
       "    <tr>\n",
       "      <th>10703</th>\n",
       "      <td>Big League Sports</td>\n",
       "      <td>Wii</td>\n",
       "      <td>NaN</td>\n",
       "      <td>Sports</td>\n",
       "      <td>0.09</td>\n",
       "      <td>0.01</td>\n",
       "      <td>0.00</td>\n",
       "      <td>0.01</td>\n",
       "      <td>NaN</td>\n",
       "      <td>1.4</td>\n",
       "      <td>E</td>\n",
       "    </tr>\n",
       "    <tr>\n",
       "      <th>8142</th>\n",
       "      <td>Cabela's Dangerous Hunts 2009</td>\n",
       "      <td>PS2</td>\n",
       "      <td>NaN</td>\n",
       "      <td>Sports</td>\n",
       "      <td>0.09</td>\n",
       "      <td>0.07</td>\n",
       "      <td>0.00</td>\n",
       "      <td>0.02</td>\n",
       "      <td>NaN</td>\n",
       "      <td>9.2</td>\n",
       "      <td>T</td>\n",
       "    </tr>\n",
       "    <tr>\n",
       "      <th>8401</th>\n",
       "      <td>RC Revenge Pro</td>\n",
       "      <td>PS2</td>\n",
       "      <td>NaN</td>\n",
       "      <td>Racing</td>\n",
       "      <td>0.08</td>\n",
       "      <td>0.06</td>\n",
       "      <td>0.00</td>\n",
       "      <td>0.02</td>\n",
       "      <td>49.00</td>\n",
       "      <td>7.6</td>\n",
       "      <td>E</td>\n",
       "    </tr>\n",
       "    <tr>\n",
       "      <th>11739</th>\n",
       "      <td>Elebits: The Adventures of Kai and Zero</td>\n",
       "      <td>DS</td>\n",
       "      <td>NaN</td>\n",
       "      <td>Adventure</td>\n",
       "      <td>0.07</td>\n",
       "      <td>0.00</td>\n",
       "      <td>0.00</td>\n",
       "      <td>0.01</td>\n",
       "      <td>75.00</td>\n",
       "      <td>8.3</td>\n",
       "      <td>E</td>\n",
       "    </tr>\n",
       "    <tr>\n",
       "      <th>12308</th>\n",
       "      <td>Cosmos Chaos!</td>\n",
       "      <td>DS</td>\n",
       "      <td>NaN</td>\n",
       "      <td>Misc</td>\n",
       "      <td>0.06</td>\n",
       "      <td>0.00</td>\n",
       "      <td>0.00</td>\n",
       "      <td>0.00</td>\n",
       "      <td>NaN</td>\n",
       "      <td>NaN</td>\n",
       "      <td>NaN</td>\n",
       "    </tr>\n",
       "    <tr>\n",
       "      <th>11092</th>\n",
       "      <td>Action Man-Operation Extreme</td>\n",
       "      <td>PS</td>\n",
       "      <td>NaN</td>\n",
       "      <td>Action</td>\n",
       "      <td>0.05</td>\n",
       "      <td>0.03</td>\n",
       "      <td>0.00</td>\n",
       "      <td>0.01</td>\n",
       "      <td>NaN</td>\n",
       "      <td>NaN</td>\n",
       "      <td>NaN</td>\n",
       "    </tr>\n",
       "    <tr>\n",
       "      <th>12576</th>\n",
       "      <td>Disney's Kim Possible: Global Gemini</td>\n",
       "      <td>DS</td>\n",
       "      <td>NaN</td>\n",
       "      <td>Platform</td>\n",
       "      <td>0.05</td>\n",
       "      <td>0.01</td>\n",
       "      <td>0.00</td>\n",
       "      <td>0.00</td>\n",
       "      <td>70.00</td>\n",
       "      <td>tbd</td>\n",
       "      <td>E</td>\n",
       "    </tr>\n",
       "    <tr>\n",
       "      <th>1165</th>\n",
       "      <td>Pro Evolution Soccer 2008</td>\n",
       "      <td>PS3</td>\n",
       "      <td>NaN</td>\n",
       "      <td>Sports</td>\n",
       "      <td>0.04</td>\n",
       "      <td>1.10</td>\n",
       "      <td>0.32</td>\n",
       "      <td>0.13</td>\n",
       "      <td>74.00</td>\n",
       "      <td>6.1</td>\n",
       "      <td>E</td>\n",
       "    </tr>\n",
       "  </tbody>\n",
       "</table>\n",
       "</div>"
      ],
      "text/plain": [
       "                                                    name platform  \\\n",
       "2021                             Tiger Woods PGA Tour 08      Wii   \n",
       "2849                                       Madden NFL 11      Wii   \n",
       "1558                                       Hogan's Alley      NES   \n",
       "3932                                       My Word Coach      Wii   \n",
       "3216   Transformers: Revenge of the Fallen (XBox 360,...     X360   \n",
       "1635                                     Tales of Xillia      PS3   \n",
       "4975      Shin Megami Tensei: Devil Survivor Overclocked      3DS   \n",
       "4899                     Transformers: Fall of Cybertron      PS3   \n",
       "6997                         Rocket Power: Beach Bandits       GC   \n",
       "3741                           Time Crisis: Razing Storm      PS3   \n",
       "4554                                  Juiced: Eliminator      PSP   \n",
       "9882                    Disney's Extreme Skate Adventure       GC   \n",
       "10703                                  Big League Sports      Wii   \n",
       "8142                       Cabela's Dangerous Hunts 2009      PS2   \n",
       "8401                                      RC Revenge Pro      PS2   \n",
       "11739            Elebits: The Adventures of Kai and Zero       DS   \n",
       "12308                                      Cosmos Chaos!       DS   \n",
       "11092                       Action Man-Operation Extreme       PS   \n",
       "12576               Disney's Kim Possible: Global Gemini       DS   \n",
       "1165                           Pro Evolution Soccer 2008      PS3   \n",
       "\n",
       "       year_of_release         genre  na_sales  eu_sales  jp_sales  \\\n",
       "2021               NaN        Sports      0.93      0.01      0.00   \n",
       "2849               NaN        Sports      0.68      0.00      0.00   \n",
       "1558               NaN       Shooter      0.68      0.16      0.41   \n",
       "3932               NaN          Misc      0.46      0.01      0.00   \n",
       "3216               NaN       Shooter      0.34      0.23      0.00   \n",
       "1635               NaN  Role-Playing      0.29      0.18      0.67   \n",
       "4975               NaN  Role-Playing      0.28      0.01      0.06   \n",
       "4899               NaN        Action      0.19      0.14      0.00   \n",
       "6997               NaN      Platform      0.18      0.05      0.00   \n",
       "3741               NaN       Shooter      0.18      0.20      0.07   \n",
       "4554               NaN        Racing      0.11      0.20      0.00   \n",
       "9882               NaN        Sports      0.09      0.02      0.00   \n",
       "10703              NaN        Sports      0.09      0.01      0.00   \n",
       "8142               NaN        Sports      0.09      0.07      0.00   \n",
       "8401               NaN        Racing      0.08      0.06      0.00   \n",
       "11739              NaN     Adventure      0.07      0.00      0.00   \n",
       "12308              NaN          Misc      0.06      0.00      0.00   \n",
       "11092              NaN        Action      0.05      0.03      0.00   \n",
       "12576              NaN      Platform      0.05      0.01      0.00   \n",
       "1165               NaN        Sports      0.04      1.10      0.32   \n",
       "\n",
       "       other_sales  critic_score user_score rating  \n",
       "2021          0.08         72.00          7      E  \n",
       "2849          0.04         75.00        5.4      E  \n",
       "1558          0.02           NaN        NaN    NaN  \n",
       "3932          0.04         68.00        tbd      E  \n",
       "3216          0.06           NaN        NaN    NaN  \n",
       "1635          0.09         78.00        8.2      T  \n",
       "4975          0.03         78.00        8.2      T  \n",
       "4899          0.06         77.00        8.2      T  \n",
       "6997          0.01         53.00        tbd      E  \n",
       "3741          0.08         58.00        5.9      T  \n",
       "4554          0.12         65.00        8.2      T  \n",
       "9882          0.00         76.00        7.6      E  \n",
       "10703         0.01           NaN        1.4      E  \n",
       "8142          0.02           NaN        9.2      T  \n",
       "8401          0.02         49.00        7.6      E  \n",
       "11739         0.01         75.00        8.3      E  \n",
       "12308         0.00           NaN        NaN    NaN  \n",
       "11092         0.01           NaN        NaN    NaN  \n",
       "12576         0.00         70.00        tbd      E  \n",
       "1165          0.13         74.00        6.1      E  "
      ]
     },
     "execution_count": 122,
     "metadata": {},
     "output_type": "execute_result"
    }
   ],
   "source": [
    "df1[df1.year_of_release.isna()].sort_values(by='na_sales', ascending=False).head(20)"
   ]
  },
  {
   "cell_type": "markdown",
   "id": "3dda76aa",
   "metadata": {},
   "source": [
    "Суммы продаж небольшие, записей немного оставшиеся строки с пропущенным годом удалим."
   ]
  },
  {
   "cell_type": "code",
   "execution_count": 123,
   "id": "c5e0a104",
   "metadata": {},
   "outputs": [
    {
     "name": "stdout",
     "output_type": "stream",
     "text": [
      "Число пропусков в 'df1.year_of_release' после удаления: 0\n"
     ]
    }
   ],
   "source": [
    "df1.dropna(subset=['year_of_release'], inplace=True) \n",
    "print(\"Число пропусков в 'df1.year_of_release' после удаления:\", df1[df1['year_of_release'].isna()]['name'].count())"
   ]
  },
  {
   "cell_type": "markdown",
   "id": "ddd45e69",
   "metadata": {},
   "source": [
    "Пропуски удалили. Теперь пеще осмотрим как выглядят продажи для 3DS:"
   ]
  },
  {
   "cell_type": "code",
   "execution_count": 124,
   "id": "000fbcdb",
   "metadata": {},
   "outputs": [
    {
     "data": {
      "text/html": [
       "<div>\n",
       "<style scoped>\n",
       "    .dataframe tbody tr th:only-of-type {\n",
       "        vertical-align: middle;\n",
       "    }\n",
       "\n",
       "    .dataframe tbody tr th {\n",
       "        vertical-align: top;\n",
       "    }\n",
       "\n",
       "    .dataframe thead th {\n",
       "        text-align: right;\n",
       "    }\n",
       "</style>\n",
       "<table border=\"1\" class=\"dataframe\">\n",
       "  <thead>\n",
       "    <tr style=\"text-align: right;\">\n",
       "      <th></th>\n",
       "      <th>jp_sales</th>\n",
       "      <th>eu_sales</th>\n",
       "      <th>na_sales</th>\n",
       "    </tr>\n",
       "    <tr>\n",
       "      <th>year_of_release</th>\n",
       "      <th></th>\n",
       "      <th></th>\n",
       "      <th></th>\n",
       "    </tr>\n",
       "  </thead>\n",
       "  <tbody>\n",
       "    <tr>\n",
       "      <th>1_980.00</th>\n",
       "      <td>0.00</td>\n",
       "      <td>0.16</td>\n",
       "      <td>0.24</td>\n",
       "    </tr>\n",
       "    <tr>\n",
       "      <th>1_981.00</th>\n",
       "      <td>0.10</td>\n",
       "      <td>0.04</td>\n",
       "      <td>0.16</td>\n",
       "    </tr>\n",
       "    <tr>\n",
       "      <th>1_983.00</th>\n",
       "      <td>0.11</td>\n",
       "      <td>0.13</td>\n",
       "      <td>0.17</td>\n",
       "    </tr>\n",
       "    <tr>\n",
       "      <th>1_984.00</th>\n",
       "      <td>0.34</td>\n",
       "      <td>0.07</td>\n",
       "      <td>0.06</td>\n",
       "    </tr>\n",
       "    <tr>\n",
       "      <th>1_988.00</th>\n",
       "      <td>4.35</td>\n",
       "      <td>4.19</td>\n",
       "      <td>5.28</td>\n",
       "    </tr>\n",
       "    <tr>\n",
       "      <th>1_990.00</th>\n",
       "      <td>0.00</td>\n",
       "      <td>0.03</td>\n",
       "      <td>0.00</td>\n",
       "    </tr>\n",
       "    <tr>\n",
       "      <th>1_992.00</th>\n",
       "      <td>2.43</td>\n",
       "      <td>1.37</td>\n",
       "      <td>3.27</td>\n",
       "    </tr>\n",
       "    <tr>\n",
       "      <th>1_993.00</th>\n",
       "      <td>0.96</td>\n",
       "      <td>0.00</td>\n",
       "      <td>0.00</td>\n",
       "    </tr>\n",
       "    <tr>\n",
       "      <th>1_994.00</th>\n",
       "      <td>0.15</td>\n",
       "      <td>0.02</td>\n",
       "      <td>0.07</td>\n",
       "    </tr>\n",
       "    <tr>\n",
       "      <th>1_995.00</th>\n",
       "      <td>2.32</td>\n",
       "      <td>0.13</td>\n",
       "      <td>0.13</td>\n",
       "    </tr>\n",
       "    <tr>\n",
       "      <th>1_996.00</th>\n",
       "      <td>2.89</td>\n",
       "      <td>0.18</td>\n",
       "      <td>0.22</td>\n",
       "    </tr>\n",
       "    <tr>\n",
       "      <th>1_997.00</th>\n",
       "      <td>0.50</td>\n",
       "      <td>0.36</td>\n",
       "      <td>0.42</td>\n",
       "    </tr>\n",
       "    <tr>\n",
       "      <th>1_998.00</th>\n",
       "      <td>2.06</td>\n",
       "      <td>2.05</td>\n",
       "      <td>2.64</td>\n",
       "    </tr>\n",
       "    <tr>\n",
       "      <th>1_999.00</th>\n",
       "      <td>3.73</td>\n",
       "      <td>0.31</td>\n",
       "      <td>0.20</td>\n",
       "    </tr>\n",
       "    <tr>\n",
       "      <th>2_000.00</th>\n",
       "      <td>1.06</td>\n",
       "      <td>0.76</td>\n",
       "      <td>0.20</td>\n",
       "    </tr>\n",
       "    <tr>\n",
       "      <th>2_001.00</th>\n",
       "      <td>1.54</td>\n",
       "      <td>2.81</td>\n",
       "      <td>2.76</td>\n",
       "    </tr>\n",
       "    <tr>\n",
       "      <th>2_002.00</th>\n",
       "      <td>5.34</td>\n",
       "      <td>5.48</td>\n",
       "      <td>8.41</td>\n",
       "    </tr>\n",
       "    <tr>\n",
       "      <th>2_003.00</th>\n",
       "      <td>0.81</td>\n",
       "      <td>0.22</td>\n",
       "      <td>0.40</td>\n",
       "    </tr>\n",
       "    <tr>\n",
       "      <th>2_004.00</th>\n",
       "      <td>1.43</td>\n",
       "      <td>0.76</td>\n",
       "      <td>2.29</td>\n",
       "    </tr>\n",
       "    <tr>\n",
       "      <th>2_005.00</th>\n",
       "      <td>3.46</td>\n",
       "      <td>2.01</td>\n",
       "      <td>2.32</td>\n",
       "    </tr>\n",
       "    <tr>\n",
       "      <th>2_006.00</th>\n",
       "      <td>2.00</td>\n",
       "      <td>0.94</td>\n",
       "      <td>1.30</td>\n",
       "    </tr>\n",
       "    <tr>\n",
       "      <th>2_007.00</th>\n",
       "      <td>5.53</td>\n",
       "      <td>3.35</td>\n",
       "      <td>5.09</td>\n",
       "    </tr>\n",
       "    <tr>\n",
       "      <th>2_008.00</th>\n",
       "      <td>8.07</td>\n",
       "      <td>3.71</td>\n",
       "      <td>5.96</td>\n",
       "    </tr>\n",
       "    <tr>\n",
       "      <th>2_009.00</th>\n",
       "      <td>5.59</td>\n",
       "      <td>2.67</td>\n",
       "      <td>3.11</td>\n",
       "    </tr>\n",
       "    <tr>\n",
       "      <th>2_010.00</th>\n",
       "      <td>7.88</td>\n",
       "      <td>5.28</td>\n",
       "      <td>6.79</td>\n",
       "    </tr>\n",
       "    <tr>\n",
       "      <th>2_011.00</th>\n",
       "      <td>11.25</td>\n",
       "      <td>7.48</td>\n",
       "      <td>9.45</td>\n",
       "    </tr>\n",
       "    <tr>\n",
       "      <th>2_012.00</th>\n",
       "      <td>5.43</td>\n",
       "      <td>5.06</td>\n",
       "      <td>6.99</td>\n",
       "    </tr>\n",
       "    <tr>\n",
       "      <th>2_013.00</th>\n",
       "      <td>8.49</td>\n",
       "      <td>1.57</td>\n",
       "      <td>2.82</td>\n",
       "    </tr>\n",
       "    <tr>\n",
       "      <th>2_014.00</th>\n",
       "      <td>2.72</td>\n",
       "      <td>2.55</td>\n",
       "      <td>3.55</td>\n",
       "    </tr>\n",
       "    <tr>\n",
       "      <th>2_015.00</th>\n",
       "      <td>6.74</td>\n",
       "      <td>7.51</td>\n",
       "      <td>8.62</td>\n",
       "    </tr>\n",
       "    <tr>\n",
       "      <th>2_016.00</th>\n",
       "      <td>3.13</td>\n",
       "      <td>0.27</td>\n",
       "      <td>0.29</td>\n",
       "    </tr>\n",
       "  </tbody>\n",
       "</table>\n",
       "</div>"
      ],
      "text/plain": [
       "                 jp_sales  eu_sales  na_sales\n",
       "year_of_release                              \n",
       "1_980.00             0.00      0.16      0.24\n",
       "1_981.00             0.10      0.04      0.16\n",
       "1_983.00             0.11      0.13      0.17\n",
       "1_984.00             0.34      0.07      0.06\n",
       "1_988.00             4.35      4.19      5.28\n",
       "1_990.00             0.00      0.03      0.00\n",
       "1_992.00             2.43      1.37      3.27\n",
       "1_993.00             0.96      0.00      0.00\n",
       "1_994.00             0.15      0.02      0.07\n",
       "1_995.00             2.32      0.13      0.13\n",
       "1_996.00             2.89      0.18      0.22\n",
       "1_997.00             0.50      0.36      0.42\n",
       "1_998.00             2.06      2.05      2.64\n",
       "1_999.00             3.73      0.31      0.20\n",
       "2_000.00             1.06      0.76      0.20\n",
       "2_001.00             1.54      2.81      2.76\n",
       "2_002.00             5.34      5.48      8.41\n",
       "2_003.00             0.81      0.22      0.40\n",
       "2_004.00             1.43      0.76      2.29\n",
       "2_005.00             3.46      2.01      2.32\n",
       "2_006.00             2.00      0.94      1.30\n",
       "2_007.00             5.53      3.35      5.09\n",
       "2_008.00             8.07      3.71      5.96\n",
       "2_009.00             5.59      2.67      3.11\n",
       "2_010.00             7.88      5.28      6.79\n",
       "2_011.00            11.25      7.48      9.45\n",
       "2_012.00             5.43      5.06      6.99\n",
       "2_013.00             8.49      1.57      2.82\n",
       "2_014.00             2.72      2.55      3.55\n",
       "2_015.00             6.74      7.51      8.62\n",
       "2_016.00             3.13      0.27      0.29"
      ]
     },
     "execution_count": 124,
     "metadata": {},
     "output_type": "execute_result"
    }
   ],
   "source": [
    "df1.loc[df1['platform']=='3DS', ['platform','year_of_release','jp_sales','eu_sales','na_sales']].groupby('year_of_release').sum()"
   ]
  },
  {
   "cell_type": "markdown",
   "id": "3620e8bb",
   "metadata": {},
   "source": [
    "Видим, что появились данные за годы, когда 3DS еще не был выпущен. Таким образом мы убедились, что не корректно заменять отсутствующий год для игры на тот год, который указан для этой игры на другой платформе.  \n",
    "Со слов преподавателя: Поскольку записей пропущенного года немного их следует просто удалить. "
   ]
  },
  {
   "cell_type": "code",
   "execution_count": 125,
   "id": "7d128d3b",
   "metadata": {},
   "outputs": [
    {
     "name": "stdout",
     "output_type": "stream",
     "text": [
      "Число пропусков в 'df_games_prep.year_of_release' после удаления: 0\n"
     ]
    }
   ],
   "source": [
    "#Поскольку не все ОК, вернем данные обратно в рабочий датафрейм.\n",
    "df_games_prep.dropna(subset=['year_of_release'], inplace=True) \n",
    "print(\"Число пропусков в 'df_games_prep.year_of_release' после удаления:\", df_games_prep[df_games_prep['year_of_release'].isna()]['name'].count())"
   ]
  },
  {
   "cell_type": "markdown",
   "id": "94cc5d63",
   "metadata": {},
   "source": [
    "##### `user_score`\n",
    "\n",
    "При знакомтсве с данныим мы обратили внимание, что поле `user_score` по сути своей числовое, но тип object. Это стрнано.\n",
    "Исследуем подбронее, вероятно есть пропуски в числах."
   ]
  },
  {
   "cell_type": "code",
   "execution_count": 126,
   "id": "db5a26a2",
   "metadata": {},
   "outputs": [
    {
     "data": {
      "text/plain": [
       "array(['8', nan, '8.3', '8.5', '6.6', '8.4', '8.6', '7.7', '6.3', '7.4',\n",
       "       '8.2', '9', '7.9', '8.1', '8.7', '7.1', '3.4', '5.3', '4.8', '3.2',\n",
       "       '8.9', '6.4', '7.8', '7.5', '2.6', '7.2', '9.2', '7', '7.3', '4.3',\n",
       "       '7.6', '5.7', '5', '9.1', '6.5', 'tbd', '8.8', '6.9', '9.4', '6.8',\n",
       "       '6.1', '6.7', '5.4', '4', '4.9', '4.5', '9.3', '6.2', '4.2', '6',\n",
       "       '3.7', '4.1', '5.8', '5.6', '5.5', '4.4', '4.6', '5.9', '3.9',\n",
       "       '3.1', '2.9', '5.2', '3.3', '4.7', '5.1', '3.5', '2.5', '1.9', '3',\n",
       "       '2.7', '2.2', '2', '9.5', '2.1', '3.6', '2.8', '1.8', '3.8', '0',\n",
       "       '1.6', '9.6', '2.4', '1.7', '1.1', '0.3', '1.5', '0.7', '1.2',\n",
       "       '2.3', '0.5', '1.3', '0.2', '0.6', '1.4', '0.9', '1', '9.7'],\n",
       "      dtype=object)"
      ]
     },
     "execution_count": 126,
     "metadata": {},
     "output_type": "execute_result"
    }
   ],
   "source": [
    "# Посмотрим значения\n",
    "df_games_prep['user_score'].unique()"
   ]
  },
  {
   "cell_type": "markdown",
   "id": "bd39d92b",
   "metadata": {},
   "source": [
    "Видим, что помимо чисел и Nan есть 'tbd', то есть 'to be determined'. Значение еще не определено. Для нас это равносильно Nan.На Nan и заменим.\n"
   ]
  },
  {
   "cell_type": "code",
   "execution_count": 127,
   "id": "da31a10d",
   "metadata": {
    "scrolled": true
   },
   "outputs": [
    {
     "data": {
      "text/plain": [
       "array(['8', nan, '8.3', '8.5', '6.6', '8.4', '8.6', '7.7', '6.3', '7.4',\n",
       "       '8.2', '9', '7.9', '8.1', '8.7', '7.1', '3.4', '5.3', '4.8', '3.2',\n",
       "       '8.9', '6.4', '7.8', '7.5', '2.6', '7.2', '9.2', '7', '7.3', '4.3',\n",
       "       '7.6', '5.7', '5', '9.1', '6.5', '8.8', '6.9', '9.4', '6.8', '6.1',\n",
       "       '6.7', '5.4', '4', '4.9', '4.5', '9.3', '6.2', '4.2', '6', '3.7',\n",
       "       '4.1', '5.8', '5.6', '5.5', '4.4', '4.6', '5.9', '3.9', '3.1',\n",
       "       '2.9', '5.2', '3.3', '4.7', '5.1', '3.5', '2.5', '1.9', '3', '2.7',\n",
       "       '2.2', '2', '9.5', '2.1', '3.6', '2.8', '1.8', '3.8', '0', '1.6',\n",
       "       '9.6', '2.4', '1.7', '1.1', '0.3', '1.5', '0.7', '1.2', '2.3',\n",
       "       '0.5', '1.3', '0.2', '0.6', '1.4', '0.9', '1', '9.7'], dtype=object)"
      ]
     },
     "execution_count": 127,
     "metadata": {},
     "output_type": "execute_result"
    }
   ],
   "source": [
    "# Заменим  tbd на Nan\n",
    "df_games_prep.loc[df_games_prep['user_score'] == 'tbd', 'user_score'] = np.NaN\n",
    "# Проверим\n",
    "df_games_prep['user_score'].unique()"
   ]
  },
  {
   "cell_type": "markdown",
   "id": "6ddb89bf",
   "metadata": {},
   "source": [
    "Все ОК замену сделали."
   ]
  },
  {
   "cell_type": "markdown",
   "id": "690f59e9",
   "metadata": {},
   "source": [
    "##### `rating`"
   ]
  },
  {
   "cell_type": "markdown",
   "id": "af5884d9",
   "metadata": {},
   "source": [
    "В ходе ревью поступило замечание, что пропуски в рейтингах тоже следует заполнить. Заполним."
   ]
  },
  {
   "cell_type": "code",
   "execution_count": 128,
   "id": "d6e759ef",
   "metadata": {},
   "outputs": [
    {
     "name": "stdout",
     "output_type": "stream",
     "text": [
      "Число пропусков в 'df1.rating' до замены: 6677\n",
      "Число пропусков в 'df1.rating' после замены: 2254\n"
     ]
    }
   ],
   "source": [
    "#Создадим копию для работы\n",
    "df1 = df_games_prep.copy()\n",
    "print(\"Число пропусков в 'df1.rating' до замены:\", df1[df1['rating'].isna()]['name'].count())\n",
    "\n",
    "#Соберем вместе игры для которых рейтинг указан.\n",
    "df1_b = df1.loc[df1['rating'].isna()==False, ['name', 'rating']] \n",
    "\n",
    "#Пристегнем известные значения к неизвестным. how=left, чтобы не потерять строки для которых рейтинг не знаем ни в каких строках\n",
    "df2 = df1.merge(df1_b, on=['name'], how='left')\n",
    "#df_2.loc[df2['year_of_release_y'].isna(), 'year_of_release_y'] = ''\n",
    "\n",
    "#Обновляем пропущенные значения на известные\n",
    "df2.loc[df2['rating_x'].isna(), 'rating_x'] = df2.loc[df2['rating_x'].isna(), 'rating_y']\n",
    "\n",
    "df1['rating'] = df2['rating_x']\n",
    "df1\n",
    "print(\"Число пропусков в 'df1.rating' после замены:\", df1[df1['rating'].isna()]['name'].count())\n",
    "\n",
    "#Сохранаем в рабочий датасет\n",
    "df_games_prep = df1.copy()"
   ]
  },
  {
   "cell_type": "markdown",
   "id": "c32bf947",
   "metadata": {},
   "source": [
    "Данные обогатили. При этом важно понимать:  \n",
    "\n",
    "- на разных платформах у одной и той же игры может быть разный рейтинг (противоположное нам не сообщали).\n",
    "- игры с одним и тем же названием, вышедшие в разные годы потенциально могут иметь разный рейтинг. \n",
    "- при замене пропусков не учитывался вариант, что для одной и той же игры могут быть известны два разных рейтинга. В этом случае потребовалось бы принимать решение каким из изветных рейтингов игры заполнить пропуск."
   ]
  },
  {
   "cell_type": "markdown",
   "id": "1b7afb5d",
   "metadata": {},
   "source": [
    "<div style=\"border:solid green 2px; padding: 20px; border-radius: 15px;\">  \n",
    "\n",
    "**Резюме** определение и изучение пропущенных значений </br>\n",
    "Выявленные пропуски устранены, либо принято решение не устранять.\n",
    "\n",
    "</div>"
   ]
  },
  {
   "cell_type": "markdown",
   "id": "6e3e55dd",
   "metadata": {},
   "source": [
    "\n",
    "### Приведем данные к нужным типам:\n",
    "Выше мы уже приняли решение какого типа должны быть данные.\n",
    "Осталось выполнить приведение типов и разобраться с ошибками приведения, если они возникнут."
   ]
  },
  {
   "cell_type": "code",
   "execution_count": 129,
   "id": "cb51024c",
   "metadata": {},
   "outputs": [
    {
     "name": "stdout",
     "output_type": "stream",
     "text": [
      "Таблица `games` приведение типов\n",
      "✅ Тип данных для поля: `year_of_release` изменен успешно. float64 ➡ int16\n",
      "✅ Тип данных для поля: `user_score` изменен успешно. object ➡ float64\n"
     ]
    }
   ],
   "source": [
    "print('Таблица `games` приведение типов')\n",
    "data_type_conversion(df_games_prep, dic_data_types_games)\n"
   ]
  },
  {
   "cell_type": "markdown",
   "id": "b42fbe32",
   "metadata": {},
   "source": [
    "Ошибок при смене типов данных нет. Ура."
   ]
  },
  {
   "cell_type": "markdown",
   "id": "561c3259",
   "metadata": {},
   "source": [
    "<div style=\"border:solid green 2px; padding: 20px; border-radius: 15px;\">  \n",
    "\n",
    "**Резюмируем информацию** по приведению типов данных:   </br></br>\n",
    "Приведение типов данных выполнено.\n",
    "\n",
    "</div>"
   ]
  },
  {
   "cell_type": "markdown",
   "id": "8419bce1",
   "metadata": {},
   "source": [
    "## Шаг 3. Подготовка структуры данных"
   ]
  },
  {
   "cell_type": "markdown",
   "id": "77751c3e",
   "metadata": {},
   "source": [
    "Мы писали выше, что для проведения работы нам необходимо подготовить структуру данных. А именно: Добавить поле с суммарными продажами."
   ]
  },
  {
   "cell_type": "markdown",
   "id": "5b0fa6cf",
   "metadata": {},
   "source": [
    "### Подготовка `games`\n",
    "Создадим таблицу и добавим в нее необходимые данные пользователей для исследования."
   ]
  },
  {
   "cell_type": "code",
   "execution_count": 130,
   "id": "2c38e08b",
   "metadata": {},
   "outputs": [
    {
     "data": {
      "text/html": [
       "<div>\n",
       "<style scoped>\n",
       "    .dataframe tbody tr th:only-of-type {\n",
       "        vertical-align: middle;\n",
       "    }\n",
       "\n",
       "    .dataframe tbody tr th {\n",
       "        vertical-align: top;\n",
       "    }\n",
       "\n",
       "    .dataframe thead th {\n",
       "        text-align: right;\n",
       "    }\n",
       "</style>\n",
       "<table border=\"1\" class=\"dataframe\">\n",
       "  <thead>\n",
       "    <tr style=\"text-align: right;\">\n",
       "      <th></th>\n",
       "      <th>name</th>\n",
       "      <th>platform</th>\n",
       "      <th>year_of_release</th>\n",
       "      <th>genre</th>\n",
       "      <th>na_sales</th>\n",
       "      <th>eu_sales</th>\n",
       "      <th>jp_sales</th>\n",
       "      <th>other_sales</th>\n",
       "      <th>critic_score</th>\n",
       "      <th>user_score</th>\n",
       "      <th>rating</th>\n",
       "      <th>total_sales</th>\n",
       "    </tr>\n",
       "  </thead>\n",
       "  <tbody>\n",
       "    <tr>\n",
       "      <th>0</th>\n",
       "      <td>Wii Sports</td>\n",
       "      <td>Wii</td>\n",
       "      <td>2006</td>\n",
       "      <td>Sports</td>\n",
       "      <td>41.36</td>\n",
       "      <td>28.96</td>\n",
       "      <td>3.77</td>\n",
       "      <td>8.45</td>\n",
       "      <td>76.00</td>\n",
       "      <td>8.00</td>\n",
       "      <td>E</td>\n",
       "      <td>82.54</td>\n",
       "    </tr>\n",
       "    <tr>\n",
       "      <th>1</th>\n",
       "      <td>Super Mario Bros.</td>\n",
       "      <td>NES</td>\n",
       "      <td>1985</td>\n",
       "      <td>Platform</td>\n",
       "      <td>29.08</td>\n",
       "      <td>3.58</td>\n",
       "      <td>6.81</td>\n",
       "      <td>0.77</td>\n",
       "      <td>NaN</td>\n",
       "      <td>NaN</td>\n",
       "      <td>NaN</td>\n",
       "      <td>40.24</td>\n",
       "    </tr>\n",
       "    <tr>\n",
       "      <th>2</th>\n",
       "      <td>Mario Kart Wii</td>\n",
       "      <td>Wii</td>\n",
       "      <td>2008</td>\n",
       "      <td>Racing</td>\n",
       "      <td>15.68</td>\n",
       "      <td>12.76</td>\n",
       "      <td>3.79</td>\n",
       "      <td>3.29</td>\n",
       "      <td>82.00</td>\n",
       "      <td>8.30</td>\n",
       "      <td>E</td>\n",
       "      <td>35.52</td>\n",
       "    </tr>\n",
       "    <tr>\n",
       "      <th>3</th>\n",
       "      <td>Wii Sports Resort</td>\n",
       "      <td>Wii</td>\n",
       "      <td>2009</td>\n",
       "      <td>Sports</td>\n",
       "      <td>15.61</td>\n",
       "      <td>10.93</td>\n",
       "      <td>3.28</td>\n",
       "      <td>2.95</td>\n",
       "      <td>80.00</td>\n",
       "      <td>8.00</td>\n",
       "      <td>E</td>\n",
       "      <td>32.77</td>\n",
       "    </tr>\n",
       "  </tbody>\n",
       "</table>\n",
       "</div>"
      ],
      "text/plain": [
       "                name platform  year_of_release     genre  na_sales  eu_sales  \\\n",
       "0         Wii Sports      Wii             2006    Sports     41.36     28.96   \n",
       "1  Super Mario Bros.      NES             1985  Platform     29.08      3.58   \n",
       "2     Mario Kart Wii      Wii             2008    Racing     15.68     12.76   \n",
       "3  Wii Sports Resort      Wii             2009    Sports     15.61     10.93   \n",
       "\n",
       "   jp_sales  other_sales  critic_score  user_score rating  total_sales  \n",
       "0      3.77         8.45         76.00        8.00      E        82.54  \n",
       "1      6.81         0.77           NaN         NaN    NaN        40.24  \n",
       "2      3.79         3.29         82.00        8.30      E        35.52  \n",
       "3      3.28         2.95         80.00        8.00      E        32.77  "
      ]
     },
     "execution_count": 130,
     "metadata": {},
     "output_type": "execute_result"
    }
   ],
   "source": [
    "df_games_prep.loc[:,'total_sales'] = (df_games_prep['na_sales']\n",
    "                                       + df_games_prep['eu_sales']\n",
    "                                       + df_games_prep['jp_sales']\n",
    "                                       + df_games_prep['other_sales']\n",
    "                                      )\n",
    "# Посмотрим результат\n",
    "df_games_prep.head(4)"
   ]
  },
  {
   "cell_type": "markdown",
   "id": "3d237ea6",
   "metadata": {},
   "source": [
    "### Выбросы\n",
    "\n",
    "**Выбросы в продажах**  \n",
    "Мы добавили в таблицу новое поле. Проверим его на адекватность."
   ]
  },
  {
   "cell_type": "code",
   "execution_count": 131,
   "id": "da7566db",
   "metadata": {},
   "outputs": [
    {
     "data": {
      "text/html": [
       "<div>\n",
       "<style scoped>\n",
       "    .dataframe tbody tr th:only-of-type {\n",
       "        vertical-align: middle;\n",
       "    }\n",
       "\n",
       "    .dataframe tbody tr th {\n",
       "        vertical-align: top;\n",
       "    }\n",
       "\n",
       "    .dataframe thead tr th {\n",
       "        text-align: left;\n",
       "    }\n",
       "\n",
       "    .dataframe thead tr:last-of-type th {\n",
       "        text-align: right;\n",
       "    }\n",
       "</style>\n",
       "<table border=\"1\" class=\"dataframe\">\n",
       "  <thead>\n",
       "    <tr>\n",
       "      <th></th>\n",
       "      <th colspan=\"21\" halign=\"left\">total_sales</th>\n",
       "    </tr>\n",
       "    <tr>\n",
       "      <th>platform</th>\n",
       "      <th>2600</th>\n",
       "      <th>3DO</th>\n",
       "      <th>3DS</th>\n",
       "      <th>DC</th>\n",
       "      <th>DS</th>\n",
       "      <th>GB</th>\n",
       "      <th>GBA</th>\n",
       "      <th>GC</th>\n",
       "      <th>GEN</th>\n",
       "      <th>GG</th>\n",
       "      <th>...</th>\n",
       "      <th>SAT</th>\n",
       "      <th>SCD</th>\n",
       "      <th>SNES</th>\n",
       "      <th>TG16</th>\n",
       "      <th>WS</th>\n",
       "      <th>Wii</th>\n",
       "      <th>WiiU</th>\n",
       "      <th>X360</th>\n",
       "      <th>XB</th>\n",
       "      <th>XOne</th>\n",
       "    </tr>\n",
       "    <tr>\n",
       "      <th>year_of_release</th>\n",
       "      <th></th>\n",
       "      <th></th>\n",
       "      <th></th>\n",
       "      <th></th>\n",
       "      <th></th>\n",
       "      <th></th>\n",
       "      <th></th>\n",
       "      <th></th>\n",
       "      <th></th>\n",
       "      <th></th>\n",
       "      <th></th>\n",
       "      <th></th>\n",
       "      <th></th>\n",
       "      <th></th>\n",
       "      <th></th>\n",
       "      <th></th>\n",
       "      <th></th>\n",
       "      <th></th>\n",
       "      <th></th>\n",
       "      <th></th>\n",
       "      <th></th>\n",
       "    </tr>\n",
       "  </thead>\n",
       "  <tbody>\n",
       "    <tr>\n",
       "      <th>1980</th>\n",
       "      <td>11.38</td>\n",
       "      <td>NaN</td>\n",
       "      <td>NaN</td>\n",
       "      <td>NaN</td>\n",
       "      <td>NaN</td>\n",
       "      <td>NaN</td>\n",
       "      <td>NaN</td>\n",
       "      <td>NaN</td>\n",
       "      <td>NaN</td>\n",
       "      <td>NaN</td>\n",
       "      <td>...</td>\n",
       "      <td>NaN</td>\n",
       "      <td>NaN</td>\n",
       "      <td>NaN</td>\n",
       "      <td>NaN</td>\n",
       "      <td>NaN</td>\n",
       "      <td>NaN</td>\n",
       "      <td>NaN</td>\n",
       "      <td>NaN</td>\n",
       "      <td>NaN</td>\n",
       "      <td>NaN</td>\n",
       "    </tr>\n",
       "    <tr>\n",
       "      <th>1981</th>\n",
       "      <td>35.68</td>\n",
       "      <td>NaN</td>\n",
       "      <td>NaN</td>\n",
       "      <td>NaN</td>\n",
       "      <td>NaN</td>\n",
       "      <td>NaN</td>\n",
       "      <td>NaN</td>\n",
       "      <td>NaN</td>\n",
       "      <td>NaN</td>\n",
       "      <td>NaN</td>\n",
       "      <td>...</td>\n",
       "      <td>NaN</td>\n",
       "      <td>NaN</td>\n",
       "      <td>NaN</td>\n",
       "      <td>NaN</td>\n",
       "      <td>NaN</td>\n",
       "      <td>NaN</td>\n",
       "      <td>NaN</td>\n",
       "      <td>NaN</td>\n",
       "      <td>NaN</td>\n",
       "      <td>NaN</td>\n",
       "    </tr>\n",
       "    <tr>\n",
       "      <th>1982</th>\n",
       "      <td>28.88</td>\n",
       "      <td>NaN</td>\n",
       "      <td>NaN</td>\n",
       "      <td>NaN</td>\n",
       "      <td>NaN</td>\n",
       "      <td>NaN</td>\n",
       "      <td>NaN</td>\n",
       "      <td>NaN</td>\n",
       "      <td>NaN</td>\n",
       "      <td>NaN</td>\n",
       "      <td>...</td>\n",
       "      <td>NaN</td>\n",
       "      <td>NaN</td>\n",
       "      <td>NaN</td>\n",
       "      <td>NaN</td>\n",
       "      <td>NaN</td>\n",
       "      <td>NaN</td>\n",
       "      <td>NaN</td>\n",
       "      <td>NaN</td>\n",
       "      <td>NaN</td>\n",
       "      <td>NaN</td>\n",
       "    </tr>\n",
       "    <tr>\n",
       "      <th>1983</th>\n",
       "      <td>5.84</td>\n",
       "      <td>NaN</td>\n",
       "      <td>NaN</td>\n",
       "      <td>NaN</td>\n",
       "      <td>NaN</td>\n",
       "      <td>NaN</td>\n",
       "      <td>NaN</td>\n",
       "      <td>NaN</td>\n",
       "      <td>NaN</td>\n",
       "      <td>NaN</td>\n",
       "      <td>...</td>\n",
       "      <td>NaN</td>\n",
       "      <td>NaN</td>\n",
       "      <td>NaN</td>\n",
       "      <td>NaN</td>\n",
       "      <td>NaN</td>\n",
       "      <td>NaN</td>\n",
       "      <td>NaN</td>\n",
       "      <td>NaN</td>\n",
       "      <td>NaN</td>\n",
       "      <td>NaN</td>\n",
       "    </tr>\n",
       "    <tr>\n",
       "      <th>1984</th>\n",
       "      <td>0.27</td>\n",
       "      <td>NaN</td>\n",
       "      <td>NaN</td>\n",
       "      <td>NaN</td>\n",
       "      <td>NaN</td>\n",
       "      <td>NaN</td>\n",
       "      <td>NaN</td>\n",
       "      <td>NaN</td>\n",
       "      <td>NaN</td>\n",
       "      <td>NaN</td>\n",
       "      <td>...</td>\n",
       "      <td>NaN</td>\n",
       "      <td>NaN</td>\n",
       "      <td>NaN</td>\n",
       "      <td>NaN</td>\n",
       "      <td>NaN</td>\n",
       "      <td>NaN</td>\n",
       "      <td>NaN</td>\n",
       "      <td>NaN</td>\n",
       "      <td>NaN</td>\n",
       "      <td>NaN</td>\n",
       "    </tr>\n",
       "    <tr>\n",
       "      <th>1985</th>\n",
       "      <td>0.45</td>\n",
       "      <td>NaN</td>\n",
       "      <td>NaN</td>\n",
       "      <td>NaN</td>\n",
       "      <td>0.02</td>\n",
       "      <td>NaN</td>\n",
       "      <td>NaN</td>\n",
       "      <td>NaN</td>\n",
       "      <td>NaN</td>\n",
       "      <td>NaN</td>\n",
       "      <td>...</td>\n",
       "      <td>NaN</td>\n",
       "      <td>NaN</td>\n",
       "      <td>NaN</td>\n",
       "      <td>NaN</td>\n",
       "      <td>NaN</td>\n",
       "      <td>NaN</td>\n",
       "      <td>NaN</td>\n",
       "      <td>NaN</td>\n",
       "      <td>NaN</td>\n",
       "      <td>NaN</td>\n",
       "    </tr>\n",
       "    <tr>\n",
       "      <th>1986</th>\n",
       "      <td>0.67</td>\n",
       "      <td>NaN</td>\n",
       "      <td>NaN</td>\n",
       "      <td>NaN</td>\n",
       "      <td>NaN</td>\n",
       "      <td>NaN</td>\n",
       "      <td>NaN</td>\n",
       "      <td>NaN</td>\n",
       "      <td>NaN</td>\n",
       "      <td>NaN</td>\n",
       "      <td>...</td>\n",
       "      <td>NaN</td>\n",
       "      <td>NaN</td>\n",
       "      <td>NaN</td>\n",
       "      <td>NaN</td>\n",
       "      <td>NaN</td>\n",
       "      <td>NaN</td>\n",
       "      <td>NaN</td>\n",
       "      <td>NaN</td>\n",
       "      <td>NaN</td>\n",
       "      <td>NaN</td>\n",
       "    </tr>\n",
       "    <tr>\n",
       "      <th>1987</th>\n",
       "      <td>1.94</td>\n",
       "      <td>NaN</td>\n",
       "      <td>NaN</td>\n",
       "      <td>NaN</td>\n",
       "      <td>NaN</td>\n",
       "      <td>NaN</td>\n",
       "      <td>NaN</td>\n",
       "      <td>NaN</td>\n",
       "      <td>NaN</td>\n",
       "      <td>NaN</td>\n",
       "      <td>...</td>\n",
       "      <td>NaN</td>\n",
       "      <td>NaN</td>\n",
       "      <td>NaN</td>\n",
       "      <td>NaN</td>\n",
       "      <td>NaN</td>\n",
       "      <td>NaN</td>\n",
       "      <td>NaN</td>\n",
       "      <td>NaN</td>\n",
       "      <td>NaN</td>\n",
       "      <td>NaN</td>\n",
       "    </tr>\n",
       "    <tr>\n",
       "      <th>1988</th>\n",
       "      <td>0.74</td>\n",
       "      <td>NaN</td>\n",
       "      <td>NaN</td>\n",
       "      <td>NaN</td>\n",
       "      <td>NaN</td>\n",
       "      <td>1.43</td>\n",
       "      <td>NaN</td>\n",
       "      <td>NaN</td>\n",
       "      <td>NaN</td>\n",
       "      <td>NaN</td>\n",
       "      <td>...</td>\n",
       "      <td>NaN</td>\n",
       "      <td>NaN</td>\n",
       "      <td>NaN</td>\n",
       "      <td>NaN</td>\n",
       "      <td>NaN</td>\n",
       "      <td>NaN</td>\n",
       "      <td>NaN</td>\n",
       "      <td>NaN</td>\n",
       "      <td>NaN</td>\n",
       "      <td>NaN</td>\n",
       "    </tr>\n",
       "    <tr>\n",
       "      <th>1989</th>\n",
       "      <td>0.63</td>\n",
       "      <td>NaN</td>\n",
       "      <td>NaN</td>\n",
       "      <td>NaN</td>\n",
       "      <td>NaN</td>\n",
       "      <td>64.97</td>\n",
       "      <td>NaN</td>\n",
       "      <td>NaN</td>\n",
       "      <td>NaN</td>\n",
       "      <td>NaN</td>\n",
       "      <td>...</td>\n",
       "      <td>NaN</td>\n",
       "      <td>NaN</td>\n",
       "      <td>NaN</td>\n",
       "      <td>NaN</td>\n",
       "      <td>NaN</td>\n",
       "      <td>NaN</td>\n",
       "      <td>NaN</td>\n",
       "      <td>NaN</td>\n",
       "      <td>NaN</td>\n",
       "      <td>NaN</td>\n",
       "    </tr>\n",
       "    <tr>\n",
       "      <th>1990</th>\n",
       "      <td>NaN</td>\n",
       "      <td>NaN</td>\n",
       "      <td>NaN</td>\n",
       "      <td>NaN</td>\n",
       "      <td>NaN</td>\n",
       "      <td>4.89</td>\n",
       "      <td>NaN</td>\n",
       "      <td>NaN</td>\n",
       "      <td>2.60</td>\n",
       "      <td>NaN</td>\n",
       "      <td>...</td>\n",
       "      <td>NaN</td>\n",
       "      <td>NaN</td>\n",
       "      <td>26.15</td>\n",
       "      <td>NaN</td>\n",
       "      <td>NaN</td>\n",
       "      <td>NaN</td>\n",
       "      <td>NaN</td>\n",
       "      <td>NaN</td>\n",
       "      <td>NaN</td>\n",
       "      <td>NaN</td>\n",
       "    </tr>\n",
       "    <tr>\n",
       "      <th>1991</th>\n",
       "      <td>NaN</td>\n",
       "      <td>NaN</td>\n",
       "      <td>NaN</td>\n",
       "      <td>NaN</td>\n",
       "      <td>NaN</td>\n",
       "      <td>5.57</td>\n",
       "      <td>NaN</td>\n",
       "      <td>NaN</td>\n",
       "      <td>4.33</td>\n",
       "      <td>NaN</td>\n",
       "      <td>...</td>\n",
       "      <td>NaN</td>\n",
       "      <td>NaN</td>\n",
       "      <td>16.22</td>\n",
       "      <td>NaN</td>\n",
       "      <td>NaN</td>\n",
       "      <td>NaN</td>\n",
       "      <td>NaN</td>\n",
       "      <td>NaN</td>\n",
       "      <td>NaN</td>\n",
       "      <td>NaN</td>\n",
       "    </tr>\n",
       "    <tr>\n",
       "      <th>1992</th>\n",
       "      <td>NaN</td>\n",
       "      <td>NaN</td>\n",
       "      <td>NaN</td>\n",
       "      <td>NaN</td>\n",
       "      <td>NaN</td>\n",
       "      <td>25.49</td>\n",
       "      <td>NaN</td>\n",
       "      <td>NaN</td>\n",
       "      <td>12.64</td>\n",
       "      <td>0.04</td>\n",
       "      <td>...</td>\n",
       "      <td>NaN</td>\n",
       "      <td>NaN</td>\n",
       "      <td>32.98</td>\n",
       "      <td>NaN</td>\n",
       "      <td>NaN</td>\n",
       "      <td>NaN</td>\n",
       "      <td>NaN</td>\n",
       "      <td>NaN</td>\n",
       "      <td>NaN</td>\n",
       "      <td>NaN</td>\n",
       "    </tr>\n",
       "    <tr>\n",
       "      <th>1993</th>\n",
       "      <td>NaN</td>\n",
       "      <td>NaN</td>\n",
       "      <td>NaN</td>\n",
       "      <td>NaN</td>\n",
       "      <td>NaN</td>\n",
       "      <td>NaN</td>\n",
       "      <td>NaN</td>\n",
       "      <td>NaN</td>\n",
       "      <td>0.65</td>\n",
       "      <td>NaN</td>\n",
       "      <td>...</td>\n",
       "      <td>NaN</td>\n",
       "      <td>1.50</td>\n",
       "      <td>40.02</td>\n",
       "      <td>NaN</td>\n",
       "      <td>NaN</td>\n",
       "      <td>NaN</td>\n",
       "      <td>NaN</td>\n",
       "      <td>NaN</td>\n",
       "      <td>NaN</td>\n",
       "      <td>NaN</td>\n",
       "    </tr>\n",
       "    <tr>\n",
       "      <th>1994</th>\n",
       "      <td>NaN</td>\n",
       "      <td>0.02</td>\n",
       "      <td>NaN</td>\n",
       "      <td>NaN</td>\n",
       "      <td>NaN</td>\n",
       "      <td>12.18</td>\n",
       "      <td>NaN</td>\n",
       "      <td>NaN</td>\n",
       "      <td>8.13</td>\n",
       "      <td>NaN</td>\n",
       "      <td>...</td>\n",
       "      <td>3.65</td>\n",
       "      <td>0.36</td>\n",
       "      <td>35.08</td>\n",
       "      <td>NaN</td>\n",
       "      <td>NaN</td>\n",
       "      <td>NaN</td>\n",
       "      <td>NaN</td>\n",
       "      <td>NaN</td>\n",
       "      <td>NaN</td>\n",
       "      <td>NaN</td>\n",
       "    </tr>\n",
       "    <tr>\n",
       "      <th>1995</th>\n",
       "      <td>NaN</td>\n",
       "      <td>0.08</td>\n",
       "      <td>NaN</td>\n",
       "      <td>NaN</td>\n",
       "      <td>NaN</td>\n",
       "      <td>3.60</td>\n",
       "      <td>NaN</td>\n",
       "      <td>NaN</td>\n",
       "      <td>NaN</td>\n",
       "      <td>NaN</td>\n",
       "      <td>...</td>\n",
       "      <td>11.57</td>\n",
       "      <td>NaN</td>\n",
       "      <td>32.20</td>\n",
       "      <td>0.16</td>\n",
       "      <td>NaN</td>\n",
       "      <td>NaN</td>\n",
       "      <td>NaN</td>\n",
       "      <td>NaN</td>\n",
       "      <td>NaN</td>\n",
       "      <td>NaN</td>\n",
       "    </tr>\n",
       "    <tr>\n",
       "      <th>1996</th>\n",
       "      <td>NaN</td>\n",
       "      <td>NaN</td>\n",
       "      <td>NaN</td>\n",
       "      <td>NaN</td>\n",
       "      <td>NaN</td>\n",
       "      <td>36.03</td>\n",
       "      <td>NaN</td>\n",
       "      <td>NaN</td>\n",
       "      <td>NaN</td>\n",
       "      <td>NaN</td>\n",
       "      <td>...</td>\n",
       "      <td>7.69</td>\n",
       "      <td>NaN</td>\n",
       "      <td>15.92</td>\n",
       "      <td>NaN</td>\n",
       "      <td>NaN</td>\n",
       "      <td>NaN</td>\n",
       "      <td>NaN</td>\n",
       "      <td>NaN</td>\n",
       "      <td>NaN</td>\n",
       "      <td>NaN</td>\n",
       "    </tr>\n",
       "    <tr>\n",
       "      <th>1997</th>\n",
       "      <td>NaN</td>\n",
       "      <td>NaN</td>\n",
       "      <td>NaN</td>\n",
       "      <td>NaN</td>\n",
       "      <td>NaN</td>\n",
       "      <td>6.37</td>\n",
       "      <td>NaN</td>\n",
       "      <td>NaN</td>\n",
       "      <td>NaN</td>\n",
       "      <td>NaN</td>\n",
       "      <td>...</td>\n",
       "      <td>6.77</td>\n",
       "      <td>NaN</td>\n",
       "      <td>0.99</td>\n",
       "      <td>NaN</td>\n",
       "      <td>NaN</td>\n",
       "      <td>NaN</td>\n",
       "      <td>NaN</td>\n",
       "      <td>NaN</td>\n",
       "      <td>NaN</td>\n",
       "      <td>NaN</td>\n",
       "    </tr>\n",
       "    <tr>\n",
       "      <th>1998</th>\n",
       "      <td>NaN</td>\n",
       "      <td>NaN</td>\n",
       "      <td>NaN</td>\n",
       "      <td>3.38</td>\n",
       "      <td>NaN</td>\n",
       "      <td>26.90</td>\n",
       "      <td>NaN</td>\n",
       "      <td>NaN</td>\n",
       "      <td>NaN</td>\n",
       "      <td>NaN</td>\n",
       "      <td>...</td>\n",
       "      <td>3.82</td>\n",
       "      <td>NaN</td>\n",
       "      <td>0.22</td>\n",
       "      <td>NaN</td>\n",
       "      <td>NaN</td>\n",
       "      <td>NaN</td>\n",
       "      <td>NaN</td>\n",
       "      <td>NaN</td>\n",
       "      <td>NaN</td>\n",
       "      <td>NaN</td>\n",
       "    </tr>\n",
       "    <tr>\n",
       "      <th>1999</th>\n",
       "      <td>NaN</td>\n",
       "      <td>NaN</td>\n",
       "      <td>NaN</td>\n",
       "      <td>5.16</td>\n",
       "      <td>NaN</td>\n",
       "      <td>38.00</td>\n",
       "      <td>NaN</td>\n",
       "      <td>NaN</td>\n",
       "      <td>NaN</td>\n",
       "      <td>NaN</td>\n",
       "      <td>...</td>\n",
       "      <td>0.09</td>\n",
       "      <td>NaN</td>\n",
       "      <td>0.26</td>\n",
       "      <td>NaN</td>\n",
       "      <td>0.46</td>\n",
       "      <td>NaN</td>\n",
       "      <td>NaN</td>\n",
       "      <td>NaN</td>\n",
       "      <td>NaN</td>\n",
       "      <td>NaN</td>\n",
       "    </tr>\n",
       "    <tr>\n",
       "      <th>2000</th>\n",
       "      <td>NaN</td>\n",
       "      <td>NaN</td>\n",
       "      <td>NaN</td>\n",
       "      <td>5.99</td>\n",
       "      <td>NaN</td>\n",
       "      <td>19.76</td>\n",
       "      <td>0.07</td>\n",
       "      <td>NaN</td>\n",
       "      <td>NaN</td>\n",
       "      <td>NaN</td>\n",
       "      <td>...</td>\n",
       "      <td>NaN</td>\n",
       "      <td>NaN</td>\n",
       "      <td>NaN</td>\n",
       "      <td>NaN</td>\n",
       "      <td>0.68</td>\n",
       "      <td>NaN</td>\n",
       "      <td>NaN</td>\n",
       "      <td>NaN</td>\n",
       "      <td>0.99</td>\n",
       "      <td>NaN</td>\n",
       "    </tr>\n",
       "    <tr>\n",
       "      <th>2001</th>\n",
       "      <td>NaN</td>\n",
       "      <td>NaN</td>\n",
       "      <td>NaN</td>\n",
       "      <td>1.07</td>\n",
       "      <td>NaN</td>\n",
       "      <td>9.24</td>\n",
       "      <td>61.53</td>\n",
       "      <td>26.34</td>\n",
       "      <td>NaN</td>\n",
       "      <td>NaN</td>\n",
       "      <td>...</td>\n",
       "      <td>NaN</td>\n",
       "      <td>NaN</td>\n",
       "      <td>NaN</td>\n",
       "      <td>NaN</td>\n",
       "      <td>0.28</td>\n",
       "      <td>NaN</td>\n",
       "      <td>NaN</td>\n",
       "      <td>NaN</td>\n",
       "      <td>22.26</td>\n",
       "      <td>NaN</td>\n",
       "    </tr>\n",
       "    <tr>\n",
       "      <th>2002</th>\n",
       "      <td>NaN</td>\n",
       "      <td>NaN</td>\n",
       "      <td>NaN</td>\n",
       "      <td>0.29</td>\n",
       "      <td>NaN</td>\n",
       "      <td>NaN</td>\n",
       "      <td>74.16</td>\n",
       "      <td>51.81</td>\n",
       "      <td>NaN</td>\n",
       "      <td>NaN</td>\n",
       "      <td>...</td>\n",
       "      <td>NaN</td>\n",
       "      <td>NaN</td>\n",
       "      <td>NaN</td>\n",
       "      <td>NaN</td>\n",
       "      <td>NaN</td>\n",
       "      <td>NaN</td>\n",
       "      <td>NaN</td>\n",
       "      <td>NaN</td>\n",
       "      <td>48.01</td>\n",
       "      <td>NaN</td>\n",
       "    </tr>\n",
       "    <tr>\n",
       "      <th>2003</th>\n",
       "      <td>NaN</td>\n",
       "      <td>NaN</td>\n",
       "      <td>NaN</td>\n",
       "      <td>NaN</td>\n",
       "      <td>NaN</td>\n",
       "      <td>NaN</td>\n",
       "      <td>56.67</td>\n",
       "      <td>50.61</td>\n",
       "      <td>NaN</td>\n",
       "      <td>NaN</td>\n",
       "      <td>...</td>\n",
       "      <td>NaN</td>\n",
       "      <td>NaN</td>\n",
       "      <td>NaN</td>\n",
       "      <td>NaN</td>\n",
       "      <td>NaN</td>\n",
       "      <td>NaN</td>\n",
       "      <td>NaN</td>\n",
       "      <td>NaN</td>\n",
       "      <td>55.04</td>\n",
       "      <td>NaN</td>\n",
       "    </tr>\n",
       "    <tr>\n",
       "      <th>2004</th>\n",
       "      <td>NaN</td>\n",
       "      <td>NaN</td>\n",
       "      <td>NaN</td>\n",
       "      <td>NaN</td>\n",
       "      <td>17.27</td>\n",
       "      <td>NaN</td>\n",
       "      <td>77.91</td>\n",
       "      <td>28.82</td>\n",
       "      <td>NaN</td>\n",
       "      <td>NaN</td>\n",
       "      <td>...</td>\n",
       "      <td>NaN</td>\n",
       "      <td>NaN</td>\n",
       "      <td>NaN</td>\n",
       "      <td>NaN</td>\n",
       "      <td>NaN</td>\n",
       "      <td>NaN</td>\n",
       "      <td>NaN</td>\n",
       "      <td>NaN</td>\n",
       "      <td>65.42</td>\n",
       "      <td>NaN</td>\n",
       "    </tr>\n",
       "    <tr>\n",
       "      <th>2005</th>\n",
       "      <td>NaN</td>\n",
       "      <td>NaN</td>\n",
       "      <td>NaN</td>\n",
       "      <td>NaN</td>\n",
       "      <td>130.14</td>\n",
       "      <td>NaN</td>\n",
       "      <td>33.86</td>\n",
       "      <td>27.62</td>\n",
       "      <td>NaN</td>\n",
       "      <td>NaN</td>\n",
       "      <td>...</td>\n",
       "      <td>NaN</td>\n",
       "      <td>NaN</td>\n",
       "      <td>NaN</td>\n",
       "      <td>NaN</td>\n",
       "      <td>NaN</td>\n",
       "      <td>NaN</td>\n",
       "      <td>NaN</td>\n",
       "      <td>8.25</td>\n",
       "      <td>49.08</td>\n",
       "      <td>NaN</td>\n",
       "    </tr>\n",
       "    <tr>\n",
       "      <th>2006</th>\n",
       "      <td>NaN</td>\n",
       "      <td>NaN</td>\n",
       "      <td>NaN</td>\n",
       "      <td>NaN</td>\n",
       "      <td>119.81</td>\n",
       "      <td>NaN</td>\n",
       "      <td>5.28</td>\n",
       "      <td>11.26</td>\n",
       "      <td>NaN</td>\n",
       "      <td>NaN</td>\n",
       "      <td>...</td>\n",
       "      <td>NaN</td>\n",
       "      <td>NaN</td>\n",
       "      <td>NaN</td>\n",
       "      <td>NaN</td>\n",
       "      <td>NaN</td>\n",
       "      <td>137.15</td>\n",
       "      <td>NaN</td>\n",
       "      <td>51.62</td>\n",
       "      <td>10.04</td>\n",
       "      <td>NaN</td>\n",
       "    </tr>\n",
       "    <tr>\n",
       "      <th>2007</th>\n",
       "      <td>NaN</td>\n",
       "      <td>NaN</td>\n",
       "      <td>NaN</td>\n",
       "      <td>0.02</td>\n",
       "      <td>146.94</td>\n",
       "      <td>NaN</td>\n",
       "      <td>3.40</td>\n",
       "      <td>0.27</td>\n",
       "      <td>NaN</td>\n",
       "      <td>NaN</td>\n",
       "      <td>...</td>\n",
       "      <td>NaN</td>\n",
       "      <td>NaN</td>\n",
       "      <td>NaN</td>\n",
       "      <td>NaN</td>\n",
       "      <td>NaN</td>\n",
       "      <td>152.77</td>\n",
       "      <td>NaN</td>\n",
       "      <td>95.41</td>\n",
       "      <td>0.55</td>\n",
       "      <td>NaN</td>\n",
       "    </tr>\n",
       "    <tr>\n",
       "      <th>2008</th>\n",
       "      <td>NaN</td>\n",
       "      <td>NaN</td>\n",
       "      <td>NaN</td>\n",
       "      <td>0.04</td>\n",
       "      <td>145.31</td>\n",
       "      <td>NaN</td>\n",
       "      <td>NaN</td>\n",
       "      <td>NaN</td>\n",
       "      <td>NaN</td>\n",
       "      <td>NaN</td>\n",
       "      <td>...</td>\n",
       "      <td>NaN</td>\n",
       "      <td>NaN</td>\n",
       "      <td>NaN</td>\n",
       "      <td>NaN</td>\n",
       "      <td>NaN</td>\n",
       "      <td>171.32</td>\n",
       "      <td>NaN</td>\n",
       "      <td>135.26</td>\n",
       "      <td>0.18</td>\n",
       "      <td>NaN</td>\n",
       "    </tr>\n",
       "    <tr>\n",
       "      <th>2009</th>\n",
       "      <td>NaN</td>\n",
       "      <td>NaN</td>\n",
       "      <td>NaN</td>\n",
       "      <td>NaN</td>\n",
       "      <td>119.54</td>\n",
       "      <td>NaN</td>\n",
       "      <td>NaN</td>\n",
       "      <td>NaN</td>\n",
       "      <td>NaN</td>\n",
       "      <td>NaN</td>\n",
       "      <td>...</td>\n",
       "      <td>NaN</td>\n",
       "      <td>NaN</td>\n",
       "      <td>NaN</td>\n",
       "      <td>NaN</td>\n",
       "      <td>NaN</td>\n",
       "      <td>206.97</td>\n",
       "      <td>NaN</td>\n",
       "      <td>120.29</td>\n",
       "      <td>NaN</td>\n",
       "      <td>NaN</td>\n",
       "    </tr>\n",
       "    <tr>\n",
       "      <th>2010</th>\n",
       "      <td>NaN</td>\n",
       "      <td>NaN</td>\n",
       "      <td>NaN</td>\n",
       "      <td>NaN</td>\n",
       "      <td>85.02</td>\n",
       "      <td>NaN</td>\n",
       "      <td>NaN</td>\n",
       "      <td>NaN</td>\n",
       "      <td>NaN</td>\n",
       "      <td>NaN</td>\n",
       "      <td>...</td>\n",
       "      <td>NaN</td>\n",
       "      <td>NaN</td>\n",
       "      <td>NaN</td>\n",
       "      <td>NaN</td>\n",
       "      <td>NaN</td>\n",
       "      <td>127.95</td>\n",
       "      <td>NaN</td>\n",
       "      <td>170.03</td>\n",
       "      <td>NaN</td>\n",
       "      <td>NaN</td>\n",
       "    </tr>\n",
       "    <tr>\n",
       "      <th>2011</th>\n",
       "      <td>NaN</td>\n",
       "      <td>NaN</td>\n",
       "      <td>63.20</td>\n",
       "      <td>NaN</td>\n",
       "      <td>26.18</td>\n",
       "      <td>NaN</td>\n",
       "      <td>NaN</td>\n",
       "      <td>NaN</td>\n",
       "      <td>NaN</td>\n",
       "      <td>NaN</td>\n",
       "      <td>...</td>\n",
       "      <td>NaN</td>\n",
       "      <td>NaN</td>\n",
       "      <td>NaN</td>\n",
       "      <td>NaN</td>\n",
       "      <td>NaN</td>\n",
       "      <td>59.65</td>\n",
       "      <td>NaN</td>\n",
       "      <td>143.84</td>\n",
       "      <td>NaN</td>\n",
       "      <td>NaN</td>\n",
       "    </tr>\n",
       "    <tr>\n",
       "      <th>2012</th>\n",
       "      <td>NaN</td>\n",
       "      <td>NaN</td>\n",
       "      <td>51.36</td>\n",
       "      <td>NaN</td>\n",
       "      <td>11.01</td>\n",
       "      <td>NaN</td>\n",
       "      <td>NaN</td>\n",
       "      <td>NaN</td>\n",
       "      <td>NaN</td>\n",
       "      <td>NaN</td>\n",
       "      <td>...</td>\n",
       "      <td>NaN</td>\n",
       "      <td>NaN</td>\n",
       "      <td>NaN</td>\n",
       "      <td>NaN</td>\n",
       "      <td>NaN</td>\n",
       "      <td>21.71</td>\n",
       "      <td>17.56</td>\n",
       "      <td>99.74</td>\n",
       "      <td>NaN</td>\n",
       "      <td>NaN</td>\n",
       "    </tr>\n",
       "    <tr>\n",
       "      <th>2013</th>\n",
       "      <td>NaN</td>\n",
       "      <td>NaN</td>\n",
       "      <td>56.57</td>\n",
       "      <td>NaN</td>\n",
       "      <td>1.54</td>\n",
       "      <td>NaN</td>\n",
       "      <td>NaN</td>\n",
       "      <td>NaN</td>\n",
       "      <td>NaN</td>\n",
       "      <td>NaN</td>\n",
       "      <td>...</td>\n",
       "      <td>NaN</td>\n",
       "      <td>NaN</td>\n",
       "      <td>NaN</td>\n",
       "      <td>NaN</td>\n",
       "      <td>NaN</td>\n",
       "      <td>8.59</td>\n",
       "      <td>21.65</td>\n",
       "      <td>88.58</td>\n",
       "      <td>NaN</td>\n",
       "      <td>18.96</td>\n",
       "    </tr>\n",
       "    <tr>\n",
       "      <th>2014</th>\n",
       "      <td>NaN</td>\n",
       "      <td>NaN</td>\n",
       "      <td>43.76</td>\n",
       "      <td>NaN</td>\n",
       "      <td>NaN</td>\n",
       "      <td>NaN</td>\n",
       "      <td>NaN</td>\n",
       "      <td>NaN</td>\n",
       "      <td>NaN</td>\n",
       "      <td>NaN</td>\n",
       "      <td>...</td>\n",
       "      <td>NaN</td>\n",
       "      <td>NaN</td>\n",
       "      <td>NaN</td>\n",
       "      <td>NaN</td>\n",
       "      <td>NaN</td>\n",
       "      <td>3.75</td>\n",
       "      <td>22.03</td>\n",
       "      <td>34.74</td>\n",
       "      <td>NaN</td>\n",
       "      <td>54.07</td>\n",
       "    </tr>\n",
       "    <tr>\n",
       "      <th>2015</th>\n",
       "      <td>NaN</td>\n",
       "      <td>NaN</td>\n",
       "      <td>27.78</td>\n",
       "      <td>NaN</td>\n",
       "      <td>NaN</td>\n",
       "      <td>NaN</td>\n",
       "      <td>NaN</td>\n",
       "      <td>NaN</td>\n",
       "      <td>NaN</td>\n",
       "      <td>NaN</td>\n",
       "      <td>...</td>\n",
       "      <td>NaN</td>\n",
       "      <td>NaN</td>\n",
       "      <td>NaN</td>\n",
       "      <td>NaN</td>\n",
       "      <td>NaN</td>\n",
       "      <td>1.14</td>\n",
       "      <td>16.35</td>\n",
       "      <td>11.96</td>\n",
       "      <td>NaN</td>\n",
       "      <td>60.14</td>\n",
       "    </tr>\n",
       "    <tr>\n",
       "      <th>2016</th>\n",
       "      <td>NaN</td>\n",
       "      <td>NaN</td>\n",
       "      <td>15.14</td>\n",
       "      <td>NaN</td>\n",
       "      <td>NaN</td>\n",
       "      <td>NaN</td>\n",
       "      <td>NaN</td>\n",
       "      <td>NaN</td>\n",
       "      <td>NaN</td>\n",
       "      <td>NaN</td>\n",
       "      <td>...</td>\n",
       "      <td>NaN</td>\n",
       "      <td>NaN</td>\n",
       "      <td>NaN</td>\n",
       "      <td>NaN</td>\n",
       "      <td>NaN</td>\n",
       "      <td>0.18</td>\n",
       "      <td>4.60</td>\n",
       "      <td>1.52</td>\n",
       "      <td>NaN</td>\n",
       "      <td>26.15</td>\n",
       "    </tr>\n",
       "  </tbody>\n",
       "</table>\n",
       "<p>37 rows × 31 columns</p>\n",
       "</div>"
      ],
      "text/plain": [
       "                total_sales                                                 \\\n",
       "platform               2600  3DO   3DS   DC     DS    GB   GBA    GC   GEN   \n",
       "year_of_release                                                              \n",
       "1980                  11.38  NaN   NaN  NaN    NaN   NaN   NaN   NaN   NaN   \n",
       "1981                  35.68  NaN   NaN  NaN    NaN   NaN   NaN   NaN   NaN   \n",
       "1982                  28.88  NaN   NaN  NaN    NaN   NaN   NaN   NaN   NaN   \n",
       "1983                   5.84  NaN   NaN  NaN    NaN   NaN   NaN   NaN   NaN   \n",
       "1984                   0.27  NaN   NaN  NaN    NaN   NaN   NaN   NaN   NaN   \n",
       "1985                   0.45  NaN   NaN  NaN   0.02   NaN   NaN   NaN   NaN   \n",
       "1986                   0.67  NaN   NaN  NaN    NaN   NaN   NaN   NaN   NaN   \n",
       "1987                   1.94  NaN   NaN  NaN    NaN   NaN   NaN   NaN   NaN   \n",
       "1988                   0.74  NaN   NaN  NaN    NaN  1.43   NaN   NaN   NaN   \n",
       "1989                   0.63  NaN   NaN  NaN    NaN 64.97   NaN   NaN   NaN   \n",
       "1990                    NaN  NaN   NaN  NaN    NaN  4.89   NaN   NaN  2.60   \n",
       "1991                    NaN  NaN   NaN  NaN    NaN  5.57   NaN   NaN  4.33   \n",
       "1992                    NaN  NaN   NaN  NaN    NaN 25.49   NaN   NaN 12.64   \n",
       "1993                    NaN  NaN   NaN  NaN    NaN   NaN   NaN   NaN  0.65   \n",
       "1994                    NaN 0.02   NaN  NaN    NaN 12.18   NaN   NaN  8.13   \n",
       "1995                    NaN 0.08   NaN  NaN    NaN  3.60   NaN   NaN   NaN   \n",
       "1996                    NaN  NaN   NaN  NaN    NaN 36.03   NaN   NaN   NaN   \n",
       "1997                    NaN  NaN   NaN  NaN    NaN  6.37   NaN   NaN   NaN   \n",
       "1998                    NaN  NaN   NaN 3.38    NaN 26.90   NaN   NaN   NaN   \n",
       "1999                    NaN  NaN   NaN 5.16    NaN 38.00   NaN   NaN   NaN   \n",
       "2000                    NaN  NaN   NaN 5.99    NaN 19.76  0.07   NaN   NaN   \n",
       "2001                    NaN  NaN   NaN 1.07    NaN  9.24 61.53 26.34   NaN   \n",
       "2002                    NaN  NaN   NaN 0.29    NaN   NaN 74.16 51.81   NaN   \n",
       "2003                    NaN  NaN   NaN  NaN    NaN   NaN 56.67 50.61   NaN   \n",
       "2004                    NaN  NaN   NaN  NaN  17.27   NaN 77.91 28.82   NaN   \n",
       "2005                    NaN  NaN   NaN  NaN 130.14   NaN 33.86 27.62   NaN   \n",
       "2006                    NaN  NaN   NaN  NaN 119.81   NaN  5.28 11.26   NaN   \n",
       "2007                    NaN  NaN   NaN 0.02 146.94   NaN  3.40  0.27   NaN   \n",
       "2008                    NaN  NaN   NaN 0.04 145.31   NaN   NaN   NaN   NaN   \n",
       "2009                    NaN  NaN   NaN  NaN 119.54   NaN   NaN   NaN   NaN   \n",
       "2010                    NaN  NaN   NaN  NaN  85.02   NaN   NaN   NaN   NaN   \n",
       "2011                    NaN  NaN 63.20  NaN  26.18   NaN   NaN   NaN   NaN   \n",
       "2012                    NaN  NaN 51.36  NaN  11.01   NaN   NaN   NaN   NaN   \n",
       "2013                    NaN  NaN 56.57  NaN   1.54   NaN   NaN   NaN   NaN   \n",
       "2014                    NaN  NaN 43.76  NaN    NaN   NaN   NaN   NaN   NaN   \n",
       "2015                    NaN  NaN 27.78  NaN    NaN   NaN   NaN   NaN   NaN   \n",
       "2016                    NaN  NaN 15.14  NaN    NaN   NaN   NaN   NaN   NaN   \n",
       "\n",
       "                      ...                                                 \\\n",
       "platform          GG  ...   SAT  SCD  SNES TG16   WS    Wii  WiiU   X360   \n",
       "year_of_release       ...                                                  \n",
       "1980             NaN  ...   NaN  NaN   NaN  NaN  NaN    NaN   NaN    NaN   \n",
       "1981             NaN  ...   NaN  NaN   NaN  NaN  NaN    NaN   NaN    NaN   \n",
       "1982             NaN  ...   NaN  NaN   NaN  NaN  NaN    NaN   NaN    NaN   \n",
       "1983             NaN  ...   NaN  NaN   NaN  NaN  NaN    NaN   NaN    NaN   \n",
       "1984             NaN  ...   NaN  NaN   NaN  NaN  NaN    NaN   NaN    NaN   \n",
       "1985             NaN  ...   NaN  NaN   NaN  NaN  NaN    NaN   NaN    NaN   \n",
       "1986             NaN  ...   NaN  NaN   NaN  NaN  NaN    NaN   NaN    NaN   \n",
       "1987             NaN  ...   NaN  NaN   NaN  NaN  NaN    NaN   NaN    NaN   \n",
       "1988             NaN  ...   NaN  NaN   NaN  NaN  NaN    NaN   NaN    NaN   \n",
       "1989             NaN  ...   NaN  NaN   NaN  NaN  NaN    NaN   NaN    NaN   \n",
       "1990             NaN  ...   NaN  NaN 26.15  NaN  NaN    NaN   NaN    NaN   \n",
       "1991             NaN  ...   NaN  NaN 16.22  NaN  NaN    NaN   NaN    NaN   \n",
       "1992            0.04  ...   NaN  NaN 32.98  NaN  NaN    NaN   NaN    NaN   \n",
       "1993             NaN  ...   NaN 1.50 40.02  NaN  NaN    NaN   NaN    NaN   \n",
       "1994             NaN  ...  3.65 0.36 35.08  NaN  NaN    NaN   NaN    NaN   \n",
       "1995             NaN  ... 11.57  NaN 32.20 0.16  NaN    NaN   NaN    NaN   \n",
       "1996             NaN  ...  7.69  NaN 15.92  NaN  NaN    NaN   NaN    NaN   \n",
       "1997             NaN  ...  6.77  NaN  0.99  NaN  NaN    NaN   NaN    NaN   \n",
       "1998             NaN  ...  3.82  NaN  0.22  NaN  NaN    NaN   NaN    NaN   \n",
       "1999             NaN  ...  0.09  NaN  0.26  NaN 0.46    NaN   NaN    NaN   \n",
       "2000             NaN  ...   NaN  NaN   NaN  NaN 0.68    NaN   NaN    NaN   \n",
       "2001             NaN  ...   NaN  NaN   NaN  NaN 0.28    NaN   NaN    NaN   \n",
       "2002             NaN  ...   NaN  NaN   NaN  NaN  NaN    NaN   NaN    NaN   \n",
       "2003             NaN  ...   NaN  NaN   NaN  NaN  NaN    NaN   NaN    NaN   \n",
       "2004             NaN  ...   NaN  NaN   NaN  NaN  NaN    NaN   NaN    NaN   \n",
       "2005             NaN  ...   NaN  NaN   NaN  NaN  NaN    NaN   NaN   8.25   \n",
       "2006             NaN  ...   NaN  NaN   NaN  NaN  NaN 137.15   NaN  51.62   \n",
       "2007             NaN  ...   NaN  NaN   NaN  NaN  NaN 152.77   NaN  95.41   \n",
       "2008             NaN  ...   NaN  NaN   NaN  NaN  NaN 171.32   NaN 135.26   \n",
       "2009             NaN  ...   NaN  NaN   NaN  NaN  NaN 206.97   NaN 120.29   \n",
       "2010             NaN  ...   NaN  NaN   NaN  NaN  NaN 127.95   NaN 170.03   \n",
       "2011             NaN  ...   NaN  NaN   NaN  NaN  NaN  59.65   NaN 143.84   \n",
       "2012             NaN  ...   NaN  NaN   NaN  NaN  NaN  21.71 17.56  99.74   \n",
       "2013             NaN  ...   NaN  NaN   NaN  NaN  NaN   8.59 21.65  88.58   \n",
       "2014             NaN  ...   NaN  NaN   NaN  NaN  NaN   3.75 22.03  34.74   \n",
       "2015             NaN  ...   NaN  NaN   NaN  NaN  NaN   1.14 16.35  11.96   \n",
       "2016             NaN  ...   NaN  NaN   NaN  NaN  NaN   0.18  4.60   1.52   \n",
       "\n",
       "                             \n",
       "platform           XB  XOne  \n",
       "year_of_release              \n",
       "1980              NaN   NaN  \n",
       "1981              NaN   NaN  \n",
       "1982              NaN   NaN  \n",
       "1983              NaN   NaN  \n",
       "1984              NaN   NaN  \n",
       "1985              NaN   NaN  \n",
       "1986              NaN   NaN  \n",
       "1987              NaN   NaN  \n",
       "1988              NaN   NaN  \n",
       "1989              NaN   NaN  \n",
       "1990              NaN   NaN  \n",
       "1991              NaN   NaN  \n",
       "1992              NaN   NaN  \n",
       "1993              NaN   NaN  \n",
       "1994              NaN   NaN  \n",
       "1995              NaN   NaN  \n",
       "1996              NaN   NaN  \n",
       "1997              NaN   NaN  \n",
       "1998              NaN   NaN  \n",
       "1999              NaN   NaN  \n",
       "2000             0.99   NaN  \n",
       "2001            22.26   NaN  \n",
       "2002            48.01   NaN  \n",
       "2003            55.04   NaN  \n",
       "2004            65.42   NaN  \n",
       "2005            49.08   NaN  \n",
       "2006            10.04   NaN  \n",
       "2007             0.55   NaN  \n",
       "2008             0.18   NaN  \n",
       "2009              NaN   NaN  \n",
       "2010              NaN   NaN  \n",
       "2011              NaN   NaN  \n",
       "2012              NaN   NaN  \n",
       "2013              NaN 18.96  \n",
       "2014              NaN 54.07  \n",
       "2015              NaN 60.14  \n",
       "2016              NaN 26.15  \n",
       "\n",
       "[37 rows x 31 columns]"
      ]
     },
     "metadata": {},
     "output_type": "display_data"
    }
   ],
   "source": [
    "# Подготовим сводную таблицу продаж по годам\n",
    "df_sales_by_platforms_pivot = df_games_prep.pivot_table(index = ['year_of_release'],\n",
    "                                             values = ['total_sales'], \n",
    "                                             columns='platform', \n",
    "                                             aggfunc='sum').reset_index()\n",
    "\n",
    "df_sales_by_platforms_pivot.set_index('year_of_release', inplace=True)\n",
    "\n",
    "# Отобразим данные\n",
    "display(df_sales_by_platforms_pivot)#.info())"
   ]
  },
  {
   "cell_type": "code",
   "execution_count": 132,
   "id": "612266cc",
   "metadata": {
    "scrolled": true
   },
   "outputs": [
    {
     "name": "stdout",
     "output_type": "stream",
     "text": [
      "Cуммарные продажи по платформам за 1980-2016\n"
     ]
    },
    {
     "data": {
      "image/png": "[encoded data removed]",
      "text/plain": [
       "<Figure size 1080x360 with 2 Axes>"
      ]
     },
     "metadata": {
      "needs_background": "light"
     },
     "output_type": "display_data"
    }
   ],
   "source": [
    "fig, ax = plt.subplots(figsize=(15,5)) \n",
    "sns.heatmap(df_sales_by_platforms_pivot, ax=ax, cmap='RdYlGn' )\n",
    "print(\"Cуммарные продажи по платформам за 1980-2016\")\n",
    "plt.show()"
   ]
  },
  {
   "cell_type": "markdown",
   "id": "0476ad99",
   "metadata": {},
   "source": [
    "1. У DS период составляет 29 лет. Сильно больше, чем у остальных платформ. \n",
    "2. У DC тоже есть разрыв с 2003 по 2007года.\n",
    "3. У PC есть разрыв в выходе игр. PC нас не интересует, это не игровая приставка либо консоль. Для PC нет явной смены поколений.\n",
    "\n",
    "1, 2 посмотрим внимательнее. 3 не трогаем.\n",
    "\n",
    "#### Выбросы DS."
   ]
  },
  {
   "cell_type": "code",
   "execution_count": 133,
   "id": "c481244a",
   "metadata": {},
   "outputs": [
    {
     "data": {
      "text/html": [
       "<div>\n",
       "<style scoped>\n",
       "    .dataframe tbody tr th:only-of-type {\n",
       "        vertical-align: middle;\n",
       "    }\n",
       "\n",
       "    .dataframe tbody tr th {\n",
       "        vertical-align: top;\n",
       "    }\n",
       "\n",
       "    .dataframe thead th {\n",
       "        text-align: right;\n",
       "    }\n",
       "</style>\n",
       "<table border=\"1\" class=\"dataframe\">\n",
       "  <thead>\n",
       "    <tr style=\"text-align: right;\">\n",
       "      <th></th>\n",
       "      <th>name</th>\n",
       "      <th>platform</th>\n",
       "      <th>year_of_release</th>\n",
       "      <th>genre</th>\n",
       "      <th>na_sales</th>\n",
       "      <th>eu_sales</th>\n",
       "      <th>jp_sales</th>\n",
       "      <th>other_sales</th>\n",
       "      <th>critic_score</th>\n",
       "      <th>user_score</th>\n",
       "      <th>rating</th>\n",
       "      <th>total_sales</th>\n",
       "    </tr>\n",
       "  </thead>\n",
       "  <tbody>\n",
       "    <tr>\n",
       "      <th>15957</th>\n",
       "      <td>Strongest Tokyo University Shogi DS</td>\n",
       "      <td>DS</td>\n",
       "      <td>1985</td>\n",
       "      <td>Action</td>\n",
       "      <td>0.00</td>\n",
       "      <td>0.00</td>\n",
       "      <td>0.02</td>\n",
       "      <td>0.00</td>\n",
       "      <td>NaN</td>\n",
       "      <td>NaN</td>\n",
       "      <td>E</td>\n",
       "      <td>0.02</td>\n",
       "    </tr>\n",
       "    <tr>\n",
       "      <th>13463</th>\n",
       "      <td>Cocoto Kart Racer</td>\n",
       "      <td>DS</td>\n",
       "      <td>2004</td>\n",
       "      <td>Racing</td>\n",
       "      <td>0.04</td>\n",
       "      <td>0.00</td>\n",
       "      <td>0.00</td>\n",
       "      <td>0.00</td>\n",
       "      <td>NaN</td>\n",
       "      <td>NaN</td>\n",
       "      <td>T</td>\n",
       "      <td>0.04</td>\n",
       "    </tr>\n",
       "    <tr>\n",
       "      <th>11517</th>\n",
       "      <td>Kenshuui Tendo Dokuta</td>\n",
       "      <td>DS</td>\n",
       "      <td>2004</td>\n",
       "      <td>Simulation</td>\n",
       "      <td>0.00</td>\n",
       "      <td>0.00</td>\n",
       "      <td>0.08</td>\n",
       "      <td>0.00</td>\n",
       "      <td>NaN</td>\n",
       "      <td>NaN</td>\n",
       "      <td>M</td>\n",
       "      <td>0.08</td>\n",
       "    </tr>\n",
       "    <tr>\n",
       "      <th>4421</th>\n",
       "      <td>The Urbz: Sims in the City (all regions sales)</td>\n",
       "      <td>DS</td>\n",
       "      <td>2004</td>\n",
       "      <td>Simulation</td>\n",
       "      <td>0.40</td>\n",
       "      <td>0.01</td>\n",
       "      <td>0.02</td>\n",
       "      <td>0.00</td>\n",
       "      <td>NaN</td>\n",
       "      <td>NaN</td>\n",
       "      <td>E</td>\n",
       "      <td>0.43</td>\n",
       "    </tr>\n",
       "    <tr>\n",
       "      <th>7902</th>\n",
       "      <td>Daigasso! Band Brothers</td>\n",
       "      <td>DS</td>\n",
       "      <td>2004</td>\n",
       "      <td>Misc</td>\n",
       "      <td>0.00</td>\n",
       "      <td>0.00</td>\n",
       "      <td>0.19</td>\n",
       "      <td>0.00</td>\n",
       "      <td>NaN</td>\n",
       "      <td>NaN</td>\n",
       "      <td>E</td>\n",
       "      <td>0.19</td>\n",
       "    </tr>\n",
       "  </tbody>\n",
       "</table>\n",
       "</div>"
      ],
      "text/plain": [
       "                                                 name platform  \\\n",
       "15957             Strongest Tokyo University Shogi DS       DS   \n",
       "13463                               Cocoto Kart Racer       DS   \n",
       "11517                           Kenshuui Tendo Dokuta       DS   \n",
       "4421   The Urbz: Sims in the City (all regions sales)       DS   \n",
       "7902                          Daigasso! Band Brothers       DS   \n",
       "\n",
       "       year_of_release       genre  na_sales  eu_sales  jp_sales  other_sales  \\\n",
       "15957             1985      Action      0.00      0.00      0.02         0.00   \n",
       "13463             2004      Racing      0.04      0.00      0.00         0.00   \n",
       "11517             2004  Simulation      0.00      0.00      0.08         0.00   \n",
       "4421              2004  Simulation      0.40      0.01      0.02         0.00   \n",
       "7902              2004        Misc      0.00      0.00      0.19         0.00   \n",
       "\n",
       "       critic_score  user_score rating  total_sales  \n",
       "15957           NaN         NaN      E         0.02  \n",
       "13463           NaN         NaN      T         0.04  \n",
       "11517           NaN         NaN      M         0.08  \n",
       "4421            NaN         NaN      E         0.43  \n",
       "7902            NaN         NaN      E         0.19  "
      ]
     },
     "execution_count": 133,
     "metadata": {},
     "output_type": "execute_result"
    }
   ],
   "source": [
    "df_games_prep.query('platform == \"DS\"').sort_values(by='year_of_release').head(5)"
   ]
  },
  {
   "cell_type": "markdown",
   "id": "37445c7a",
   "metadata": {},
   "source": [
    "Запись 15957. Игра \"Strongest Tokyo University Shogi DS\" вышла 1985 году. Это странно, поскольку на Википедии сказано, что Nintendo DS вышла в 2004 году."
   ]
  },
  {
   "cell_type": "markdown",
   "id": "ccca542b",
   "metadata": {},
   "source": [
    "В предоставленных нам данных ошибка. В открытых источниках сказано, что \"Strongest Tokyo University Shogi DS\" вышла в 2010 году. Исправим данные."
   ]
  },
  {
   "cell_type": "code",
   "execution_count": 134,
   "id": "cbc0e207",
   "metadata": {
    "scrolled": true
   },
   "outputs": [
    {
     "data": {
      "text/html": [
       "<div>\n",
       "<style scoped>\n",
       "    .dataframe tbody tr th:only-of-type {\n",
       "        vertical-align: middle;\n",
       "    }\n",
       "\n",
       "    .dataframe tbody tr th {\n",
       "        vertical-align: top;\n",
       "    }\n",
       "\n",
       "    .dataframe thead th {\n",
       "        text-align: right;\n",
       "    }\n",
       "</style>\n",
       "<table border=\"1\" class=\"dataframe\">\n",
       "  <thead>\n",
       "    <tr style=\"text-align: right;\">\n",
       "      <th></th>\n",
       "      <th>name</th>\n",
       "      <th>platform</th>\n",
       "      <th>year_of_release</th>\n",
       "      <th>genre</th>\n",
       "      <th>na_sales</th>\n",
       "      <th>eu_sales</th>\n",
       "      <th>jp_sales</th>\n",
       "      <th>other_sales</th>\n",
       "      <th>critic_score</th>\n",
       "      <th>user_score</th>\n",
       "      <th>rating</th>\n",
       "      <th>total_sales</th>\n",
       "    </tr>\n",
       "  </thead>\n",
       "  <tbody>\n",
       "    <tr>\n",
       "      <th>11517</th>\n",
       "      <td>Kenshuui Tendo Dokuta</td>\n",
       "      <td>DS</td>\n",
       "      <td>2004</td>\n",
       "      <td>Simulation</td>\n",
       "      <td>0.00</td>\n",
       "      <td>0.00</td>\n",
       "      <td>0.08</td>\n",
       "      <td>0.00</td>\n",
       "      <td>NaN</td>\n",
       "      <td>NaN</td>\n",
       "      <td>M</td>\n",
       "      <td>0.08</td>\n",
       "    </tr>\n",
       "    <tr>\n",
       "      <th>3414</th>\n",
       "      <td>Asphalt: Urban GT</td>\n",
       "      <td>DS</td>\n",
       "      <td>2004</td>\n",
       "      <td>Racing</td>\n",
       "      <td>0.31</td>\n",
       "      <td>0.22</td>\n",
       "      <td>0.00</td>\n",
       "      <td>0.06</td>\n",
       "      <td>60.00</td>\n",
       "      <td>7.50</td>\n",
       "      <td>T</td>\n",
       "      <td>0.59</td>\n",
       "    </tr>\n",
       "    <tr>\n",
       "      <th>4421</th>\n",
       "      <td>The Urbz: Sims in the City (all regions sales)</td>\n",
       "      <td>DS</td>\n",
       "      <td>2004</td>\n",
       "      <td>Simulation</td>\n",
       "      <td>0.40</td>\n",
       "      <td>0.01</td>\n",
       "      <td>0.02</td>\n",
       "      <td>0.00</td>\n",
       "      <td>NaN</td>\n",
       "      <td>NaN</td>\n",
       "      <td>E</td>\n",
       "      <td>0.43</td>\n",
       "    </tr>\n",
       "    <tr>\n",
       "      <th>14161</th>\n",
       "      <td>Puyo Pop Fever(us sales)</td>\n",
       "      <td>DS</td>\n",
       "      <td>2004</td>\n",
       "      <td>Puzzle</td>\n",
       "      <td>0.03</td>\n",
       "      <td>0.00</td>\n",
       "      <td>0.00</td>\n",
       "      <td>0.00</td>\n",
       "      <td>NaN</td>\n",
       "      <td>NaN</td>\n",
       "      <td>NaN</td>\n",
       "      <td>0.03</td>\n",
       "    </tr>\n",
       "    <tr>\n",
       "      <th>12367</th>\n",
       "      <td>Sprung - A Game Where Everyone Scores</td>\n",
       "      <td>DS</td>\n",
       "      <td>2004</td>\n",
       "      <td>Adventure</td>\n",
       "      <td>0.06</td>\n",
       "      <td>0.00</td>\n",
       "      <td>0.00</td>\n",
       "      <td>0.00</td>\n",
       "      <td>NaN</td>\n",
       "      <td>NaN</td>\n",
       "      <td>M</td>\n",
       "      <td>0.06</td>\n",
       "    </tr>\n",
       "  </tbody>\n",
       "</table>\n",
       "</div>"
      ],
      "text/plain": [
       "                                                 name platform  \\\n",
       "11517                           Kenshuui Tendo Dokuta       DS   \n",
       "3414                                Asphalt: Urban GT       DS   \n",
       "4421   The Urbz: Sims in the City (all regions sales)       DS   \n",
       "14161                        Puyo Pop Fever(us sales)       DS   \n",
       "12367           Sprung - A Game Where Everyone Scores       DS   \n",
       "\n",
       "       year_of_release       genre  na_sales  eu_sales  jp_sales  other_sales  \\\n",
       "11517             2004  Simulation      0.00      0.00      0.08         0.00   \n",
       "3414              2004      Racing      0.31      0.22      0.00         0.06   \n",
       "4421              2004  Simulation      0.40      0.01      0.02         0.00   \n",
       "14161             2004      Puzzle      0.03      0.00      0.00         0.00   \n",
       "12367             2004   Adventure      0.06      0.00      0.00         0.00   \n",
       "\n",
       "       critic_score  user_score rating  total_sales  \n",
       "11517           NaN         NaN      M         0.08  \n",
       "3414          60.00        7.50      T         0.59  \n",
       "4421            NaN         NaN      E         0.43  \n",
       "14161           NaN         NaN    NaN         0.03  \n",
       "12367           NaN         NaN      M         0.06  "
      ]
     },
     "execution_count": 134,
     "metadata": {},
     "output_type": "execute_result"
    }
   ],
   "source": [
    "# Исправляем\n",
    "df_games_prep.loc[15957, 'year_of_release'] = 2010\n",
    "\n",
    "# Проверяем\n",
    "df_games_prep.query('platform == \"DS\"').sort_values(by='year_of_release').head(5)\n"
   ]
  },
  {
   "cell_type": "markdown",
   "id": "4da06fe7",
   "metadata": {},
   "source": [
    "#### Выбросы DC\n",
    "Поддержка приставки прекратилась в 2001 году. Странно, что спустя 7 лет могли выходить игры.  \n",
    "Посмотрим какие игры появились на DC последними."
   ]
  },
  {
   "cell_type": "code",
   "execution_count": 135,
   "id": "31b7d3a6",
   "metadata": {},
   "outputs": [
    {
     "data": {
      "text/html": [
       "<div>\n",
       "<style scoped>\n",
       "    .dataframe tbody tr th:only-of-type {\n",
       "        vertical-align: middle;\n",
       "    }\n",
       "\n",
       "    .dataframe tbody tr th {\n",
       "        vertical-align: top;\n",
       "    }\n",
       "\n",
       "    .dataframe thead th {\n",
       "        text-align: right;\n",
       "    }\n",
       "</style>\n",
       "<table border=\"1\" class=\"dataframe\">\n",
       "  <thead>\n",
       "    <tr style=\"text-align: right;\">\n",
       "      <th></th>\n",
       "      <th>name</th>\n",
       "      <th>platform</th>\n",
       "      <th>year_of_release</th>\n",
       "      <th>genre</th>\n",
       "      <th>na_sales</th>\n",
       "      <th>eu_sales</th>\n",
       "      <th>jp_sales</th>\n",
       "      <th>other_sales</th>\n",
       "      <th>critic_score</th>\n",
       "      <th>user_score</th>\n",
       "      <th>rating</th>\n",
       "      <th>total_sales</th>\n",
       "    </tr>\n",
       "  </thead>\n",
       "  <tbody>\n",
       "    <tr>\n",
       "      <th>5514</th>\n",
       "      <td>Sakura Wars 3: Paris wa Moeteiru ka</td>\n",
       "      <td>DC</td>\n",
       "      <td>2001</td>\n",
       "      <td>Adventure</td>\n",
       "      <td>0.00</td>\n",
       "      <td>0.00</td>\n",
       "      <td>0.33</td>\n",
       "      <td>0.00</td>\n",
       "      <td>NaN</td>\n",
       "      <td>NaN</td>\n",
       "      <td>E</td>\n",
       "      <td>0.33</td>\n",
       "    </tr>\n",
       "    <tr>\n",
       "      <th>6041</th>\n",
       "      <td>Sakura Wars 4: Koi Seyo,Otome</td>\n",
       "      <td>DC</td>\n",
       "      <td>2002</td>\n",
       "      <td>Adventure</td>\n",
       "      <td>0.00</td>\n",
       "      <td>0.00</td>\n",
       "      <td>0.29</td>\n",
       "      <td>0.00</td>\n",
       "      <td>NaN</td>\n",
       "      <td>NaN</td>\n",
       "      <td>NaN</td>\n",
       "      <td>0.29</td>\n",
       "    </tr>\n",
       "    <tr>\n",
       "      <th>15997</th>\n",
       "      <td>Triggerheart Exelica</td>\n",
       "      <td>DC</td>\n",
       "      <td>2007</td>\n",
       "      <td>Shooter</td>\n",
       "      <td>0.00</td>\n",
       "      <td>0.00</td>\n",
       "      <td>0.02</td>\n",
       "      <td>0.00</td>\n",
       "      <td>NaN</td>\n",
       "      <td>NaN</td>\n",
       "      <td>T</td>\n",
       "      <td>0.02</td>\n",
       "    </tr>\n",
       "    <tr>\n",
       "      <th>14006</th>\n",
       "      <td>Pia Carrot e Youkoso!! 2.5</td>\n",
       "      <td>DC</td>\n",
       "      <td>2008</td>\n",
       "      <td>Adventure</td>\n",
       "      <td>0.00</td>\n",
       "      <td>0.00</td>\n",
       "      <td>0.04</td>\n",
       "      <td>0.00</td>\n",
       "      <td>NaN</td>\n",
       "      <td>NaN</td>\n",
       "      <td>E</td>\n",
       "      <td>0.04</td>\n",
       "    </tr>\n",
       "  </tbody>\n",
       "</table>\n",
       "</div>"
      ],
      "text/plain": [
       "                                      name platform  year_of_release  \\\n",
       "5514   Sakura Wars 3: Paris wa Moeteiru ka       DC             2001   \n",
       "6041         Sakura Wars 4: Koi Seyo,Otome       DC             2002   \n",
       "15997                 Triggerheart Exelica       DC             2007   \n",
       "14006           Pia Carrot e Youkoso!! 2.5       DC             2008   \n",
       "\n",
       "           genre  na_sales  eu_sales  jp_sales  other_sales  critic_score  \\\n",
       "5514   Adventure      0.00      0.00      0.33         0.00           NaN   \n",
       "6041   Adventure      0.00      0.00      0.29         0.00           NaN   \n",
       "15997    Shooter      0.00      0.00      0.02         0.00           NaN   \n",
       "14006  Adventure      0.00      0.00      0.04         0.00           NaN   \n",
       "\n",
       "       user_score rating  total_sales  \n",
       "5514          NaN      E         0.33  \n",
       "6041          NaN    NaN         0.29  \n",
       "15997         NaN      T         0.02  \n",
       "14006         NaN      E         0.04  "
      ]
     },
     "execution_count": 135,
     "metadata": {},
     "output_type": "execute_result"
    }
   ],
   "source": [
    "df_games_prep.query('platform == \"DC\" and year_of_release.isna()== False',\n",
    "                    engine='python').sort_values(by='year_of_release').tail(4)"
   ]
  },
  {
   "cell_type": "markdown",
   "id": "114232e5",
   "metadata": {},
   "source": [
    "Записи 15997, 14006 Это 2 игры вышедшие в 2007 и 2008 годах. Судя по дате релиза игр, опубликованной в Интернет игры действителльно выходили в эти годы.\n",
    "При этом мы видим, что у игр были небольшие продажи и только в Японии.\n",
    "Почему игры вышли на неактуальной приставке, разбираться мы не стали. Принимаем игры как исключение. Чтобы не влияли на время жизни платформы дату выпуска изменим на 2002 год. "
   ]
  },
  {
   "cell_type": "code",
   "execution_count": 136,
   "id": "0503a94b",
   "metadata": {
    "scrolled": true
   },
   "outputs": [
    {
     "data": {
      "text/html": [
       "<div>\n",
       "<style scoped>\n",
       "    .dataframe tbody tr th:only-of-type {\n",
       "        vertical-align: middle;\n",
       "    }\n",
       "\n",
       "    .dataframe tbody tr th {\n",
       "        vertical-align: top;\n",
       "    }\n",
       "\n",
       "    .dataframe thead th {\n",
       "        text-align: right;\n",
       "    }\n",
       "</style>\n",
       "<table border=\"1\" class=\"dataframe\">\n",
       "  <thead>\n",
       "    <tr style=\"text-align: right;\">\n",
       "      <th></th>\n",
       "      <th>name</th>\n",
       "      <th>platform</th>\n",
       "      <th>year_of_release</th>\n",
       "      <th>genre</th>\n",
       "      <th>na_sales</th>\n",
       "      <th>eu_sales</th>\n",
       "      <th>jp_sales</th>\n",
       "      <th>other_sales</th>\n",
       "      <th>critic_score</th>\n",
       "      <th>user_score</th>\n",
       "      <th>rating</th>\n",
       "      <th>total_sales</th>\n",
       "    </tr>\n",
       "  </thead>\n",
       "  <tbody>\n",
       "    <tr>\n",
       "      <th>5514</th>\n",
       "      <td>Sakura Wars 3: Paris wa Moeteiru ka</td>\n",
       "      <td>DC</td>\n",
       "      <td>2001</td>\n",
       "      <td>Adventure</td>\n",
       "      <td>0.00</td>\n",
       "      <td>0.00</td>\n",
       "      <td>0.33</td>\n",
       "      <td>0.00</td>\n",
       "      <td>NaN</td>\n",
       "      <td>NaN</td>\n",
       "      <td>E</td>\n",
       "      <td>0.33</td>\n",
       "    </tr>\n",
       "    <tr>\n",
       "      <th>6041</th>\n",
       "      <td>Sakura Wars 4: Koi Seyo,Otome</td>\n",
       "      <td>DC</td>\n",
       "      <td>2002</td>\n",
       "      <td>Adventure</td>\n",
       "      <td>0.00</td>\n",
       "      <td>0.00</td>\n",
       "      <td>0.29</td>\n",
       "      <td>0.00</td>\n",
       "      <td>NaN</td>\n",
       "      <td>NaN</td>\n",
       "      <td>NaN</td>\n",
       "      <td>0.29</td>\n",
       "    </tr>\n",
       "    <tr>\n",
       "      <th>14006</th>\n",
       "      <td>Pia Carrot e Youkoso!! 2.5</td>\n",
       "      <td>DC</td>\n",
       "      <td>2002</td>\n",
       "      <td>Adventure</td>\n",
       "      <td>0.00</td>\n",
       "      <td>0.00</td>\n",
       "      <td>0.04</td>\n",
       "      <td>0.00</td>\n",
       "      <td>NaN</td>\n",
       "      <td>NaN</td>\n",
       "      <td>E</td>\n",
       "      <td>0.04</td>\n",
       "    </tr>\n",
       "    <tr>\n",
       "      <th>15997</th>\n",
       "      <td>Triggerheart Exelica</td>\n",
       "      <td>DC</td>\n",
       "      <td>2002</td>\n",
       "      <td>Shooter</td>\n",
       "      <td>0.00</td>\n",
       "      <td>0.00</td>\n",
       "      <td>0.02</td>\n",
       "      <td>0.00</td>\n",
       "      <td>NaN</td>\n",
       "      <td>NaN</td>\n",
       "      <td>T</td>\n",
       "      <td>0.02</td>\n",
       "    </tr>\n",
       "  </tbody>\n",
       "</table>\n",
       "</div>"
      ],
      "text/plain": [
       "                                      name platform  year_of_release  \\\n",
       "5514   Sakura Wars 3: Paris wa Moeteiru ka       DC             2001   \n",
       "6041         Sakura Wars 4: Koi Seyo,Otome       DC             2002   \n",
       "14006           Pia Carrot e Youkoso!! 2.5       DC             2002   \n",
       "15997                 Triggerheart Exelica       DC             2002   \n",
       "\n",
       "           genre  na_sales  eu_sales  jp_sales  other_sales  critic_score  \\\n",
       "5514   Adventure      0.00      0.00      0.33         0.00           NaN   \n",
       "6041   Adventure      0.00      0.00      0.29         0.00           NaN   \n",
       "14006  Adventure      0.00      0.00      0.04         0.00           NaN   \n",
       "15997    Shooter      0.00      0.00      0.02         0.00           NaN   \n",
       "\n",
       "       user_score rating  total_sales  \n",
       "5514          NaN      E         0.33  \n",
       "6041          NaN    NaN         0.29  \n",
       "14006         NaN      E         0.04  \n",
       "15997         NaN      T         0.02  "
      ]
     },
     "execution_count": 136,
     "metadata": {},
     "output_type": "execute_result"
    }
   ],
   "source": [
    "# Исправляем\n",
    "df_games_prep.loc[[15997, 14006], 'year_of_release'] = 2002\n",
    "\n",
    "# Проверяем\n",
    "df_games_prep.query('platform == \"DC\" and year_of_release.isna()== False',\n",
    "                    engine='python').sort_values(by='year_of_release').tail(4)\n"
   ]
  },
  {
   "cell_type": "markdown",
   "id": "e8558ea1",
   "metadata": {},
   "source": [
    "Что получилось"
   ]
  },
  {
   "cell_type": "code",
   "execution_count": 137,
   "id": "808f8c4e",
   "metadata": {},
   "outputs": [
    {
     "data": {
      "image/png": "[encoded data removed]",
      "text/plain": [
       "<Figure size 1080x360 with 2 Axes>"
      ]
     },
     "metadata": {
      "needs_background": "light"
     },
     "output_type": "display_data"
    }
   ],
   "source": [
    "df_sales_by_platforms_pivot = df_games_prep.pivot_table(index = ['year_of_release'],\n",
    "                                             values = ['total_sales'], \n",
    "                                             columns='platform', \n",
    "                                             aggfunc='sum').reset_index()\n",
    "\n",
    "df_sales_by_platforms_pivot.set_index('year_of_release', inplace=True)\n",
    "\n",
    "fig, ax = plt.subplots(figsize=(15,5)) \n",
    "sns.heatmap(df_sales_by_platforms_pivot, ax=ax, cmap='RdYlGn')\n",
    "plt.show()"
   ]
  },
  {
   "cell_type": "markdown",
   "id": "94184453",
   "metadata": {},
   "source": [
    "Рарзрывов, которые нас беспокоили больше нет. Вот и хорошо."
   ]
  },
  {
   "cell_type": "markdown",
   "id": "c2b5ea32",
   "metadata": {},
   "source": [
    "<div style=\"border:solid green 2px; padding: 20px; border-radius: 15px;\">  \n",
    "\n",
    "**Резюмируем информацию** подготовка структуры данных:   </br></br>\n",
    "Структура данных для анализа подготовлена. Добавлен столбец общих продаж по всем регионам.\n",
    "</div>"
   ]
  },
  {
   "cell_type": "markdown",
   "id": "0573f564",
   "metadata": {},
   "source": [
    "## Шаг 4. Исследовательский анализ данных"
   ]
  },
  {
   "cell_type": "markdown",
   "id": "8d3c65db",
   "metadata": {},
   "source": [
    "### Игры в разные годы.\n",
    "Цитата из задания:\n",
    ">Посмотрите, сколько игр выпускалось в разные годы. Важны ли данные за все периоды?\n",
    "\n",
    "\"Сколько игр\", будем толковать как \"уникальных игр\", не \"игр по платформам\". Если игра вышла на 2 платформы, считаем за одну игру."
   ]
  },
  {
   "cell_type": "code",
   "execution_count": 139,
   "id": "3f1af714",
   "metadata": {
    "scrolled": true
   },
   "outputs": [
    {
     "data": {
      "text/plain": [
       "<AxesSubplot:title={'center':'Релизы игр по годам'}, xlabel='year_of_release'>"
      ]
     },
     "execution_count": 139,
     "metadata": {},
     "output_type": "execute_result"
    },
    {
     "data": {
      "image/png": "[encoded data removed]",
      "text/plain": [
       "<Figure size 1152x288 with 1 Axes>"
      ]
     },
     "metadata": {
      "needs_background": "light"
     },
     "output_type": "display_data"
    }
   ],
   "source": [
    "# Локализуем необходимые данные для работы по задаче.\n",
    "df = df_games_prep.loc[:,['name', 'year_of_release']].copy()\n",
    "\n",
    "# Убираем игры, которые встречаются больше 1 раза.\n",
    "df = df.drop_duplicates('name')\n",
    "\n",
    "df = df.groupby('year_of_release').count()\n",
    "df.plot (kind = 'bar', \n",
    "         figsize = (16, 4), \n",
    "         title = 'Релизы игр по годам',\n",
    "         legend = False,\n",
    "        #xlabel = 'Год релиза', #У меня локально отрабатывает норм. В кабинете Практикума пишет ошибку\n",
    "        #ylabel = 'Количество игр'\n",
    "        )"
   ]
  },
  {
   "cell_type": "markdown",
   "id": "478124eb",
   "metadata": {},
   "source": [
    "По диаграмме видно, что с 1991 года количество игр выпускаемых за год расло почти 20 лет до 2008 года. Затем был спад. В 2012 году игр было выпущено почти в 2 раза меньше, чем в 2011. Начиная с 2013 года число релизов выглядит относительно стабильно, если сравнивать с предыдущими 4 -10 годами.\n",
    "Поэтому для нас периоды до 2012 года представляют мало интереса. Данные за 2012 год и ранее можно считать не важными."
   ]
  },
  {
   "cell_type": "markdown",
   "id": "51078dc7",
   "metadata": {},
   "source": [
    "<div style=\"border:solid green 2px; padding: 20px; border-radius: 15px;\">  \n",
    "\n",
    "**Резюмируем информацию** по играм в разные годы:   </br>\n",
    "В период становления рынка до 1991 года, затем активного роста до 2011 года и существенного спада до 2012 года.Затем виден период стабильности. Данные в период стабильности 2013-2016 будем считать важными. Данные до этого периода не важными.  </br>\n",
    "\n",
    "Важны ли все данные? Ответ: Не важны, если нас интересует только период стабильности. Для других задач могут быть важны все данные.\n",
    "</div>"
   ]
  },
  {
   "cell_type": "markdown",
   "id": "a807fc10",
   "metadata": {},
   "source": [
    "### Продажи по платформам\n",
    "Цитата из задания:\n",
    ">Посмотрите, как менялись продажи по платформам. Выберите платформы с наибольшими суммарными продажами и постройте распределение по годам. За какой характерный срок появляются новые и исчезают старые платформы?\n",
    "\n",
    "Рассмотрим:\n",
    "- Платформы с наибольшими суммарными продажами\n",
    "- Распределение по годам\n",
    "- За какой срок появляются новые платформы\n",
    "- За какой срок исчезают старые платформы\n",
    "\n",
    "#### Платформы с наибольшими суммарными продажами"
   ]
  },
  {
   "cell_type": "code",
   "execution_count": 140,
   "id": "67c556e8",
   "metadata": {},
   "outputs": [
    {
     "name": "stdout",
     "output_type": "stream",
     "text": [
      "\n",
      "Топ 5 платформ по объему продаж:\n"
     ]
    },
    {
     "data": {
      "text/plain": [
       "platform\n",
       "PS2    1_233.56\n",
       "X360     961.24\n",
       "PS3      931.82\n",
       "Wii      891.18\n",
       "DS       802.78\n",
       "Name: total_sales, dtype: float64"
      ]
     },
     "metadata": {},
     "output_type": "display_data"
    }
   ],
   "source": [
    "df = df_games_prep.loc[:,['platform', 'year_of_release', 'total_sales']].copy()\n",
    "df_platfrom_top = df.groupby('platform')['total_sales'].sum().sort_values(ascending=False).head(5)\n",
    "print (\"\\nТоп 5 платформ по объему продаж:\")\n",
    "display(df_platfrom_top)"
   ]
  },
  {
   "cell_type": "markdown",
   "id": "a9327751",
   "metadata": {},
   "source": [
    "<div style=\"border:solid green 2px; padding: 20px; border-radius: 15px;\">  \n",
    "\n",
    "**Резюмируем информацию** платформы с наибольшими суммарными продажами:   </br></br>\n",
    "PS2 - платформа с наибольшими суммарными продажами. Было продано на 1 255.  \n",
    "X360 - вторая платформа по суммарным продажам. Показатель продаж составляет 971.\n",
    "</div>"
   ]
  },
  {
   "cell_type": "markdown",
   "id": "43e3fb42",
   "metadata": {},
   "source": [
    "#### Распределение по годам"
   ]
  },
  {
   "cell_type": "markdown",
   "id": "e0af9e29",
   "metadata": {},
   "source": [
    "Сформируем данные о суммарных продажах игр для 5 наиболее популярных платформ с группировкой по годам.\n",
    "Поскольку топ 5 платформ лидеров продаж мы уже нашли на предыдущем шаге, воспользуемся этим списком, чтобы подготовить данные по годам. "
   ]
  },
  {
   "cell_type": "code",
   "execution_count": 141,
   "id": "f37c2b63",
   "metadata": {},
   "outputs": [],
   "source": [
    "# Список наиболее популярных платформ\n",
    "list_platfrom_top = df_platfrom_top.index.tolist()"
   ]
  },
  {
   "cell_type": "code",
   "execution_count": 142,
   "id": "e78d87a1",
   "metadata": {},
   "outputs": [
    {
     "data": {
      "text/html": [
       "<div>\n",
       "<style scoped>\n",
       "    .dataframe tbody tr th:only-of-type {\n",
       "        vertical-align: middle;\n",
       "    }\n",
       "\n",
       "    .dataframe tbody tr th {\n",
       "        vertical-align: top;\n",
       "    }\n",
       "\n",
       "    .dataframe thead th {\n",
       "        text-align: right;\n",
       "    }\n",
       "</style>\n",
       "<table border=\"1\" class=\"dataframe\">\n",
       "  <thead>\n",
       "    <tr style=\"text-align: right;\">\n",
       "      <th></th>\n",
       "      <th>platform</th>\n",
       "      <th>year_of_release</th>\n",
       "      <th>total_sales</th>\n",
       "    </tr>\n",
       "  </thead>\n",
       "  <tbody>\n",
       "    <tr>\n",
       "      <th>0</th>\n",
       "      <td>Wii</td>\n",
       "      <td>2006</td>\n",
       "      <td>82.54</td>\n",
       "    </tr>\n",
       "    <tr>\n",
       "      <th>2</th>\n",
       "      <td>Wii</td>\n",
       "      <td>2008</td>\n",
       "      <td>35.52</td>\n",
       "    </tr>\n",
       "    <tr>\n",
       "      <th>3</th>\n",
       "      <td>Wii</td>\n",
       "      <td>2009</td>\n",
       "      <td>32.77</td>\n",
       "    </tr>\n",
       "    <tr>\n",
       "      <th>6</th>\n",
       "      <td>DS</td>\n",
       "      <td>2006</td>\n",
       "      <td>29.80</td>\n",
       "    </tr>\n",
       "    <tr>\n",
       "      <th>7</th>\n",
       "      <td>Wii</td>\n",
       "      <td>2006</td>\n",
       "      <td>28.91</td>\n",
       "    </tr>\n",
       "  </tbody>\n",
       "</table>\n",
       "</div>"
      ],
      "text/plain": [
       "  platform  year_of_release  total_sales\n",
       "0      Wii             2006        82.54\n",
       "2      Wii             2008        35.52\n",
       "3      Wii             2009        32.77\n",
       "6       DS             2006        29.80\n",
       "7      Wii             2006        28.91"
      ]
     },
     "metadata": {},
     "output_type": "display_data"
    },
    {
     "name": "stdout",
     "output_type": "stream",
     "text": [
      "Продажи Топ 5 платформ по годам. \n",
      "Платформы: ['Wii' 'DS' 'X360' 'PS3' 'PS2']\n"
     ]
    }
   ],
   "source": [
    "# Локализуем данные, возьмем наиболее популярные платформы\n",
    "df_sales_by_platforms = (df_games_prep.loc[:,['platform', 'year_of_release', 'total_sales']]\n",
    "                         .query('platform in @list_platfrom_top')\n",
    "                         .copy()\n",
    "                        )\n",
    "\n",
    "# Проверим, что в наборе данных\n",
    "display(df_sales_by_platforms.head(5))\n",
    "\n",
    "print (f\"Продажи Топ 5 платформ по годам. \\nПлатформы: {df_sales_by_platforms['platform'].unique()}\")"
   ]
  },
  {
   "cell_type": "code",
   "execution_count": 143,
   "id": "4a71b406",
   "metadata": {},
   "outputs": [],
   "source": [
    "# Агрегируем данные по платформам\n",
    "df_sales_by_platforms_pivot = df_sales_by_platforms.pivot_table(index = ['year_of_release'],\n",
    "                                             values = ['total_sales'], \n",
    "                                             columns='platform', \n",
    "                                             aggfunc='sum').reset_index()    "
   ]
  },
  {
   "cell_type": "code",
   "execution_count": 144,
   "id": "b466d622",
   "metadata": {},
   "outputs": [
    {
     "name": "stdout",
     "output_type": "stream",
     "text": [
      "Агрегированные данные по продажам на платформах\n"
     ]
    },
    {
     "data": {
      "text/html": [
       "<div>\n",
       "<style scoped>\n",
       "    .dataframe tbody tr th:only-of-type {\n",
       "        vertical-align: middle;\n",
       "    }\n",
       "\n",
       "    .dataframe tbody tr th {\n",
       "        vertical-align: top;\n",
       "    }\n",
       "\n",
       "    .dataframe thead tr th {\n",
       "        text-align: left;\n",
       "    }\n",
       "</style>\n",
       "<table border=\"1\" class=\"dataframe\">\n",
       "  <thead>\n",
       "    <tr>\n",
       "      <th></th>\n",
       "      <th>year_of_release</th>\n",
       "      <th colspan=\"5\" halign=\"left\">total_sales</th>\n",
       "    </tr>\n",
       "    <tr>\n",
       "      <th>platform</th>\n",
       "      <th></th>\n",
       "      <th>DS</th>\n",
       "      <th>PS2</th>\n",
       "      <th>PS3</th>\n",
       "      <th>Wii</th>\n",
       "      <th>X360</th>\n",
       "    </tr>\n",
       "  </thead>\n",
       "  <tbody>\n",
       "    <tr>\n",
       "      <th>0</th>\n",
       "      <td>2000</td>\n",
       "      <td>NaN</td>\n",
       "      <td>39.17</td>\n",
       "      <td>NaN</td>\n",
       "      <td>NaN</td>\n",
       "      <td>NaN</td>\n",
       "    </tr>\n",
       "    <tr>\n",
       "      <th>1</th>\n",
       "      <td>2001</td>\n",
       "      <td>NaN</td>\n",
       "      <td>166.43</td>\n",
       "      <td>NaN</td>\n",
       "      <td>NaN</td>\n",
       "      <td>NaN</td>\n",
       "    </tr>\n",
       "    <tr>\n",
       "      <th>2</th>\n",
       "      <td>2002</td>\n",
       "      <td>NaN</td>\n",
       "      <td>205.38</td>\n",
       "      <td>NaN</td>\n",
       "      <td>NaN</td>\n",
       "      <td>NaN</td>\n",
       "    </tr>\n",
       "    <tr>\n",
       "      <th>3</th>\n",
       "      <td>2003</td>\n",
       "      <td>NaN</td>\n",
       "      <td>184.31</td>\n",
       "      <td>NaN</td>\n",
       "      <td>NaN</td>\n",
       "      <td>NaN</td>\n",
       "    </tr>\n",
       "    <tr>\n",
       "      <th>4</th>\n",
       "      <td>2004</td>\n",
       "      <td>17.27</td>\n",
       "      <td>211.81</td>\n",
       "      <td>NaN</td>\n",
       "      <td>NaN</td>\n",
       "      <td>NaN</td>\n",
       "    </tr>\n",
       "    <tr>\n",
       "      <th>5</th>\n",
       "      <td>2005</td>\n",
       "      <td>130.14</td>\n",
       "      <td>160.66</td>\n",
       "      <td>NaN</td>\n",
       "      <td>NaN</td>\n",
       "      <td>8.25</td>\n",
       "    </tr>\n",
       "    <tr>\n",
       "      <th>6</th>\n",
       "      <td>2006</td>\n",
       "      <td>119.81</td>\n",
       "      <td>103.42</td>\n",
       "      <td>21.44</td>\n",
       "      <td>137.15</td>\n",
       "      <td>51.62</td>\n",
       "    </tr>\n",
       "    <tr>\n",
       "      <th>7</th>\n",
       "      <td>2007</td>\n",
       "      <td>146.94</td>\n",
       "      <td>75.99</td>\n",
       "      <td>73.19</td>\n",
       "      <td>152.77</td>\n",
       "      <td>95.41</td>\n",
       "    </tr>\n",
       "    <tr>\n",
       "      <th>8</th>\n",
       "      <td>2008</td>\n",
       "      <td>145.31</td>\n",
       "      <td>53.90</td>\n",
       "      <td>118.52</td>\n",
       "      <td>171.32</td>\n",
       "      <td>135.26</td>\n",
       "    </tr>\n",
       "    <tr>\n",
       "      <th>9</th>\n",
       "      <td>2009</td>\n",
       "      <td>119.54</td>\n",
       "      <td>26.40</td>\n",
       "      <td>130.93</td>\n",
       "      <td>206.97</td>\n",
       "      <td>120.29</td>\n",
       "    </tr>\n",
       "    <tr>\n",
       "      <th>10</th>\n",
       "      <td>2010</td>\n",
       "      <td>85.04</td>\n",
       "      <td>5.64</td>\n",
       "      <td>142.17</td>\n",
       "      <td>127.95</td>\n",
       "      <td>170.03</td>\n",
       "    </tr>\n",
       "    <tr>\n",
       "      <th>11</th>\n",
       "      <td>2011</td>\n",
       "      <td>26.18</td>\n",
       "      <td>0.45</td>\n",
       "      <td>156.78</td>\n",
       "      <td>59.65</td>\n",
       "      <td>143.84</td>\n",
       "    </tr>\n",
       "    <tr>\n",
       "      <th>12</th>\n",
       "      <td>2012</td>\n",
       "      <td>11.01</td>\n",
       "      <td>NaN</td>\n",
       "      <td>107.36</td>\n",
       "      <td>21.71</td>\n",
       "      <td>99.74</td>\n",
       "    </tr>\n",
       "    <tr>\n",
       "      <th>13</th>\n",
       "      <td>2013</td>\n",
       "      <td>1.54</td>\n",
       "      <td>NaN</td>\n",
       "      <td>113.25</td>\n",
       "      <td>8.59</td>\n",
       "      <td>88.58</td>\n",
       "    </tr>\n",
       "    <tr>\n",
       "      <th>14</th>\n",
       "      <td>2014</td>\n",
       "      <td>NaN</td>\n",
       "      <td>NaN</td>\n",
       "      <td>47.76</td>\n",
       "      <td>3.75</td>\n",
       "      <td>34.74</td>\n",
       "    </tr>\n",
       "    <tr>\n",
       "      <th>15</th>\n",
       "      <td>2015</td>\n",
       "      <td>NaN</td>\n",
       "      <td>NaN</td>\n",
       "      <td>16.82</td>\n",
       "      <td>1.14</td>\n",
       "      <td>11.96</td>\n",
       "    </tr>\n",
       "    <tr>\n",
       "      <th>16</th>\n",
       "      <td>2016</td>\n",
       "      <td>NaN</td>\n",
       "      <td>NaN</td>\n",
       "      <td>3.60</td>\n",
       "      <td>0.18</td>\n",
       "      <td>1.52</td>\n",
       "    </tr>\n",
       "  </tbody>\n",
       "</table>\n",
       "</div>"
      ],
      "text/plain": [
       "         year_of_release total_sales                            \n",
       "platform                          DS    PS2    PS3    Wii   X360\n",
       "0                   2000         NaN  39.17    NaN    NaN    NaN\n",
       "1                   2001         NaN 166.43    NaN    NaN    NaN\n",
       "2                   2002         NaN 205.38    NaN    NaN    NaN\n",
       "3                   2003         NaN 184.31    NaN    NaN    NaN\n",
       "4                   2004       17.27 211.81    NaN    NaN    NaN\n",
       "5                   2005      130.14 160.66    NaN    NaN   8.25\n",
       "6                   2006      119.81 103.42  21.44 137.15  51.62\n",
       "7                   2007      146.94  75.99  73.19 152.77  95.41\n",
       "8                   2008      145.31  53.90 118.52 171.32 135.26\n",
       "9                   2009      119.54  26.40 130.93 206.97 120.29\n",
       "10                  2010       85.04   5.64 142.17 127.95 170.03\n",
       "11                  2011       26.18   0.45 156.78  59.65 143.84\n",
       "12                  2012       11.01    NaN 107.36  21.71  99.74\n",
       "13                  2013        1.54    NaN 113.25   8.59  88.58\n",
       "14                  2014         NaN    NaN  47.76   3.75  34.74\n",
       "15                  2015         NaN    NaN  16.82   1.14  11.96\n",
       "16                  2016         NaN    NaN   3.60   0.18   1.52"
      ]
     },
     "execution_count": 144,
     "metadata": {},
     "output_type": "execute_result"
    }
   ],
   "source": [
    "print(\"Агрегированные данные по продажам на платформах\")\n",
    "df_sales_by_platforms_pivot"
   ]
  },
  {
   "cell_type": "code",
   "execution_count": 145,
   "id": "71df0c3b",
   "metadata": {},
   "outputs": [],
   "source": [
    "# Уберем мультииндекс, чтобы plot нормально отработал.\n",
    "df_sales_by_platforms_pivot.columns = df_sales_by_platforms_pivot.columns.droplevel(0)\n",
    "df_sales_by_platforms_pivot.rename(columns={'':'year_of_release'}, inplace=True)"
   ]
  },
  {
   "cell_type": "code",
   "execution_count": 147,
   "id": "78ccfc52",
   "metadata": {
    "scrolled": true
   },
   "outputs": [
    {
     "name": "stdout",
     "output_type": "stream",
     "text": [
      "Доход платформ по году выхода игр\n"
     ]
    },
    {
     "data": {
      "image/png": "[encoded data removed]",
      "text/plain": [
       "<Figure size 1152x288 with 1 Axes>"
      ]
     },
     "metadata": {
      "needs_background": "light"
     },
     "output_type": "display_data"
    }
   ],
   "source": [
    "df_sales_by_platforms_pivot.plot(x='year_of_release',\n",
    "                                    figsize=(16,4))\n",
    "print(\"Доход платформ по году выхода игр\")\n",
    "\n",
    "plt.xlabel(\"Год выхода игры\")\n",
    "plt.ylabel(\"Доход\")\n",
    "plt.show()"
   ]
  },
  {
   "cell_type": "markdown",
   "id": "322a8d4b",
   "metadata": {},
   "source": [
    "<div style=\"border:solid green 2px; padding: 20px; border-radius: 15px;\">  \n",
    "\n",
    "**Резюмируем информацию** распределение по годам:   </br>\n",
    "Видно, что топовые платформы проходили фазу роста, пик продаж и спад продаж.  \n",
    "PS2 и DS удалось подержаться на пике какое-то время. Меньше это получилось у X360 и PS3. Wii на своем пике держалась меньше остальных лидеров.\n",
    "</div>"
   ]
  },
  {
   "cell_type": "markdown",
   "id": "757423e2",
   "metadata": {},
   "source": [
    "#### За какой срок появляются новые платформы\n",
    "Вариант 2\n",
    "        Будем смотреть на самые ранние даты, когда платформа приносила доход.\n",
    "        Так у нас получится список: платформа - первый год продаж. Он нам покажет сколько платформ появилось за период лет. Возьмем среднее и узнаем как часто выходит новая платформа."
   ]
  },
  {
   "cell_type": "markdown",
   "id": "b4003b63",
   "metadata": {},
   "source": [
    "**Установка параметров**"
   ]
  },
  {
   "cell_type": "code",
   "execution_count": 148,
   "id": "1f2c7357",
   "metadata": {},
   "outputs": [],
   "source": [
    "# Какое число последних лет нас интересует. Например: Периоды последние 10, 5 лет\n",
    "years_of_interest = [34, 15, 10, 5]"
   ]
  },
  {
   "cell_type": "markdown",
   "id": "059bb475",
   "metadata": {},
   "source": [
    "**Функции**"
   ]
  },
  {
   "cell_type": "code",
   "execution_count": 149,
   "id": "3fae2c93",
   "metadata": {},
   "outputs": [],
   "source": [
    "#Функция возвращает среднее за последние N лет и границы периодов.\n",
    "def mean_period_last(df_full_period, num_years):\n",
    "    #Установим интервал лет, крайние даты.\n",
    "    last_year = df_full_period['year_of_release'].max()\n",
    "    first_year =  last_year - num_years + 1\n",
    "\n",
    "    release_qty = len(df_full_period.query('@first_year <= year_of_release <= @last_year'))\n",
    "\n",
    "    return {'first_year': first_year,\n",
    "                    'last_year': last_year,\n",
    "                    'qty': release_qty,\n",
    "                    'mean': num_years/release_qty }"
   ]
  },
  {
   "cell_type": "markdown",
   "id": "3b488133",
   "metadata": {},
   "source": [
    "**Решение**"
   ]
  },
  {
   "cell_type": "code",
   "execution_count": 150,
   "id": "8da76d47",
   "metadata": {},
   "outputs": [
    {
     "name": "stdout",
     "output_type": "stream",
     "text": [
      "За период 34 лет c 1980 по 2013 вышло 31 платформ. В среднем 1 платформа в  1.10 лет.\n",
      "За период 15 лет c 1999 по 2013 вышло 15 платформ. В среднем 1 платформа в  1.00 лет.\n",
      "За период 10 лет c 2004 по 2013 вышло 10 платформ. В среднем 1 платформа в  1.00 лет.\n",
      "За период 5 лет c 2009 по 2013 вышло 5 платформ. В среднем 1 платформа в  1.00 лет.\n"
     ]
    }
   ],
   "source": [
    "# Локализуем данные\n",
    "df = df_games_prep.loc[:,['platform', 'year_of_release']].copy()\n",
    "\n",
    "# Список платформ: в каком году первая игра на платформе \n",
    "df_plat_first_year = df.groupby('platform')['year_of_release'].min()\n",
    "df_plat_first_year = pd.DataFrame(df_plat_first_year)\n",
    "\n",
    "# Пройдемся по всем интересующим нас периодам\n",
    "for num_years in years_of_interest:\n",
    "    # Получим данные за период\n",
    "    r = mean_period_last(df_plat_first_year, num_years)\n",
    "    print(f'За период {num_years} лет c {r[\"first_year\"]} по {r[\"last_year\"]} вышло {r[\"qty\"]} платформ. В среднем 1 платформа в {r[\"mean\"]: .2f} лет.')"
   ]
  },
  {
   "cell_type": "markdown",
   "id": "cdb992b2",
   "metadata": {},
   "source": [
    "<div style=\"border:solid green 2px; padding: 20px; border-radius: 15px;\">  \n",
    "\n",
    "**Резюмируем информацию** За какой срок появляются новые платформы:   </br>\n",
    "Новая платформа появляется 1 раз в год.\n",
    "</div>"
   ]
  },
  {
   "cell_type": "markdown",
   "id": "853cf0e1",
   "metadata": {},
   "source": [
    "#### За какой срок исчезают старые платформы"
   ]
  },
  {
   "cell_type": "markdown",
   "id": "82e0fccf",
   "metadata": {},
   "source": [
    "    Здесь тоже не очень понятно, что имеется в виду. \"За какой срок исчезают\". Сколько исчезло платформ за период? Или среднее время жизни платформы? Или сколько живет платформа предыдущего поколения после выхода платформы нового поколения?\n",
    "    Поскольку нет возможности уточнить задачу, выберем наиболее вероятный, по нашим ощущениям, вариант: \"Среднее время жизни платформы\".\n",
    "    Для этого выясним год первых продаж, год последних продаж, расчитаем число лет продаж как разницу. Получим таблицу название платформы - число лет продаж.\n",
    "    Снова исключим PC, на этот раз по причине, что он жил жив и будет жить, а платформы приходят и уходят.\n",
    "\n",
    "    Учитываем только платформы для которых не выходят игры. Для этого исключим платформы с продажами в 2016 году. Поскольку свежее данных нет, то если были продажи в 2016 это означает, что на момент замера платформа ещё жива и сколько ей осталось мы не знаем. Другими словами, если уже в 2016 для платформы ни одна игра не вышла, считаем, что платформа исчезла."
   ]
  },
  {
   "cell_type": "code",
   "execution_count": 151,
   "id": "a9a6ed0b",
   "metadata": {},
   "outputs": [
    {
     "name": "stdout",
     "output_type": "stream",
     "text": [
      "Платформы с продажами в 2016 году\n"
     ]
    },
    {
     "data": {
      "text/plain": [
       "array(['PS4', '3DS', 'XOne', 'WiiU', 'PS3', 'PC', 'X360', 'PSV', 'Wii'],\n",
       "      dtype=object)"
      ]
     },
     "metadata": {},
     "output_type": "display_data"
    },
    {
     "name": "stdout",
     "output_type": "stream",
     "text": [
      "Первые и последние годы выхода игр для платформ\n"
     ]
    },
    {
     "data": {
      "text/html": [
       "<style type=\"text/css\">\n",
       "</style>\n",
       "<table id=\"T_29b55_\" style='display:inline'>\n",
       "  <caption>Годы выхода последних игр для платформ</caption>\n",
       "  <thead>\n",
       "    <tr>\n",
       "      <th class=\"blank level0\" >&nbsp;</th>\n",
       "      <th class=\"col_heading level0 col0\" >platform</th>\n",
       "      <th class=\"col_heading level0 col1\" >year_of_release</th>\n",
       "    </tr>\n",
       "  </thead>\n",
       "  <tbody>\n",
       "    <tr>\n",
       "      <th id=\"T_29b55_level0_row0\" class=\"row_heading level0 row0\" >0</th>\n",
       "      <td id=\"T_29b55_row0_col0\" class=\"data row0 col0\" >2600</td>\n",
       "      <td id=\"T_29b55_row0_col1\" class=\"data row0 col1\" >1989</td>\n",
       "    </tr>\n",
       "    <tr>\n",
       "      <th id=\"T_29b55_level0_row1\" class=\"row_heading level0 row1\" >1</th>\n",
       "      <td id=\"T_29b55_row1_col0\" class=\"data row1 col0\" >3DO</td>\n",
       "      <td id=\"T_29b55_row1_col1\" class=\"data row1 col1\" >1995</td>\n",
       "    </tr>\n",
       "    <tr>\n",
       "      <th id=\"T_29b55_level0_row2\" class=\"row_heading level0 row2\" >2</th>\n",
       "      <td id=\"T_29b55_row2_col0\" class=\"data row2 col0\" >DC</td>\n",
       "      <td id=\"T_29b55_row2_col1\" class=\"data row2 col1\" >2002</td>\n",
       "    </tr>\n",
       "    <tr>\n",
       "      <th id=\"T_29b55_level0_row3\" class=\"row_heading level0 row3\" >3</th>\n",
       "      <td id=\"T_29b55_row3_col0\" class=\"data row3 col0\" >DS</td>\n",
       "      <td id=\"T_29b55_row3_col1\" class=\"data row3 col1\" >2013</td>\n",
       "    </tr>\n",
       "    <tr>\n",
       "      <th id=\"T_29b55_level0_row4\" class=\"row_heading level0 row4\" >4</th>\n",
       "      <td id=\"T_29b55_row4_col0\" class=\"data row4 col0\" >GB</td>\n",
       "      <td id=\"T_29b55_row4_col1\" class=\"data row4 col1\" >2001</td>\n",
       "    </tr>\n",
       "    <tr>\n",
       "      <th id=\"T_29b55_level0_row5\" class=\"row_heading level0 row5\" >5</th>\n",
       "      <td id=\"T_29b55_row5_col0\" class=\"data row5 col0\" >GBA</td>\n",
       "      <td id=\"T_29b55_row5_col1\" class=\"data row5 col1\" >2007</td>\n",
       "    </tr>\n",
       "    <tr>\n",
       "      <th id=\"T_29b55_level0_row6\" class=\"row_heading level0 row6\" >6</th>\n",
       "      <td id=\"T_29b55_row6_col0\" class=\"data row6 col0\" >GC</td>\n",
       "      <td id=\"T_29b55_row6_col1\" class=\"data row6 col1\" >2007</td>\n",
       "    </tr>\n",
       "    <tr>\n",
       "      <th id=\"T_29b55_level0_row7\" class=\"row_heading level0 row7\" >7</th>\n",
       "      <td id=\"T_29b55_row7_col0\" class=\"data row7 col0\" >GEN</td>\n",
       "      <td id=\"T_29b55_row7_col1\" class=\"data row7 col1\" >1994</td>\n",
       "    </tr>\n",
       "    <tr>\n",
       "      <th id=\"T_29b55_level0_row8\" class=\"row_heading level0 row8\" >8</th>\n",
       "      <td id=\"T_29b55_row8_col0\" class=\"data row8 col0\" >GG</td>\n",
       "      <td id=\"T_29b55_row8_col1\" class=\"data row8 col1\" >1992</td>\n",
       "    </tr>\n",
       "    <tr>\n",
       "      <th id=\"T_29b55_level0_row9\" class=\"row_heading level0 row9\" >9</th>\n",
       "      <td id=\"T_29b55_row9_col0\" class=\"data row9 col0\" >N64</td>\n",
       "      <td id=\"T_29b55_row9_col1\" class=\"data row9 col1\" >2002</td>\n",
       "    </tr>\n",
       "    <tr>\n",
       "      <th id=\"T_29b55_level0_row10\" class=\"row_heading level0 row10\" >10</th>\n",
       "      <td id=\"T_29b55_row10_col0\" class=\"data row10 col0\" >NES</td>\n",
       "      <td id=\"T_29b55_row10_col1\" class=\"data row10 col1\" >1994</td>\n",
       "    </tr>\n",
       "    <tr>\n",
       "      <th id=\"T_29b55_level0_row11\" class=\"row_heading level0 row11\" >11</th>\n",
       "      <td id=\"T_29b55_row11_col0\" class=\"data row11 col0\" >NG</td>\n",
       "      <td id=\"T_29b55_row11_col1\" class=\"data row11 col1\" >1996</td>\n",
       "    </tr>\n",
       "    <tr>\n",
       "      <th id=\"T_29b55_level0_row12\" class=\"row_heading level0 row12\" >12</th>\n",
       "      <td id=\"T_29b55_row12_col0\" class=\"data row12 col0\" >PCFX</td>\n",
       "      <td id=\"T_29b55_row12_col1\" class=\"data row12 col1\" >1996</td>\n",
       "    </tr>\n",
       "    <tr>\n",
       "      <th id=\"T_29b55_level0_row13\" class=\"row_heading level0 row13\" >13</th>\n",
       "      <td id=\"T_29b55_row13_col0\" class=\"data row13 col0\" >PS</td>\n",
       "      <td id=\"T_29b55_row13_col1\" class=\"data row13 col1\" >2003</td>\n",
       "    </tr>\n",
       "    <tr>\n",
       "      <th id=\"T_29b55_level0_row14\" class=\"row_heading level0 row14\" >14</th>\n",
       "      <td id=\"T_29b55_row14_col0\" class=\"data row14 col0\" >PS2</td>\n",
       "      <td id=\"T_29b55_row14_col1\" class=\"data row14 col1\" >2011</td>\n",
       "    </tr>\n",
       "    <tr>\n",
       "      <th id=\"T_29b55_level0_row15\" class=\"row_heading level0 row15\" >15</th>\n",
       "      <td id=\"T_29b55_row15_col0\" class=\"data row15 col0\" >PSP</td>\n",
       "      <td id=\"T_29b55_row15_col1\" class=\"data row15 col1\" >2015</td>\n",
       "    </tr>\n",
       "    <tr>\n",
       "      <th id=\"T_29b55_level0_row16\" class=\"row_heading level0 row16\" >16</th>\n",
       "      <td id=\"T_29b55_row16_col0\" class=\"data row16 col0\" >SAT</td>\n",
       "      <td id=\"T_29b55_row16_col1\" class=\"data row16 col1\" >1999</td>\n",
       "    </tr>\n",
       "    <tr>\n",
       "      <th id=\"T_29b55_level0_row17\" class=\"row_heading level0 row17\" >17</th>\n",
       "      <td id=\"T_29b55_row17_col0\" class=\"data row17 col0\" >SCD</td>\n",
       "      <td id=\"T_29b55_row17_col1\" class=\"data row17 col1\" >1994</td>\n",
       "    </tr>\n",
       "    <tr>\n",
       "      <th id=\"T_29b55_level0_row18\" class=\"row_heading level0 row18\" >18</th>\n",
       "      <td id=\"T_29b55_row18_col0\" class=\"data row18 col0\" >SNES</td>\n",
       "      <td id=\"T_29b55_row18_col1\" class=\"data row18 col1\" >1999</td>\n",
       "    </tr>\n",
       "    <tr>\n",
       "      <th id=\"T_29b55_level0_row19\" class=\"row_heading level0 row19\" >19</th>\n",
       "      <td id=\"T_29b55_row19_col0\" class=\"data row19 col0\" >TG16</td>\n",
       "      <td id=\"T_29b55_row19_col1\" class=\"data row19 col1\" >1995</td>\n",
       "    </tr>\n",
       "    <tr>\n",
       "      <th id=\"T_29b55_level0_row20\" class=\"row_heading level0 row20\" >20</th>\n",
       "      <td id=\"T_29b55_row20_col0\" class=\"data row20 col0\" >WS</td>\n",
       "      <td id=\"T_29b55_row20_col1\" class=\"data row20 col1\" >2001</td>\n",
       "    </tr>\n",
       "    <tr>\n",
       "      <th id=\"T_29b55_level0_row21\" class=\"row_heading level0 row21\" >21</th>\n",
       "      <td id=\"T_29b55_row21_col0\" class=\"data row21 col0\" >XB</td>\n",
       "      <td id=\"T_29b55_row21_col1\" class=\"data row21 col1\" >2008</td>\n",
       "    </tr>\n",
       "  </tbody>\n",
       "</table>\n",
       "   <style type=\"text/css\">\n",
       "</style>\n",
       "<table id=\"T_2aed1_\" style='display:inline'>\n",
       "  <caption>Годы выхода первых игр для платформ</caption>\n",
       "  <thead>\n",
       "    <tr>\n",
       "      <th class=\"blank level0\" >&nbsp;</th>\n",
       "      <th class=\"col_heading level0 col0\" >platform</th>\n",
       "      <th class=\"col_heading level0 col1\" >year_of_release</th>\n",
       "    </tr>\n",
       "  </thead>\n",
       "  <tbody>\n",
       "    <tr>\n",
       "      <th id=\"T_2aed1_level0_row0\" class=\"row_heading level0 row0\" >0</th>\n",
       "      <td id=\"T_2aed1_row0_col0\" class=\"data row0 col0\" >2600</td>\n",
       "      <td id=\"T_2aed1_row0_col1\" class=\"data row0 col1\" >1980</td>\n",
       "    </tr>\n",
       "    <tr>\n",
       "      <th id=\"T_2aed1_level0_row1\" class=\"row_heading level0 row1\" >1</th>\n",
       "      <td id=\"T_2aed1_row1_col0\" class=\"data row1 col0\" >3DO</td>\n",
       "      <td id=\"T_2aed1_row1_col1\" class=\"data row1 col1\" >1994</td>\n",
       "    </tr>\n",
       "    <tr>\n",
       "      <th id=\"T_2aed1_level0_row2\" class=\"row_heading level0 row2\" >2</th>\n",
       "      <td id=\"T_2aed1_row2_col0\" class=\"data row2 col0\" >3DS</td>\n",
       "      <td id=\"T_2aed1_row2_col1\" class=\"data row2 col1\" >2011</td>\n",
       "    </tr>\n",
       "    <tr>\n",
       "      <th id=\"T_2aed1_level0_row3\" class=\"row_heading level0 row3\" >3</th>\n",
       "      <td id=\"T_2aed1_row3_col0\" class=\"data row3 col0\" >DC</td>\n",
       "      <td id=\"T_2aed1_row3_col1\" class=\"data row3 col1\" >1998</td>\n",
       "    </tr>\n",
       "    <tr>\n",
       "      <th id=\"T_2aed1_level0_row4\" class=\"row_heading level0 row4\" >4</th>\n",
       "      <td id=\"T_2aed1_row4_col0\" class=\"data row4 col0\" >DS</td>\n",
       "      <td id=\"T_2aed1_row4_col1\" class=\"data row4 col1\" >2004</td>\n",
       "    </tr>\n",
       "    <tr>\n",
       "      <th id=\"T_2aed1_level0_row5\" class=\"row_heading level0 row5\" >5</th>\n",
       "      <td id=\"T_2aed1_row5_col0\" class=\"data row5 col0\" >GB</td>\n",
       "      <td id=\"T_2aed1_row5_col1\" class=\"data row5 col1\" >1988</td>\n",
       "    </tr>\n",
       "    <tr>\n",
       "      <th id=\"T_2aed1_level0_row6\" class=\"row_heading level0 row6\" >6</th>\n",
       "      <td id=\"T_2aed1_row6_col0\" class=\"data row6 col0\" >GBA</td>\n",
       "      <td id=\"T_2aed1_row6_col1\" class=\"data row6 col1\" >2000</td>\n",
       "    </tr>\n",
       "    <tr>\n",
       "      <th id=\"T_2aed1_level0_row7\" class=\"row_heading level0 row7\" >7</th>\n",
       "      <td id=\"T_2aed1_row7_col0\" class=\"data row7 col0\" >GC</td>\n",
       "      <td id=\"T_2aed1_row7_col1\" class=\"data row7 col1\" >2001</td>\n",
       "    </tr>\n",
       "    <tr>\n",
       "      <th id=\"T_2aed1_level0_row8\" class=\"row_heading level0 row8\" >8</th>\n",
       "      <td id=\"T_2aed1_row8_col0\" class=\"data row8 col0\" >GEN</td>\n",
       "      <td id=\"T_2aed1_row8_col1\" class=\"data row8 col1\" >1990</td>\n",
       "    </tr>\n",
       "    <tr>\n",
       "      <th id=\"T_2aed1_level0_row9\" class=\"row_heading level0 row9\" >9</th>\n",
       "      <td id=\"T_2aed1_row9_col0\" class=\"data row9 col0\" >GG</td>\n",
       "      <td id=\"T_2aed1_row9_col1\" class=\"data row9 col1\" >1992</td>\n",
       "    </tr>\n",
       "    <tr>\n",
       "      <th id=\"T_2aed1_level0_row10\" class=\"row_heading level0 row10\" >10</th>\n",
       "      <td id=\"T_2aed1_row10_col0\" class=\"data row10 col0\" >N64</td>\n",
       "      <td id=\"T_2aed1_row10_col1\" class=\"data row10 col1\" >1996</td>\n",
       "    </tr>\n",
       "    <tr>\n",
       "      <th id=\"T_2aed1_level0_row11\" class=\"row_heading level0 row11\" >11</th>\n",
       "      <td id=\"T_2aed1_row11_col0\" class=\"data row11 col0\" >NES</td>\n",
       "      <td id=\"T_2aed1_row11_col1\" class=\"data row11 col1\" >1983</td>\n",
       "    </tr>\n",
       "    <tr>\n",
       "      <th id=\"T_2aed1_level0_row12\" class=\"row_heading level0 row12\" >12</th>\n",
       "      <td id=\"T_2aed1_row12_col0\" class=\"data row12 col0\" >NG</td>\n",
       "      <td id=\"T_2aed1_row12_col1\" class=\"data row12 col1\" >1993</td>\n",
       "    </tr>\n",
       "    <tr>\n",
       "      <th id=\"T_2aed1_level0_row13\" class=\"row_heading level0 row13\" >13</th>\n",
       "      <td id=\"T_2aed1_row13_col0\" class=\"data row13 col0\" >PC</td>\n",
       "      <td id=\"T_2aed1_row13_col1\" class=\"data row13 col1\" >1985</td>\n",
       "    </tr>\n",
       "    <tr>\n",
       "      <th id=\"T_2aed1_level0_row14\" class=\"row_heading level0 row14\" >14</th>\n",
       "      <td id=\"T_2aed1_row14_col0\" class=\"data row14 col0\" >PCFX</td>\n",
       "      <td id=\"T_2aed1_row14_col1\" class=\"data row14 col1\" >1996</td>\n",
       "    </tr>\n",
       "    <tr>\n",
       "      <th id=\"T_2aed1_level0_row15\" class=\"row_heading level0 row15\" >15</th>\n",
       "      <td id=\"T_2aed1_row15_col0\" class=\"data row15 col0\" >PS</td>\n",
       "      <td id=\"T_2aed1_row15_col1\" class=\"data row15 col1\" >1994</td>\n",
       "    </tr>\n",
       "    <tr>\n",
       "      <th id=\"T_2aed1_level0_row16\" class=\"row_heading level0 row16\" >16</th>\n",
       "      <td id=\"T_2aed1_row16_col0\" class=\"data row16 col0\" >PS2</td>\n",
       "      <td id=\"T_2aed1_row16_col1\" class=\"data row16 col1\" >2000</td>\n",
       "    </tr>\n",
       "    <tr>\n",
       "      <th id=\"T_2aed1_level0_row17\" class=\"row_heading level0 row17\" >17</th>\n",
       "      <td id=\"T_2aed1_row17_col0\" class=\"data row17 col0\" >PS3</td>\n",
       "      <td id=\"T_2aed1_row17_col1\" class=\"data row17 col1\" >2006</td>\n",
       "    </tr>\n",
       "    <tr>\n",
       "      <th id=\"T_2aed1_level0_row18\" class=\"row_heading level0 row18\" >18</th>\n",
       "      <td id=\"T_2aed1_row18_col0\" class=\"data row18 col0\" >PS4</td>\n",
       "      <td id=\"T_2aed1_row18_col1\" class=\"data row18 col1\" >2013</td>\n",
       "    </tr>\n",
       "    <tr>\n",
       "      <th id=\"T_2aed1_level0_row19\" class=\"row_heading level0 row19\" >19</th>\n",
       "      <td id=\"T_2aed1_row19_col0\" class=\"data row19 col0\" >PSP</td>\n",
       "      <td id=\"T_2aed1_row19_col1\" class=\"data row19 col1\" >2004</td>\n",
       "    </tr>\n",
       "    <tr>\n",
       "      <th id=\"T_2aed1_level0_row20\" class=\"row_heading level0 row20\" >20</th>\n",
       "      <td id=\"T_2aed1_row20_col0\" class=\"data row20 col0\" >PSV</td>\n",
       "      <td id=\"T_2aed1_row20_col1\" class=\"data row20 col1\" >2011</td>\n",
       "    </tr>\n",
       "    <tr>\n",
       "      <th id=\"T_2aed1_level0_row21\" class=\"row_heading level0 row21\" >21</th>\n",
       "      <td id=\"T_2aed1_row21_col0\" class=\"data row21 col0\" >SAT</td>\n",
       "      <td id=\"T_2aed1_row21_col1\" class=\"data row21 col1\" >1994</td>\n",
       "    </tr>\n",
       "    <tr>\n",
       "      <th id=\"T_2aed1_level0_row22\" class=\"row_heading level0 row22\" >22</th>\n",
       "      <td id=\"T_2aed1_row22_col0\" class=\"data row22 col0\" >SCD</td>\n",
       "      <td id=\"T_2aed1_row22_col1\" class=\"data row22 col1\" >1993</td>\n",
       "    </tr>\n",
       "    <tr>\n",
       "      <th id=\"T_2aed1_level0_row23\" class=\"row_heading level0 row23\" >23</th>\n",
       "      <td id=\"T_2aed1_row23_col0\" class=\"data row23 col0\" >SNES</td>\n",
       "      <td id=\"T_2aed1_row23_col1\" class=\"data row23 col1\" >1990</td>\n",
       "    </tr>\n",
       "    <tr>\n",
       "      <th id=\"T_2aed1_level0_row24\" class=\"row_heading level0 row24\" >24</th>\n",
       "      <td id=\"T_2aed1_row24_col0\" class=\"data row24 col0\" >TG16</td>\n",
       "      <td id=\"T_2aed1_row24_col1\" class=\"data row24 col1\" >1995</td>\n",
       "    </tr>\n",
       "    <tr>\n",
       "      <th id=\"T_2aed1_level0_row25\" class=\"row_heading level0 row25\" >25</th>\n",
       "      <td id=\"T_2aed1_row25_col0\" class=\"data row25 col0\" >WS</td>\n",
       "      <td id=\"T_2aed1_row25_col1\" class=\"data row25 col1\" >1999</td>\n",
       "    </tr>\n",
       "    <tr>\n",
       "      <th id=\"T_2aed1_level0_row26\" class=\"row_heading level0 row26\" >26</th>\n",
       "      <td id=\"T_2aed1_row26_col0\" class=\"data row26 col0\" >Wii</td>\n",
       "      <td id=\"T_2aed1_row26_col1\" class=\"data row26 col1\" >2006</td>\n",
       "    </tr>\n",
       "    <tr>\n",
       "      <th id=\"T_2aed1_level0_row27\" class=\"row_heading level0 row27\" >27</th>\n",
       "      <td id=\"T_2aed1_row27_col0\" class=\"data row27 col0\" >WiiU</td>\n",
       "      <td id=\"T_2aed1_row27_col1\" class=\"data row27 col1\" >2012</td>\n",
       "    </tr>\n",
       "    <tr>\n",
       "      <th id=\"T_2aed1_level0_row28\" class=\"row_heading level0 row28\" >28</th>\n",
       "      <td id=\"T_2aed1_row28_col0\" class=\"data row28 col0\" >X360</td>\n",
       "      <td id=\"T_2aed1_row28_col1\" class=\"data row28 col1\" >2005</td>\n",
       "    </tr>\n",
       "    <tr>\n",
       "      <th id=\"T_2aed1_level0_row29\" class=\"row_heading level0 row29\" >29</th>\n",
       "      <td id=\"T_2aed1_row29_col0\" class=\"data row29 col0\" >XB</td>\n",
       "      <td id=\"T_2aed1_row29_col1\" class=\"data row29 col1\" >2000</td>\n",
       "    </tr>\n",
       "    <tr>\n",
       "      <th id=\"T_2aed1_level0_row30\" class=\"row_heading level0 row30\" >30</th>\n",
       "      <td id=\"T_2aed1_row30_col0\" class=\"data row30 col0\" >XOne</td>\n",
       "      <td id=\"T_2aed1_row30_col1\" class=\"data row30 col1\" >2013</td>\n",
       "    </tr>\n",
       "  </tbody>\n",
       "</table>\n"
      ]
     },
     "metadata": {},
     "output_type": "display_data"
    }
   ],
   "source": [
    "## Платформы, последний год жизнию. Найдем\n",
    "\n",
    "# Локализуем данные\n",
    "df = df_games_prep.loc[:,['platform', 'year_of_release']].copy()\n",
    "\n",
    "# Найдем платформы, которые живы на момент сбора данных.\n",
    "df_still_alive = df.query('year_of_release == 2016')['platform']\n",
    "print(\"Платформы с продажами в 2016 году\")\n",
    "display(df_still_alive.unique())\n",
    "# Годы выхода последних игр для каждой платформы.\n",
    "df_plat_last_year = df.query('platform not in @df_still_alive').groupby('platform')['year_of_release'].max()\n",
    "df_plat_last_year = pd.DataFrame(df_plat_last_year)\n",
    "\n",
    "# Выведем две таблицы\n",
    "print(\"Первые и последние годы выхода игр для платформ\")\n",
    "df1_styler = df_plat_last_year.sort_index().reset_index().style.set_table_attributes(\"style='display:inline'\").set_caption('Годы выхода последних игр для платформ')\n",
    "df2_styler = df_plat_first_year.sort_index().reset_index().style.set_table_attributes(\"style='display:inline'\").set_caption('Годы выхода первых игр для платформ')\n",
    "\n",
    "display_html(df1_styler._repr_html_()+\"\\xa0\\xa0\\xa0\"+df2_styler._repr_html_(), raw=True)"
   ]
  },
  {
   "cell_type": "markdown",
   "id": "cc825c6d",
   "metadata": {},
   "source": [
    "Первый и последний годы платформ знаем. Также знаем платформы, которые еще не исчезли.\n",
    "Расчитаем срок жизни исчезнувших платформ."
   ]
  },
  {
   "cell_type": "code",
   "execution_count": 152,
   "id": "4cebd440",
   "metadata": {},
   "outputs": [
    {
     "name": "stdout",
     "output_type": "stream",
     "text": [
      "Продолжительность жизни платформ\n"
     ]
    },
    {
     "data": {
      "text/html": [
       "<div>\n",
       "<style scoped>\n",
       "    .dataframe tbody tr th:only-of-type {\n",
       "        vertical-align: middle;\n",
       "    }\n",
       "\n",
       "    .dataframe tbody tr th {\n",
       "        vertical-align: top;\n",
       "    }\n",
       "\n",
       "    .dataframe thead th {\n",
       "        text-align: right;\n",
       "    }\n",
       "</style>\n",
       "<table border=\"1\" class=\"dataframe\">\n",
       "  <thead>\n",
       "    <tr style=\"text-align: right;\">\n",
       "      <th></th>\n",
       "      <th>year_of_release_end</th>\n",
       "      <th>year_of_release_start</th>\n",
       "      <th>life_years</th>\n",
       "    </tr>\n",
       "    <tr>\n",
       "      <th>platform</th>\n",
       "      <th></th>\n",
       "      <th></th>\n",
       "      <th></th>\n",
       "    </tr>\n",
       "  </thead>\n",
       "  <tbody>\n",
       "    <tr>\n",
       "      <th>2600</th>\n",
       "      <td>1989</td>\n",
       "      <td>1980</td>\n",
       "      <td>10</td>\n",
       "    </tr>\n",
       "    <tr>\n",
       "      <th>3DO</th>\n",
       "      <td>1995</td>\n",
       "      <td>1994</td>\n",
       "      <td>2</td>\n",
       "    </tr>\n",
       "    <tr>\n",
       "      <th>DC</th>\n",
       "      <td>2002</td>\n",
       "      <td>1998</td>\n",
       "      <td>5</td>\n",
       "    </tr>\n",
       "    <tr>\n",
       "      <th>DS</th>\n",
       "      <td>2013</td>\n",
       "      <td>2004</td>\n",
       "      <td>10</td>\n",
       "    </tr>\n",
       "    <tr>\n",
       "      <th>GB</th>\n",
       "      <td>2001</td>\n",
       "      <td>1988</td>\n",
       "      <td>14</td>\n",
       "    </tr>\n",
       "    <tr>\n",
       "      <th>GBA</th>\n",
       "      <td>2007</td>\n",
       "      <td>2000</td>\n",
       "      <td>8</td>\n",
       "    </tr>\n",
       "    <tr>\n",
       "      <th>GC</th>\n",
       "      <td>2007</td>\n",
       "      <td>2001</td>\n",
       "      <td>7</td>\n",
       "    </tr>\n",
       "    <tr>\n",
       "      <th>GEN</th>\n",
       "      <td>1994</td>\n",
       "      <td>1990</td>\n",
       "      <td>5</td>\n",
       "    </tr>\n",
       "    <tr>\n",
       "      <th>GG</th>\n",
       "      <td>1992</td>\n",
       "      <td>1992</td>\n",
       "      <td>1</td>\n",
       "    </tr>\n",
       "    <tr>\n",
       "      <th>N64</th>\n",
       "      <td>2002</td>\n",
       "      <td>1996</td>\n",
       "      <td>7</td>\n",
       "    </tr>\n",
       "    <tr>\n",
       "      <th>NES</th>\n",
       "      <td>1994</td>\n",
       "      <td>1983</td>\n",
       "      <td>12</td>\n",
       "    </tr>\n",
       "    <tr>\n",
       "      <th>NG</th>\n",
       "      <td>1996</td>\n",
       "      <td>1993</td>\n",
       "      <td>4</td>\n",
       "    </tr>\n",
       "    <tr>\n",
       "      <th>PCFX</th>\n",
       "      <td>1996</td>\n",
       "      <td>1996</td>\n",
       "      <td>1</td>\n",
       "    </tr>\n",
       "    <tr>\n",
       "      <th>PS</th>\n",
       "      <td>2003</td>\n",
       "      <td>1994</td>\n",
       "      <td>10</td>\n",
       "    </tr>\n",
       "    <tr>\n",
       "      <th>PS2</th>\n",
       "      <td>2011</td>\n",
       "      <td>2000</td>\n",
       "      <td>12</td>\n",
       "    </tr>\n",
       "    <tr>\n",
       "      <th>PSP</th>\n",
       "      <td>2015</td>\n",
       "      <td>2004</td>\n",
       "      <td>12</td>\n",
       "    </tr>\n",
       "    <tr>\n",
       "      <th>SAT</th>\n",
       "      <td>1999</td>\n",
       "      <td>1994</td>\n",
       "      <td>6</td>\n",
       "    </tr>\n",
       "    <tr>\n",
       "      <th>SCD</th>\n",
       "      <td>1994</td>\n",
       "      <td>1993</td>\n",
       "      <td>2</td>\n",
       "    </tr>\n",
       "    <tr>\n",
       "      <th>SNES</th>\n",
       "      <td>1999</td>\n",
       "      <td>1990</td>\n",
       "      <td>10</td>\n",
       "    </tr>\n",
       "    <tr>\n",
       "      <th>TG16</th>\n",
       "      <td>1995</td>\n",
       "      <td>1995</td>\n",
       "      <td>1</td>\n",
       "    </tr>\n",
       "    <tr>\n",
       "      <th>WS</th>\n",
       "      <td>2001</td>\n",
       "      <td>1999</td>\n",
       "      <td>3</td>\n",
       "    </tr>\n",
       "    <tr>\n",
       "      <th>XB</th>\n",
       "      <td>2008</td>\n",
       "      <td>2000</td>\n",
       "      <td>9</td>\n",
       "    </tr>\n",
       "  </tbody>\n",
       "</table>\n",
       "</div>"
      ],
      "text/plain": [
       "          year_of_release_end  year_of_release_start  life_years\n",
       "platform                                                        \n",
       "2600                     1989                   1980          10\n",
       "3DO                      1995                   1994           2\n",
       "DC                       2002                   1998           5\n",
       "DS                       2013                   2004          10\n",
       "GB                       2001                   1988          14\n",
       "GBA                      2007                   2000           8\n",
       "GC                       2007                   2001           7\n",
       "GEN                      1994                   1990           5\n",
       "GG                       1992                   1992           1\n",
       "N64                      2002                   1996           7\n",
       "NES                      1994                   1983          12\n",
       "NG                       1996                   1993           4\n",
       "PCFX                     1996                   1996           1\n",
       "PS                       2003                   1994          10\n",
       "PS2                      2011                   2000          12\n",
       "PSP                      2015                   2004          12\n",
       "SAT                      1999                   1994           6\n",
       "SCD                      1994                   1993           2\n",
       "SNES                     1999                   1990          10\n",
       "TG16                     1995                   1995           1\n",
       "WS                       2001                   1999           3\n",
       "XB                       2008                   2000           9"
      ]
     },
     "metadata": {},
     "output_type": "display_data"
    },
    {
     "data": {
      "image/png": "[encoded data removed]",
      "text/plain": [
       "<Figure size 1008x216 with 1 Axes>"
      ]
     },
     "metadata": {
      "needs_background": "light"
     },
     "output_type": "display_data"
    },
    {
     "name": "stdout",
     "output_type": "stream",
     "text": [
      "Статистики продолжительности жизни платформ\n"
     ]
    },
    {
     "data": {
      "text/plain": [
       "count   22.00\n",
       "mean     6.86\n",
       "std      4.12\n",
       "min      1.00\n",
       "25%      3.25\n",
       "50%      7.00\n",
       "75%     10.00\n",
       "max     14.00\n",
       "Name: life_years, dtype: float64"
      ]
     },
     "execution_count": 152,
     "metadata": {},
     "output_type": "execute_result"
    }
   ],
   "source": [
    "# Присоединим таблицу с годами первых игр на платформе.\n",
    "df_plat_life_years = df_plat_last_year.join(df_plat_first_year, lsuffix='_end', rsuffix='_start')\n",
    "df_plat_life_years['life_years'] = (df_plat_life_years['year_of_release_end']\n",
    "                                            - df_plat_life_years['year_of_release_start']\n",
    "                                            +1\n",
    "                                            )\n",
    "print(\"Продолжительность жизни платформ\")\n",
    "display(df_plat_life_years)\n",
    "\n",
    "df_plat_life_years['life_years'].hist(bins =14, figsize=(14, 3))\n",
    "plt.title(\"Продолжительность жизни платформ\")\n",
    "plt.xlabel(\"Продолжительность жизни\")\n",
    "plt.ylabel(\"Количество платформ\")\n",
    "plt.show()\n",
    "print(\"Статистики продолжительности жизни платформ\")\n",
    "df_plat_life_years['life_years'].describe() #- Характерный срок."
   ]
  },
  {
   "cell_type": "markdown",
   "id": "e376191c",
   "metadata": {},
   "source": [
    "<div style=\"border:solid green 2px; padding: 20px; border-radius: 15px;\">  \n",
    "\n",
    "**Резюмируем информацию** за какой срок исчезают игры:   </br></br>\n",
    "Как говорят в народе: \"У всех по-разному\".  \n",
    "Глядя на гистограмму видно, что бывает и 2 года срок жизни платформы, а бывает и 14 лет.\n",
    "Рассчитанные статистики сообщают, что в среднем платформа живет почти 7 лет (6,86) при стандартном отклонении 4 года.\n",
    "</div>"
   ]
  },
  {
   "cell_type": "markdown",
   "id": "1b1d7104",
   "metadata": {},
   "source": [
    "#### Данные за актуальный период\n",
    "Цитата из задания:\n",
    "> Возьмите данные за соответствующий **актуальный период**. Актуальный период определите самостоятельно в результате исследования предыдущих вопросов. Основной фактор - эти данные помогут построить прогноз на 2017 год.  \n",
    "> Не учитывайте в работе данные за предыдущие годы.  \n",
    "\n",
    "Ранее в задании использовалось слова \"важны\", теперь \"актуальный\". Поскольку указание на противоположное нет, будем считать, что под словами \"важный\" и \"актуальный\" подразумевается одно и то же.\n",
    "Ранее установили, что года за период 2013-2016 будем считать важными. Данные до этого периода не важными. Соответственно период 2013-2016 принимаем как актуальный."
   ]
  },
  {
   "cell_type": "code",
   "execution_count": 153,
   "id": "71f62707",
   "metadata": {},
   "outputs": [
    {
     "name": "stdout",
     "output_type": "stream",
     "text": [
      "\n",
      "Состав данных за период 2013-2016\n",
      "\n",
      "<class 'pandas.core.frame.DataFrame'>\n",
      "Int64Index: 2233 entries, 16 to 16714\n",
      "Data columns (total 12 columns):\n",
      " #   Column           Non-Null Count  Dtype  \n",
      "---  ------           --------------  -----  \n",
      " 0   name             2233 non-null   object \n",
      " 1   platform         2233 non-null   object \n",
      " 2   year_of_release  2233 non-null   int16  \n",
      " 3   genre            2233 non-null   object \n",
      " 4   na_sales         2233 non-null   float64\n",
      " 5   eu_sales         2233 non-null   float64\n",
      " 6   jp_sales         2233 non-null   float64\n",
      " 7   other_sales      2233 non-null   float64\n",
      " 8   critic_score     991 non-null    float64\n",
      " 9   user_score       1192 non-null   float64\n",
      " 10  rating           1913 non-null   object \n",
      " 11  total_sales      2233 non-null   float64\n",
      "dtypes: float64(7), int16(1), object(4)\n",
      "memory usage: 213.7+ KB\n"
     ]
    }
   ],
   "source": [
    "#Локализуем данные\n",
    "df_actual = df_games_prep.query('year_of_release >= 2013')\n",
    "print(\"\\nСостав данных за период 2013-2016\\n\")\n",
    "df_actual.info()"
   ]
  },
  {
   "cell_type": "markdown",
   "id": "4bbbe0d3",
   "metadata": {},
   "source": [
    "<div style=\"border:solid green 2px; padding: 20px; border-radius: 15px;\">  \n",
    "\n",
    "**Резюмируем информацию** игры в актуальный период:   </br></br>\n",
    "За актуальный период в нашем распоряжении 2233 записи.\n",
    "</div>"
   ]
  },
  {
   "cell_type": "markdown",
   "id": "6c254b7b",
   "metadata": {},
   "source": [
    "#### Потенциально прибыльные платформы\n",
    "Цитата из задания:\n",
    "> Какие платформы лидируют по продажам, растут или падают?  \n",
    "> Выберите несколько потенциально прибыльных платформ.  \n",
    "\n",
    "Для выполнения задания:\n",
    "1. Найдем лидеров продаж за актуальный период\n",
    "2. Определим лидеров роста продаж.\n",
    "3. Определим лидеров падения продаж.\n",
    "\n",
    "##### Лидеры продаж 2013 - 2016\n",
    "Найдем лидеров продаж"
   ]
  },
  {
   "cell_type": "code",
   "execution_count": 154,
   "id": "ea8c1f23",
   "metadata": {},
   "outputs": [
    {
     "data": {
      "image/png": "[encoded data removed]",
      "text/plain": [
       "<Figure size 432x288 with 1 Axes>"
      ]
     },
     "metadata": {},
     "output_type": "display_data"
    },
    {
     "name": "stdout",
     "output_type": "stream",
     "text": [
      "Лидеры продаж 2013-2016\n"
     ]
    },
    {
     "data": {
      "text/plain": [
       "platform\n",
       "PS4    314.14\n",
       "PS3    181.43\n",
       "XOne   159.32\n",
       "3DS    143.25\n",
       "X360   136.80\n",
       "WiiU    64.63\n",
       "PC      39.43\n",
       "PSV     32.99\n",
       "Wii     13.66\n",
       "PSP      3.50\n",
       "DS       1.54\n",
       "Name: total_sales, dtype: float64"
      ]
     },
     "execution_count": 154,
     "metadata": {},
     "output_type": "execute_result"
    }
   ],
   "source": [
    "df = df_actual.groupby('platform')['total_sales'].sum().sort_values(ascending=False)\n",
    "\n",
    "df.plot(kind=\"pie\")\n",
    "plt.title(\"Продолжительность жизни платформ\")\n",
    "plt.show()\n",
    "\n",
    "print(\"Лидеры продаж 2013-2016\")\n",
    "df"
   ]
  },
  {
   "cell_type": "markdown",
   "id": "d33e560d",
   "metadata": {},
   "source": [
    "<div style=\"border:solid green 2px; padding: 20px; border-radius: 15px;\">  \n",
    "\n",
    "**Резюмируем информацию** Лидеры продаж:   </br></br>\n",
    "Больше всего продаж в 2013-2016 на платформах PS4, PS3, XOne, 3DS, X360.\n",
    "При этом PS4 является безусловным лидером среди лидеров.\n",
    "</div>"
   ]
  },
  {
   "cell_type": "markdown",
   "id": "cf5350d3",
   "metadata": {},
   "source": [
    "##### Лидеры роста и падения продаж 2013 - 2016\n",
    "Соберем данные продаж по платформам за 2013 - 2016 года. Определим кто рос, кто падал."
   ]
  },
  {
   "cell_type": "code",
   "execution_count": 155,
   "id": "2f8cb108",
   "metadata": {
    "scrolled": false
   },
   "outputs": [
    {
     "data": {
      "text/html": [
       "<div>\n",
       "<style scoped>\n",
       "    .dataframe tbody tr th:only-of-type {\n",
       "        vertical-align: middle;\n",
       "    }\n",
       "\n",
       "    .dataframe tbody tr th {\n",
       "        vertical-align: top;\n",
       "    }\n",
       "\n",
       "    .dataframe thead th {\n",
       "        text-align: right;\n",
       "    }\n",
       "</style>\n",
       "<table border=\"1\" class=\"dataframe\">\n",
       "  <thead>\n",
       "    <tr style=\"text-align: right;\">\n",
       "      <th></th>\n",
       "      <th></th>\n",
       "      <th>total_sales</th>\n",
       "    </tr>\n",
       "    <tr>\n",
       "      <th>platform</th>\n",
       "      <th>year_of_release</th>\n",
       "      <th></th>\n",
       "    </tr>\n",
       "  </thead>\n",
       "  <tbody>\n",
       "    <tr>\n",
       "      <th rowspan=\"4\" valign=\"top\">3DS</th>\n",
       "      <th>2013</th>\n",
       "      <td>56.57</td>\n",
       "    </tr>\n",
       "    <tr>\n",
       "      <th>2014</th>\n",
       "      <td>43.76</td>\n",
       "    </tr>\n",
       "    <tr>\n",
       "      <th>2015</th>\n",
       "      <td>27.78</td>\n",
       "    </tr>\n",
       "    <tr>\n",
       "      <th>2016</th>\n",
       "      <td>15.14</td>\n",
       "    </tr>\n",
       "    <tr>\n",
       "      <th>DS</th>\n",
       "      <th>2013</th>\n",
       "      <td>1.54</td>\n",
       "    </tr>\n",
       "    <tr>\n",
       "      <th rowspan=\"4\" valign=\"top\">PC</th>\n",
       "      <th>2013</th>\n",
       "      <td>12.38</td>\n",
       "    </tr>\n",
       "    <tr>\n",
       "      <th>2014</th>\n",
       "      <td>13.28</td>\n",
       "    </tr>\n",
       "    <tr>\n",
       "      <th>2015</th>\n",
       "      <td>8.52</td>\n",
       "    </tr>\n",
       "    <tr>\n",
       "      <th>2016</th>\n",
       "      <td>5.25</td>\n",
       "    </tr>\n",
       "    <tr>\n",
       "      <th rowspan=\"4\" valign=\"top\">PS3</th>\n",
       "      <th>2013</th>\n",
       "      <td>113.25</td>\n",
       "    </tr>\n",
       "    <tr>\n",
       "      <th>2014</th>\n",
       "      <td>47.76</td>\n",
       "    </tr>\n",
       "    <tr>\n",
       "      <th>2015</th>\n",
       "      <td>16.82</td>\n",
       "    </tr>\n",
       "    <tr>\n",
       "      <th>2016</th>\n",
       "      <td>3.60</td>\n",
       "    </tr>\n",
       "    <tr>\n",
       "      <th rowspan=\"4\" valign=\"top\">PS4</th>\n",
       "      <th>2013</th>\n",
       "      <td>25.99</td>\n",
       "    </tr>\n",
       "    <tr>\n",
       "      <th>2014</th>\n",
       "      <td>100.00</td>\n",
       "    </tr>\n",
       "    <tr>\n",
       "      <th>2015</th>\n",
       "      <td>118.90</td>\n",
       "    </tr>\n",
       "    <tr>\n",
       "      <th>2016</th>\n",
       "      <td>69.25</td>\n",
       "    </tr>\n",
       "    <tr>\n",
       "      <th rowspan=\"3\" valign=\"top\">PSP</th>\n",
       "      <th>2013</th>\n",
       "      <td>3.14</td>\n",
       "    </tr>\n",
       "    <tr>\n",
       "      <th>2014</th>\n",
       "      <td>0.24</td>\n",
       "    </tr>\n",
       "    <tr>\n",
       "      <th>2015</th>\n",
       "      <td>0.12</td>\n",
       "    </tr>\n",
       "    <tr>\n",
       "      <th rowspan=\"4\" valign=\"top\">PSV</th>\n",
       "      <th>2013</th>\n",
       "      <td>10.59</td>\n",
       "    </tr>\n",
       "    <tr>\n",
       "      <th>2014</th>\n",
       "      <td>11.90</td>\n",
       "    </tr>\n",
       "    <tr>\n",
       "      <th>2015</th>\n",
       "      <td>6.25</td>\n",
       "    </tr>\n",
       "    <tr>\n",
       "      <th>2016</th>\n",
       "      <td>4.25</td>\n",
       "    </tr>\n",
       "    <tr>\n",
       "      <th rowspan=\"4\" valign=\"top\">Wii</th>\n",
       "      <th>2013</th>\n",
       "      <td>8.59</td>\n",
       "    </tr>\n",
       "    <tr>\n",
       "      <th>2014</th>\n",
       "      <td>3.75</td>\n",
       "    </tr>\n",
       "    <tr>\n",
       "      <th>2015</th>\n",
       "      <td>1.14</td>\n",
       "    </tr>\n",
       "    <tr>\n",
       "      <th>2016</th>\n",
       "      <td>0.18</td>\n",
       "    </tr>\n",
       "    <tr>\n",
       "      <th rowspan=\"4\" valign=\"top\">WiiU</th>\n",
       "      <th>2013</th>\n",
       "      <td>21.65</td>\n",
       "    </tr>\n",
       "    <tr>\n",
       "      <th>2014</th>\n",
       "      <td>22.03</td>\n",
       "    </tr>\n",
       "    <tr>\n",
       "      <th>2015</th>\n",
       "      <td>16.35</td>\n",
       "    </tr>\n",
       "    <tr>\n",
       "      <th>2016</th>\n",
       "      <td>4.60</td>\n",
       "    </tr>\n",
       "    <tr>\n",
       "      <th rowspan=\"4\" valign=\"top\">X360</th>\n",
       "      <th>2013</th>\n",
       "      <td>88.58</td>\n",
       "    </tr>\n",
       "    <tr>\n",
       "      <th>2014</th>\n",
       "      <td>34.74</td>\n",
       "    </tr>\n",
       "    <tr>\n",
       "      <th>2015</th>\n",
       "      <td>11.96</td>\n",
       "    </tr>\n",
       "    <tr>\n",
       "      <th>2016</th>\n",
       "      <td>1.52</td>\n",
       "    </tr>\n",
       "    <tr>\n",
       "      <th rowspan=\"4\" valign=\"top\">XOne</th>\n",
       "      <th>2013</th>\n",
       "      <td>18.96</td>\n",
       "    </tr>\n",
       "    <tr>\n",
       "      <th>2014</th>\n",
       "      <td>54.07</td>\n",
       "    </tr>\n",
       "    <tr>\n",
       "      <th>2015</th>\n",
       "      <td>60.14</td>\n",
       "    </tr>\n",
       "    <tr>\n",
       "      <th>2016</th>\n",
       "      <td>26.15</td>\n",
       "    </tr>\n",
       "  </tbody>\n",
       "</table>\n",
       "</div>"
      ],
      "text/plain": [
       "                          total_sales\n",
       "platform year_of_release             \n",
       "3DS      2013                   56.57\n",
       "         2014                   43.76\n",
       "         2015                   27.78\n",
       "         2016                   15.14\n",
       "DS       2013                    1.54\n",
       "PC       2013                   12.38\n",
       "         2014                   13.28\n",
       "         2015                    8.52\n",
       "         2016                    5.25\n",
       "PS3      2013                  113.25\n",
       "         2014                   47.76\n",
       "         2015                   16.82\n",
       "         2016                    3.60\n",
       "PS4      2013                   25.99\n",
       "         2014                  100.00\n",
       "         2015                  118.90\n",
       "         2016                   69.25\n",
       "PSP      2013                    3.14\n",
       "         2014                    0.24\n",
       "         2015                    0.12\n",
       "PSV      2013                   10.59\n",
       "         2014                   11.90\n",
       "         2015                    6.25\n",
       "         2016                    4.25\n",
       "Wii      2013                    8.59\n",
       "         2014                    3.75\n",
       "         2015                    1.14\n",
       "         2016                    0.18\n",
       "WiiU     2013                   21.65\n",
       "         2014                   22.03\n",
       "         2015                   16.35\n",
       "         2016                    4.60\n",
       "X360     2013                   88.58\n",
       "         2014                   34.74\n",
       "         2015                   11.96\n",
       "         2016                    1.52\n",
       "XOne     2013                   18.96\n",
       "         2014                   54.07\n",
       "         2015                   60.14\n",
       "         2016                   26.15"
      ]
     },
     "metadata": {},
     "output_type": "display_data"
    }
   ],
   "source": [
    "# Расчитаем суммарные продажи по годам и платформам.\n",
    "df = df_actual.groupby(['platform', 'year_of_release'])['total_sales'].sum()\n",
    "\n",
    "df1 = pd.DataFrame(df)\n",
    "df1.reset_index()\n",
    "display(df1)\n"
   ]
  },
  {
   "cell_type": "markdown",
   "id": "ef9e1e59",
   "metadata": {},
   "source": [
    "Нас предупреждали, что за 2016 год данные неполные. Из таблицы мы видим, что ни одна платформа не выросла в 2016 году по отношению к 2015. Будем считать, что это связанно с неполными данными за 2016 год. Значит смотрим на рост 2013-2015. \n",
    "\n",
    "Растут платформы:\n",
    "- PS4\n",
    "- XOne\n",
    "\n",
    "Падают платформы:  \n",
    "- 3DS\n",
    "- PS3\n",
    "- PSP\n",
    "- PSV\n",
    "- Wii\n",
    "- WiiU\n",
    "- X360\n"
   ]
  },
  {
   "cell_type": "markdown",
   "id": "2ee6ef8f",
   "metadata": {},
   "source": [
    "<div style=\"border:solid green 2px; padding: 20px; border-radius: 15px;\">  \n",
    "\n",
    "**Резюмируем информацию** по потенциально прибыльным платформам:   </br>\n",
    "Две платформы выросли PS4 и XOne, они же лидеры продаж. Их и будем считать потенциально прибыльными.\n",
    "\n",
    "При этом в асболютном выражении продажи для PS4 в два раза больше.\n",
    "Остальные платформы показали снижение продаж.\n",
    "</div>"
   ]
  },
  {
   "cell_type": "markdown",
   "id": "47bdb047",
   "metadata": {},
   "source": [
    "#### Глобальные продажи по платформам\n",
    "Цитата задания:\n",
    "> Постройте график «ящик с усами» по глобальным продажам игр в разбивке по платформам. Опишите результат.\n"
   ]
  },
  {
   "cell_type": "code",
   "execution_count": 156,
   "id": "a6d909a8",
   "metadata": {},
   "outputs": [
    {
     "data": {
      "image/png": "[encoded data removed]",
      "text/plain": [
       "<Figure size 432x288 with 1 Axes>"
      ]
     },
     "metadata": {
      "needs_background": "light"
     },
     "output_type": "display_data"
    }
   ],
   "source": [
    "df_actual.boxplot(column = 'total_sales', by='platform')\n",
    "plt.title(\"Ящик с усами. 2013-2016. Продажи по платформам\")\n",
    "plt.xlabel(\"Платформа\")\n",
    "plt.ylabel(\"Объем продаж\")\n",
    "plt.show()"
   ]
  },
  {
   "cell_type": "markdown",
   "id": "8f84c043",
   "metadata": {},
   "source": [
    "<div class=\"alert alert-info\" style=\"border-radius: 15px; box-shadow: 4px 4px 4px; border: 1px solid \">\n",
    "<h3> Комментарий студента: Двойной заголовок <a class=\"tocSkip\"></h3>\n",
    "    К сожалению, я не понимаю, почему выводятся и накладываются друг на друга два заголовка.\n",
    "</div> "
   ]
  },
  {
   "cell_type": "markdown",
   "id": "16f0f161",
   "metadata": {},
   "source": [
    "Продажи по большинству игр не превышают 1.  \n",
    "Много выбросов видим у PS4 - лидера роста продаж.  \n",
    "Вторая платформа по выбросам - 3DS, а не XOne, как можно было бы ожидать.  \n",
    "3DS мы не отнесли к числу растущих, теперь видим, что на платформе есть сильные игры. Если бы задача стояла вложиться в 3 самые продаваемые игры, то игр для XOne мы не выбрали бы."
   ]
  },
  {
   "cell_type": "markdown",
   "id": "d85a4d93",
   "metadata": {},
   "source": [
    "<div style=\"border:solid green 2px; padding: 20px; border-radius: 15px;\">  \n",
    "\n",
    "**Резюмируем информацию** по глобальные продажи по платформам:   </br>\n",
    "В актуальном периоде для растущих платформ самые продаваемые игры выпущены PS4.\n",
    "Максимальные продажи были у игры для PS3. Хорошие пики продаж были у 3DS и X360.\n",
    "</div>"
   ]
  },
  {
   "cell_type": "markdown",
   "id": "c767cfd1",
   "metadata": {},
   "source": [
    "#### Зависимость продаж от оценок для PS4\n",
    "Цитата из задания\n",
    "> Посмотрите, как влияют на продажи внутри одной популярной платформы отзывы пользователей и критиков. Постройте диаграмму рассеяния и посчитайте корреляцию между отзывами и продажами. Сформулируйте выводы.\n",
    "\n",
    "Приступаем:  \n",
    "1. Построим диаграммы рассеяния для PS4. Нас интересует:  \n",
    "   - Взаимосвязь продаж и отзывов пользователей.   \n",
    "   - Взаимосвязь продаж и оценок критиков.  \n",
    "2. Рассчитаем корреляцию между отзывами и продажами.\n",
    "\n",
    "Выберем платформу PS4, поскольку это лидер продаж."
   ]
  },
  {
   "cell_type": "code",
   "execution_count": 159,
   "id": "bfcc3423",
   "metadata": {},
   "outputs": [],
   "source": [
    "# поскольку потребуется соотносить разные платформы в следующем задании, то сделаем функцию.\n",
    "def platform_sales_scores(platform):\n",
    "    # Отберем данные для работы.\n",
    "    df = df_actual.loc[df_actual['platform']==platform,['total_sales', 'user_score', 'critic_score']].copy()\n",
    "    pd.plotting.scatter_matrix(df, figsize=(9, 9))\n",
    "    plt.title(\"Матрица рассеяния\") #Не выводится, дублирую print'ом\n",
    "    print(f'\\n Зависимость продаж от оценок для {platform}')\n",
    "    print('\\n Матрица рассеяния')\n",
    "    plt.show()\n",
    "    print('\\n Матрица корреляции')\n",
    "    display(df.corr())"
   ]
  },
  {
   "cell_type": "code",
   "execution_count": 160,
   "id": "d0c3f29f",
   "metadata": {},
   "outputs": [
    {
     "name": "stdout",
     "output_type": "stream",
     "text": [
      "\n",
      " Зависимость продаж от оценок для PS4\n",
      "\n",
      " Матрица рассеяния\n"
     ]
    },
    {
     "data": {
      "image/png": "[encoded data removed]",
      "text/plain": [
       "<Figure size 648x648 with 9 Axes>"
      ]
     },
     "metadata": {
      "needs_background": "light"
     },
     "output_type": "display_data"
    },
    {
     "name": "stdout",
     "output_type": "stream",
     "text": [
      "\n",
      " Матрица корреляции\n"
     ]
    },
    {
     "data": {
      "text/html": [
       "<div>\n",
       "<style scoped>\n",
       "    .dataframe tbody tr th:only-of-type {\n",
       "        vertical-align: middle;\n",
       "    }\n",
       "\n",
       "    .dataframe tbody tr th {\n",
       "        vertical-align: top;\n",
       "    }\n",
       "\n",
       "    .dataframe thead th {\n",
       "        text-align: right;\n",
       "    }\n",
       "</style>\n",
       "<table border=\"1\" class=\"dataframe\">\n",
       "  <thead>\n",
       "    <tr style=\"text-align: right;\">\n",
       "      <th></th>\n",
       "      <th>total_sales</th>\n",
       "      <th>user_score</th>\n",
       "      <th>critic_score</th>\n",
       "    </tr>\n",
       "  </thead>\n",
       "  <tbody>\n",
       "    <tr>\n",
       "      <th>total_sales</th>\n",
       "      <td>1.00</td>\n",
       "      <td>-0.03</td>\n",
       "      <td>0.41</td>\n",
       "    </tr>\n",
       "    <tr>\n",
       "      <th>user_score</th>\n",
       "      <td>-0.03</td>\n",
       "      <td>1.00</td>\n",
       "      <td>0.56</td>\n",
       "    </tr>\n",
       "    <tr>\n",
       "      <th>critic_score</th>\n",
       "      <td>0.41</td>\n",
       "      <td>0.56</td>\n",
       "      <td>1.00</td>\n",
       "    </tr>\n",
       "  </tbody>\n",
       "</table>\n",
       "</div>"
      ],
      "text/plain": [
       "              total_sales  user_score  critic_score\n",
       "total_sales          1.00       -0.03          0.41\n",
       "user_score          -0.03        1.00          0.56\n",
       "critic_score         0.41        0.56          1.00"
      ]
     },
     "metadata": {},
     "output_type": "display_data"
    }
   ],
   "source": [
    "platform_sales_scores('PS4')"
   ]
  },
  {
   "cell_type": "markdown",
   "id": "df566aa0",
   "metadata": {},
   "source": [
    "\n",
    "**Корреляция между отзывами и продажами**  \n",
    "Коэффициент корреляции Пирсона слишком близок к нулю, чтобы говорить о корреляции.\n",
    "Вывод простой. Хорошая с точки зрения пользователей либо критиков игра не обязательно станет чемпионом продаж."
   ]
  },
  {
   "cell_type": "markdown",
   "id": "464d819a",
   "metadata": {},
   "source": [
    "<div style=\"border:solid green 2px; padding: 20px; border-radius: 15px;\">  \n",
    "\n",
    "**Резюмируем информацию** Зависимость продаж от оценок игр PS4:   </br></br>\n",
    "Корелляционная зависимость между продажами и отзывами для PS4 не выявлена.\n",
    "</div>"
   ]
  },
  {
   "cell_type": "markdown",
   "id": "113a1380",
   "metadata": {},
   "source": [
    "#### Зависисомость продаж от оценок сравнение платформ\n",
    "\n",
    "Цитата из задания:\n",
    "> Соотнесите выводы с продажами игр на других платформах.\n",
    "\n",
    "Соотнесем с продажами на XOne (второй из лидеров продаж) и 3DS, где были замечены сильные рекордсмены продаж.  \n",
    "**Изучим данные по XOne**"
   ]
  },
  {
   "cell_type": "code",
   "execution_count": 161,
   "id": "81332cd9",
   "metadata": {
    "scrolled": true
   },
   "outputs": [
    {
     "name": "stdout",
     "output_type": "stream",
     "text": [
      "\n",
      " Зависимость продаж от оценок для XOne\n",
      "\n",
      " Матрица рассеяния\n"
     ]
    },
    {
     "data": {
      "image/png": "[encoded data removed]",
      "text/plain": [
       "<Figure size 648x648 with 9 Axes>"
      ]
     },
     "metadata": {
      "needs_background": "light"
     },
     "output_type": "display_data"
    },
    {
     "name": "stdout",
     "output_type": "stream",
     "text": [
      "\n",
      " Матрица корреляции\n"
     ]
    },
    {
     "data": {
      "text/html": [
       "<div>\n",
       "<style scoped>\n",
       "    .dataframe tbody tr th:only-of-type {\n",
       "        vertical-align: middle;\n",
       "    }\n",
       "\n",
       "    .dataframe tbody tr th {\n",
       "        vertical-align: top;\n",
       "    }\n",
       "\n",
       "    .dataframe thead th {\n",
       "        text-align: right;\n",
       "    }\n",
       "</style>\n",
       "<table border=\"1\" class=\"dataframe\">\n",
       "  <thead>\n",
       "    <tr style=\"text-align: right;\">\n",
       "      <th></th>\n",
       "      <th>total_sales</th>\n",
       "      <th>user_score</th>\n",
       "      <th>critic_score</th>\n",
       "    </tr>\n",
       "  </thead>\n",
       "  <tbody>\n",
       "    <tr>\n",
       "      <th>total_sales</th>\n",
       "      <td>1.00</td>\n",
       "      <td>-0.07</td>\n",
       "      <td>0.42</td>\n",
       "    </tr>\n",
       "    <tr>\n",
       "      <th>user_score</th>\n",
       "      <td>-0.07</td>\n",
       "      <td>1.00</td>\n",
       "      <td>0.47</td>\n",
       "    </tr>\n",
       "    <tr>\n",
       "      <th>critic_score</th>\n",
       "      <td>0.42</td>\n",
       "      <td>0.47</td>\n",
       "      <td>1.00</td>\n",
       "    </tr>\n",
       "  </tbody>\n",
       "</table>\n",
       "</div>"
      ],
      "text/plain": [
       "              total_sales  user_score  critic_score\n",
       "total_sales          1.00       -0.07          0.42\n",
       "user_score          -0.07        1.00          0.47\n",
       "critic_score         0.42        0.47          1.00"
      ]
     },
     "metadata": {},
     "output_type": "display_data"
    }
   ],
   "source": [
    "platform_sales_scores('XOne')"
   ]
  },
  {
   "cell_type": "markdown",
   "id": "9cf34a21",
   "metadata": {},
   "source": [
    "**Изучим данные по 3DS**"
   ]
  },
  {
   "cell_type": "code",
   "execution_count": 162,
   "id": "bc5683bb",
   "metadata": {
    "scrolled": true
   },
   "outputs": [
    {
     "name": "stdout",
     "output_type": "stream",
     "text": [
      "\n",
      " Зависимость продаж от оценок для 3DS\n",
      "\n",
      " Матрица рассеяния\n"
     ]
    },
    {
     "data": {
      "image/png": "[encoded data removed]",
      "text/plain": [
       "<Figure size 648x648 with 9 Axes>"
      ]
     },
     "metadata": {
      "needs_background": "light"
     },
     "output_type": "display_data"
    },
    {
     "name": "stdout",
     "output_type": "stream",
     "text": [
      "\n",
      " Матрица корреляции\n"
     ]
    },
    {
     "data": {
      "text/html": [
       "<div>\n",
       "<style scoped>\n",
       "    .dataframe tbody tr th:only-of-type {\n",
       "        vertical-align: middle;\n",
       "    }\n",
       "\n",
       "    .dataframe tbody tr th {\n",
       "        vertical-align: top;\n",
       "    }\n",
       "\n",
       "    .dataframe thead th {\n",
       "        text-align: right;\n",
       "    }\n",
       "</style>\n",
       "<table border=\"1\" class=\"dataframe\">\n",
       "  <thead>\n",
       "    <tr style=\"text-align: right;\">\n",
       "      <th></th>\n",
       "      <th>total_sales</th>\n",
       "      <th>user_score</th>\n",
       "      <th>critic_score</th>\n",
       "    </tr>\n",
       "  </thead>\n",
       "  <tbody>\n",
       "    <tr>\n",
       "      <th>total_sales</th>\n",
       "      <td>1.00</td>\n",
       "      <td>0.24</td>\n",
       "      <td>0.36</td>\n",
       "    </tr>\n",
       "    <tr>\n",
       "      <th>user_score</th>\n",
       "      <td>0.24</td>\n",
       "      <td>1.00</td>\n",
       "      <td>0.77</td>\n",
       "    </tr>\n",
       "    <tr>\n",
       "      <th>critic_score</th>\n",
       "      <td>0.36</td>\n",
       "      <td>0.77</td>\n",
       "      <td>1.00</td>\n",
       "    </tr>\n",
       "  </tbody>\n",
       "</table>\n",
       "</div>"
      ],
      "text/plain": [
       "              total_sales  user_score  critic_score\n",
       "total_sales          1.00        0.24          0.36\n",
       "user_score           0.24        1.00          0.77\n",
       "critic_score         0.36        0.77          1.00"
      ]
     },
     "metadata": {},
     "output_type": "display_data"
    }
   ],
   "source": [
    "platform_sales_scores('3DS')"
   ]
  },
  {
   "cell_type": "markdown",
   "id": "a133a0b2",
   "metadata": {},
   "source": [
    "Игроки любят Nintendo. Ясно видно по смещению user_score в область максимальных оценок. Nintendo круты в создании игр, это правда.\n",
    "На продажи по-прежнему не влияют ни оценки пользователей ни критиков. Но интересно, что критики и пользователи максимально единодушны на этой платформе - корреляция 0,86 сильный показатель.\n",
    "\n",
    "Здесь уместно добавить, что топ 14 самых продаваемых игр за всю историю сбора даных были проданы на платформах Nintendo. Оцените:"
   ]
  },
  {
   "cell_type": "code",
   "execution_count": 163,
   "id": "d3579f27",
   "metadata": {
    "scrolled": true
   },
   "outputs": [
    {
     "name": "stdout",
     "output_type": "stream",
     "text": [
      "Игры лидеры продаж по платформам\n"
     ]
    },
    {
     "data": {
      "text/html": [
       "<div>\n",
       "<style scoped>\n",
       "    .dataframe tbody tr th:only-of-type {\n",
       "        vertical-align: middle;\n",
       "    }\n",
       "\n",
       "    .dataframe tbody tr th {\n",
       "        vertical-align: top;\n",
       "    }\n",
       "\n",
       "    .dataframe thead th {\n",
       "        text-align: right;\n",
       "    }\n",
       "</style>\n",
       "<table border=\"1\" class=\"dataframe\">\n",
       "  <thead>\n",
       "    <tr style=\"text-align: right;\">\n",
       "      <th></th>\n",
       "      <th>name</th>\n",
       "      <th>platform</th>\n",
       "      <th>total_sales</th>\n",
       "    </tr>\n",
       "  </thead>\n",
       "  <tbody>\n",
       "    <tr>\n",
       "      <th>0</th>\n",
       "      <td>Wii Sports</td>\n",
       "      <td>Wii</td>\n",
       "      <td>82.54</td>\n",
       "    </tr>\n",
       "    <tr>\n",
       "      <th>1</th>\n",
       "      <td>Super Mario Bros.</td>\n",
       "      <td>NES</td>\n",
       "      <td>40.24</td>\n",
       "    </tr>\n",
       "    <tr>\n",
       "      <th>2</th>\n",
       "      <td>Mario Kart Wii</td>\n",
       "      <td>Wii</td>\n",
       "      <td>35.52</td>\n",
       "    </tr>\n",
       "    <tr>\n",
       "      <th>3</th>\n",
       "      <td>Wii Sports Resort</td>\n",
       "      <td>Wii</td>\n",
       "      <td>32.77</td>\n",
       "    </tr>\n",
       "    <tr>\n",
       "      <th>4</th>\n",
       "      <td>Pokemon Red/Pokemon Blue</td>\n",
       "      <td>GB</td>\n",
       "      <td>31.38</td>\n",
       "    </tr>\n",
       "    <tr>\n",
       "      <th>5</th>\n",
       "      <td>Tetris</td>\n",
       "      <td>GB</td>\n",
       "      <td>30.26</td>\n",
       "    </tr>\n",
       "    <tr>\n",
       "      <th>6</th>\n",
       "      <td>New Super Mario Bros.</td>\n",
       "      <td>DS</td>\n",
       "      <td>29.80</td>\n",
       "    </tr>\n",
       "    <tr>\n",
       "      <th>7</th>\n",
       "      <td>Wii Play</td>\n",
       "      <td>Wii</td>\n",
       "      <td>28.91</td>\n",
       "    </tr>\n",
       "    <tr>\n",
       "      <th>8</th>\n",
       "      <td>New Super Mario Bros. Wii</td>\n",
       "      <td>Wii</td>\n",
       "      <td>28.32</td>\n",
       "    </tr>\n",
       "    <tr>\n",
       "      <th>9</th>\n",
       "      <td>Duck Hunt</td>\n",
       "      <td>NES</td>\n",
       "      <td>28.31</td>\n",
       "    </tr>\n",
       "    <tr>\n",
       "      <th>10</th>\n",
       "      <td>Nintendogs</td>\n",
       "      <td>DS</td>\n",
       "      <td>24.67</td>\n",
       "    </tr>\n",
       "    <tr>\n",
       "      <th>11</th>\n",
       "      <td>Mario Kart DS</td>\n",
       "      <td>DS</td>\n",
       "      <td>23.21</td>\n",
       "    </tr>\n",
       "    <tr>\n",
       "      <th>12</th>\n",
       "      <td>Pokemon Gold/Pokemon Silver</td>\n",
       "      <td>GB</td>\n",
       "      <td>23.09</td>\n",
       "    </tr>\n",
       "    <tr>\n",
       "      <th>13</th>\n",
       "      <td>Wii Fit</td>\n",
       "      <td>Wii</td>\n",
       "      <td>22.70</td>\n",
       "    </tr>\n",
       "    <tr>\n",
       "      <th>14</th>\n",
       "      <td>Kinect Adventures!</td>\n",
       "      <td>X360</td>\n",
       "      <td>21.82</td>\n",
       "    </tr>\n",
       "  </tbody>\n",
       "</table>\n",
       "</div>"
      ],
      "text/plain": [
       "                           name platform  total_sales\n",
       "0                    Wii Sports      Wii        82.54\n",
       "1             Super Mario Bros.      NES        40.24\n",
       "2                Mario Kart Wii      Wii        35.52\n",
       "3             Wii Sports Resort      Wii        32.77\n",
       "4      Pokemon Red/Pokemon Blue       GB        31.38\n",
       "5                        Tetris       GB        30.26\n",
       "6         New Super Mario Bros.       DS        29.80\n",
       "7                      Wii Play      Wii        28.91\n",
       "8     New Super Mario Bros. Wii      Wii        28.32\n",
       "9                     Duck Hunt      NES        28.31\n",
       "10                   Nintendogs       DS        24.67\n",
       "11                Mario Kart DS       DS        23.21\n",
       "12  Pokemon Gold/Pokemon Silver       GB        23.09\n",
       "13                      Wii Fit      Wii        22.70\n",
       "14           Kinect Adventures!     X360        21.82"
      ]
     },
     "execution_count": 163,
     "metadata": {},
     "output_type": "execute_result"
    }
   ],
   "source": [
    "print(\"Игры лидеры продаж по платформам\")\n",
    "df_games_prep.loc[:,['name', 'platform', 'total_sales']].sort_values(by='total_sales', ascending = False). head(15)"
   ]
  },
  {
   "cell_type": "markdown",
   "id": "d8a83d08",
   "metadata": {},
   "source": [
    "Картина изменится, если смотреть игры в отрыве от платформ:"
   ]
  },
  {
   "cell_type": "code",
   "execution_count": 164,
   "id": "9f4f4828",
   "metadata": {},
   "outputs": [
    {
     "name": "stdout",
     "output_type": "stream",
     "text": [
      "Игры лидеры продаж\n"
     ]
    },
    {
     "data": {
      "text/plain": [
       "name\n",
       "Wii Sports                       82.54\n",
       "Grand Theft Auto V               56.58\n",
       "Super Mario Bros.                45.31\n",
       "Tetris                           35.84\n",
       "Mario Kart Wii                   35.52\n",
       "Wii Sports Resort                32.77\n",
       "Pokemon Red/Pokemon Blue         31.38\n",
       "Call of Duty: Modern Warfare 3   30.60\n",
       "New Super Mario Bros.            29.80\n",
       "Call of Duty: Black Ops II       29.40\n",
       "Call of Duty: Black Ops          29.20\n",
       "Wii Play                         28.91\n",
       "New Super Mario Bros. Wii        28.32\n",
       "Duck Hunt                        28.31\n",
       "Call of Duty: Ghosts             27.39\n",
       "Name: total_sales, dtype: float64"
      ]
     },
     "execution_count": 164,
     "metadata": {},
     "output_type": "execute_result"
    }
   ],
   "source": [
    "print(\"Игры лидеры продаж\")\n",
    "df_games_prep.loc[:,['name', 'platform', 'total_sales']].groupby('name')['total_sales'].sum().sort_values( ascending = False). head(15)"
   ]
  },
  {
   "cell_type": "markdown",
   "id": "e0697d18",
   "metadata": {},
   "source": [
    "Игра Wii Sports по-прежнему занимает первое место. Второе место \"Grand Theft Auto V\". Места с 3 по 7 игры Nintendo.\n",
    "\n",
    "Примечательно, что лидер с отрывом в 1.5 раза от номера 2, игра Wii Sports. 29 апреля 2022 выходит [Sports для Свича](https://www.nintendo.ru/-/Nintendo-Switch/Nintendo-Switch-Sports-2168292.html) - скорей бы уже. "
   ]
  },
  {
   "cell_type": "markdown",
   "id": "1681c9c2",
   "metadata": {},
   "source": [
    "<div style=\"border:solid green 2px; padding: 20px; border-radius: 15px;\">  \n",
    "\n",
    "**Резюмируем информацию** зависимость продаж игр для платформ от оценок:   </br></br>\n",
    "Для XOne, 3DS как и для PS4 корелляционная зависимость между продажами и оценками не обнаружена.\n",
    "</div>"
   ]
  },
  {
   "cell_type": "markdown",
   "id": "ce224908",
   "metadata": {},
   "source": [
    "####  Игровые жанры\n",
    "Цитата из задания:\n",
    "> Посмотрите на общее распределение игр по жанрам. Что можно сказать о самых прибыльных жанрах? Выделяются ли жанры с высокими и низкими продажами?\n",
    "\n",
    "Формулировка \"выделяются ли жанры\" не ясна. Формально она, без сомнений выделяется так или иначе, например в большую или меньшую сторону. Будем считать, что от нас требуется сопоставить жанры с высокими продажами и жанры с низкими продажами, обнаружить общее и различия.\n",
    "\n",
    "От нас требуется:\n",
    "- Посмотреть распределение игр по жанрам.\n",
    "- Посмотреть самые прибыльные жанры.\n",
    "- Сопосавить жанры с высокими продажами и жанры с низкими продажами."
   ]
  },
  {
   "cell_type": "markdown",
   "id": "d73486c4",
   "metadata": {},
   "source": [
    "##### Распределение игр по жанрам\n",
    "1. Возмем необходимые данные.\n",
    "2. Проверим, что название одной и той же игры одинаково; не зависит от платформы, на которой она выпущена. Иногда добавляют к названию игры название платформы. Если одна и та же игра на рызных платформах называется одинаково, мы увидим этот факт при помощи группировки по названию игры.\n",
    "3. Посмотрим для каких жанров сколько выпущено игр. Это и будет распределением игр по жанрам. Для популярных жанров игр выпущено больше.\n",
    "\n",
    "**Проверим назания игр**"
   ]
  },
  {
   "cell_type": "code",
   "execution_count": 165,
   "id": "1117f619",
   "metadata": {
    "scrolled": true
   },
   "outputs": [
    {
     "data": {
      "text/plain": [
       "name\n",
       "LEGO Marvel Super Heroes        9\n",
       "FIFA 14                         9\n",
       "LEGO Jurassic World             8\n",
       "Angry Birds Star Wars           8\n",
       "Lego Batman 3: Beyond Gotham    8\n",
       "FIFA 15                         8\n",
       "The LEGO Movie Videogame        8\n",
       "Name: name, dtype: int64"
      ]
     },
     "execution_count": 165,
     "metadata": {},
     "output_type": "execute_result"
    }
   ],
   "source": [
    "#Локализуем данные\n",
    "df = df_actual.loc[:,['name', 'genre', 'total_sales']].copy()\n",
    "\n",
    "#Проверим повторяемость названий\n",
    "df_games = df.groupby(['name'])['name'].count().sort_values(ascending=False)\n",
    "df_games.head(7)\n",
    "\n"
   ]
  },
  {
   "cell_type": "markdown",
   "id": "a255cf35",
   "metadata": {},
   "source": [
    "Видно, что некоторые игры выходили на 9 и меньшем числе платформ. Анализировать все ли игры названы одинаково, если выходили на разных платформах мы не станем. Доверимся составителям набора данных.\n",
    "\n",
    "**Количество игр в жанрах**"
   ]
  },
  {
   "cell_type": "code",
   "execution_count": 166,
   "id": "ffcc3baf",
   "metadata": {
    "scrolled": true
   },
   "outputs": [
    {
     "data": {
      "image/png": "[encoded data removed]",
      "text/plain": [
       "<Figure size 1008x216 with 1 Axes>"
      ]
     },
     "metadata": {
      "needs_background": "light"
     },
     "output_type": "display_data"
    },
    {
     "name": "stdout",
     "output_type": "stream",
     "text": [
      "Доход по жанрам за 2013-2016\n"
     ]
    },
    {
     "data": {
      "text/plain": [
       "genre\n",
       "Action          402\n",
       "Role-Playing    207\n",
       "Adventure       179\n",
       "Misc            102\n",
       "Shooter          76\n",
       "Sports           75\n",
       "Simulation       48\n",
       "Fighting         47\n",
       "Strategy         42\n",
       "Platform         37\n",
       "Racing           36\n",
       "Puzzle           12\n",
       "Name: genre, dtype: int64"
      ]
     },
     "execution_count": 166,
     "metadata": {},
     "output_type": "execute_result"
    }
   ],
   "source": [
    "#Удалим дубли игр для разных платформ и построим диаграмму\n",
    "df1 = df.drop_duplicates(['name','genre']).groupby(['genre'])['genre'].count().sort_values(ascending=False)\n",
    "df1.plot(kind='bar', figsize=(14, 3))\n",
    "\n",
    "plt.title(\"Число игр в жанрах в 2013-2016\")\n",
    "plt.xlabel(\"Игровой жанр\")\n",
    "plt.ylabel(\"Количество игр\")\n",
    "\n",
    "plt.show()\n",
    "print(\"Доход по жанрам за 2013-2016\")\n",
    "df1"
   ]
  },
  {
   "cell_type": "markdown",
   "id": "23f23ee2",
   "metadata": {},
   "source": [
    "Больше всего игр в жанрах Action, ролевые игры, приключения. Головоломок выпускают меньше всего. Неужели, хорошую головоломку придумать сложнее, чем хороший экшн, или мало кто любит головоломки?\n",
    "\n",
    "##### Самые прибыльные жанры"
   ]
  },
  {
   "cell_type": "code",
   "execution_count": 167,
   "id": "def5e14b",
   "metadata": {},
   "outputs": [
    {
     "data": {
      "image/png": "[encoded data removed]",
      "text/plain": [
       "<Figure size 432x288 with 1 Axes>"
      ]
     },
     "metadata": {
      "needs_background": "light"
     },
     "output_type": "display_data"
    }
   ],
   "source": [
    "df.loc[:,['genre', \"total_sales\"]].groupby('genre')['total_sales'].sum().sort_values(ascending=False).plot(kind='bar')\n",
    "plt.title(\"Доход по жанрам\")\n",
    "plt.xlabel(\"Игровой жанр\")\n",
    "plt.ylabel(\"Доход\")\n",
    "plt.show()"
   ]
  },
  {
   "cell_type": "markdown",
   "id": "db070ec9",
   "metadata": {},
   "source": [
    "Интересно, то шутеров не так много, но это один из самых прибыльных жанров, как и спортивные игры. Жанр Action самый прибыльный и для него больше всего игр.\n",
    "\n",
    "**Жанры с высокими и низкими продажми**  \n",
    "Сильно выделяются жанры с высоким продажами: Action, шутеры, спортивные игры, ролевые игры. Остальные жанры - это жанры с низкими продажами."
   ]
  },
  {
   "cell_type": "markdown",
   "id": "b20e8256",
   "metadata": {},
   "source": [
    "<div style=\"border:solid green 2px; padding: 20px; border-radius: 15px;\">  \n",
    "\n",
    "**Резюмируем информацию** про игровые жанры:   </br>\n",
    "Жанр экшн явный лидер по числу выпускаемых игр. Следующий за ним жанр ролевых игр отстает более чем в два раза. При этом по уровню дохода жанр ролевых игр находится на четвертом месте. Второе место по доходу занимают шутеры. По этому показателю они не сильно отстают от экшн игрзато по числу выпускаемых игр шутеров в 6 раз меньше.\n",
    "Про четверку жанров лидеров по объему продаж можно сказать, что она заметно выделяется на фоне остальных жанров.\n",
    "</div>"
   ]
  },
  {
   "cell_type": "code",
   "execution_count": 168,
   "id": "aef13416",
   "metadata": {},
   "outputs": [
    {
     "data": {
      "image/png": "[encoded data removed]",
      "text/plain": [
       "<Figure size 432x288 with 1 Axes>"
      ]
     },
     "metadata": {
      "needs_background": "light"
     },
     "output_type": "display_data"
    }
   ],
   "source": [
    "df.loc[:,['genre', \"total_sales\"]].groupby('genre')['total_sales'].median().sort_values(ascending=False).plot(kind='bar')\n",
    "plt.title(\"Медианный доход по жанрам\")\n",
    "plt.xlabel(\"Игровой жанр\")\n",
    "plt.ylabel(\"Медианный доход\")\n",
    "plt.show()"
   ]
  },
  {
   "cell_type": "code",
   "execution_count": 169,
   "id": "6ff4a99e",
   "metadata": {
    "scrolled": true
   },
   "outputs": [
    {
     "data": {
      "image/png": "[encoded data removed]",
      "text/plain": [
       "<Figure size 1224x360 with 1 Axes>"
      ]
     },
     "metadata": {
      "needs_background": "light"
     },
     "output_type": "display_data"
    }
   ],
   "source": [
    "\n",
    "df.loc[:,['genre', \"total_sales\"]].boxplot(column = 'total_sales', by='genre', figsize=(17,5))\n",
    "plt.show()"
   ]
  },
  {
   "cell_type": "code",
   "execution_count": 170,
   "id": "8895c5f2",
   "metadata": {
    "scrolled": true
   },
   "outputs": [
    {
     "data": {
      "text/plain": [
       "<AxesSubplot:title={'center':'total_sales'}, xlabel='genre'>"
      ]
     },
     "execution_count": 170,
     "metadata": {},
     "output_type": "execute_result"
    },
    {
     "data": {
      "image/png": "[encoded data removed]",
      "text/plain": [
       "<Figure size 1224x360 with 1 Axes>"
      ]
     },
     "metadata": {
      "needs_background": "light"
     },
     "output_type": "display_data"
    }
   ],
   "source": [
    "# For those who doesn't like fliers\n",
    "df.loc[:,['genre', \"total_sales\"]].boxplot(column = 'total_sales', by='genre', sym=\"\", figsize=(17,5))"
   ]
  },
  {
   "cell_type": "markdown",
   "id": "ab8fc066",
   "metadata": {},
   "source": [
    "## Шаг 5. Портреты пользователей\n",
    "\n",
    "Цитата из задания:\n",
    "> Определите для пользователя каждого региона (NA, EU, JP):  \n",
    "•\tСамые популярные платформы (топ-5). Опишите различия в долях продаж.   \n",
    "•\tСамые популярные жанры (топ-5). Поясните разницу.  \n",
    "•\tВлияет ли рейтинг ESRB на продажи в отдельном регионе?  \n"
   ]
  },
  {
   "cell_type": "markdown",
   "id": "70875ed2",
   "metadata": {},
   "source": [
    "### Популярные платформы\n",
    "Под популярностью будем иметь в виду объем продаж.\n",
    "Выявим самые популярные платформы (топ-5). Опишем различия в долях продаж.  \n",
    "За актуальный период у платформ были продажи в регионах.  \n",
    "Вопрос: сколько продала каждая платформа? - группировка по платформе, сумма по деньгам.  \n",
    "Сортировка по убыванию по региону. покажет самые топ 5 популярные."
   ]
  },
  {
   "cell_type": "code",
   "execution_count": 171,
   "id": "f38421ea",
   "metadata": {},
   "outputs": [
    {
     "data": {
      "image/png": "[encoded data removed]",
      "text/plain": [
       "<Figure size 432x288 with 1 Axes>"
      ]
     },
     "metadata": {
      "needs_background": "light"
     },
     "output_type": "display_data"
    }
   ],
   "source": [
    "#Локализуем данные для работы\n",
    "df = df_actual.loc[:,['platform', 'na_sales', 'eu_sales', 'jp_sales']].copy()\n",
    "#сгруппируем по платформе и посчитаем суммы продаж\n",
    "df_platform_sales_by_region = (df.groupby('platform')\n",
    "                               .agg({'na_sales':'sum','eu_sales':'sum','jp_sales':'sum'})\n",
    "                               .reset_index()\n",
    "                               .sort_values('na_sales', ascending=False)\n",
    "                              )\n",
    "df_platform_sales_by_region.plot(kind='bar', x='platform')\n",
    "plt.title(\"Доход платформ по регионам продаж\")\n",
    "plt.xlabel(\"Игровая платформа\")\n",
    "plt.ylabel(\"Доход\")\n",
    "plt.show()"
   ]
  },
  {
   "cell_type": "markdown",
   "id": "3b617c70",
   "metadata": {},
   "source": [
    "**Продажи в Северной Америке**  \n",
    "Посмотрим продаж в цифрах по убыванию в Северной Америке"
   ]
  },
  {
   "cell_type": "code",
   "execution_count": 172,
   "id": "56fe756b",
   "metadata": {},
   "outputs": [
    {
     "data": {
      "text/html": [
       "<div>\n",
       "<style scoped>\n",
       "    .dataframe tbody tr th:only-of-type {\n",
       "        vertical-align: middle;\n",
       "    }\n",
       "\n",
       "    .dataframe tbody tr th {\n",
       "        vertical-align: top;\n",
       "    }\n",
       "\n",
       "    .dataframe thead th {\n",
       "        text-align: right;\n",
       "    }\n",
       "</style>\n",
       "<table border=\"1\" class=\"dataframe\">\n",
       "  <thead>\n",
       "    <tr style=\"text-align: right;\">\n",
       "      <th></th>\n",
       "      <th>platform</th>\n",
       "      <th>na_sales</th>\n",
       "      <th>na_share</th>\n",
       "    </tr>\n",
       "  </thead>\n",
       "  <tbody>\n",
       "    <tr>\n",
       "      <th>4</th>\n",
       "      <td>PS4</td>\n",
       "      <td>108.74</td>\n",
       "      <td>0.25</td>\n",
       "    </tr>\n",
       "    <tr>\n",
       "      <th>10</th>\n",
       "      <td>XOne</td>\n",
       "      <td>93.12</td>\n",
       "      <td>0.21</td>\n",
       "    </tr>\n",
       "    <tr>\n",
       "      <th>9</th>\n",
       "      <td>X360</td>\n",
       "      <td>81.66</td>\n",
       "      <td>0.19</td>\n",
       "    </tr>\n",
       "    <tr>\n",
       "      <th>3</th>\n",
       "      <td>PS3</td>\n",
       "      <td>63.50</td>\n",
       "      <td>0.15</td>\n",
       "    </tr>\n",
       "    <tr>\n",
       "      <th>0</th>\n",
       "      <td>3DS</td>\n",
       "      <td>38.20</td>\n",
       "      <td>0.09</td>\n",
       "    </tr>\n",
       "  </tbody>\n",
       "</table>\n",
       "</div>"
      ],
      "text/plain": [
       "   platform  na_sales  na_share\n",
       "4       PS4    108.74      0.25\n",
       "10     XOne     93.12      0.21\n",
       "9      X360     81.66      0.19\n",
       "3       PS3     63.50      0.15\n",
       "0       3DS     38.20      0.09"
      ]
     },
     "execution_count": 172,
     "metadata": {},
     "output_type": "execute_result"
    }
   ],
   "source": [
    "df_platform_sales_by_region['na_share'] = (df_platform_sales_by_region.loc[:,'na_sales']\n",
    "                                           /df_platform_sales_by_region['na_sales'].sum()\n",
    "                                          )\n",
    "df_platform_sales_by_region.loc[:,['platform','na_sales', 'na_share']].head(5)"
   ]
  },
  {
   "cell_type": "markdown",
   "id": "f3969f05",
   "metadata": {},
   "source": [
    "В Северной Америке распределение продаж по платформам самое демократичное. У лидера PS4 25%, у XOne 21%. Отличие всего 4 п.п.\n",
    "\n",
    "**Продажи в Европе**  \n",
    "Посмотрим продажи в Европе по убыванию объемов продаж"
   ]
  },
  {
   "cell_type": "code",
   "execution_count": 173,
   "id": "cc044cea",
   "metadata": {},
   "outputs": [
    {
     "data": {
      "text/html": [
       "<div>\n",
       "<style scoped>\n",
       "    .dataframe tbody tr th:only-of-type {\n",
       "        vertical-align: middle;\n",
       "    }\n",
       "\n",
       "    .dataframe tbody tr th {\n",
       "        vertical-align: top;\n",
       "    }\n",
       "\n",
       "    .dataframe thead th {\n",
       "        text-align: right;\n",
       "    }\n",
       "</style>\n",
       "<table border=\"1\" class=\"dataframe\">\n",
       "  <thead>\n",
       "    <tr style=\"text-align: right;\">\n",
       "      <th></th>\n",
       "      <th>platform</th>\n",
       "      <th>eu_sales</th>\n",
       "      <th>eu_share</th>\n",
       "    </tr>\n",
       "  </thead>\n",
       "  <tbody>\n",
       "    <tr>\n",
       "      <th>4</th>\n",
       "      <td>PS4</td>\n",
       "      <td>141.09</td>\n",
       "      <td>0.36</td>\n",
       "    </tr>\n",
       "    <tr>\n",
       "      <th>3</th>\n",
       "      <td>PS3</td>\n",
       "      <td>67.81</td>\n",
       "      <td>0.17</td>\n",
       "    </tr>\n",
       "    <tr>\n",
       "      <th>10</th>\n",
       "      <td>XOne</td>\n",
       "      <td>51.59</td>\n",
       "      <td>0.13</td>\n",
       "    </tr>\n",
       "    <tr>\n",
       "      <th>9</th>\n",
       "      <td>X360</td>\n",
       "      <td>42.52</td>\n",
       "      <td>0.11</td>\n",
       "    </tr>\n",
       "    <tr>\n",
       "      <th>0</th>\n",
       "      <td>3DS</td>\n",
       "      <td>30.96</td>\n",
       "      <td>0.08</td>\n",
       "    </tr>\n",
       "  </tbody>\n",
       "</table>\n",
       "</div>"
      ],
      "text/plain": [
       "   platform  eu_sales  eu_share\n",
       "4       PS4    141.09      0.36\n",
       "3       PS3     67.81      0.17\n",
       "10     XOne     51.59      0.13\n",
       "9      X360     42.52      0.11\n",
       "0       3DS     30.96      0.08"
      ]
     },
     "execution_count": 173,
     "metadata": {},
     "output_type": "execute_result"
    }
   ],
   "source": [
    "# Рассчитаем доли для eu продаж и выведем на экран\n",
    "df_platform_sales_by_region['eu_share'] = (df_platform_sales_by_region.loc[:,'eu_sales']\n",
    "                                           /df_platform_sales_by_region['eu_sales'].sum()\n",
    "                                          )\n",
    "df_platform_sales_by_region.loc[:,['platform','eu_sales', 'eu_share']].sort_values('eu_sales', ascending=False).head(5)"
   ]
  },
  {
   "cell_type": "markdown",
   "id": "dba88bbf",
   "metadata": {},
   "source": [
    "36% всех продаж для Европы приходится на PS4 с сильным отрывом в 23 п.п. идет XOne.  \n",
    "Обращает на себя внимание, что продажи для PC не вошли в топ 5 платформ.\n",
    "\n",
    "**Продажи в Японии**  \n",
    "Отсортируем платформы по популярности в Японии"
   ]
  },
  {
   "cell_type": "code",
   "execution_count": 174,
   "id": "4ddae0cc",
   "metadata": {},
   "outputs": [
    {
     "data": {
      "text/html": [
       "<div>\n",
       "<style scoped>\n",
       "    .dataframe tbody tr th:only-of-type {\n",
       "        vertical-align: middle;\n",
       "    }\n",
       "\n",
       "    .dataframe tbody tr th {\n",
       "        vertical-align: top;\n",
       "    }\n",
       "\n",
       "    .dataframe thead th {\n",
       "        text-align: right;\n",
       "    }\n",
       "</style>\n",
       "<table border=\"1\" class=\"dataframe\">\n",
       "  <thead>\n",
       "    <tr style=\"text-align: right;\">\n",
       "      <th></th>\n",
       "      <th>platform</th>\n",
       "      <th>jp_sales</th>\n",
       "      <th>jp_share</th>\n",
       "    </tr>\n",
       "  </thead>\n",
       "  <tbody>\n",
       "    <tr>\n",
       "      <th>0</th>\n",
       "      <td>3DS</td>\n",
       "      <td>67.81</td>\n",
       "      <td>0.48</td>\n",
       "    </tr>\n",
       "    <tr>\n",
       "      <th>3</th>\n",
       "      <td>PS3</td>\n",
       "      <td>23.35</td>\n",
       "      <td>0.17</td>\n",
       "    </tr>\n",
       "    <tr>\n",
       "      <th>6</th>\n",
       "      <td>PSV</td>\n",
       "      <td>18.59</td>\n",
       "      <td>0.13</td>\n",
       "    </tr>\n",
       "    <tr>\n",
       "      <th>4</th>\n",
       "      <td>PS4</td>\n",
       "      <td>15.96</td>\n",
       "      <td>0.11</td>\n",
       "    </tr>\n",
       "    <tr>\n",
       "      <th>8</th>\n",
       "      <td>WiiU</td>\n",
       "      <td>10.88</td>\n",
       "      <td>0.08</td>\n",
       "    </tr>\n",
       "  </tbody>\n",
       "</table>\n",
       "</div>"
      ],
      "text/plain": [
       "  platform  jp_sales  jp_share\n",
       "0      3DS     67.81      0.48\n",
       "3      PS3     23.35      0.17\n",
       "6      PSV     18.59      0.13\n",
       "4      PS4     15.96      0.11\n",
       "8     WiiU     10.88      0.08"
      ]
     },
     "execution_count": 174,
     "metadata": {},
     "output_type": "execute_result"
    }
   ],
   "source": [
    "# Рассчитаем доли для jp продаж и выведем на экран\n",
    "df_platform_sales_by_region['jp_share'] = (df_platform_sales_by_region.loc[:,'jp_sales']\n",
    "                                           /df_platform_sales_by_region['jp_sales'].sum()\n",
    "                                          )\n",
    "df_platform_sales_by_region.loc[:,['platform','jp_sales', 'jp_share']].sort_values('jp_sales', ascending=False).head(5)"
   ]
  },
  {
   "cell_type": "markdown",
   "id": "f0a9e627",
   "metadata": {},
   "source": [
    "Наглядно видно, что в Японии доминируют Японские компании. Доля 3DS почти половина всех продаж.\n",
    "Отрыв второго места от лидера еще сильнее 31 п.п.\n",
    "Продажи для Xbox и PC не вошли в топ 5"
   ]
  },
  {
   "cell_type": "markdown",
   "id": "d7d08cc3",
   "metadata": {},
   "source": [
    "<div style=\"border:solid green 2px; padding: 20px; border-radius: 15px;\">  \n",
    "\n",
    "**Резюмируем информацию** популярные платформы:   </br>\n",
    "PS4 лидирует в Европе и Америке. В Японии игроки предпочитают 3DS, но при этом PS4 занимает второе место.  \n",
    "Позиции XOne сильны в Америке и Европе, но не в Японии\n",
    "</div>"
   ]
  },
  {
   "cell_type": "markdown",
   "id": "50e82724",
   "metadata": {},
   "source": [
    "### Популярные жанры\n",
    "Определим топ 5 популярных жанров для регионов na, eu, jp.\n",
    "Под популярностью будем иметь в виду объем продаж. Поскольку относительная популярность нас не интересует, ограничимся абсолютными значениями.  \n",
    "Для расчета сгруппируем по жанрам и проссумируем по общим продажам."
   ]
  },
  {
   "cell_type": "code",
   "execution_count": 175,
   "id": "98e42b3f",
   "metadata": {},
   "outputs": [
    {
     "data": {
      "image/png": "[encoded data removed]",
      "text/plain": [
       "<Figure size 432x288 with 1 Axes>"
      ]
     },
     "metadata": {
      "needs_background": "light"
     },
     "output_type": "display_data"
    }
   ],
   "source": [
    "#Локализуем данные для работы\n",
    "df = df_actual.loc[:,['genre', 'na_sales', 'eu_sales', 'jp_sales']].copy()\n",
    "#сгруппируем по жанрам и посчитаем суммы продаж\n",
    "df_platform_sales_by_region = (df.groupby('genre')\n",
    "                               .agg({'na_sales':'sum', 'eu_sales':'sum', 'jp_sales':'sum'})\n",
    "                               .reset_index()\n",
    "                               .sort_values('na_sales', ascending=False)\n",
    "                               \n",
    "                              )\n",
    "df_platform_sales_by_region.plot(kind='bar', x='genre')\n",
    "plt.title(\"Доход по жанрам\")\n",
    "plt.xlabel(\"Игровой жанр\")\n",
    "plt.ylabel(\"Доход\")\n",
    "plt.show()"
   ]
  },
  {
   "cell_type": "markdown",
   "id": "9f9a3ae7",
   "metadata": {},
   "source": [
    "**Топ 5 жанров по регионам продаж**"
   ]
  },
  {
   "cell_type": "code",
   "execution_count": 176,
   "id": "f7f7a6b9",
   "metadata": {},
   "outputs": [
    {
     "name": "stdout",
     "output_type": "stream",
     "text": [
      "Топ 5 жанров по регионам\n"
     ]
    },
    {
     "data": {
      "text/html": [
       "<style type=\"text/css\">\n",
       "</style>\n",
       "<table id=\"T_8a2dd_\" style='display:inline'>\n",
       "  <caption>Северная Америка</caption>\n",
       "  <thead>\n",
       "    <tr>\n",
       "      <th class=\"blank level0\" >&nbsp;</th>\n",
       "      <th class=\"col_heading level0 col0\" >index</th>\n",
       "      <th class=\"col_heading level0 col1\" >genre</th>\n",
       "      <th class=\"col_heading level0 col2\" >na_sales</th>\n",
       "    </tr>\n",
       "  </thead>\n",
       "  <tbody>\n",
       "    <tr>\n",
       "      <th id=\"T_8a2dd_level0_row0\" class=\"row_heading level0 row0\" >0</th>\n",
       "      <td id=\"T_8a2dd_row0_col0\" class=\"data row0 col0\" >0</td>\n",
       "      <td id=\"T_8a2dd_row0_col1\" class=\"data row0 col1\" >Action</td>\n",
       "      <td id=\"T_8a2dd_row0_col2\" class=\"data row0 col2\" >126.050000</td>\n",
       "    </tr>\n",
       "    <tr>\n",
       "      <th id=\"T_8a2dd_level0_row1\" class=\"row_heading level0 row1\" >1</th>\n",
       "      <td id=\"T_8a2dd_row1_col0\" class=\"data row1 col0\" >8</td>\n",
       "      <td id=\"T_8a2dd_row1_col1\" class=\"data row1 col1\" >Shooter</td>\n",
       "      <td id=\"T_8a2dd_row1_col2\" class=\"data row1 col2\" >109.740000</td>\n",
       "    </tr>\n",
       "    <tr>\n",
       "      <th id=\"T_8a2dd_level0_row2\" class=\"row_heading level0 row2\" >2</th>\n",
       "      <td id=\"T_8a2dd_row2_col0\" class=\"data row2 col0\" >10</td>\n",
       "      <td id=\"T_8a2dd_row2_col1\" class=\"data row2 col1\" >Sports</td>\n",
       "      <td id=\"T_8a2dd_row2_col2\" class=\"data row2 col2\" >65.270000</td>\n",
       "    </tr>\n",
       "    <tr>\n",
       "      <th id=\"T_8a2dd_level0_row3\" class=\"row_heading level0 row3\" >3</th>\n",
       "      <td id=\"T_8a2dd_row3_col0\" class=\"data row3 col0\" >7</td>\n",
       "      <td id=\"T_8a2dd_row3_col1\" class=\"data row3 col1\" >Role-Playing</td>\n",
       "      <td id=\"T_8a2dd_row3_col2\" class=\"data row3 col2\" >46.400000</td>\n",
       "    </tr>\n",
       "    <tr>\n",
       "      <th id=\"T_8a2dd_level0_row4\" class=\"row_heading level0 row4\" >4</th>\n",
       "      <td id=\"T_8a2dd_row4_col0\" class=\"data row4 col0\" >3</td>\n",
       "      <td id=\"T_8a2dd_row4_col1\" class=\"data row4 col1\" >Misc</td>\n",
       "      <td id=\"T_8a2dd_row4_col2\" class=\"data row4 col2\" >27.490000</td>\n",
       "    </tr>\n",
       "  </tbody>\n",
       "</table>\n",
       "   <style type=\"text/css\">\n",
       "</style>\n",
       "<table id=\"T_953d4_\" style='display:inline'>\n",
       "  <caption>Европа</caption>\n",
       "  <thead>\n",
       "    <tr>\n",
       "      <th class=\"blank level0\" >&nbsp;</th>\n",
       "      <th class=\"col_heading level0 col0\" >index</th>\n",
       "      <th class=\"col_heading level0 col1\" >genre</th>\n",
       "      <th class=\"col_heading level0 col2\" >eu_sales</th>\n",
       "    </tr>\n",
       "  </thead>\n",
       "  <tbody>\n",
       "    <tr>\n",
       "      <th id=\"T_953d4_level0_row0\" class=\"row_heading level0 row0\" >0</th>\n",
       "      <td id=\"T_953d4_row0_col0\" class=\"data row0 col0\" >0</td>\n",
       "      <td id=\"T_953d4_row0_col1\" class=\"data row0 col1\" >Action</td>\n",
       "      <td id=\"T_953d4_row0_col2\" class=\"data row0 col2\" >118.130000</td>\n",
       "    </tr>\n",
       "    <tr>\n",
       "      <th id=\"T_953d4_level0_row1\" class=\"row_heading level0 row1\" >1</th>\n",
       "      <td id=\"T_953d4_row1_col0\" class=\"data row1 col0\" >8</td>\n",
       "      <td id=\"T_953d4_row1_col1\" class=\"data row1 col1\" >Shooter</td>\n",
       "      <td id=\"T_953d4_row1_col2\" class=\"data row1 col2\" >87.860000</td>\n",
       "    </tr>\n",
       "    <tr>\n",
       "      <th id=\"T_953d4_level0_row2\" class=\"row_heading level0 row2\" >2</th>\n",
       "      <td id=\"T_953d4_row2_col0\" class=\"data row2 col0\" >10</td>\n",
       "      <td id=\"T_953d4_row2_col1\" class=\"data row2 col1\" >Sports</td>\n",
       "      <td id=\"T_953d4_row2_col2\" class=\"data row2 col2\" >60.520000</td>\n",
       "    </tr>\n",
       "    <tr>\n",
       "      <th id=\"T_953d4_level0_row3\" class=\"row_heading level0 row3\" >3</th>\n",
       "      <td id=\"T_953d4_row3_col0\" class=\"data row3 col0\" >7</td>\n",
       "      <td id=\"T_953d4_row3_col1\" class=\"data row3 col1\" >Role-Playing</td>\n",
       "      <td id=\"T_953d4_row3_col2\" class=\"data row3 col2\" >36.970000</td>\n",
       "    </tr>\n",
       "    <tr>\n",
       "      <th id=\"T_953d4_level0_row4\" class=\"row_heading level0 row4\" >4</th>\n",
       "      <td id=\"T_953d4_row4_col0\" class=\"data row4 col0\" >6</td>\n",
       "      <td id=\"T_953d4_row4_col1\" class=\"data row4 col1\" >Racing</td>\n",
       "      <td id=\"T_953d4_row4_col2\" class=\"data row4 col2\" >20.190000</td>\n",
       "    </tr>\n",
       "  </tbody>\n",
       "</table>\n",
       "   <style type=\"text/css\">\n",
       "</style>\n",
       "<table id=\"T_679bf_\" style='display:inline'>\n",
       "  <caption>Япония</caption>\n",
       "  <thead>\n",
       "    <tr>\n",
       "      <th class=\"blank level0\" >&nbsp;</th>\n",
       "      <th class=\"col_heading level0 col0\" >index</th>\n",
       "      <th class=\"col_heading level0 col1\" >genre</th>\n",
       "      <th class=\"col_heading level0 col2\" >jp_sales</th>\n",
       "    </tr>\n",
       "  </thead>\n",
       "  <tbody>\n",
       "    <tr>\n",
       "      <th id=\"T_679bf_level0_row0\" class=\"row_heading level0 row0\" >0</th>\n",
       "      <td id=\"T_679bf_row0_col0\" class=\"data row0 col0\" >7</td>\n",
       "      <td id=\"T_679bf_row0_col1\" class=\"data row0 col1\" >Role-Playing</td>\n",
       "      <td id=\"T_679bf_row0_col2\" class=\"data row0 col2\" >51.040000</td>\n",
       "    </tr>\n",
       "    <tr>\n",
       "      <th id=\"T_679bf_level0_row1\" class=\"row_heading level0 row1\" >1</th>\n",
       "      <td id=\"T_679bf_row1_col0\" class=\"data row1 col0\" >0</td>\n",
       "      <td id=\"T_679bf_row1_col1\" class=\"data row1 col1\" >Action</td>\n",
       "      <td id=\"T_679bf_row1_col2\" class=\"data row1 col2\" >40.490000</td>\n",
       "    </tr>\n",
       "    <tr>\n",
       "      <th id=\"T_679bf_level0_row2\" class=\"row_heading level0 row2\" >2</th>\n",
       "      <td id=\"T_679bf_row2_col0\" class=\"data row2 col0\" >3</td>\n",
       "      <td id=\"T_679bf_row2_col1\" class=\"data row2 col1\" >Misc</td>\n",
       "      <td id=\"T_679bf_row2_col2\" class=\"data row2 col2\" >9.200000</td>\n",
       "    </tr>\n",
       "    <tr>\n",
       "      <th id=\"T_679bf_level0_row3\" class=\"row_heading level0 row3\" >3</th>\n",
       "      <td id=\"T_679bf_row3_col0\" class=\"data row3 col0\" >2</td>\n",
       "      <td id=\"T_679bf_row3_col1\" class=\"data row3 col1\" >Fighting</td>\n",
       "      <td id=\"T_679bf_row3_col2\" class=\"data row3 col2\" >7.650000</td>\n",
       "    </tr>\n",
       "    <tr>\n",
       "      <th id=\"T_679bf_level0_row4\" class=\"row_heading level0 row4\" >4</th>\n",
       "      <td id=\"T_679bf_row4_col0\" class=\"data row4 col0\" >8</td>\n",
       "      <td id=\"T_679bf_row4_col1\" class=\"data row4 col1\" >Shooter</td>\n",
       "      <td id=\"T_679bf_row4_col2\" class=\"data row4 col2\" >6.610000</td>\n",
       "    </tr>\n",
       "  </tbody>\n",
       "</table>\n"
      ]
     },
     "metadata": {},
     "output_type": "display_data"
    }
   ],
   "source": [
    "#Подготовим данные\n",
    "df1 = df_platform_sales_by_region.loc[:,['genre', 'na_sales']].head(5).reset_index()\n",
    "df2 = df_platform_sales_by_region.loc[:,['genre', 'eu_sales']].sort_values('eu_sales', ascending=False).head(5).reset_index()\n",
    "df3 = df_platform_sales_by_region.loc[:,['genre', 'jp_sales']].sort_values('jp_sales', ascending=False).head(5).reset_index()\n",
    "\n",
    "# Выведем две таблицы\n",
    "print(\"Топ 5 жанров по регионам\")\n",
    "df1_styler = df1.style.set_table_attributes(\"style='display:inline'\").set_caption('Северная Америка')\n",
    "df2_styler = df2.style.set_table_attributes(\"style='display:inline'\").set_caption('Европа')\n",
    "df3_styler = df3.style.set_table_attributes(\"style='display:inline'\").set_caption('Япония')\n",
    "\n",
    "display_html(df1_styler._repr_html_()+\"\\xa0\\xa0\\xa0\"+df2_styler._repr_html_()+\"\\xa0\\xa0\\xa0\"+df3_styler._repr_html_(), raw=True)"
   ]
  },
  {
   "cell_type": "markdown",
   "id": "a2626a64",
   "metadata": {},
   "source": [
    "Самый популярный жанр - Action, он входит в топ 2 каждого региона. Интересно, что ролевые игры в Японии наиболее популярны, а в Европе и Америке занимают 4ю строку.\n",
    "В спортивные игры охотно играют в Европе и Америке, в Японскую пятерку жанров они не вошли."
   ]
  },
  {
   "cell_type": "markdown",
   "id": "c08a981a",
   "metadata": {},
   "source": [
    "<div style=\"border:solid green 2px; padding: 20px; border-radius: 15px;\">  \n",
    "\n",
    "**Резюмируем информацию** продажи жанров по регионам:   </br>\n",
    "Action игры везде продаются хорошо. В Японии по продажам лидируют ролевые игры. При этом в Японии популярны файтинги, в Европе гонки.\n",
    "</div>"
   ]
  },
  {
   "cell_type": "markdown",
   "id": "1e755e33",
   "metadata": {},
   "source": [
    "### Влияние рейтинга ERSB на продажи\n",
    "Определим взаимоотношение рейтинга и продаж по регионам.   \n",
    "Чтобы узнать влияет ли рейтинг на продажи сгруппируем данные по рейтингу и отсортируем про объему продаж."
   ]
  },
  {
   "cell_type": "code",
   "execution_count": 177,
   "id": "d246e74f",
   "metadata": {},
   "outputs": [
    {
     "data": {
      "image/png": "[encoded data removed]",
      "text/plain": [
       "<Figure size 432x288 with 1 Axes>"
      ]
     },
     "metadata": {
      "needs_background": "light"
     },
     "output_type": "display_data"
    },
    {
     "data": {
      "text/html": [
       "<div>\n",
       "<style scoped>\n",
       "    .dataframe tbody tr th:only-of-type {\n",
       "        vertical-align: middle;\n",
       "    }\n",
       "\n",
       "    .dataframe tbody tr th {\n",
       "        vertical-align: top;\n",
       "    }\n",
       "\n",
       "    .dataframe thead th {\n",
       "        text-align: right;\n",
       "    }\n",
       "</style>\n",
       "<table border=\"1\" class=\"dataframe\">\n",
       "  <thead>\n",
       "    <tr style=\"text-align: right;\">\n",
       "      <th></th>\n",
       "      <th>rating</th>\n",
       "      <th>na_sales</th>\n",
       "      <th>eu_sales</th>\n",
       "      <th>jp_sales</th>\n",
       "    </tr>\n",
       "  </thead>\n",
       "  <tbody>\n",
       "    <tr>\n",
       "      <th>2</th>\n",
       "      <td>M</td>\n",
       "      <td>155.45</td>\n",
       "      <td>147.08</td>\n",
       "      <td>38.89</td>\n",
       "    </tr>\n",
       "    <tr>\n",
       "      <th>0</th>\n",
       "      <td>E</td>\n",
       "      <td>122.04</td>\n",
       "      <td>107.20</td>\n",
       "      <td>38.44</td>\n",
       "    </tr>\n",
       "    <tr>\n",
       "      <th>3</th>\n",
       "      <td>T</td>\n",
       "      <td>64.27</td>\n",
       "      <td>55.88</td>\n",
       "      <td>26.87</td>\n",
       "    </tr>\n",
       "    <tr>\n",
       "      <th>1</th>\n",
       "      <td>E10+</td>\n",
       "      <td>46.90</td>\n",
       "      <td>41.39</td>\n",
       "      <td>17.08</td>\n",
       "    </tr>\n",
       "  </tbody>\n",
       "</table>\n",
       "</div>"
      ],
      "text/plain": [
       "  rating  na_sales  eu_sales  jp_sales\n",
       "2      M    155.45    147.08     38.89\n",
       "0      E    122.04    107.20     38.44\n",
       "3      T     64.27     55.88     26.87\n",
       "1   E10+     46.90     41.39     17.08"
      ]
     },
     "execution_count": 177,
     "metadata": {},
     "output_type": "execute_result"
    }
   ],
   "source": [
    "#Локализуем данные для работы\n",
    "df = df_actual.loc[:,['rating', 'na_sales', 'eu_sales', 'jp_sales']].copy()\n",
    "\n",
    "#сгруппируем по рейтингам и посчитаем суммы продаж\n",
    "df = (df.groupby('rating')\n",
    "       .agg({'na_sales':'sum', 'eu_sales':'sum', 'jp_sales':'sum'})\n",
    "       .reset_index()\n",
    "       .sort_values('na_sales', ascending=False)\n",
    "      )\n",
    "df.plot(kind='bar', x='rating')\n",
    "plt.title(\"Доход по рейтингам\")\n",
    "plt.xlabel(\"Игровой жанр\")\n",
    "plt.ylabel(\"Доход\")\n",
    "plt.show()\n",
    "df"
   ]
  },
  {
   "cell_type": "markdown",
   "id": "306fd61a",
   "metadata": {},
   "source": [
    "M Самый продаваемый рейтинг. M это 17+, при этом продаж больше всего в Северной Америке и Европе. Это игры для взрослой аудитории.  \n",
    "\n",
    "E Everyone. На втором месте по продажам в Северной Америке и Европе. Отстает от M, заметно опережает T. E - рэйтинг ставится на игры для всех.  \n",
    "\n",
    "E10+ Как и рейтинг E ставится на гуманные игры. Рейтинг подразумевает небольшое наличие насилия и несильные отклонения от литературного языка.   \n",
    "\n",
    "T Teen в этих играх есть насилие, пусть его не так много как в рейтинге M. Популярность игр с этим рейтингом на третьем месте.\n",
    "\n",
    "Общее отношение к рейтингам в разных регионах продаж примерно одинаковое. Нет такого, что в одном регионе рейтинг популярнее остальных, а в другом регионе лидирует иной рейтинг."
   ]
  },
  {
   "cell_type": "markdown",
   "id": "5d702cfd",
   "metadata": {},
   "source": [
    "<div style=\"border:solid green 2px; padding: 20px; border-radius: 15px;\">  \n",
    "\n",
    "**Резюмируем информацию** влияние рейтинга ESRB на продажи:   </br>\n",
    "Если опираться только на данные, то рейтинг ESRB влияет на продажи. Особенно сильно влияние рейтинга в Японии.\n",
    "</div>"
   ]
  },
  {
   "cell_type": "markdown",
   "id": "af5b252f",
   "metadata": {},
   "source": [
    "## Шаг 6. Проверка гипотез\n",
    "Цитата из задания\n",
    "> •\tСредние пользовательские рейтинги платформ Xbox One и PC одинаковые;  \n",
    "•\tСредние пользовательские рейтинги жанров Action (англ. «действие», экшен-игры) и Sports (англ. «спортивные соревнования») разные.  \n",
    "\n",
    "### Рейтинги XboxOne и PC\n",
    "Отберем данные по двум платформам и сравним базовые статистики пользовательских оценок. Затем сформулируем гипотезу и рассчитаем статистическую значимость.  \n",
    "Под средним пользовательским рейтингом будем иметь в виду `user_score`. Под XboxOne понимаем XOne.\n"
   ]
  },
  {
   "cell_type": "code",
   "execution_count": 179,
   "id": "440388b6",
   "metadata": {},
   "outputs": [
    {
     "name": "stdout",
     "output_type": "stream",
     "text": [
      "Статистики для XOne и PC\n"
     ]
    },
    {
     "data": {
      "text/html": [
       "<style type=\"text/css\">\n",
       "</style>\n",
       "<table id=\"T_aaffe_\" style='display:inline'>\n",
       "  <caption>XOne</caption>\n",
       "  <thead>\n",
       "    <tr>\n",
       "      <th class=\"blank level0\" >&nbsp;</th>\n",
       "      <th class=\"col_heading level0 col0\" >user_score</th>\n",
       "    </tr>\n",
       "  </thead>\n",
       "  <tbody>\n",
       "    <tr>\n",
       "      <th id=\"T_aaffe_level0_row0\" class=\"row_heading level0 row0\" >count</th>\n",
       "      <td id=\"T_aaffe_row0_col0\" class=\"data row0 col0\" >182.000000</td>\n",
       "    </tr>\n",
       "    <tr>\n",
       "      <th id=\"T_aaffe_level0_row1\" class=\"row_heading level0 row1\" >mean</th>\n",
       "      <td id=\"T_aaffe_row1_col0\" class=\"data row1 col0\" >6.521429</td>\n",
       "    </tr>\n",
       "    <tr>\n",
       "      <th id=\"T_aaffe_level0_row2\" class=\"row_heading level0 row2\" >std</th>\n",
       "      <td id=\"T_aaffe_row2_col0\" class=\"data row2 col0\" >1.380941</td>\n",
       "    </tr>\n",
       "    <tr>\n",
       "      <th id=\"T_aaffe_level0_row3\" class=\"row_heading level0 row3\" >min</th>\n",
       "      <td id=\"T_aaffe_row3_col0\" class=\"data row3 col0\" >1.600000</td>\n",
       "    </tr>\n",
       "    <tr>\n",
       "      <th id=\"T_aaffe_level0_row4\" class=\"row_heading level0 row4\" >25%</th>\n",
       "      <td id=\"T_aaffe_row4_col0\" class=\"data row4 col0\" >5.800000</td>\n",
       "    </tr>\n",
       "    <tr>\n",
       "      <th id=\"T_aaffe_level0_row5\" class=\"row_heading level0 row5\" >50%</th>\n",
       "      <td id=\"T_aaffe_row5_col0\" class=\"data row5 col0\" >6.800000</td>\n",
       "    </tr>\n",
       "    <tr>\n",
       "      <th id=\"T_aaffe_level0_row6\" class=\"row_heading level0 row6\" >75%</th>\n",
       "      <td id=\"T_aaffe_row6_col0\" class=\"data row6 col0\" >7.500000</td>\n",
       "    </tr>\n",
       "    <tr>\n",
       "      <th id=\"T_aaffe_level0_row7\" class=\"row_heading level0 row7\" >max</th>\n",
       "      <td id=\"T_aaffe_row7_col0\" class=\"data row7 col0\" >9.200000</td>\n",
       "    </tr>\n",
       "  </tbody>\n",
       "</table>\n",
       "   <style type=\"text/css\">\n",
       "</style>\n",
       "<table id=\"T_36799_\" style='display:inline'>\n",
       "  <caption>PC</caption>\n",
       "  <thead>\n",
       "    <tr>\n",
       "      <th class=\"blank level0\" >&nbsp;</th>\n",
       "      <th class=\"col_heading level0 col0\" >user_score</th>\n",
       "    </tr>\n",
       "  </thead>\n",
       "  <tbody>\n",
       "    <tr>\n",
       "      <th id=\"T_36799_level0_row0\" class=\"row_heading level0 row0\" >count</th>\n",
       "      <td id=\"T_36799_row0_col0\" class=\"data row0 col0\" >155.000000</td>\n",
       "    </tr>\n",
       "    <tr>\n",
       "      <th id=\"T_36799_level0_row1\" class=\"row_heading level0 row1\" >mean</th>\n",
       "      <td id=\"T_36799_row1_col0\" class=\"data row1 col0\" >6.269677</td>\n",
       "    </tr>\n",
       "    <tr>\n",
       "      <th id=\"T_36799_level0_row2\" class=\"row_heading level0 row2\" >std</th>\n",
       "      <td id=\"T_36799_row2_col0\" class=\"data row2 col0\" >1.742381</td>\n",
       "    </tr>\n",
       "    <tr>\n",
       "      <th id=\"T_36799_level0_row3\" class=\"row_heading level0 row3\" >min</th>\n",
       "      <td id=\"T_36799_row3_col0\" class=\"data row3 col0\" >1.400000</td>\n",
       "    </tr>\n",
       "    <tr>\n",
       "      <th id=\"T_36799_level0_row4\" class=\"row_heading level0 row4\" >25%</th>\n",
       "      <td id=\"T_36799_row4_col0\" class=\"data row4 col0\" >5.300000</td>\n",
       "    </tr>\n",
       "    <tr>\n",
       "      <th id=\"T_36799_level0_row5\" class=\"row_heading level0 row5\" >50%</th>\n",
       "      <td id=\"T_36799_row5_col0\" class=\"data row5 col0\" >6.800000</td>\n",
       "    </tr>\n",
       "    <tr>\n",
       "      <th id=\"T_36799_level0_row6\" class=\"row_heading level0 row6\" >75%</th>\n",
       "      <td id=\"T_36799_row6_col0\" class=\"data row6 col0\" >7.600000</td>\n",
       "    </tr>\n",
       "    <tr>\n",
       "      <th id=\"T_36799_level0_row7\" class=\"row_heading level0 row7\" >max</th>\n",
       "      <td id=\"T_36799_row7_col0\" class=\"data row7 col0\" >9.300000</td>\n",
       "    </tr>\n",
       "  </tbody>\n",
       "</table>\n"
      ]
     },
     "metadata": {},
     "output_type": "display_data"
    }
   ],
   "source": [
    "# Локализуем необходимые данные\n",
    "df = df_actual.loc[:,['platform', 'user_score']].query('platform==\"XOne\" or platform==\"PC\"').copy()\n",
    "\n",
    "#подготовим данные для теста\n",
    "df_ur_xone = df.query('platform == \"XOne\"').copy().dropna()\n",
    "df_ur_pc = df.query('platform == \"PC\"').copy().dropna()\n",
    "\n",
    "# Выведем две таблицы\n",
    "print(\"Статистики для XOne и PC\")\n",
    "df1_styler = df_ur_xone.loc[:,'user_score'].to_frame().describe().style.set_table_attributes(\"style='display:inline'\").set_caption('XOne')\n",
    "df2_styler = df_ur_pc.loc[:,'user_score'].to_frame().describe().style.set_table_attributes(\"style='display:inline'\").set_caption('PC')\n",
    "\n",
    "display_html(df1_styler._repr_html_()+\"\\xa0\\xa0\\xa0\"+df2_styler._repr_html_(), raw=True)"
   ]
  },
  {
   "cell_type": "markdown",
   "id": "9e6d120d",
   "metadata": {},
   "source": [
    "Число записей для XOne больше, чем для PC 165 против 122.  \n",
    "Медианные значения одинаковы, средния отличаются несильно.  \n",
    "\n",
    "**Формулировка гипотезы**  \n",
    "H₀ всегда формулируется так, чтобы использовать знак равенства. \n",
    "Поскольку мы выясняем одинаковы ли оценки пользователей для двух платформ, то нулевая гипотеза будет такая: <i>\"разницы нет, исследуемые параметры равны, платформы равноценны по пользовательским оценкам\"</i>.\n",
    "\n",
    "H₁. Это утверждение, которое принимается верным, если отбрасывается H₀. В нашем случае H₁ звучит так: <i>\"разница есть, исследуемые параметры не равны, платформы не равноценны по пользовательским оценкам.\"</i>.\n",
    "\n",
    "Для проверки используем t-test. Если значений в выборке много (30 и больше), то распределение Стьюдента настолько близко к нормальному, что можно взять нормальное распределение. Но чтобы не усложнять себе жизнь выбором нужного теста, принято просто каждый раз применять t-тест — ведь он работает для выборки любого размера."
   ]
  },
  {
   "cell_type": "markdown",
   "id": "6db23142",
   "metadata": {},
   "source": [
    "**Необходимые аспекты t-теста**  \n",
    "- Генеральные совокупности не должны зависеть друг от друга.  \n",
    "    Предполагаем, что данные по платформам не зависят друг от друга. Пользователь либо на одной платформе, либо на другой. Данных о одновременном использовании нескольких платформ пользователями у нас нет.\n",
    "- Выборочные средние должны быть нормально распределены.   \n",
    "    А если выборка всего одна, то её среднее должно иметь нормальное распределение для разных выборок этого размера из определённой генеральной совокупности.\n",
    "Это условие не препятствие. Благодаря ЦПТ, если размер выборки составляет хотя бы несколько десятков значений, выборочные средние, которые можно получить из одной и той же генеральной совокупности, будут распределены нормально вокруг истинного среднего этой совокупности.\n",
    "\n",
    "- Дисперсии рассматриваемых генеральных совокупностей должны быть равны.  \n",
    "    С одной стороны, мы точно не знаем, равны ли дисперсии рассматриваемых генеральных совокупностей. С другой — по умолчанию параметр `equal_var` принимает значение `True`: дисперсии считаются равными и тест объединяет обе выборки в одну, чтобы эту дисперсию поточнее оценить. При этом если выборки достаточно велики (30 и больше значений) и равны по размеру между собой, такой подход оправдан: симуляции, проведённые учёными, показывают, что даже если дисперсии на самом деле не равны, то тест редко ошибается.\n",
    "\n",
    "\n",
    "В нашем случае выборки не равны и по выборкам мы видим, что дисперсии разнятся. По этой причине, для параметра `equal_var` установим значение `False`.\n",
    "\n",
    "`alpha` установлен в значение 0.05. У нас не медицина, 5% хороший уровень уверенности."
   ]
  },
  {
   "cell_type": "code",
   "execution_count": 180,
   "id": "02caf82b",
   "metadata": {},
   "outputs": [
    {
     "name": "stdout",
     "output_type": "stream",
     "text": [
      "Не получилось отвергнуть нулевую гипотезу, p-value = 0.14759594013430463, alpha = 0.05\n"
     ]
    }
   ],
   "source": [
    "results  = st.ttest_ind (df_ur_xone['user_score'], df_ur_pc['user_score'], equal_var = False) \n",
    "\n",
    "if results.pvalue < alpha:\n",
    "    print(f\"Отвергаем нулевую гипотезу, p-value = {results.pvalue}, alpha = {alpha}\")\n",
    "else:\n",
    "    print(f\"Не получилось отвергнуть нулевую гипотезу, p-value = {results.pvalue}, alpha = {alpha}\") \n"
   ]
  },
  {
   "cell_type": "markdown",
   "id": "ae628c8c",
   "metadata": {},
   "source": [
    "<div style=\"border:solid green 2px; padding: 20px; border-radius: 15px;\">  \n",
    "\n",
    "**Резюмируем информацию** по гипотизе о пользовательских оценках:   </br>\n",
    "\n",
    "Полученное значение p-value говорит о том, что вероятность получить такое или большее различие случайно составляет 15%. Этой,  небольшой вероятности достаточно, чтобы сделать вывод о сходстве между платформами.\n",
    "\n",
    "Оставляем нулевую гипотезу. Платформы равноценны по пользовательским оценкам.\n",
    "</div>"
   ]
  },
  {
   "cell_type": "markdown",
   "id": "c0fa6046",
   "metadata": {},
   "source": [
    "### Рейтинги жанров\n",
    "Отберем данные по двум жанрам и сравним базовые статистики пользовательских оценок. Затем сформулируем гипотезу и рассчитаем статистическую значимость.\n",
    "Под средним пользовательским рейтингом будем иметь в виду `user_score`."
   ]
  },
  {
   "cell_type": "code",
   "execution_count": 181,
   "id": "11e0c484",
   "metadata": {},
   "outputs": [
    {
     "name": "stdout",
     "output_type": "stream",
     "text": [
      "Статистики для жанров Action и Sport\n"
     ]
    },
    {
     "data": {
      "text/html": [
       "<style type=\"text/css\">\n",
       "</style>\n",
       "<table id=\"T_a833a_\" style='display:inline'>\n",
       "  <caption>Action</caption>\n",
       "  <thead>\n",
       "    <tr>\n",
       "      <th class=\"blank level0\" >&nbsp;</th>\n",
       "      <th class=\"col_heading level0 col0\" >user_score</th>\n",
       "    </tr>\n",
       "  </thead>\n",
       "  <tbody>\n",
       "    <tr>\n",
       "      <th id=\"T_a833a_level0_row0\" class=\"row_heading level0 row0\" >count</th>\n",
       "      <td id=\"T_a833a_row0_col0\" class=\"data row0 col0\" >389.000000</td>\n",
       "    </tr>\n",
       "    <tr>\n",
       "      <th id=\"T_a833a_level0_row1\" class=\"row_heading level0 row1\" >mean</th>\n",
       "      <td id=\"T_a833a_row1_col0\" class=\"data row1 col0\" >6.837532</td>\n",
       "    </tr>\n",
       "    <tr>\n",
       "      <th id=\"T_a833a_level0_row2\" class=\"row_heading level0 row2\" >std</th>\n",
       "      <td id=\"T_a833a_row2_col0\" class=\"data row2 col0\" >1.330173</td>\n",
       "    </tr>\n",
       "    <tr>\n",
       "      <th id=\"T_a833a_level0_row3\" class=\"row_heading level0 row3\" >min</th>\n",
       "      <td id=\"T_a833a_row3_col0\" class=\"data row3 col0\" >2.000000</td>\n",
       "    </tr>\n",
       "    <tr>\n",
       "      <th id=\"T_a833a_level0_row4\" class=\"row_heading level0 row4\" >25%</th>\n",
       "      <td id=\"T_a833a_row4_col0\" class=\"data row4 col0\" >6.300000</td>\n",
       "    </tr>\n",
       "    <tr>\n",
       "      <th id=\"T_a833a_level0_row5\" class=\"row_heading level0 row5\" >50%</th>\n",
       "      <td id=\"T_a833a_row5_col0\" class=\"data row5 col0\" >7.100000</td>\n",
       "    </tr>\n",
       "    <tr>\n",
       "      <th id=\"T_a833a_level0_row6\" class=\"row_heading level0 row6\" >75%</th>\n",
       "      <td id=\"T_a833a_row6_col0\" class=\"data row6 col0\" >7.800000</td>\n",
       "    </tr>\n",
       "    <tr>\n",
       "      <th id=\"T_a833a_level0_row7\" class=\"row_heading level0 row7\" >max</th>\n",
       "      <td id=\"T_a833a_row7_col0\" class=\"data row7 col0\" >9.100000</td>\n",
       "    </tr>\n",
       "  </tbody>\n",
       "</table>\n",
       "   <style type=\"text/css\">\n",
       "</style>\n",
       "<table id=\"T_f2e1e_\" style='display:inline'>\n",
       "  <caption>Sport</caption>\n",
       "  <thead>\n",
       "    <tr>\n",
       "      <th class=\"blank level0\" >&nbsp;</th>\n",
       "      <th class=\"col_heading level0 col0\" >user_score</th>\n",
       "    </tr>\n",
       "  </thead>\n",
       "  <tbody>\n",
       "    <tr>\n",
       "      <th id=\"T_f2e1e_level0_row0\" class=\"row_heading level0 row0\" >count</th>\n",
       "      <td id=\"T_f2e1e_row0_col0\" class=\"data row0 col0\" >160.000000</td>\n",
       "    </tr>\n",
       "    <tr>\n",
       "      <th id=\"T_f2e1e_level0_row1\" class=\"row_heading level0 row1\" >mean</th>\n",
       "      <td id=\"T_f2e1e_row1_col0\" class=\"data row1 col0\" >5.238125</td>\n",
       "    </tr>\n",
       "    <tr>\n",
       "      <th id=\"T_f2e1e_level0_row2\" class=\"row_heading level0 row2\" >std</th>\n",
       "      <td id=\"T_f2e1e_row2_col0\" class=\"data row2 col0\" >1.783427</td>\n",
       "    </tr>\n",
       "    <tr>\n",
       "      <th id=\"T_f2e1e_level0_row3\" class=\"row_heading level0 row3\" >min</th>\n",
       "      <td id=\"T_f2e1e_row3_col0\" class=\"data row3 col0\" >0.200000</td>\n",
       "    </tr>\n",
       "    <tr>\n",
       "      <th id=\"T_f2e1e_level0_row4\" class=\"row_heading level0 row4\" >25%</th>\n",
       "      <td id=\"T_f2e1e_row4_col0\" class=\"data row4 col0\" >4.100000</td>\n",
       "    </tr>\n",
       "    <tr>\n",
       "      <th id=\"T_f2e1e_level0_row5\" class=\"row_heading level0 row5\" >50%</th>\n",
       "      <td id=\"T_f2e1e_row5_col0\" class=\"data row5 col0\" >5.500000</td>\n",
       "    </tr>\n",
       "    <tr>\n",
       "      <th id=\"T_f2e1e_level0_row6\" class=\"row_heading level0 row6\" >75%</th>\n",
       "      <td id=\"T_f2e1e_row6_col0\" class=\"data row6 col0\" >6.500000</td>\n",
       "    </tr>\n",
       "    <tr>\n",
       "      <th id=\"T_f2e1e_level0_row7\" class=\"row_heading level0 row7\" >max</th>\n",
       "      <td id=\"T_f2e1e_row7_col0\" class=\"data row7 col0\" >8.800000</td>\n",
       "    </tr>\n",
       "  </tbody>\n",
       "</table>\n"
      ]
     },
     "metadata": {},
     "output_type": "display_data"
    }
   ],
   "source": [
    "# Локализуем необходимые данные\n",
    "df = df_actual.loc[:,['genre', 'user_score']].query('genre==\"Action\" or genre==\"Sports\"').copy()\n",
    "\n",
    "#подготовим данные для теста\n",
    "df_ur_action = df.query('genre == \"Action\"').copy().dropna()\n",
    "df_ur_sport = df.query('genre == \"Sports\"').copy().dropna()\n",
    "\n",
    "# Выведем две таблицы\n",
    "print(\"Статистики для жанров Action и Sport\")\n",
    "df1_styler = df_ur_action.loc[:,'user_score'].to_frame().describe().style.set_table_attributes(\"style='display:inline'\").set_caption('Action')\n",
    "df2_styler = df_ur_sport.loc[:,'user_score'].to_frame().describe().style.set_table_attributes(\"style='display:inline'\").set_caption('Sport')\n",
    "\n",
    "display_html(df1_styler._repr_html_()+\"\\xa0\\xa0\\xa0\"+df2_styler._repr_html_(), raw=True)"
   ]
  },
  {
   "cell_type": "markdown",
   "id": "270246bc",
   "metadata": {},
   "source": [
    "Различие в базовых статистиках хорошо заметно. Средние отличаются на 1,5; Медианные значения на 1,6."
   ]
  },
  {
   "cell_type": "markdown",
   "id": "ab493635",
   "metadata": {},
   "source": [
    "**Формулировка гипотезы**  \n",
    "H₀ всегда формулируется так, чтобы использовать знак равенства. \n",
    "Поскольку мы выясняем одинаковы ли оценки пользователей для двух жанров, то нулевая гипотеза будет такая: <i>\"разницы нет, исследуемые параметры равны, жанры равноценны по пользовательским оценкам\"</i>.\n",
    "\n",
    "H₁. Это утверждение, которое принимается верным, если отбрасывается H₀. В нашем случае H₁ звучит так: <i>\"разница есть, исследуемые параметры не равны, жанры не равноценны по пользовательским оценкам.\"</i>.\n",
    "\n",
    "Для проверки используем t-test. Если значений в выборке много (30 и больше), то распределение Стьюдента настолько близко к нормальному, что можно взять нормальное распределение. Но чтобы не усложнять себе жизнь выбором нужного теста, принято просто каждый раз применять t-тест — ведь он работает для выборки любого размера.\n",
    "\n",
    "В нашем случае выборки не равны и по выборкам мы видим, что дисперсии разнятся. По этой причине, для параметра `equal_var` установим значение `False`.\n",
    "\n",
    "`alpha` установлен в значение 0.05. У нас не медицина, 5% хороший уровень уверенности."
   ]
  },
  {
   "cell_type": "code",
   "execution_count": 182,
   "id": "854e57ae",
   "metadata": {},
   "outputs": [
    {
     "name": "stdout",
     "output_type": "stream",
     "text": [
      "Отвергаем нулевую гипотезу, p-value = 1.4460039700704315e-20, alpha = 0.05\n"
     ]
    }
   ],
   "source": [
    "results  = st.ttest_ind (df_ur_action['user_score'], df_ur_sport['user_score'], equal_var = False) \n",
    "\n",
    "if results.pvalue < alpha:\n",
    "    print(f\"Отвергаем нулевую гипотезу, p-value = {results.pvalue}, alpha = {alpha}\")\n",
    "else:\n",
    "    print(f\"Не получилось отвергнуть нулевую гипотезу, p-value = {results.pvalue}, alpha = {alpha}\") \n"
   ]
  },
  {
   "cell_type": "markdown",
   "id": "bffe93ad",
   "metadata": {},
   "source": [
    "<div style=\"border:solid green 2px; padding: 20px; border-radius: 15px;\">  \n",
    "\n",
    "**Резюмируем информацию** по гипотизе о рейтингах жанров:   </br>\n",
    "\n",
    "Полученное значение p-value говорит о том, что вероятность получить такое или большее различие случайно 10^(-20)%. Это явно слишком небольшая вероятность, чтобы можно было делать вывод о значимом различии между жанрами.\n",
    "\n",
    "Отклоняем нулевую гипотезу. Разница есть. Жанры не равноценны по пользовательским оценкам.\n",
    "</div>"
   ]
  },
  {
   "cell_type": "markdown",
   "id": "2c44158b",
   "metadata": {},
   "source": [
    "## Шаг 7 Общие выводы"
   ]
  },
  {
   "cell_type": "markdown",
   "id": "0251238c",
   "metadata": {},
   "source": [
    "<div style=\"border:solid green 2px; padding: 20px; border-radius: 15px;\">  \n",
    "\n",
    "**Резюмируем общие выводы** </br>\n",
    "\n",
    "Целью проекта было выявить определяющие успешность игры закономерности. Основными закономерностямиы оказались платформа и жанр.\n",
    "\n",
    "Согласно полученным данным первая игра была выпущена в 1980 году. Пик выпуска игр пришелся на 2008 год. Период стабильности наступил в 2013 году.  \n",
    "\n",
    "Новая платформа появляется каждый год. Срок жизни отличается у разных платформ, в среднем составляет 6 лет.  \n",
    "\n",
    "\n",
    "\n",
    "Продажи игр зависят от платформы. Больше всего продаж было на платформе PS2. \n",
    "\n",
    "За актуальный период 2013-2016 больше всего продаж у PS4 и PS3. Растущими можно считать только платформы PS4 и XOne, их можем рассматривать как потенциально прибыльные.  XOne распространен в Америке и Европе, но не в Японии.  \n",
    "\n",
    "Самые высокие продажи показывали игры для PS3, X360, 3DS, PS4.  \n",
    "Топ исторических максимумов продаж принадлежит играм Нинтендо: места 1, 3-7, 10.  \n",
    "Что касается региональных продаж, то PS4 лидирует в Европе и Америке. В Японии лучше продаются игры для 3DS, а PS4 занимает второе место. \n",
    "\n",
    "Зависимость между отзывами пользователей, критиков и объема продаж игр не обнаружили на платформах PS4, XOne, 3DS.  \n",
    "\n",
    "Action - самый популярный жанр по числу выпускаемых игр. Он же и самый прибыльный. Второй по прибыльности жанр - shooter, а по числу выпускаемых игр Role-playing.  \n",
    "Из жанров с высокими продажами следует выделить 4 жанра: Action, Shooter, Sports, Role-Playing. Остальные жанры существенно уступают по объему продаж.  \n",
    "\n",
    "Из жанров везде хорошо продаются Action игры, но в Японии лидируют ролевые игры.  \n",
    "\n",
    "Рейтинг влияет на продажи. Самые продаваемые игры имеют рейтинг М, а в Японии T.  \n",
    "\n",
    "Установили, что платформы XOne и PC не равноценны по пользовательским оценкам, а жанры Action и Sport равноценны с точки зрения пользовательских оценок.\n",
    "</div>"
   ]
  },
  {
   "cell_type": "markdown",
   "id": "527accd2",
   "metadata": {},
   "source": [
    "## Приложение 1: Оригинальное задание проектной работы"
   ]
  },
  {
   "cell_type": "markdown",
   "id": "0f3a517b",
   "metadata": {},
   "source": [
    "**Сборный проект №1**  \n",
    "**Описание проекта**  \n",
    "Вы работаете в интернет-магазине «Стримчик», который продаёт по всему миру компьютерные игры. Из открытых источников доступны исторические данные о продажах игр, оценки пользователей и экспертов, жанры и платформы (например, Xbox или PlayStation). Вам нужно выявить определяющие успешность игры закономерности. Это позволит сделать ставку на потенциально популярный продукт и спланировать рекламные кампании.  \n",
    "Перед вами данные до 2016 года. Представим, что сейчас декабрь 2016 г., и вы планируете кампанию на 2017-й. Нужно отработать принцип работы с данными. Неважно, прогнозируете ли вы продажи на 2017 год по данным 2016-го или же 2027-й — по данным 2026 года.  \n",
    "В наборе данных попадается аббревиатура ESRB (Entertainment Software Rating Board) — это ассоциация, определяющая возрастной рейтинг компьютерных игр. ESRB оценивает игровой контент и присваивает ему подходящую возрастную категорию, например, «Для взрослых», «Для детей младшего возраста» или «Для подростков».  \n",
    "\n",
    "**Инструкция по выполнению проекта**  \n",
    "### Шаг 1. Откройте файл с данными и изучите общую информацию  \n",
    "Путь к файлу: /datasets/games.csv.  \n",
    "\n",
    "### Шаг 2. Подготовьте данные  \n",
    "- Замените названия столбцов (приведите к нижнему регистру);  \n",
    "- Преобразуйте данные в нужные типы. Опишите, в каких столбцах заменили тип данных и почему;  \n",
    "- Обработайте пропуски при необходимости:  \n",
    " - Объясните, почему заполнили пропуски определённым образом или почему не стали это делать;  \n",
    " - Опишите причины, которые могли привести к пропускам;  \n",
    " - Обратите внимание на аббревиатуру 'tbd' в столбцах с рейтингом. Отдельно разберите это значение и опишите, как его обработать;  \n",
    "- Посчитайте суммарные продажи во всех регионах и запишите их в отдельный столбец.  \n",
    " \n",
    "\n",
    "### Шаг 3. Проведите исследовательский анализ данных  \n",
    "•\tПосмотрите, сколько игр выпускалось в разные годы. Важны ли данные за все периоды?  \n",
    "•\tПосмотрите, как менялись продажи по платформам. Выберите платформы с наибольшими суммарными продажами и постройте распределение по годам. За какой характерный срок появляются новые и исчезают старые платформы?  \n",
    "•\tВозьмите данные за соответствующий актуальный период. Актуальный период определите самостоятельно в результате исследования предыдущих вопросов. Основной фактор — эти данные помогут построить прогноз на 2017 год.  \n",
    "•\tНе учитывайте в работе данные за предыдущие годы.  \n",
    "•\tКакие платформы лидируют по продажам, растут или падают? Выберите несколько потенциально прибыльных платформ.  \n",
    "•\tПостройте график «ящик с усами» по глобальным продажам игр в разбивке по платформам. Опишите результат.   \n",
    "•\tПосмотрите, как влияют на продажи внутри одной популярной платформы отзывы пользователей и критиков. Постройте диаграмму рассеяния и посчитайте корреляцию между отзывами и продажами. Сформулируйте выводы.  \n",
    "•\tСоотнесите выводы с продажами игр на других платформах.  \n",
    "•\tПосмотрите на общее распределение игр по жанрам. Что можно сказать о самых прибыльных жанрах? Выделяются ли жанры с высокими и низкими продажами?   \n",
    "\n",
    "### Шаг 4. Составьте портрет пользователя каждого региона  \n",
    "Определите для пользователя каждого региона (NA, EU, JP):  \n",
    "•\tСамые популярные платформы (топ-5). Опишите различия в долях продаж.  \n",
    "•\tСамые популярные жанры (топ-5). Поясните разницу.  \n",
    "•\tВлияет ли рейтинг ESRB на продажи в отдельном регионе?  \n",
    " \n",
    "### Шаг 5. Проверьте гипотезы  \n",
    "•\tСредние пользовательские рейтинги платформ Xbox One и PC одинаковые;  \n",
    "•\tСредние пользовательские рейтинги жанров Action (англ. «действие», экшен-игры) и Sports (англ. «спортивные соревнования») разные.  \n",
    "\n",
    "Задайте самостоятельно пороговое значение alpha.  \n",
    "Поясните:  \n",
    "•\tКак вы сформулировали нулевую и альтернативную гипотезы;  \n",
    "•\tКакой критерий применили для проверки гипотез и почему.  \n",
    "\n",
    "### Шаг 6. Напишите общий вывод  \n",
    "Оформление: Выполните задание в Jupyter Notebook. Заполните программный код в ячейках типа code, текстовые пояснения — в ячейках типа markdown. Примените форматирование и заголовки.  \n",
    "\n",
    "## Приложение 2: Описание данных  \n",
    "•\tName — название игры  \n",
    "•\tPlatform — платформа  \n",
    "•\tYear_of_Release — год выпуска  \n",
    "•\tGenre — жанр игры  \n",
    "•\tNA_sales — продажи в Северной Америке (миллионы проданных копий)  \n",
    "•\tEU_sales — продажи в Европе (миллионы проданных копий)  \n",
    "•\tJP_sales — продажи в Японии (миллионы проданных копий)  \n",
    "•\tOther_sales — продажи в других странах (миллионы проданных копий)  \n",
    "•\tCritic_Score — оценка критиков (максимум 100)  \n",
    "•\tUser_Score — оценка пользователей (максимум 10)  \n",
    "•\tRating — рейтинг от организации ESRB (англ. Entertainment Software Rating Board). Эта ассоциация определяет рейтинг компьютерных игр и присваивает им подходящую возрастную категорию.  \n",
    "Данные за 2016 год могут быть неполными.  \n"
   ]
  }
 ],
 "metadata": {
  "ExecuteTimeLog": [
   {
    "duration": 1624,
    "start_time": "2022-03-04T07:06:35.663Z"
   },
   {
    "duration": 5,
    "start_time": "2022-03-04T07:06:37.290Z"
   },
   {
    "duration": 27,
    "start_time": "2022-03-04T07:06:37.299Z"
   },
   {
    "duration": 7,
    "start_time": "2022-03-04T07:06:37.329Z"
   },
   {
    "duration": 9,
    "start_time": "2022-03-04T07:06:37.338Z"
   },
   {
    "duration": 8,
    "start_time": "2022-03-04T07:06:37.349Z"
   },
   {
    "duration": 9,
    "start_time": "2022-03-04T07:06:37.359Z"
   },
   {
    "duration": 214,
    "start_time": "2022-03-04T07:06:37.396Z"
   },
   {
    "duration": 1973,
    "start_time": "2022-03-04T07:06:37.614Z"
   },
   {
    "duration": 4,
    "start_time": "2022-03-04T07:06:39.590Z"
   },
   {
    "duration": 20,
    "start_time": "2022-03-04T07:06:39.597Z"
   },
   {
    "duration": 26,
    "start_time": "2022-03-04T07:06:39.619Z"
   },
   {
    "duration": 55,
    "start_time": "2022-03-04T07:06:39.647Z"
   },
   {
    "duration": 19,
    "start_time": "2022-03-04T07:06:39.705Z"
   },
   {
    "duration": 89,
    "start_time": "2022-03-04T07:06:39.726Z"
   },
   {
    "duration": 17,
    "start_time": "2022-03-04T07:06:39.818Z"
   },
   {
    "duration": 90,
    "start_time": "2022-03-04T07:06:39.838Z"
   },
   {
    "duration": 13,
    "start_time": "2022-03-04T07:06:39.931Z"
   },
   {
    "duration": 59,
    "start_time": "2022-03-04T07:06:39.947Z"
   },
   {
    "duration": 16,
    "start_time": "2022-03-04T07:06:40.009Z"
   },
   {
    "duration": 23,
    "start_time": "2022-03-04T07:06:40.028Z"
   },
   {
    "duration": 42,
    "start_time": "2022-03-04T07:06:40.054Z"
   },
   {
    "duration": 28,
    "start_time": "2022-03-04T07:06:40.106Z"
   },
   {
    "duration": 21,
    "start_time": "2022-03-04T07:06:40.138Z"
   },
   {
    "duration": 54,
    "start_time": "2022-03-04T07:06:40.161Z"
   },
   {
    "duration": 21,
    "start_time": "2022-03-04T07:06:40.218Z"
   },
   {
    "duration": 18,
    "start_time": "2022-03-04T07:06:40.241Z"
   },
   {
    "duration": 45,
    "start_time": "2022-03-04T07:06:40.261Z"
   },
   {
    "duration": 88,
    "start_time": "2022-03-04T07:06:40.309Z"
   },
   {
    "duration": 32,
    "start_time": "2022-03-04T07:06:40.401Z"
   },
   {
    "duration": 18,
    "start_time": "2022-03-04T07:06:40.436Z"
   },
   {
    "duration": 58,
    "start_time": "2022-03-04T07:06:40.456Z"
   },
   {
    "duration": 13,
    "start_time": "2022-03-04T07:06:40.516Z"
   },
   {
    "duration": 11,
    "start_time": "2022-03-04T07:06:40.531Z"
   },
   {
    "duration": 23,
    "start_time": "2022-03-04T07:06:40.544Z"
   },
   {
    "duration": 26,
    "start_time": "2022-03-04T07:06:40.570Z"
   },
   {
    "duration": 24,
    "start_time": "2022-03-04T07:06:40.600Z"
   },
   {
    "duration": 117,
    "start_time": "2022-03-04T07:06:40.627Z"
   },
   {
    "duration": 1249,
    "start_time": "2022-03-04T07:06:40.747Z"
   },
   {
    "duration": 28,
    "start_time": "2022-03-04T07:06:41.999Z"
   },
   {
    "duration": 24,
    "start_time": "2022-03-04T07:06:42.030Z"
   },
   {
    "duration": 62,
    "start_time": "2022-03-04T07:06:42.056Z"
   },
   {
    "duration": 28,
    "start_time": "2022-03-04T07:06:42.121Z"
   },
   {
    "duration": 1347,
    "start_time": "2022-03-04T07:06:42.152Z"
   },
   {
    "duration": 808,
    "start_time": "2022-03-04T07:06:43.501Z"
   },
   {
    "duration": -362,
    "start_time": "2022-03-04T07:06:44.678Z"
   },
   {
    "duration": -371,
    "start_time": "2022-03-04T07:06:44.688Z"
   },
   {
    "duration": -375,
    "start_time": "2022-03-04T07:06:44.694Z"
   },
   {
    "duration": -379,
    "start_time": "2022-03-04T07:06:44.699Z"
   },
   {
    "duration": -383,
    "start_time": "2022-03-04T07:06:44.705Z"
   },
   {
    "duration": -388,
    "start_time": "2022-03-04T07:06:44.711Z"
   },
   {
    "duration": -403,
    "start_time": "2022-03-04T07:06:44.727Z"
   },
   {
    "duration": -409,
    "start_time": "2022-03-04T07:06:44.735Z"
   },
   {
    "duration": -414,
    "start_time": "2022-03-04T07:06:44.741Z"
   },
   {
    "duration": -418,
    "start_time": "2022-03-04T07:06:44.747Z"
   },
   {
    "duration": -425,
    "start_time": "2022-03-04T07:06:44.755Z"
   },
   {
    "duration": -430,
    "start_time": "2022-03-04T07:06:44.762Z"
   },
   {
    "duration": -435,
    "start_time": "2022-03-04T07:06:44.768Z"
   },
   {
    "duration": -439,
    "start_time": "2022-03-04T07:06:44.773Z"
   },
   {
    "duration": -442,
    "start_time": "2022-03-04T07:06:44.778Z"
   },
   {
    "duration": -448,
    "start_time": "2022-03-04T07:06:44.785Z"
   },
   {
    "duration": -452,
    "start_time": "2022-03-04T07:06:44.791Z"
   },
   {
    "duration": -456,
    "start_time": "2022-03-04T07:06:44.796Z"
   },
   {
    "duration": -460,
    "start_time": "2022-03-04T07:06:44.802Z"
   },
   {
    "duration": -420,
    "start_time": "2022-03-04T07:06:44.807Z"
   },
   {
    "duration": -424,
    "start_time": "2022-03-04T07:06:44.813Z"
   },
   {
    "duration": -435,
    "start_time": "2022-03-04T07:06:44.826Z"
   },
   {
    "duration": -441,
    "start_time": "2022-03-04T07:06:44.833Z"
   },
   {
    "duration": -454,
    "start_time": "2022-03-04T07:06:44.847Z"
   },
   {
    "duration": -467,
    "start_time": "2022-03-04T07:06:44.862Z"
   },
   {
    "duration": -480,
    "start_time": "2022-03-04T07:06:44.876Z"
   },
   {
    "duration": -487,
    "start_time": "2022-03-04T07:06:44.884Z"
   },
   {
    "duration": -499,
    "start_time": "2022-03-04T07:06:44.898Z"
   },
   {
    "duration": -517,
    "start_time": "2022-03-04T07:06:44.917Z"
   },
   {
    "duration": -529,
    "start_time": "2022-03-04T07:06:44.931Z"
   },
   {
    "duration": -544,
    "start_time": "2022-03-04T07:06:44.948Z"
   },
   {
    "duration": -554,
    "start_time": "2022-03-04T07:06:44.960Z"
   },
   {
    "duration": -637,
    "start_time": "2022-03-04T07:06:45.044Z"
   },
   {
    "duration": -641,
    "start_time": "2022-03-04T07:06:45.050Z"
   },
   {
    "duration": -653,
    "start_time": "2022-03-04T07:06:45.064Z"
   },
   {
    "duration": -667,
    "start_time": "2022-03-04T07:06:45.079Z"
   },
   {
    "duration": -682,
    "start_time": "2022-03-04T07:06:45.096Z"
   },
   {
    "duration": 662,
    "start_time": "2022-03-04T07:07:34.063Z"
   },
   {
    "duration": 99,
    "start_time": "2022-03-04T07:07:41.859Z"
   },
   {
    "duration": 682,
    "start_time": "2022-03-04T07:07:48.600Z"
   },
   {
    "duration": 6,
    "start_time": "2022-03-04T07:07:53.187Z"
   },
   {
    "duration": 32,
    "start_time": "2022-03-04T07:07:53.196Z"
   },
   {
    "duration": 7,
    "start_time": "2022-03-04T07:07:53.233Z"
   },
   {
    "duration": 6,
    "start_time": "2022-03-04T07:07:53.243Z"
   },
   {
    "duration": 21,
    "start_time": "2022-03-04T07:07:53.251Z"
   },
   {
    "duration": 12,
    "start_time": "2022-03-04T07:07:53.275Z"
   },
   {
    "duration": 27,
    "start_time": "2022-03-04T07:07:53.294Z"
   },
   {
    "duration": 215,
    "start_time": "2022-03-04T07:07:53.325Z"
   },
   {
    "duration": 2073,
    "start_time": "2022-03-04T07:07:53.542Z"
   },
   {
    "duration": 3,
    "start_time": "2022-03-04T07:07:55.623Z"
   },
   {
    "duration": 15,
    "start_time": "2022-03-04T07:07:55.629Z"
   },
   {
    "duration": 18,
    "start_time": "2022-03-04T07:07:55.647Z"
   },
   {
    "duration": 33,
    "start_time": "2022-03-04T07:07:55.688Z"
   },
   {
    "duration": 14,
    "start_time": "2022-03-04T07:07:55.724Z"
   },
   {
    "duration": 98,
    "start_time": "2022-03-04T07:07:55.741Z"
   },
   {
    "duration": 11,
    "start_time": "2022-03-04T07:07:55.845Z"
   },
   {
    "duration": 81,
    "start_time": "2022-03-04T07:07:55.860Z"
   },
   {
    "duration": 10,
    "start_time": "2022-03-04T07:07:55.943Z"
   },
   {
    "duration": 50,
    "start_time": "2022-03-04T07:07:55.955Z"
   },
   {
    "duration": 15,
    "start_time": "2022-03-04T07:07:56.008Z"
   },
   {
    "duration": 24,
    "start_time": "2022-03-04T07:07:56.027Z"
   },
   {
    "duration": 47,
    "start_time": "2022-03-04T07:07:56.053Z"
   },
   {
    "duration": 16,
    "start_time": "2022-03-04T07:07:56.107Z"
   },
   {
    "duration": 11,
    "start_time": "2022-03-04T07:07:56.125Z"
   },
   {
    "duration": 54,
    "start_time": "2022-03-04T07:07:56.138Z"
   },
   {
    "duration": 21,
    "start_time": "2022-03-04T07:07:56.195Z"
   },
   {
    "duration": 25,
    "start_time": "2022-03-04T07:07:56.218Z"
   },
   {
    "duration": 52,
    "start_time": "2022-03-04T07:07:56.245Z"
   },
   {
    "duration": 61,
    "start_time": "2022-03-04T07:07:56.300Z"
   },
   {
    "duration": 57,
    "start_time": "2022-03-04T07:07:56.363Z"
   },
   {
    "duration": 16,
    "start_time": "2022-03-04T07:07:56.422Z"
   },
   {
    "duration": 20,
    "start_time": "2022-03-04T07:07:56.440Z"
   },
   {
    "duration": 33,
    "start_time": "2022-03-04T07:07:56.462Z"
   },
   {
    "duration": 17,
    "start_time": "2022-03-04T07:07:56.497Z"
   },
   {
    "duration": 24,
    "start_time": "2022-03-04T07:07:56.517Z"
   },
   {
    "duration": 11,
    "start_time": "2022-03-04T07:07:56.544Z"
   },
   {
    "duration": 31,
    "start_time": "2022-03-04T07:07:56.587Z"
   },
   {
    "duration": 95,
    "start_time": "2022-03-04T07:07:56.621Z"
   },
   {
    "duration": 1240,
    "start_time": "2022-03-04T07:07:56.719Z"
   },
   {
    "duration": 39,
    "start_time": "2022-03-04T07:07:57.962Z"
   },
   {
    "duration": 35,
    "start_time": "2022-03-04T07:07:58.004Z"
   },
   {
    "duration": 43,
    "start_time": "2022-03-04T07:07:58.046Z"
   },
   {
    "duration": 40,
    "start_time": "2022-03-04T07:07:58.094Z"
   },
   {
    "duration": 1338,
    "start_time": "2022-03-04T07:07:58.136Z"
   },
   {
    "duration": 678,
    "start_time": "2022-03-04T07:07:59.477Z"
   },
   {
    "duration": 29,
    "start_time": "2022-03-04T07:08:00.157Z"
   },
   {
    "duration": 7,
    "start_time": "2022-03-04T07:08:00.189Z"
   },
   {
    "duration": 35,
    "start_time": "2022-03-04T07:08:00.199Z"
   },
   {
    "duration": 34,
    "start_time": "2022-03-04T07:08:00.237Z"
   },
   {
    "duration": 35,
    "start_time": "2022-03-04T07:08:00.273Z"
   },
   {
    "duration": 26,
    "start_time": "2022-03-04T07:08:00.312Z"
   },
   {
    "duration": 19,
    "start_time": "2022-03-04T07:08:00.341Z"
   },
   {
    "duration": 496,
    "start_time": "2022-03-04T07:08:00.363Z"
   },
   {
    "duration": 4,
    "start_time": "2022-03-04T07:08:00.862Z"
   },
   {
    "duration": 22,
    "start_time": "2022-03-04T07:08:00.869Z"
   },
   {
    "duration": 88,
    "start_time": "2022-03-04T07:08:00.894Z"
   },
   {
    "duration": 587,
    "start_time": "2022-03-04T07:08:00.985Z"
   },
   {
    "duration": 305,
    "start_time": "2022-03-04T07:08:01.574Z"
   },
   {
    "duration": -375,
    "start_time": "2022-03-04T07:08:02.256Z"
   },
   {
    "duration": -385,
    "start_time": "2022-03-04T07:08:02.268Z"
   },
   {
    "duration": -389,
    "start_time": "2022-03-04T07:08:02.274Z"
   },
   {
    "duration": -391,
    "start_time": "2022-03-04T07:08:02.279Z"
   },
   {
    "duration": -395,
    "start_time": "2022-03-04T07:08:02.285Z"
   },
   {
    "duration": -397,
    "start_time": "2022-03-04T07:08:02.290Z"
   },
   {
    "duration": -400,
    "start_time": "2022-03-04T07:08:02.295Z"
   },
   {
    "duration": -398,
    "start_time": "2022-03-04T07:08:02.300Z"
   },
   {
    "duration": -402,
    "start_time": "2022-03-04T07:08:02.306Z"
   },
   {
    "duration": -405,
    "start_time": "2022-03-04T07:08:02.311Z"
   },
   {
    "duration": -410,
    "start_time": "2022-03-04T07:08:02.319Z"
   },
   {
    "duration": -410,
    "start_time": "2022-03-04T07:08:02.325Z"
   },
   {
    "duration": -414,
    "start_time": "2022-03-04T07:08:02.331Z"
   },
   {
    "duration": -424,
    "start_time": "2022-03-04T07:08:02.343Z"
   },
   {
    "duration": -427,
    "start_time": "2022-03-04T07:08:02.348Z"
   },
   {
    "duration": -431,
    "start_time": "2022-03-04T07:08:02.354Z"
   },
   {
    "duration": -437,
    "start_time": "2022-03-04T07:08:02.361Z"
   },
   {
    "duration": -441,
    "start_time": "2022-03-04T07:08:02.367Z"
   },
   {
    "duration": -447,
    "start_time": "2022-03-04T07:08:02.374Z"
   },
   {
    "duration": -451,
    "start_time": "2022-03-04T07:08:02.380Z"
   },
   {
    "duration": -456,
    "start_time": "2022-03-04T07:08:02.386Z"
   },
   {
    "duration": -461,
    "start_time": "2022-03-04T07:08:02.393Z"
   },
   {
    "duration": -466,
    "start_time": "2022-03-04T07:08:02.399Z"
   },
   {
    "duration": -470,
    "start_time": "2022-03-04T07:08:02.405Z"
   },
   {
    "duration": 159,
    "start_time": "2022-03-04T07:10:10.990Z"
   },
   {
    "duration": 420,
    "start_time": "2022-03-04T07:10:16.607Z"
   },
   {
    "duration": 10,
    "start_time": "2022-03-04T07:10:24.705Z"
   },
   {
    "duration": 15,
    "start_time": "2022-03-04T07:10:24.717Z"
   },
   {
    "duration": 10,
    "start_time": "2022-03-04T07:10:24.735Z"
   },
   {
    "duration": 12,
    "start_time": "2022-03-04T07:10:24.748Z"
   },
   {
    "duration": 10,
    "start_time": "2022-03-04T07:10:24.763Z"
   },
   {
    "duration": 13,
    "start_time": "2022-03-04T07:10:24.775Z"
   },
   {
    "duration": 29,
    "start_time": "2022-03-04T07:10:24.791Z"
   },
   {
    "duration": 208,
    "start_time": "2022-03-04T07:10:24.822Z"
   },
   {
    "duration": 2100,
    "start_time": "2022-03-04T07:10:25.035Z"
   },
   {
    "duration": 4,
    "start_time": "2022-03-04T07:10:27.140Z"
   },
   {
    "duration": 7,
    "start_time": "2022-03-04T07:10:27.147Z"
   },
   {
    "duration": 61,
    "start_time": "2022-03-04T07:10:27.157Z"
   },
   {
    "duration": 50,
    "start_time": "2022-03-04T07:10:27.221Z"
   },
   {
    "duration": 17,
    "start_time": "2022-03-04T07:10:27.274Z"
   },
   {
    "duration": 67,
    "start_time": "2022-03-04T07:10:27.294Z"
   },
   {
    "duration": 31,
    "start_time": "2022-03-04T07:10:27.365Z"
   },
   {
    "duration": 77,
    "start_time": "2022-03-04T07:10:27.400Z"
   },
   {
    "duration": 13,
    "start_time": "2022-03-04T07:10:27.479Z"
   },
   {
    "duration": 44,
    "start_time": "2022-03-04T07:10:27.497Z"
   },
   {
    "duration": 10,
    "start_time": "2022-03-04T07:10:27.543Z"
   },
   {
    "duration": 43,
    "start_time": "2022-03-04T07:10:27.555Z"
   },
   {
    "duration": 34,
    "start_time": "2022-03-04T07:10:27.601Z"
   },
   {
    "duration": 9,
    "start_time": "2022-03-04T07:10:27.637Z"
   },
   {
    "duration": 12,
    "start_time": "2022-03-04T07:10:27.649Z"
   },
   {
    "duration": 73,
    "start_time": "2022-03-04T07:10:27.663Z"
   },
   {
    "duration": 17,
    "start_time": "2022-03-04T07:10:27.738Z"
   },
   {
    "duration": 38,
    "start_time": "2022-03-04T07:10:27.763Z"
   },
   {
    "duration": 25,
    "start_time": "2022-03-04T07:10:27.807Z"
   },
   {
    "duration": 97,
    "start_time": "2022-03-04T07:10:27.834Z"
   },
   {
    "duration": 24,
    "start_time": "2022-03-04T07:10:27.934Z"
   },
   {
    "duration": 36,
    "start_time": "2022-03-04T07:10:27.960Z"
   },
   {
    "duration": 30,
    "start_time": "2022-03-04T07:10:27.999Z"
   },
   {
    "duration": 13,
    "start_time": "2022-03-04T07:10:28.032Z"
   },
   {
    "duration": 46,
    "start_time": "2022-03-04T07:10:28.047Z"
   },
   {
    "duration": 36,
    "start_time": "2022-03-04T07:10:28.096Z"
   },
   {
    "duration": 11,
    "start_time": "2022-03-04T07:10:28.135Z"
   },
   {
    "duration": 20,
    "start_time": "2022-03-04T07:10:28.149Z"
   },
   {
    "duration": 82,
    "start_time": "2022-03-04T07:10:28.187Z"
   },
   {
    "duration": 1269,
    "start_time": "2022-03-04T07:10:28.272Z"
   },
   {
    "duration": 22,
    "start_time": "2022-03-04T07:10:29.543Z"
   },
   {
    "duration": 46,
    "start_time": "2022-03-04T07:10:29.568Z"
   },
   {
    "duration": 26,
    "start_time": "2022-03-04T07:10:29.617Z"
   },
   {
    "duration": 67,
    "start_time": "2022-03-04T07:10:29.646Z"
   },
   {
    "duration": 1274,
    "start_time": "2022-03-04T07:10:29.716Z"
   },
   {
    "duration": 735,
    "start_time": "2022-03-04T07:10:30.993Z"
   },
   {
    "duration": 14,
    "start_time": "2022-03-04T07:10:31.731Z"
   },
   {
    "duration": 6,
    "start_time": "2022-03-04T07:10:31.747Z"
   },
   {
    "duration": 20,
    "start_time": "2022-03-04T07:10:31.755Z"
   },
   {
    "duration": 31,
    "start_time": "2022-03-04T07:10:31.778Z"
   },
   {
    "duration": 21,
    "start_time": "2022-03-04T07:10:31.811Z"
   },
   {
    "duration": 11,
    "start_time": "2022-03-04T07:10:31.834Z"
   },
   {
    "duration": 18,
    "start_time": "2022-03-04T07:10:31.848Z"
   },
   {
    "duration": 506,
    "start_time": "2022-03-04T07:10:31.868Z"
   },
   {
    "duration": 4,
    "start_time": "2022-03-04T07:10:32.376Z"
   },
   {
    "duration": 28,
    "start_time": "2022-03-04T07:10:32.382Z"
   },
   {
    "duration": 43,
    "start_time": "2022-03-04T07:10:32.413Z"
   },
   {
    "duration": 45,
    "start_time": "2022-03-04T07:10:32.459Z"
   },
   {
    "duration": 610,
    "start_time": "2022-03-04T07:10:32.507Z"
   },
   {
    "duration": 15,
    "start_time": "2022-03-04T07:10:33.120Z"
   },
   {
    "duration": 460,
    "start_time": "2022-03-04T07:10:33.138Z"
   },
   {
    "duration": 30,
    "start_time": "2022-03-04T07:10:33.603Z"
   },
   {
    "duration": 763,
    "start_time": "2022-03-04T07:10:33.687Z"
   },
   {
    "duration": 6,
    "start_time": "2022-03-04T07:10:34.452Z"
   },
   {
    "duration": 1647,
    "start_time": "2022-03-04T07:10:34.461Z"
   },
   {
    "duration": 1550,
    "start_time": "2022-03-04T07:10:36.113Z"
   },
   {
    "duration": 1705,
    "start_time": "2022-03-04T07:10:37.666Z"
   },
   {
    "duration": 34,
    "start_time": "2022-03-04T07:10:39.373Z"
   },
   {
    "duration": 40,
    "start_time": "2022-03-04T07:10:39.410Z"
   },
   {
    "duration": 46,
    "start_time": "2022-03-04T07:10:39.453Z"
   },
   {
    "duration": 414,
    "start_time": "2022-03-04T07:10:39.503Z"
   },
   {
    "duration": 363,
    "start_time": "2022-03-04T07:10:39.919Z"
   },
   {
    "duration": 487,
    "start_time": "2022-03-04T07:10:40.284Z"
   },
   {
    "duration": 30,
    "start_time": "2022-03-04T07:10:40.774Z"
   },
   {
    "duration": 15,
    "start_time": "2022-03-04T07:10:40.807Z"
   },
   {
    "duration": 17,
    "start_time": "2022-03-04T07:10:40.824Z"
   },
   {
    "duration": 518,
    "start_time": "2022-03-04T07:10:40.844Z"
   },
   {
    "duration": 44,
    "start_time": "2022-03-04T07:10:41.365Z"
   },
   {
    "duration": 360,
    "start_time": "2022-03-04T07:10:41.413Z"
   },
   {
    "duration": 58,
    "start_time": "2022-03-04T07:10:41.776Z"
   },
   {
    "duration": 7,
    "start_time": "2022-03-04T07:10:41.837Z"
   },
   {
    "duration": 76,
    "start_time": "2022-03-04T07:10:41.855Z"
   },
   {
    "duration": 6,
    "start_time": "2022-03-04T07:10:41.934Z"
   },
   {
    "duration": 224,
    "start_time": "2022-03-12T11:45:19.861Z"
   },
   {
    "duration": 1149,
    "start_time": "2022-03-12T11:56:05.261Z"
   },
   {
    "duration": 3,
    "start_time": "2022-03-12T11:56:06.412Z"
   },
   {
    "duration": 6,
    "start_time": "2022-03-12T11:56:06.417Z"
   },
   {
    "duration": 5,
    "start_time": "2022-03-12T11:56:06.425Z"
   },
   {
    "duration": 27,
    "start_time": "2022-03-12T11:56:06.432Z"
   },
   {
    "duration": 5,
    "start_time": "2022-03-12T11:56:06.461Z"
   },
   {
    "duration": 7,
    "start_time": "2022-03-12T11:56:06.468Z"
   },
   {
    "duration": 158,
    "start_time": "2022-03-12T11:56:06.477Z"
   },
   {
    "duration": 1187,
    "start_time": "2022-03-12T11:56:06.637Z"
   },
   {
    "duration": 3,
    "start_time": "2022-03-12T11:56:07.826Z"
   },
   {
    "duration": 7,
    "start_time": "2022-03-12T11:56:07.831Z"
   },
   {
    "duration": 27,
    "start_time": "2022-03-12T11:56:07.840Z"
   },
   {
    "duration": 14,
    "start_time": "2022-03-12T11:56:07.869Z"
   },
   {
    "duration": 9,
    "start_time": "2022-03-12T11:56:07.884Z"
   },
   {
    "duration": 36,
    "start_time": "2022-03-12T11:56:07.895Z"
   },
   {
    "duration": 30,
    "start_time": "2022-03-12T11:56:07.932Z"
   },
   {
    "duration": 35,
    "start_time": "2022-03-12T11:56:07.964Z"
   },
   {
    "duration": 7,
    "start_time": "2022-03-12T11:56:08.001Z"
   },
   {
    "duration": 17,
    "start_time": "2022-03-12T11:56:08.010Z"
   },
   {
    "duration": 8,
    "start_time": "2022-03-12T11:56:08.059Z"
   },
   {
    "duration": 9,
    "start_time": "2022-03-12T11:56:08.068Z"
   },
   {
    "duration": 12,
    "start_time": "2022-03-12T11:56:08.079Z"
   },
   {
    "duration": 6,
    "start_time": "2022-03-12T11:56:08.094Z"
   },
   {
    "duration": 7,
    "start_time": "2022-03-12T11:56:08.103Z"
   },
   {
    "duration": 58,
    "start_time": "2022-03-12T11:56:08.111Z"
   },
   {
    "duration": 11,
    "start_time": "2022-03-12T11:56:08.170Z"
   },
   {
    "duration": 14,
    "start_time": "2022-03-12T11:56:08.183Z"
   },
   {
    "duration": 13,
    "start_time": "2022-03-12T11:56:08.198Z"
   },
   {
    "duration": 60,
    "start_time": "2022-03-12T11:56:08.213Z"
   },
   {
    "duration": 15,
    "start_time": "2022-03-12T11:56:08.275Z"
   },
   {
    "duration": 9,
    "start_time": "2022-03-12T11:56:08.291Z"
   },
   {
    "duration": 13,
    "start_time": "2022-03-12T11:56:08.302Z"
   },
   {
    "duration": 8,
    "start_time": "2022-03-12T11:56:08.317Z"
   },
   {
    "duration": 5,
    "start_time": "2022-03-12T11:56:08.359Z"
   },
   {
    "duration": 9,
    "start_time": "2022-03-12T11:56:08.366Z"
   },
   {
    "duration": 9,
    "start_time": "2022-03-12T11:56:08.376Z"
   },
   {
    "duration": 13,
    "start_time": "2022-03-12T11:56:08.387Z"
   },
   {
    "duration": 71,
    "start_time": "2022-03-12T11:56:08.402Z"
   },
   {
    "duration": 777,
    "start_time": "2022-03-12T11:56:08.474Z"
   },
   {
    "duration": 19,
    "start_time": "2022-03-12T11:56:09.253Z"
   },
   {
    "duration": 16,
    "start_time": "2022-03-12T11:56:09.274Z"
   },
   {
    "duration": 16,
    "start_time": "2022-03-12T11:56:09.291Z"
   },
   {
    "duration": 17,
    "start_time": "2022-03-12T11:56:09.309Z"
   },
   {
    "duration": 837,
    "start_time": "2022-03-12T11:56:09.359Z"
   },
   {
    "duration": 393,
    "start_time": "2022-03-12T11:56:10.198Z"
   },
   {
    "duration": 9,
    "start_time": "2022-03-12T11:56:10.593Z"
   },
   {
    "duration": 2,
    "start_time": "2022-03-12T11:56:10.604Z"
   },
   {
    "duration": 24,
    "start_time": "2022-03-12T11:56:10.608Z"
   },
   {
    "duration": 35,
    "start_time": "2022-03-12T11:56:10.633Z"
   },
   {
    "duration": 10,
    "start_time": "2022-03-12T11:56:10.670Z"
   },
   {
    "duration": 5,
    "start_time": "2022-03-12T11:56:10.682Z"
   },
   {
    "duration": 12,
    "start_time": "2022-03-12T11:56:10.689Z"
   },
   {
    "duration": 315,
    "start_time": "2022-03-12T11:56:10.703Z"
   },
   {
    "duration": 3,
    "start_time": "2022-03-12T11:56:11.020Z"
   },
   {
    "duration": 5,
    "start_time": "2022-03-12T11:56:11.024Z"
   },
   {
    "duration": 37,
    "start_time": "2022-03-12T11:56:11.030Z"
   },
   {
    "duration": 338,
    "start_time": "2022-03-12T11:56:11.069Z"
   },
   {
    "duration": 267,
    "start_time": "2022-03-12T11:56:11.409Z"
   },
   {
    "duration": 10,
    "start_time": "2022-03-12T11:56:11.678Z"
   },
   {
    "duration": 124,
    "start_time": "2022-03-12T11:56:11.690Z"
   },
   {
    "duration": 14,
    "start_time": "2022-03-12T11:56:11.816Z"
   },
   {
    "duration": 393,
    "start_time": "2022-03-12T11:56:11.832Z"
   },
   {
    "duration": 4,
    "start_time": "2022-03-12T11:56:12.227Z"
   },
   {
    "duration": 1218,
    "start_time": "2022-03-12T11:56:12.233Z"
   },
   {
    "duration": 937,
    "start_time": "2022-03-12T11:56:13.453Z"
   },
   {
    "duration": 1050,
    "start_time": "2022-03-12T11:56:14.391Z"
   },
   {
    "duration": 21,
    "start_time": "2022-03-12T11:56:15.443Z"
   },
   {
    "duration": 20,
    "start_time": "2022-03-12T11:56:15.469Z"
   },
   {
    "duration": 10,
    "start_time": "2022-03-12T11:56:15.491Z"
   },
   {
    "duration": 269,
    "start_time": "2022-03-12T11:56:15.502Z"
   },
   {
    "duration": 236,
    "start_time": "2022-03-12T11:56:15.773Z"
   },
   {
    "duration": 283,
    "start_time": "2022-03-12T11:56:16.010Z"
   },
   {
    "duration": 9,
    "start_time": "2022-03-12T11:56:16.295Z"
   },
   {
    "duration": 12,
    "start_time": "2022-03-12T11:56:16.306Z"
   },
   {
    "duration": 13,
    "start_time": "2022-03-12T11:56:16.320Z"
   },
   {
    "duration": 314,
    "start_time": "2022-03-12T11:56:16.335Z"
   },
   {
    "duration": 17,
    "start_time": "2022-03-12T11:56:16.659Z"
   },
   {
    "duration": 229,
    "start_time": "2022-03-12T11:56:16.678Z"
   },
   {
    "duration": 32,
    "start_time": "2022-03-12T11:56:16.908Z"
   },
   {
    "duration": 19,
    "start_time": "2022-03-12T11:56:16.941Z"
   },
   {
    "duration": 29,
    "start_time": "2022-03-12T11:56:16.962Z"
   },
   {
    "duration": 4,
    "start_time": "2022-03-12T11:56:16.993Z"
   },
   {
    "duration": 9,
    "start_time": "2022-03-12T11:59:10.648Z"
   },
   {
    "duration": 8,
    "start_time": "2022-03-12T13:21:48.444Z"
   }
  ],
  "kernelspec": {
   "display_name": "Python 3 (ipykernel)",
   "language": "python",
   "name": "python3"
  },
  "language_info": {
   "codemirror_mode": {
    "name": "ipython",
    "version": 3
   },
   "file_extension": ".py",
   "mimetype": "text/x-python",
   "name": "python",
   "nbconvert_exporter": "python",
   "pygments_lexer": "ipython3",
   "version": "3.9.7"
  },
  "toc": {
   "base_numbering": 1,
   "nav_menu": {},
   "number_sections": true,
   "sideBar": true,
   "skip_h1_title": true,
   "title_cell": "Оглавление",
   "title_sidebar": "Содержание",
   "toc_cell": true,
   "toc_position": {
    "height": "calc(100% - 180px)",
    "left": "10px",
    "top": "150px",
    "width": "263.896px"
   },
   "toc_section_display": true,
   "toc_window_display": true
  }
 },
 "nbformat": 4,
 "nbformat_minor": 5
}
